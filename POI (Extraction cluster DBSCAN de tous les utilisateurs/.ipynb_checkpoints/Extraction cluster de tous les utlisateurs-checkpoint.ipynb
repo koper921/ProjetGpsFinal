{
 "cells": [
  {
   "cell_type": "code",
   "execution_count": null,
   "metadata": {},
   "outputs": [],
   "source": [
    "#Ici on récupere tous les cluster via DSCAN des différents utilisateur , on va essayer de déduire des POI, pour éviter ,\n",
    "# de n'avoir que des maison ou résidence, nous allons nous limiter à la periode de la journée "
   ]
  },
  {
   "cell_type": "code",
   "execution_count": 8,
   "metadata": {},
   "outputs": [],
   "source": [
    "\n",
    "import numpy as np\n",
    "import matplotlib.pyplot as plt\n",
    "import pandas as pd\n",
    "import os\n",
    "\n",
    "from shapely.geometry import MultiPoint\n",
    "from geopy.distance import great_circle\n",
    "\n",
    "\n",
    "def get_centermost_point(cluster):\n",
    "    centroid = (MultiPoint(cluster).centroid.x, MultiPoint(cluster).centroid.y)\n",
    "    centermost_point = min(cluster, key=lambda point: great_circle(point, centroid).m)\n",
    "    return tuple(centermost_point)\n",
    "\n",
    "from sklearn.cluster import DBSCAN\n",
    "from sklearn import metrics\n",
    "\n",
    "\n",
    "df_min= pd.read_csv('C:/Users/MyPC/Desktop/Projet Gps/AutreP/Livraison 1_CSV/corrected_gps_information_new.csv')\n",
    "\n",
    "listid=[]\n",
    "for i in range(len(df_min)):\n",
    "    listid.append(df_min['sampno'].iloc[i])\n",
    "\n",
    "# liste de chaque utilisateurs differents  , servira pour la boucle ci dessous \n",
    "traj=list(set(listid))\n",
    "\n",
    "\n",
    "\n",
    "\n",
    "\n"
   ]
  },
  {
   "cell_type": "code",
   "execution_count": 49,
   "metadata": {},
   "outputs": [
    {
     "name": "stdout",
     "output_type": "stream",
     "text": [
      "Clustered 815 points to 1 clusters\n",
      "Clustered 4108 points to 1 clusters\n",
      "Clustered 3501 points to 3 clusters\n",
      "Clustered 7001 points to 4 clusters\n",
      "Clustered 2076 points to 1 clusters\n",
      "Clustered 2208 points to 1 clusters\n",
      "Clustered 947 points to 1 clusters\n",
      "Clustered 2711 points to 1 clusters\n",
      "Clustered 841 points to 3 clusters\n",
      "Clustered 2955 points to 2 clusters\n",
      "Clustered 2280 points to 1 clusters\n",
      "Clustered 1080 points to 2 clusters\n",
      "Clustered 3860 points to 4 clusters\n",
      "Clustered 2338 points to 4 clusters\n",
      "Clustered 3405 points to 3 clusters\n",
      "Clustered 7166 points to 2 clusters\n",
      "Clustered 5985 points to 2 clusters\n",
      "Clustered 2052 points to 1 clusters\n",
      "Clustered 1569 points to 1 clusters\n",
      "Clustered 5197 points to 2 clusters\n",
      "Clustered 9333 points to 3 clusters\n",
      "Clustered 1686 points to 3 clusters\n",
      "Clustered 5213 points to 4 clusters\n",
      "Clustered 1659 points to 4 clusters\n",
      "Clustered 896 points to 3 clusters\n",
      "Clustered 1616 points to 2 clusters\n",
      "Clustered 2650 points to 1 clusters\n",
      "Clustered 1233 points to 3 clusters\n",
      "Clustered 2650 points to 6 clusters\n",
      "Clustered 3325 points to 4 clusters\n",
      "Clustered 1101 points to 1 clusters\n",
      "Clustered 4465 points to 2 clusters\n",
      "Clustered 5207 points to 9 clusters\n",
      "Clustered 2857 points to 4 clusters\n",
      "Clustered 1010 points to 1 clusters\n",
      "Clustered 7321 points to 4 clusters\n",
      "Clustered 2725 points to 3 clusters\n",
      "Clustered 212 points to 1 clusters\n",
      "Clustered 1392 points to 3 clusters\n",
      "Clustered 2674 points to 3 clusters\n",
      "Clustered 1728 points to 2 clusters\n",
      "Clustered 1226 points to 3 clusters\n",
      "Clustered 2843 points to 2 clusters\n",
      "Clustered 826 points to 1 clusters\n",
      "Clustered 4424 points to 5 clusters\n",
      "Clustered 802 points to 1 clusters\n",
      "Clustered 416 points to 1 clusters\n",
      "Clustered 9487 points to 7 clusters\n",
      "Clustered 2220 points to 3 clusters\n",
      "Clustered 4559 points to 3 clusters\n",
      "Clustered 1936 points to 3 clusters\n",
      "Clustered 7884 points to 4 clusters\n",
      "Clustered 443 points to 2 clusters\n",
      "Clustered 5382 points to 5 clusters\n",
      "Clustered 4142 points to 4 clusters\n",
      "Clustered 4504 points to 4 clusters\n",
      "Clustered 834 points to 2 clusters\n",
      "Clustered 8149 points to 9 clusters\n",
      "Clustered 7950 points to 4 clusters\n",
      "Clustered 2417 points to 2 clusters\n",
      "Clustered 2806 points to 5 clusters\n",
      "Clustered 654 points to 1 clusters\n",
      "Clustered 4313 points to 3 clusters\n",
      "Clustered 2244 points to 3 clusters\n",
      "Clustered 6459 points to 7 clusters\n",
      "Clustered 5131 points to 8 clusters\n",
      "Clustered 1919 points to 3 clusters\n",
      "Clustered 2403 points to 2 clusters\n",
      "Clustered 5405 points to 5 clusters\n",
      "Clustered 1320 points to 2 clusters\n",
      "Clustered 5508 points to 2 clusters\n",
      "Clustered 614 points to 1 clusters\n",
      "Clustered 3707 points to 2 clusters\n",
      "Clustered 2148 points to 1 clusters\n",
      "Clustered 591 points to 2 clusters\n",
      "Clustered 338 points to 1 clusters\n",
      "Clustered 933 points to 1 clusters\n",
      "Clustered 8782 points to 6 clusters\n",
      "Clustered 1671 points to 1 clusters\n",
      "Clustered 2929 points to 4 clusters\n",
      "Clustered 3223 points to 3 clusters\n",
      "Clustered 808 points to 1 clusters\n",
      "Clustered 3226 points to 2 clusters\n",
      "Clustered 3029 points to 4 clusters\n",
      "Clustered 3283 points to 4 clusters\n",
      "Clustered 4633 points to 5 clusters\n",
      "Clustered 7566 points to 4 clusters\n",
      "Clustered 3211 points to 3 clusters\n",
      "Clustered 995 points to 1 clusters\n",
      "Clustered 2588 points to 2 clusters\n",
      "Clustered 929 points to 1 clusters\n",
      "Clustered 4214 points to 5 clusters\n",
      "Clustered 3596 points to 6 clusters\n",
      "Clustered 2444 points to 2 clusters\n",
      "Clustered 2558 points to 1 clusters\n",
      "Clustered 1109 points to 1 clusters\n",
      "Clustered 2153 points to 3 clusters\n",
      "Clustered 2017 points to 2 clusters\n",
      "Clustered 12504 points to 3 clusters\n",
      "Clustered 2850 points to 1 clusters\n",
      "Clustered 1829 points to 3 clusters\n",
      "Clustered 5722 points to 4 clusters\n",
      "Clustered 4218 points to 3 clusters\n",
      "Clustered 399 points to 1 clusters\n",
      "Clustered 3341 points to 3 clusters\n",
      "Clustered 5877 points to 4 clusters\n",
      "Clustered 5009 points to 1 clusters\n",
      "Clustered 3814 points to 5 clusters\n",
      "Clustered 3449 points to 1 clusters\n",
      "Clustered 7519 points to 5 clusters\n",
      "Clustered 2926 points to 1 clusters\n",
      "Clustered 10309 points to 1 clusters\n",
      "Clustered 4855 points to 5 clusters\n",
      "Clustered 4022 points to 3 clusters\n",
      "Clustered 404 points to 1 clusters\n",
      "Clustered 4764 points to 5 clusters\n",
      "Clustered 4168 points to 5 clusters\n",
      "Clustered 3390 points to 3 clusters\n",
      "Clustered 897 points to 2 clusters\n",
      "Clustered 1504 points to 1 clusters\n",
      "Clustered 3867 points to 5 clusters\n",
      "Clustered 3595 points to 5 clusters\n",
      "Clustered 2562 points to 2 clusters\n",
      "Clustered 4310 points to 3 clusters\n",
      "Clustered 5451 points to 5 clusters\n",
      "Clustered 9720 points to 4 clusters\n",
      "Clustered 3748 points to 3 clusters\n",
      "Clustered 3652 points to 2 clusters\n",
      "Clustered 5147 points to 3 clusters\n",
      "Clustered 2988 points to 1 clusters\n",
      "Clustered 956 points to 1 clusters\n",
      "Clustered 3418 points to 1 clusters\n",
      "Clustered 5810 points to 3 clusters\n",
      "Clustered 2822 points to 5 clusters\n",
      "Clustered 6352 points to 4 clusters\n",
      "Clustered 1924 points to 5 clusters\n",
      "Clustered 3794 points to 3 clusters\n",
      "Clustered 5571 points to 7 clusters\n",
      "Clustered 8537 points to 8 clusters\n",
      "Clustered 1308 points to 1 clusters\n",
      "Clustered 3840 points to 4 clusters\n",
      "Clustered 2360 points to 1 clusters\n",
      "Clustered 3240 points to 1 clusters\n",
      "Clustered 1779 points to 2 clusters\n",
      "Clustered 1879 points to 2 clusters\n",
      "Clustered 1267 points to 4 clusters\n",
      "Clustered 680 points to 3 clusters\n",
      "Clustered 2814 points to 2 clusters\n",
      "Clustered 1713 points to 1 clusters\n",
      "Clustered 3440 points to 4 clusters\n",
      "Clustered 2241 points to 1 clusters\n",
      "Clustered 6100 points to 4 clusters\n",
      "Clustered 4724 points to 6 clusters\n",
      "Clustered 4179 points to 8 clusters\n",
      "Clustered 3021 points to 5 clusters\n",
      "Clustered 3262 points to 3 clusters\n",
      "Clustered 2371 points to 3 clusters\n",
      "Clustered 5195 points to 5 clusters\n",
      "Clustered 5448 points to 6 clusters\n",
      "Clustered 4596 points to 4 clusters\n",
      "Clustered 2835 points to 4 clusters\n",
      "Clustered 1697 points to 2 clusters\n",
      "Clustered 2073 points to 2 clusters\n",
      "Clustered 4677 points to 7 clusters\n",
      "Clustered 3084 points to 2 clusters\n",
      "Clustered 2284 points to 3 clusters\n",
      "Clustered 4041 points to 3 clusters\n",
      "Clustered 1055 points to 3 clusters\n",
      "Clustered 3844 points to 5 clusters\n",
      "Clustered 4402 points to 3 clusters\n",
      "Clustered 1374 points to 2 clusters\n",
      "Clustered 8721 points to 13 clusters\n",
      "Clustered 519 points to 1 clusters\n",
      "Clustered 5554 points to 3 clusters\n",
      "Clustered 5513 points to 3 clusters\n",
      "Clustered 173 points to 1 clusters\n",
      "Clustered 1491 points to 5 clusters\n",
      "Clustered 1168 points to 2 clusters\n",
      "Clustered 952 points to 2 clusters\n",
      "Clustered 5280 points to 4 clusters\n",
      "Clustered 2799 points to 6 clusters\n",
      "Clustered 232 points to 1 clusters\n",
      "Clustered 1145 points to 2 clusters\n",
      "Clustered 1525 points to 2 clusters\n",
      "Clustered 4996 points to 7 clusters\n",
      "Clustered 1903 points to 4 clusters\n",
      "Clustered 179 points to 1 clusters\n",
      "Clustered 7613 points to 7 clusters\n",
      "Clustered 4923 points to 6 clusters\n",
      "Clustered 2354 points to 2 clusters\n",
      "Clustered 2432 points to 1 clusters\n",
      "Clustered 7760 points to 9 clusters\n",
      "Clustered 1414 points to 2 clusters\n",
      "Clustered 6307 points to 8 clusters\n",
      "Clustered 4022 points to 2 clusters\n",
      "Clustered 2101 points to 2 clusters\n",
      "Clustered 5842 points to 5 clusters\n",
      "Clustered 2723 points to 3 clusters\n",
      "Clustered 4760 points to 4 clusters\n",
      "Clustered 7186 points to 4 clusters\n",
      "Clustered 4362 points to 7 clusters\n",
      "Clustered 6200 points to 4 clusters\n",
      "Clustered 5615 points to 3 clusters\n",
      "Clustered 2412 points to 7 clusters\n",
      "Clustered 1026 points to 2 clusters\n",
      "Clustered 3925 points to 3 clusters\n",
      "Clustered 2921 points to 3 clusters\n",
      "Clustered 2746 points to 3 clusters\n",
      "Clustered 2983 points to 1 clusters\n",
      "Clustered 3623 points to 3 clusters\n",
      "Clustered 10286 points to 7 clusters\n",
      "Clustered 286 points to 1 clusters\n",
      "Clustered 5235 points to 3 clusters\n",
      "Clustered 3471 points to 4 clusters\n",
      "Clustered 3574 points to 2 clusters\n",
      "Clustered 5494 points to 2 clusters\n",
      "Clustered 3502 points to 2 clusters\n",
      "Clustered 1939 points to 2 clusters\n",
      "Clustered 8023 points to 8 clusters\n",
      "Clustered 4037 points to 5 clusters\n",
      "Clustered 3305 points to 4 clusters\n",
      "Clustered 1888 points to 1 clusters\n",
      "Clustered 2020 points to 1 clusters\n",
      "Clustered 2811 points to 1 clusters\n",
      "Clustered 4709 points to 3 clusters\n",
      "Clustered 1660 points to 1 clusters\n",
      "Clustered 5729 points to 1 clusters\n",
      "Clustered 1593 points to 5 clusters\n",
      "Clustered 5987 points to 7 clusters\n",
      "Clustered 2603 points to 1 clusters\n"
     ]
    },
    {
     "name": "stdout",
     "output_type": "stream",
     "text": [
      "Clustered 4703 points to 1 clusters\n",
      "Clustered 3111 points to 3 clusters\n",
      "Clustered 5153 points to 3 clusters\n",
      "Clustered 3570 points to 5 clusters\n",
      "Clustered 5012 points to 2 clusters\n",
      "Clustered 207 points to 0 clusters\n",
      "Cluster vide.\n",
      "Clustered 8586 points to 8 clusters\n",
      "Clustered 13497 points to 3 clusters\n",
      "Clustered 5015 points to 4 clusters\n",
      "Clustered 5686 points to 3 clusters\n",
      "Clustered 210 points to 1 clusters\n",
      "Clustered 3562 points to 5 clusters\n",
      "Clustered 430 points to 1 clusters\n",
      "Clustered 3117 points to 4 clusters\n",
      "Clustered 1345 points to 2 clusters\n",
      "Clustered 2952 points to 3 clusters\n",
      "Clustered 3144 points to 2 clusters\n",
      "Clustered 2328 points to 1 clusters\n",
      "Clustered 4144 points to 4 clusters\n",
      "Clustered 4586 points to 2 clusters\n",
      "Clustered 1712 points to 2 clusters\n",
      "Clustered 774 points to 1 clusters\n",
      "Clustered 5236 points to 2 clusters\n",
      "Clustered 2569 points to 1 clusters\n",
      "Clustered 454 points to 2 clusters\n",
      "Clustered 2603 points to 2 clusters\n",
      "Clustered 4814 points to 4 clusters\n",
      "Clustered 1907 points to 1 clusters\n",
      "Clustered 6097 points to 8 clusters\n",
      "Clustered 3001 points to 1 clusters\n",
      "Clustered 4376 points to 4 clusters\n",
      "Clustered 18365 points to 7 clusters\n",
      "Clustered 5353 points to 8 clusters\n",
      "Clustered 2431 points to 1 clusters\n",
      "Clustered 4960 points to 3 clusters\n",
      "Clustered 1796 points to 1 clusters\n",
      "Clustered 4866 points to 3 clusters\n",
      "Clustered 3742 points to 3 clusters\n",
      "Clustered 3868 points to 2 clusters\n",
      "Clustered 7285 points to 4 clusters\n",
      "Clustered 814 points to 2 clusters\n",
      "Clustered 2838 points to 3 clusters\n",
      "Clustered 3231 points to 5 clusters\n",
      "Clustered 6974 points to 4 clusters\n",
      "Clustered 1591 points to 1 clusters\n",
      "Clustered 8114 points to 8 clusters\n",
      "Clustered 4775 points to 5 clusters\n",
      "Clustered 47 points to 0 clusters\n",
      "Cluster vide.\n",
      "Clustered 3388 points to 2 clusters\n",
      "Clustered 313 points to 1 clusters\n",
      "Clustered 4388 points to 4 clusters\n",
      "Clustered 8043 points to 4 clusters\n",
      "Clustered 1502 points to 2 clusters\n",
      "Clustered 5202 points to 2 clusters\n",
      "Clustered 1884 points to 2 clusters\n",
      "Clustered 1450 points to 1 clusters\n"
     ]
    }
   ],
   "source": [
    "CC=[]\n",
    "for u in traj:\n",
    "    df_minU=df_min.loc[df_min['sampno']==u,:]\n",
    "    # represent GPS points as (lat, lon)\n",
    "    coords = df_minU.as_matrix(columns=['latitude', 'longitude'])\n",
    "    #coords1= df_min.as_matrix(columns=['lat', 'lng', 'alt', 'date','time'])\n",
    "\n",
    "    # earth's radius in km\n",
    "    kms_per_radian = 6371.0088\n",
    "    # define epsilon as 0.5 kilometers, converted to radians for use by haversine\n",
    "    epsilon = 0.5 / kms_per_radian\n",
    "\n",
    "    # eps is the max distance that points can be from each other to be considered in a cluster\n",
    "    # min_samples is the minimum cluster size (everything else is classified as noise)\n",
    "    db = DBSCAN(eps=epsilon, min_samples=100, algorithm='ball_tree', metric='haversine').fit(np.radians(coords))\n",
    "    cluster_labels = db.labels_\n",
    "    # get the number of clusters (ignore noisy samples which are given the label -1)\n",
    "    num_clusters = len(set(cluster_labels) - set([-1]))\n",
    "\n",
    "    print ('Clustered ' + str(len(df_minU)) + ' points to ' + str(num_clusters) + ' clusters')\n",
    "\n",
    "    # turn the clusters in to a pandas series\n",
    "    clusters = pd.Series([coords[cluster_labels == n] for n in range(num_clusters)])\n",
    "    centermost_points = clusters.map(get_centermost_point)\n",
    "    try:\n",
    "        lats, lons = zip(*centermost_points)\n",
    "        rep_points = pd.DataFrame({'longitude':lons, 'latitude':lats})\n",
    "   \n",
    "   \n",
    "    except ValueError:\n",
    "        \n",
    "        print (\"Cluster vide.\")\n",
    "        continue\n",
    "\n",
    "    CC.append(rep_points)    "
   ]
  },
  {
   "cell_type": "code",
   "execution_count": 50,
   "metadata": {},
   "outputs": [],
   "source": [
    "ClusterUser=pd.concat(CC, ignore_index=True)\n"
   ]
  },
  {
   "cell_type": "code",
   "execution_count": 59,
   "metadata": {
    "collapsed": true
   },
   "outputs": [],
   "source": [
    "ClusterUser.to_csv(\"ClusterUtilisateurs.csv\", sep=',')"
   ]
  },
  {
   "cell_type": "code",
   "execution_count": 58,
   "metadata": {},
   "outputs": [],
   "source": [
    "import gmplot\n",
    "# declare the center of the map, and how much we want the map zoomed in\n",
    "gmap = gmplot.GoogleMapPlotter(ClusterUser.latitude[0], ClusterUser.longitude[0], 11)\n",
    "gmap.scatter(ClusterUser.latitude, ClusterUser.longitude, '#3B0B39', size=40, marker=False)\n",
    "gmap.draw(\"ClusterUtilisateurs.html\")"
   ]
  },
  {
   "cell_type": "code",
   "execution_count": null,
   "metadata": {},
   "outputs": [],
   "source": []
  },
  {
   "cell_type": "code",
   "execution_count": null,
   "metadata": {
    "collapsed": true
   },
   "outputs": [],
   "source": []
  },
  {
   "cell_type": "code",
   "execution_count": null,
   "metadata": {},
   "outputs": [],
   "source": []
  },
  {
   "cell_type": "code",
   "execution_count": null,
   "metadata": {},
   "outputs": [],
   "source": []
  },
  {
   "cell_type": "code",
   "execution_count": null,
   "metadata": {},
   "outputs": [],
   "source": []
  },
  {
   "cell_type": "code",
   "execution_count": null,
   "metadata": {},
   "outputs": [],
   "source": []
  },
  {
   "cell_type": "code",
   "execution_count": null,
   "metadata": {
    "collapsed": true
   },
   "outputs": [],
   "source": []
  },
  {
   "cell_type": "code",
   "execution_count": null,
   "metadata": {},
   "outputs": [],
   "source": [
    "\n"
   ]
  },
  {
   "cell_type": "code",
   "execution_count": null,
   "metadata": {
    "collapsed": true
   },
   "outputs": [],
   "source": []
  },
  {
   "cell_type": "code",
   "execution_count": null,
   "metadata": {},
   "outputs": [],
   "source": []
  },
  {
   "cell_type": "code",
   "execution_count": null,
   "metadata": {
    "collapsed": true
   },
   "outputs": [],
   "source": []
  },
  {
   "cell_type": "code",
   "execution_count": null,
   "metadata": {
    "collapsed": true
   },
   "outputs": [],
   "source": []
  },
  {
   "cell_type": "code",
   "execution_count": null,
   "metadata": {},
   "outputs": [],
   "source": []
  },
  {
   "cell_type": "code",
   "execution_count": null,
   "metadata": {
    "collapsed": true
   },
   "outputs": [],
   "source": []
  },
  {
   "cell_type": "code",
   "execution_count": null,
   "metadata": {
    "collapsed": true
   },
   "outputs": [],
   "source": []
  },
  {
   "cell_type": "code",
   "execution_count": null,
   "metadata": {
    "collapsed": true
   },
   "outputs": [],
   "source": []
  },
  {
   "cell_type": "code",
   "execution_count": null,
   "metadata": {
    "collapsed": true
   },
   "outputs": [],
   "source": []
  },
  {
   "cell_type": "code",
   "execution_count": null,
   "metadata": {
    "collapsed": true
   },
   "outputs": [],
   "source": []
  },
  {
   "cell_type": "code",
   "execution_count": null,
   "metadata": {
    "collapsed": true
   },
   "outputs": [],
   "source": []
  },
  {
   "cell_type": "code",
   "execution_count": null,
   "metadata": {
    "collapsed": true
   },
   "outputs": [],
   "source": []
  },
  {
   "cell_type": "code",
   "execution_count": null,
   "metadata": {
    "collapsed": true
   },
   "outputs": [],
   "source": []
  },
  {
   "cell_type": "raw",
   "metadata": {},
   "source": []
  },
  {
   "cell_type": "code",
   "execution_count": null,
   "metadata": {
    "collapsed": true
   },
   "outputs": [],
   "source": []
  },
  {
   "cell_type": "code",
   "execution_count": null,
   "metadata": {
    "collapsed": true
   },
   "outputs": [],
   "source": []
  },
  {
   "cell_type": "code",
   "execution_count": null,
   "metadata": {
    "collapsed": true
   },
   "outputs": [],
   "source": []
  },
  {
   "cell_type": "code",
   "execution_count": null,
   "metadata": {
    "collapsed": true
   },
   "outputs": [],
   "source": []
  },
  {
   "cell_type": "code",
   "execution_count": null,
   "metadata": {
    "collapsed": true
   },
   "outputs": [],
   "source": []
  },
  {
   "cell_type": "code",
   "execution_count": null,
   "metadata": {
    "collapsed": true
   },
   "outputs": [],
   "source": []
  },
  {
   "cell_type": "code",
   "execution_count": null,
   "metadata": {
    "collapsed": true
   },
   "outputs": [],
   "source": []
  },
  {
   "cell_type": "code",
   "execution_count": null,
   "metadata": {
    "collapsed": true
   },
   "outputs": [],
   "source": []
  },
  {
   "cell_type": "code",
   "execution_count": null,
   "metadata": {
    "collapsed": true
   },
   "outputs": [],
   "source": []
  },
  {
   "cell_type": "code",
   "execution_count": null,
   "metadata": {
    "collapsed": true
   },
   "outputs": [],
   "source": []
  },
  {
   "cell_type": "code",
   "execution_count": null,
   "metadata": {
    "collapsed": true
   },
   "outputs": [],
   "source": []
  },
  {
   "cell_type": "code",
   "execution_count": null,
   "metadata": {
    "collapsed": true
   },
   "outputs": [],
   "source": [
    "\n"
   ]
  },
  {
   "cell_type": "code",
   "execution_count": null,
   "metadata": {
    "collapsed": true
   },
   "outputs": [],
   "source": []
  },
  {
   "cell_type": "code",
   "execution_count": null,
   "metadata": {
    "collapsed": true
   },
   "outputs": [],
   "source": []
  },
  {
   "cell_type": "code",
   "execution_count": null,
   "metadata": {
    "collapsed": true
   },
   "outputs": [],
   "source": []
  },
  {
   "cell_type": "code",
   "execution_count": null,
   "metadata": {
    "collapsed": true
   },
   "outputs": [],
   "source": []
  },
  {
   "cell_type": "code",
   "execution_count": null,
   "metadata": {
    "collapsed": true
   },
   "outputs": [],
   "source": []
  },
  {
   "cell_type": "code",
   "execution_count": null,
   "metadata": {
    "collapsed": true
   },
   "outputs": [],
   "source": []
  },
  {
   "cell_type": "code",
   "execution_count": null,
   "metadata": {
    "collapsed": true
   },
   "outputs": [],
   "source": []
  },
  {
   "cell_type": "code",
   "execution_count": null,
   "metadata": {
    "collapsed": true
   },
   "outputs": [],
   "source": []
  },
  {
   "cell_type": "code",
   "execution_count": null,
   "metadata": {
    "collapsed": true
   },
   "outputs": [],
   "source": []
  },
  {
   "cell_type": "code",
   "execution_count": null,
   "metadata": {
    "collapsed": true
   },
   "outputs": [],
   "source": []
  },
  {
   "cell_type": "code",
   "execution_count": null,
   "metadata": {
    "collapsed": true
   },
   "outputs": [],
   "source": []
  },
  {
   "cell_type": "code",
   "execution_count": null,
   "metadata": {
    "collapsed": true
   },
   "outputs": [],
   "source": []
  },
  {
   "cell_type": "code",
   "execution_count": null,
   "metadata": {
    "collapsed": true
   },
   "outputs": [],
   "source": []
  },
  {
   "cell_type": "code",
   "execution_count": null,
   "metadata": {
    "collapsed": true
   },
   "outputs": [],
   "source": []
  },
  {
   "cell_type": "code",
   "execution_count": null,
   "metadata": {
    "collapsed": true
   },
   "outputs": [],
   "source": []
  },
  {
   "cell_type": "code",
   "execution_count": null,
   "metadata": {
    "collapsed": true
   },
   "outputs": [],
   "source": []
  },
  {
   "cell_type": "code",
   "execution_count": null,
   "metadata": {
    "collapsed": true
   },
   "outputs": [],
   "source": []
  },
  {
   "cell_type": "code",
   "execution_count": null,
   "metadata": {
    "collapsed": true
   },
   "outputs": [],
   "source": []
  },
  {
   "cell_type": "code",
   "execution_count": null,
   "metadata": {
    "collapsed": true
   },
   "outputs": [],
   "source": []
  },
  {
   "cell_type": "code",
   "execution_count": null,
   "metadata": {
    "collapsed": true
   },
   "outputs": [],
   "source": []
  },
  {
   "cell_type": "code",
   "execution_count": null,
   "metadata": {
    "collapsed": true
   },
   "outputs": [],
   "source": []
  },
  {
   "cell_type": "code",
   "execution_count": null,
   "metadata": {
    "collapsed": true
   },
   "outputs": [],
   "source": []
  },
  {
   "cell_type": "code",
   "execution_count": null,
   "metadata": {
    "collapsed": true
   },
   "outputs": [],
   "source": []
  },
  {
   "cell_type": "code",
   "execution_count": null,
   "metadata": {
    "collapsed": true
   },
   "outputs": [],
   "source": []
  },
  {
   "cell_type": "code",
   "execution_count": null,
   "metadata": {
    "collapsed": true
   },
   "outputs": [],
   "source": []
  },
  {
   "cell_type": "code",
   "execution_count": null,
   "metadata": {
    "collapsed": true
   },
   "outputs": [],
   "source": []
  },
  {
   "cell_type": "code",
   "execution_count": null,
   "metadata": {
    "collapsed": true
   },
   "outputs": [],
   "source": []
  }
 ],
 "metadata": {
  "kernelspec": {
   "display_name": "Python 3",
   "language": "python",
   "name": "python3"
  },
  "language_info": {
   "codemirror_mode": {
    "name": "ipython",
    "version": 3
   },
   "file_extension": ".py",
   "mimetype": "text/x-python",
   "name": "python",
   "nbconvert_exporter": "python",
   "pygments_lexer": "ipython3",
   "version": "3.6.3"
  }
 },
 "nbformat": 4,
 "nbformat_minor": 2
}
