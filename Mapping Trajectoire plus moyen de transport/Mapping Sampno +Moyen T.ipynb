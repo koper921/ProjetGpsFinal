{
 "cells": [
  {
   "cell_type": "code",
   "execution_count": 1,
   "metadata": {},
   "outputs": [
    {
     "name": "stderr",
     "output_type": "stream",
     "text": [
      "D:\\Programmes\\Anaconda2\\lib\\site-packages\\statsmodels\\compat\\pandas.py:56: FutureWarning: The pandas.core.datetools module is deprecated and will be removed in a future version. Please use the pandas.tseries module instead.\n",
      "  from pandas.core import datetools\n",
      "D:\\Programmes\\Anaconda2\\lib\\site-packages\\sklearn\\cross_validation.py:41: DeprecationWarning: This module was deprecated in version 0.18 in favor of the model_selection module into which all the refactored classes and functions are moved. Also note that the interface of the new CV iterators are different from that of this module. This module will be removed in 0.20.\n",
      "  \"This module will be removed in 0.20.\", DeprecationWarning)\n"
     ]
    },
    {
     "name": "stdout",
     "output_type": "stream",
     "text": [
      "    sampno  speed  acceleration       angle     smooth  Id1  longitude  \\\n",
      "0  8507392   12.2      -0.07784  186.275472  13.600000    0   2.078366   \n",
      "1  8507392   13.3       0.06116  186.287040  13.033333    0   2.078768   \n",
      "2  8507392   10.5      -0.15568  186.299391  12.000000    0   2.079054   \n",
      "3  8507392    6.0       0.18348  186.322198   3.600000    1   2.079334   \n",
      "4  8507392    6.0       0.00000  186.315307   4.900000    1   2.079055   \n",
      "\n",
      "    latitude  difTempsSec  moyenT    altitude  StoopMoove  StopMoove1  DebFin  \n",
      "0  48.992353          5.0       1  241.399994           1           1       0  \n",
      "1  48.992389          5.0       1  240.699997           1           1       0  \n",
      "2  48.992354          5.0       1  245.199997           1           1       0  \n",
      "3  48.992409          5.0       1  277.399994           1           1       0  \n",
      "4  48.992399         15.0       1  281.100006           1           1       0  \n"
     ]
    }
   ],
   "source": [
    "#test accuracy du modele \n",
    "\n",
    "\n",
    "# data analysis and wrangling\n",
    "import pandas as pd\n",
    "import numpy as np\n",
    "import random as rnd\n",
    "\n",
    "# visualization\n",
    "import seaborn as sns\n",
    "import matplotlib.pyplot as plt\n",
    "\n",
    "import tsfresh\n",
    "from tsfresh import extract_features\n",
    "from tsfresh import select_features\n",
    "from tsfresh.utilities.dataframe_functions import impute\n",
    "\n",
    "from tsfresh.feature_extraction import MinimalFCParameters\n",
    "\n",
    "#from tsfresh.feature_extraction import FeatureExtractionSettings\n",
    "from tsfresh.feature_extraction import extract_features\n",
    "from tsfresh.feature_extraction import extract_features\n",
    "\n",
    "from sklearn.cross_validation import train_test_split\n",
    "\n",
    "from sklearn import datasets, linear_model\n",
    "from sklearn.model_selection import train_test_split\n",
    "from matplotlib import pyplot as plt\n",
    "from sklearn.linear_model import LogisticRegression\n",
    "from sklearn.svm import SVC, LinearSVC\n",
    "from sklearn.ensemble import RandomForestClassifier\n",
    "from sklearn.neighbors import KNeighborsClassifier\n",
    "from sklearn.naive_bayes import GaussianNB\n",
    "from sklearn.linear_model import Perceptron\n",
    "from sklearn.linear_model import SGDClassifier\n",
    "from sklearn.tree import DecisionTreeClassifier\n",
    "from pylab import *\n",
    "\n",
    "df_1 = pd.read_csv('C:/Users/MyPC/Desktop/Projet Gps/ProjetGitHub/DA/XarrModifVitesseRerStopMoove.csv')\n",
    "\n",
    "\n",
    "### finalement le feature des variation angulaire sur les trajectoires se revelle benefique \n",
    "df_1= df_1[['sampno','speed',  'acceleration','angle','smooth','Id1','longitude', 'latitude', 'difTempsSec', 'moyenT', 'altitude', 'StoopMoove','StopMoove1','DebFin']]\n",
    "#df_1 = df_1[np.isfinite(df_1['acceleration'])]\n",
    "### on affiche\n",
    "#print(df_1)\n",
    "#print(len(df_2))\n",
    "print(df_1.head())\n"
   ]
  },
  {
   "cell_type": "code",
   "execution_count": 7,
   "metadata": {},
   "outputs": [
    {
     "name": "stdout",
     "output_type": "stream",
     "text": [
      "{8507392, 7312385, 8519171, 6422020, 6748163, 3778568, 8336393, 8090122, 5544971, 8616973, 8331278, 6945295, 8565775, 8310289, 3662861, 5771285, 5835798, 8534039, 5644313, 5888026, 7334427, 8435227, 5728800, 6508065, 6339107, 6073891, 6375464, 8392234, 8469547, 2795566, 8274479, 8323119, 8415285, 8515638, 2569272, 6372414, 5583934, 5162564, 8361037, 8431183, 8569940, 8392277, 6029401, 8601690, 8309851, 8458332, 8384096, 8506469, 8581223, 8531048, 8551529, 5943914, 8449643, 8487022, 8624240, 4709489, 8409714, 7254131, 8330867, 7240309, 8591989, 6812279, 4514424, 5052025, 5231736, 8313458, 735361, 8390789, 8447624, 8594058, 8402574, 8498318, 8415889, 2419858, 8352402, 8453268, 5838487, 7232152, 8383642, 8456860, 6200990, 7175841, 8572070, 8489130, 8429227, 8577196, 8404143, 8284849, 8539316, 5834422, 1697463, 8405174, 6948030, 8598721, 4403401, 8471754, 5484235, 8366284, 8592586, 8318158, 8543951, 7008465, 8323798, 8527067, 8607451, 6366945, 8635617, 4941543, 8571112, 6487785, 8318697, 8451311, 8312559, 8363250, 7007991, 7005946, 8396541, 5750016, 8501505, 8572161, 496901, 7305990, 8598282, 5834511, 437522, 8398615, 8502552, 8389918, 8609055, 6993184, 5948193, 7242530, 8468771, 8364834, 8436517, 8562466, 8560935, 8613672, 8323879, 7260970, 8475946, 8573220, 8342318, 5432626, 5833523, 8451893, 6043445, 8349495, 8438072, 8367418, 6997831, 8449351, 7226187, 8437068, 7308108, 8457549, 8498512, 7006551, 8446296, 8452441, 8502617, 8597847, 8410461, 8419167, 8436576, 8606048, 8543585, 8579938, 8501599, 8359271, 8284008, 5968747, 8569711, 8506736, 8562032, 8347506, 8571759, 8413045, 8449910, 8425337, 7015811, 5452163, 8539014, 8463239, 8617864, 8448396, 8230285, 8343438, 8399247, 6783376, 8482705, 8521621, 8430489, 8609691, 8635803, 6950302, 8499616, 8353700, 8501157, 8483752, 8550824, 6493610, 8612269, 8584109, 8299951, 8623023, 8589747, 8523703, 7010745, 8375739, 8555451, 8485313, 8442819, 8448965, 6988229, 8384967, 5547466, 8576459, 2721228, 5123021, 2264013, 8450511, 3737039, 8476111, 8512469, 8437718, 8514518, 8540632, 6108121, 8456666, 8478686, 6997473, 6915043, 8289255, 8403945, 6583792, 8601585, 8590834, 8426481, 4318196, 8288763}\n"
     ]
    }
   ],
   "source": [
    "traj=[]\n",
    "for i in range(0, len(df_1)):\n",
    "    traj.append(df_1.loc[i,'sampno'])\n",
    "print(set(traj))    "
   ]
  },
  {
   "cell_type": "code",
   "execution_count": 27,
   "metadata": {},
   "outputs": [
    {
     "name": "stdout",
     "output_type": "stream",
     "text": [
      "3197\n",
      "2301\n",
      "2736\n",
      "672\n"
     ]
    }
   ],
   "source": [
    "#6422020\n",
    "#T1= df_1[df_1.sampno == 3778568]\n",
    "T1Voiture=df_1[df_1.moyenT == 1]\n",
    "T1Marche=df_1[df_1.moyenT == 2]\n",
    "T1Bus=df_1[df_1.moyenT == 3]\n",
    "T1Rer=df_1[df_1.moyenT == 4]\n",
    "print(len(T1Voiture))\n",
    "print(len(T1Marche))\n",
    "print(len(T1Bus))\n",
    "print(len(T1Rer))"
   ]
  },
  {
   "cell_type": "code",
   "execution_count": 25,
   "metadata": {},
   "outputs": [
    {
     "name": "stdout",
     "output_type": "stream",
     "text": [
      "8\n"
     ]
    }
   ],
   "source": [
    "print(len(T1))\n",
    "t = list(set(traj))\n",
    "maxilen=0\n",
    "for i in t:\n",
    "    tt=df_1[df_1.sampno == i]\n",
    "    lent=len(tt)\n",
    "    if lent>maxilen:\n",
    "        maxi=i\n",
    "        maxilen= len(df_1[df_1.sampno == i])"
   ]
  },
  {
   "cell_type": "code",
   "execution_count": 26,
   "metadata": {},
   "outputs": [
    {
     "name": "stdout",
     "output_type": "stream",
     "text": [
      "8499616\n"
     ]
    }
   ],
   "source": [
    "print(maxi)"
   ]
  },
  {
   "cell_type": "code",
   "execution_count": 14,
   "metadata": {},
   "outputs": [
    {
     "data": {
      "text/plain": [
       "48.849216999999996"
      ]
     },
     "execution_count": 14,
     "metadata": {},
     "output_type": "execute_result"
    }
   ],
   "source": [
    "T1.latitude.iloc[0]"
   ]
  },
  {
   "cell_type": "code",
   "execution_count": 25,
   "metadata": {
    "collapsed": true
   },
   "outputs": [],
   "source": [
    "import gmplot\n",
    "# declare the center of the map, and how much we want the map zoomed in\n",
    "gmap = gmplot.GoogleMapPlotter(T1.latitude.iloc[0] , T1.longitude.iloc[0] , 11)\n",
    "gmap.scatter(T1.latitude, T1.longitude, '#FA8072', size=0, marker=False)\n",
    "gmap.draw(\"BoutdeTrajId.html\")"
   ]
  },
  {
   "cell_type": "code",
   "execution_count": 28,
   "metadata": {},
   "outputs": [],
   "source": [
    "if len(T1Voiture)>0:\n",
    "    gmap = gmplot.GoogleMapPlotter(T1Voiture.latitude.iloc[0] , T1Voiture.longitude.iloc[0] , 11)\n",
    "    gmap.scatter(T1Voiture.latitude, T1Voiture.longitude, '#000000', size=30, marker=False)\n",
    "    #gmap.draw(\"BoutdeTrajIdVoiture.html\")\n",
    "if len(T1Marche)>0:\n",
    "    #gmap = gmplot.GoogleMapPlotter(T1Marche.latitude.iloc[0] , T1Marche.longitude.iloc[0] , 11)\n",
    "    gmap.scatter(T1Marche.latitude, T1Marche.longitude, '#03F700', size=30, marker=False)\n",
    "    #gmap.draw(\"BoutdeTrajIdMarche.html\")\n",
    "if len(T1Bus)>0:\n",
    "    #gmap = gmplot.GoogleMapPlotter(T1Bus.latitude.iloc[0] , T1Bus.longitude.iloc[0] , 11)\n",
    "    gmap.scatter(T1Bus.latitude, T1Bus.longitude, '#EE0104', size=30, marker=False)\n",
    "    #gmap.draw(\"BoutdeTrajIdBus.html\")\n",
    "if len(T1Rer)>0:\n",
    "    #gmap = gmplot.GoogleMapPlotter(T1Rer.latitude.iloc[0] , T1Rer.longitude.iloc[0] , 11)\n",
    "    gmap.scatter(T1Rer.latitude, T1Rer.longitude, '#4C40A4', size=30, marker=False)\n",
    "gmap.draw(\"Essai1.html\")"
   ]
  },
  {
   "cell_type": "code",
   "execution_count": 30,
   "metadata": {
    "collapsed": true
   },
   "outputs": [],
   "source": [
    "df_moove = pd.read_csv('C:/Users/MyPC/Desktop/Projet Gps/ProjetGitHub/df_StopMoove.csv', encoding='latin-1')"
   ]
  },
  {
   "cell_type": "code",
   "execution_count": 51,
   "metadata": {
    "collapsed": true
   },
   "outputs": [],
   "source": [
    "T1Complete=df_moove[df_moove.sampno == 8499616]\n",
    "\n",
    "import gmplot\n",
    "# declare the center of the map, and how much we want the map zoomed in\n",
    "gmap = gmplot.GoogleMapPlotter(T1Complete.latitude.iloc[0] , T1Complete.longitude.iloc[0] , 11)\n",
    "gmap.scatter(T1Complete.latitude, T1Complete.longitude, '#3B0B39', size=10, marker=False)\n",
    "gmap.draw(\"BoutdeTrajIdComplete.html\")\n",
    "\n",
    "T1CMoove=T1Complete[T1Complete.StopMoove == 1]\n",
    "\n",
    "# declare the center of the map, and how much we want the map zoomed in\n",
    "gmap = gmplot.GoogleMapPlotter(T1CMoove.latitude.iloc[0] , T1CMoove.longitude.iloc[0] , 11)\n",
    "gmap.scatter(T1CMoove.latitude, T1CMoove.longitude, '#3B0B39', size=10, marker=False)\n",
    "gmap.draw(\"BoutdeTrajIdCompleteMoove.html\")"
   ]
  },
  {
   "cell_type": "code",
   "execution_count": 52,
   "metadata": {
    "collapsed": true
   },
   "outputs": [],
   "source": [
    "T1CMoove=T1Complete[T1Complete.StopMoove == 0]\n",
    "\n",
    "# declare the center of the map, and how much we want the map zoomed in\n",
    "gmap = gmplot.GoogleMapPlotter(T1CMoove.latitude.iloc[0] , T1CMoove.longitude.iloc[0] , 11)\n",
    "gmap.scatter(T1CMoove.latitude, T1CMoove.longitude, '#3B0B39', size=10, marker=False)\n",
    "gmap.draw(\"BoutdeTrajIdCompleteStop.html\")"
   ]
  },
  {
   "cell_type": "code",
   "execution_count": 34,
   "metadata": {},
   "outputs": [
    {
     "name": "stdout",
     "output_type": "stream",
     "text": [
      "   Unnamed: 0  Unnamed: 0.1   sampno  placeno             time_utc  \\\n",
      "0           0             1  8447624        3  2014-09-16 05:33:01   \n",
      "1           1             2  8447624        3  2014-09-16 05:33:06   \n",
      "2           2             3  8447624        3  2014-09-16 05:33:11   \n",
      "3           3             4  8447624        3  2014-09-16 05:33:16   \n",
      "4           4             5  8447624        3  2014-09-16 05:33:21   \n",
      "\n",
      "            time_local  longitude   latitude    altitude  speed valid  hdop  \\\n",
      "0  2014-09-16 07:33:01   2.284952  48.963909  284.100006    2.5     A   1.0   \n",
      "1  2014-09-16 07:33:06   2.285028  48.963881  282.500000    5.6     A   1.0   \n",
      "2  2014-09-16 07:33:11   2.285242  48.963832  282.399994    9.5     A   0.9   \n",
      "3  2014-09-16 07:33:16   2.285622  48.963788  281.500000   12.9     A   1.4   \n",
      "4  2014-09-16 07:33:21   2.286126  48.963615  282.500000   18.1     A   1.4   \n",
      "\n",
      "   nbsat  StopMoove  \n",
      "0      7          1  \n",
      "1      7          0  \n",
      "2      8          0  \n",
      "3      7          0  \n",
      "4      7          1  \n"
     ]
    }
   ],
   "source": [
    "print(df_moove.head())"
   ]
  },
  {
   "cell_type": "code",
   "execution_count": 48,
   "metadata": {
    "collapsed": true
   },
   "outputs": [],
   "source": [
    "df_moove['StopMooveStop']=df_moove['StopMoove']\n",
    "for i in range(0, len(df_moove)):\n",
    "    if df_moove.speed[i] >2.5 :\n",
    "        df_moove.set_value(i ,'StopMooveStop',1)"
   ]
  },
  {
   "cell_type": "code",
   "execution_count": 53,
   "metadata": {
    "collapsed": true
   },
   "outputs": [],
   "source": [
    "T1CMoove=T1Complete[T1Complete.StopMooveStop == 0]\n",
    "\n",
    "# declare the center of the map, and how much we want the map zoomed in\n",
    "gmap = gmplot.GoogleMapPlotter(T1CMoove.latitude.iloc[0] , T1CMoove.longitude.iloc[0] , 11)\n",
    "gmap.scatter(T1CMoove.latitude, T1CMoove.longitude, '#3B0B39', size=10, marker=False)\n",
    "gmap.draw(\"BoutdeTrajIdCompleteVraiStop.html\")"
   ]
  },
  {
   "cell_type": "code",
   "execution_count": null,
   "metadata": {
    "collapsed": true
   },
   "outputs": [],
   "source": []
  }
 ],
 "metadata": {
  "kernelspec": {
   "display_name": "Python 3",
   "language": "python",
   "name": "python3"
  },
  "language_info": {
   "codemirror_mode": {
    "name": "ipython",
    "version": 3
   },
   "file_extension": ".py",
   "mimetype": "text/x-python",
   "name": "python",
   "nbconvert_exporter": "python",
   "pygments_lexer": "ipython3",
   "version": "3.6.3"
  }
 },
 "nbformat": 4,
 "nbformat_minor": 2
}
