{
 "cells": [
  {
   "cell_type": "code",
   "execution_count": null,
   "metadata": {},
   "outputs": [],
   "source": [
    "import pandas as pd\n",
    "import json\n",
    "import numpy as np\n",
    "import datetime\n",
    "\n",
    "\n",
    "\n",
    "df_min = pd.read_csv('C:/Users/MyPC/Desktop/Projet Gps/AutreP/Livraison 1_CSV/corrected_gps_information_new.csv')\n",
    "df_list2 = pd.read_csv('C:/Users/MyPC/Desktop/Projet Gps/AutreP/Livraison 1_CSV/table_horaire.csv', encoding='latin-1')\n",
    "df_list3 = pd.read_csv('C:/Users/MyPC/Desktop/Projet Gps/AutreP/Livraison 1_CSV/suivi_mc.csv', encoding='latin-1')\n",
    "\n",
    "\n",
    "#df_min=df_min.loc[df_min['sampno']==8447624,:]\n",
    "\n",
    "#df_min2=df_list2.loc[df_list2['N_ipc']==8447624,:]\n",
    "df = df_list2[np.isfinite(df_list2['latitude'])]\n",
    "\n",
    "\n",
    "\n",
    "\n",
    "\n"
   ]
  },
  {
   "cell_type": "code",
   "execution_count": null,
   "metadata": {
    "collapsed": true
   },
   "outputs": [],
   "source": [
    "import time\n",
    "df_min['label']=\"vide\"\n",
    "for i in range(0, len(df_min)):\n",
    "    newdate1 = time.strptime(df_min.time_local[i] , \"%Y-%m-%d %H:%M:%S\")\n",
    "    for j in range (3187, 3279,2):\n",
    "            newdate2 = time.strptime(df.start_time[j] , \"%m/%d/%y %H:%M\")\n",
    "            newdate3 = time.strptime(df.stop_time[j] , \"%m/%d/%y %H:%M\")\n",
    "            if newdate1<= newdate3 and newdate1>=newdate2:\n",
    "                df_min.label[i]=df.locme[j]\n",
    "                "
   ]
  }
 ],
 "metadata": {
  "kernelspec": {
   "display_name": "Python 3",
   "language": "python",
   "name": "python3"
  },
  "language_info": {
   "codemirror_mode": {
    "name": "ipython",
    "version": 3
   },
   "file_extension": ".py",
   "mimetype": "text/x-python",
   "name": "python",
   "nbconvert_exporter": "python",
   "pygments_lexer": "ipython3",
   "version": "3.6.3"
  }
 },
 "nbformat": 4,
 "nbformat_minor": 2
}
