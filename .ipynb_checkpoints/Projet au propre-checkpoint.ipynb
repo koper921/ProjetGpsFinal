{
 "cells": [
  {
   "cell_type": "code",
   "execution_count": 5,
   "metadata": {},
   "outputs": [
    {
     "name": "stderr",
     "output_type": "stream",
     "text": [
      "D:\\Programmes\\Anaconda2\\lib\\site-packages\\IPython\\core\\interactiveshell.py:2698: DtypeWarning: Columns (30,31) have mixed types. Specify dtype option on import or set low_memory=False.\n",
      "  interactivity=interactivity, compiler=compiler, result=result)\n"
     ]
    },
    {
     "name": "stdout",
     "output_type": "stream",
     "text": [
      "   Unnamed: 0   sampno  placeno             time_utc           time_local  \\\n",
      "0           1  8447624        3  2014-09-16 05:33:01  2014-09-16 07:33:01   \n",
      "1           2  8447624        3  2014-09-16 05:33:06  2014-09-16 07:33:06   \n",
      "2           3  8447624        3  2014-09-16 05:33:11  2014-09-16 07:33:11   \n",
      "3           4  8447624        3  2014-09-16 05:33:16  2014-09-16 07:33:16   \n",
      "4           5  8447624        3  2014-09-16 05:33:21  2014-09-16 07:33:21   \n",
      "\n",
      "   longitude   latitude    altitude  speed valid  hdop  nbsat  \n",
      "0   2.284952  48.963909  284.100006    2.5     A   1.0      7  \n",
      "1   2.285028  48.963881  282.500000    5.6     A   1.0      7  \n",
      "2   2.285242  48.963832  282.399994    9.5     A   0.9      8  \n",
      "3   2.285622  48.963788  281.500000   12.9     A   1.4      7  \n",
      "4   2.286126  48.963615  282.500000   18.1     A   1.4      7  \n"
     ]
    },
    {
     "ename": "AttributeError",
     "evalue": "'DataFrame' object has no attribute 'column'",
     "output_type": "error",
     "traceback": [
      "\u001b[1;31m---------------------------------------------------------------------------\u001b[0m",
      "\u001b[1;31mAttributeError\u001b[0m                            Traceback (most recent call last)",
      "\u001b[1;32m<ipython-input-5-d0661a788eea>\u001b[0m in \u001b[0;36m<module>\u001b[1;34m()\u001b[0m\n\u001b[0;32m      5\u001b[0m \u001b[0mprint\u001b[0m\u001b[1;33m(\u001b[0m\u001b[0mdf_min\u001b[0m\u001b[1;33m.\u001b[0m\u001b[0mhead\u001b[0m\u001b[1;33m(\u001b[0m\u001b[1;33m)\u001b[0m\u001b[1;33m)\u001b[0m\u001b[1;33m\u001b[0m\u001b[0m\n\u001b[0;32m      6\u001b[0m \u001b[1;33m\u001b[0m\u001b[0m\n\u001b[1;32m----> 7\u001b[1;33m \u001b[0mprint\u001b[0m\u001b[1;33m(\u001b[0m\u001b[0mdf_list2\u001b[0m\u001b[1;33m.\u001b[0m\u001b[0mcolumn\u001b[0m\u001b[1;33m(\u001b[0m\u001b[1;33m)\u001b[0m\u001b[1;33m)\u001b[0m\u001b[1;33m\u001b[0m\u001b[0m\n\u001b[0m\u001b[0;32m      8\u001b[0m \u001b[0mprint\u001b[0m\u001b[1;33m(\u001b[0m\u001b[0mdf_list3\u001b[0m\u001b[1;33m.\u001b[0m\u001b[0mcolumn\u001b[0m\u001b[1;33m(\u001b[0m\u001b[1;33m)\u001b[0m\u001b[1;33m)\u001b[0m\u001b[1;33m\u001b[0m\u001b[0m\n",
      "\u001b[1;32mD:\\Programmes\\Anaconda2\\lib\\site-packages\\pandas\\core\\generic.py\u001b[0m in \u001b[0;36m__getattr__\u001b[1;34m(self, name)\u001b[0m\n\u001b[0;32m   3079\u001b[0m             \u001b[1;32mif\u001b[0m \u001b[0mname\u001b[0m \u001b[1;32min\u001b[0m \u001b[0mself\u001b[0m\u001b[1;33m.\u001b[0m\u001b[0m_info_axis\u001b[0m\u001b[1;33m:\u001b[0m\u001b[1;33m\u001b[0m\u001b[0m\n\u001b[0;32m   3080\u001b[0m                 \u001b[1;32mreturn\u001b[0m \u001b[0mself\u001b[0m\u001b[1;33m[\u001b[0m\u001b[0mname\u001b[0m\u001b[1;33m]\u001b[0m\u001b[1;33m\u001b[0m\u001b[0m\n\u001b[1;32m-> 3081\u001b[1;33m             \u001b[1;32mreturn\u001b[0m \u001b[0mobject\u001b[0m\u001b[1;33m.\u001b[0m\u001b[0m__getattribute__\u001b[0m\u001b[1;33m(\u001b[0m\u001b[0mself\u001b[0m\u001b[1;33m,\u001b[0m \u001b[0mname\u001b[0m\u001b[1;33m)\u001b[0m\u001b[1;33m\u001b[0m\u001b[0m\n\u001b[0m\u001b[0;32m   3082\u001b[0m \u001b[1;33m\u001b[0m\u001b[0m\n\u001b[0;32m   3083\u001b[0m     \u001b[1;32mdef\u001b[0m \u001b[0m__setattr__\u001b[0m\u001b[1;33m(\u001b[0m\u001b[0mself\u001b[0m\u001b[1;33m,\u001b[0m \u001b[0mname\u001b[0m\u001b[1;33m,\u001b[0m \u001b[0mvalue\u001b[0m\u001b[1;33m)\u001b[0m\u001b[1;33m:\u001b[0m\u001b[1;33m\u001b[0m\u001b[0m\n",
      "\u001b[1;31mAttributeError\u001b[0m: 'DataFrame' object has no attribute 'column'"
     ]
    }
   ],
   "source": [
    "df_min = pd.read_csv('C:/Users/MyPC/Desktop/Projet Gps/AutreP/Livraison 1_CSV/corrected_gps_information_new.csv')\n",
    "df_list2 = pd.read_csv('C:/Users/MyPC/Desktop/Projet Gps/AutreP/Livraison 1_CSV/table_horaire.csv', encoding='latin-1')\n",
    "df_list3 = pd.read_csv('C:/Users/MyPC/Desktop/Projet Gps/AutreP/Livraison 1_CSV/suivi_mc.csv', encoding='latin-1')\n",
    "\n",
    "print(df_min.head())\n",
    "\n",
    "print(df_list2.columns())\n",
    "print(df_list3.column())"
   ]
  },
  {
   "cell_type": "code",
   "execution_count": 4,
   "metadata": {},
   "outputs": [
    {
     "ename": "AttributeError",
     "evalue": "module 'pandas' has no attribute 'core'",
     "output_type": "error",
     "traceback": [
      "\u001b[1;31m---------------------------------------------------------------------------\u001b[0m",
      "\u001b[1;31mAttributeError\u001b[0m                            Traceback (most recent call last)",
      "\u001b[1;32m<ipython-input-4-a89ffe5a5afc>\u001b[0m in \u001b[0;36m<module>\u001b[1;34m()\u001b[0m\n\u001b[0;32m      1\u001b[0m \u001b[1;31m### Labeliser base prends un certain temps!\u001b[0m\u001b[1;33m\u001b[0m\u001b[1;33m\u001b[0m\u001b[0m\n\u001b[0;32m      2\u001b[0m \u001b[1;33m\u001b[0m\u001b[0m\n\u001b[1;32m----> 3\u001b[1;33m \u001b[1;32mimport\u001b[0m \u001b[0mpandas\u001b[0m \u001b[1;32mas\u001b[0m \u001b[0mpd\u001b[0m\u001b[1;33m\u001b[0m\u001b[0m\n\u001b[0m\u001b[0;32m      4\u001b[0m \u001b[1;32mimport\u001b[0m \u001b[0mjson\u001b[0m\u001b[1;33m\u001b[0m\u001b[0m\n\u001b[0;32m      5\u001b[0m \u001b[1;32mimport\u001b[0m \u001b[0mnumpy\u001b[0m \u001b[1;32mas\u001b[0m \u001b[0mnp\u001b[0m\u001b[1;33m\u001b[0m\u001b[0m\n",
      "\u001b[1;32mD:\\Programmes\\Anaconda2\\lib\\site-packages\\pandas\\__init__.py\u001b[0m in \u001b[0;36m<module>\u001b[1;34m()\u001b[0m\n\u001b[0;32m     40\u001b[0m \u001b[1;32mimport\u001b[0m \u001b[0mpandas\u001b[0m\u001b[1;33m.\u001b[0m\u001b[0mcore\u001b[0m\u001b[1;33m.\u001b[0m\u001b[0mconfig_init\u001b[0m\u001b[1;33m\u001b[0m\u001b[0m\n\u001b[0;32m     41\u001b[0m \u001b[1;33m\u001b[0m\u001b[0m\n\u001b[1;32m---> 42\u001b[1;33m \u001b[1;32mfrom\u001b[0m \u001b[0mpandas\u001b[0m\u001b[1;33m.\u001b[0m\u001b[0mcore\u001b[0m\u001b[1;33m.\u001b[0m\u001b[0mapi\u001b[0m \u001b[1;32mimport\u001b[0m \u001b[1;33m*\u001b[0m\u001b[1;33m\u001b[0m\u001b[0m\n\u001b[0m\u001b[0;32m     43\u001b[0m \u001b[1;32mfrom\u001b[0m \u001b[0mpandas\u001b[0m\u001b[1;33m.\u001b[0m\u001b[0mcore\u001b[0m\u001b[1;33m.\u001b[0m\u001b[0msparse\u001b[0m\u001b[1;33m.\u001b[0m\u001b[0mapi\u001b[0m \u001b[1;32mimport\u001b[0m \u001b[1;33m*\u001b[0m\u001b[1;33m\u001b[0m\u001b[0m\n\u001b[0;32m     44\u001b[0m \u001b[1;32mfrom\u001b[0m \u001b[0mpandas\u001b[0m\u001b[1;33m.\u001b[0m\u001b[0mstats\u001b[0m\u001b[1;33m.\u001b[0m\u001b[0mapi\u001b[0m \u001b[1;32mimport\u001b[0m \u001b[1;33m*\u001b[0m\u001b[1;33m\u001b[0m\u001b[0m\n",
      "\u001b[1;32mD:\\Programmes\\Anaconda2\\lib\\site-packages\\pandas\\core\\api.py\u001b[0m in \u001b[0;36m<module>\u001b[1;34m()\u001b[0m\n\u001b[0;32m      8\u001b[0m \u001b[1;32mfrom\u001b[0m \u001b[0mpandas\u001b[0m\u001b[1;33m.\u001b[0m\u001b[0mcore\u001b[0m\u001b[1;33m.\u001b[0m\u001b[0mdtypes\u001b[0m\u001b[1;33m.\u001b[0m\u001b[0mmissing\u001b[0m \u001b[1;32mimport\u001b[0m \u001b[0misnull\u001b[0m\u001b[1;33m,\u001b[0m \u001b[0mnotnull\u001b[0m\u001b[1;33m\u001b[0m\u001b[0m\n\u001b[0;32m      9\u001b[0m \u001b[1;32mfrom\u001b[0m \u001b[0mpandas\u001b[0m\u001b[1;33m.\u001b[0m\u001b[0mcore\u001b[0m\u001b[1;33m.\u001b[0m\u001b[0mcategorical\u001b[0m \u001b[1;32mimport\u001b[0m \u001b[0mCategorical\u001b[0m\u001b[1;33m\u001b[0m\u001b[0m\n\u001b[1;32m---> 10\u001b[1;33m \u001b[1;32mfrom\u001b[0m \u001b[0mpandas\u001b[0m\u001b[1;33m.\u001b[0m\u001b[0mcore\u001b[0m\u001b[1;33m.\u001b[0m\u001b[0mgroupby\u001b[0m \u001b[1;32mimport\u001b[0m \u001b[0mGrouper\u001b[0m\u001b[1;33m\u001b[0m\u001b[0m\n\u001b[0m\u001b[0;32m     11\u001b[0m \u001b[1;32mfrom\u001b[0m \u001b[0mpandas\u001b[0m\u001b[1;33m.\u001b[0m\u001b[0mio\u001b[0m\u001b[1;33m.\u001b[0m\u001b[0mformats\u001b[0m\u001b[1;33m.\u001b[0m\u001b[0mformat\u001b[0m \u001b[1;32mimport\u001b[0m \u001b[0mset_eng_float_format\u001b[0m\u001b[1;33m\u001b[0m\u001b[0m\n\u001b[0;32m     12\u001b[0m from pandas.core.index import (Index, CategoricalIndex, Int64Index,\n",
      "\u001b[1;32mD:\\Programmes\\Anaconda2\\lib\\site-packages\\pandas\\core\\groupby.py\u001b[0m in \u001b[0;36m<module>\u001b[1;34m()\u001b[0m\n\u001b[0;32m     44\u001b[0m from pandas.core.base import (PandasObject, SelectionMixin, GroupByError,\n\u001b[0;32m     45\u001b[0m                               DataError, SpecificationError)\n\u001b[1;32m---> 46\u001b[1;33m from pandas.core.index import (Index, MultiIndex,\n\u001b[0m\u001b[0;32m     47\u001b[0m                                CategoricalIndex, _ensure_index)\n\u001b[0;32m     48\u001b[0m \u001b[1;32mfrom\u001b[0m \u001b[0mpandas\u001b[0m\u001b[1;33m.\u001b[0m\u001b[0mcore\u001b[0m\u001b[1;33m.\u001b[0m\u001b[0mcategorical\u001b[0m \u001b[1;32mimport\u001b[0m \u001b[0mCategorical\u001b[0m\u001b[1;33m\u001b[0m\u001b[0m\n",
      "\u001b[1;32mD:\\Programmes\\Anaconda2\\lib\\site-packages\\pandas\\core\\index.py\u001b[0m in \u001b[0;36m<module>\u001b[1;34m()\u001b[0m\n\u001b[0;32m      1\u001b[0m \u001b[1;31m# flake8: noqa\u001b[0m\u001b[1;33m\u001b[0m\u001b[1;33m\u001b[0m\u001b[0m\n\u001b[1;32m----> 2\u001b[1;33m \u001b[1;32mfrom\u001b[0m \u001b[0mpandas\u001b[0m\u001b[1;33m.\u001b[0m\u001b[0mcore\u001b[0m\u001b[1;33m.\u001b[0m\u001b[0mindexes\u001b[0m\u001b[1;33m.\u001b[0m\u001b[0mapi\u001b[0m \u001b[1;32mimport\u001b[0m \u001b[1;33m*\u001b[0m\u001b[1;33m\u001b[0m\u001b[0m\n\u001b[0m\u001b[0;32m      3\u001b[0m \u001b[1;32mfrom\u001b[0m \u001b[0mpandas\u001b[0m\u001b[1;33m.\u001b[0m\u001b[0mcore\u001b[0m\u001b[1;33m.\u001b[0m\u001b[0mindexes\u001b[0m\u001b[1;33m.\u001b[0m\u001b[0mmulti\u001b[0m \u001b[1;32mimport\u001b[0m \u001b[0m_sparsify\u001b[0m\u001b[1;33m\u001b[0m\u001b[0m\n",
      "\u001b[1;32mD:\\Programmes\\Anaconda2\\lib\\site-packages\\pandas\\core\\indexes\\api.py\u001b[0m in \u001b[0;36m<module>\u001b[1;34m()\u001b[0m\n\u001b[1;32m----> 1\u001b[1;33m from pandas.core.indexes.base import (Index, _new_Index,  # noqa\n\u001b[0m\u001b[0;32m      2\u001b[0m                                  \u001b[0m_ensure_index\u001b[0m\u001b[1;33m,\u001b[0m \u001b[0m_get_na_value\u001b[0m\u001b[1;33m,\u001b[0m\u001b[1;33m\u001b[0m\u001b[0m\n\u001b[0;32m      3\u001b[0m                                  InvalidIndexError)\n\u001b[0;32m      4\u001b[0m \u001b[1;32mfrom\u001b[0m \u001b[0mpandas\u001b[0m\u001b[1;33m.\u001b[0m\u001b[0mcore\u001b[0m\u001b[1;33m.\u001b[0m\u001b[0mindexes\u001b[0m\u001b[1;33m.\u001b[0m\u001b[0mcategory\u001b[0m \u001b[1;32mimport\u001b[0m \u001b[0mCategoricalIndex\u001b[0m  \u001b[1;31m# noqa\u001b[0m\u001b[1;33m\u001b[0m\u001b[0m\n\u001b[0;32m      5\u001b[0m \u001b[1;32mfrom\u001b[0m \u001b[0mpandas\u001b[0m\u001b[1;33m.\u001b[0m\u001b[0mcore\u001b[0m\u001b[1;33m.\u001b[0m\u001b[0mindexes\u001b[0m\u001b[1;33m.\u001b[0m\u001b[0mmulti\u001b[0m \u001b[1;32mimport\u001b[0m \u001b[0mMultiIndex\u001b[0m  \u001b[1;31m# noqa\u001b[0m\u001b[1;33m\u001b[0m\u001b[0m\n",
      "\u001b[1;32mD:\\Programmes\\Anaconda2\\lib\\site-packages\\pandas\\core\\indexes\\base.py\u001b[0m in \u001b[0;36m<module>\u001b[1;34m()\u001b[0m\n\u001b[0;32m     41\u001b[0m \u001b[1;33m\u001b[0m\u001b[0m\n\u001b[0;32m     42\u001b[0m \u001b[1;32mfrom\u001b[0m \u001b[0mpandas\u001b[0m\u001b[1;33m.\u001b[0m\u001b[0mcore\u001b[0m\u001b[1;33m.\u001b[0m\u001b[0mbase\u001b[0m \u001b[1;32mimport\u001b[0m \u001b[0mPandasObject\u001b[0m\u001b[1;33m,\u001b[0m \u001b[0mIndexOpsMixin\u001b[0m\u001b[1;33m\u001b[0m\u001b[0m\n\u001b[1;32m---> 43\u001b[1;33m \u001b[1;32mimport\u001b[0m \u001b[0mpandas\u001b[0m\u001b[1;33m.\u001b[0m\u001b[0mcore\u001b[0m\u001b[1;33m.\u001b[0m\u001b[0mbase\u001b[0m \u001b[1;32mas\u001b[0m \u001b[0mbase\u001b[0m\u001b[1;33m\u001b[0m\u001b[0m\n\u001b[0m\u001b[0;32m     44\u001b[0m from pandas.util._decorators import (Appender, Substitution, cache_readonly,\n\u001b[0;32m     45\u001b[0m                                      deprecate, deprecate_kwarg)\n",
      "\u001b[1;31mAttributeError\u001b[0m: module 'pandas' has no attribute 'core'"
     ]
    }
   ],
   "source": [
    "### Labeliser base prends un certain temps!\n",
    "### on fait une jointure en fonction du temps entre les 2 bases \n",
    "\n",
    "import pandas as pd\n",
    "import json\n",
    "import numpy as np\n",
    "import datetime\n",
    "import math\n",
    "import matplotlib.pyplot as plt\n",
    "\n",
    "\n",
    "\n",
    "df_min = pd.read_csv('C:/Users/MyPC/Desktop/Projet Gps/AutreP/Livraison 1_CSV/corrected_gps_information_new.csv')\n",
    "df_list2 = pd.read_csv('C:/Users/MyPC/Desktop/Projet Gps/AutreP/Livraison 1_CSV/table_horaire.csv', encoding='latin-1')\n",
    "df_list3 = pd.read_csv('C:/Users/MyPC/Desktop/Projet Gps/AutreP/Livraison 1_CSV/suivi_mc.csv', encoding='latin-1')\n",
    "\n",
    "\n",
    "\n",
    "listid=[]\n",
    "for i in range(len(df_min)):\n",
    "    listid.append(df_min['sampno'].iloc[i])\n",
    "\n",
    "# liste de chaque utilisateurs differents  , servira pour la boucle ci dessous \n",
    "user=list(set(listid))\n",
    "\n",
    "import time\n",
    "df_min['label']=\"vide\"\n",
    "df_list=[]\n",
    "\n",
    "for u in user:\n",
    "    df_minU=df_min.loc[df_min['sampno']==u,:]\n",
    "    df_U=df_list2.loc[df_list2['N_ipc']==u,:]  #utilisateur jointure sur N_ipc, et sampno\n",
    "    listI=df_U.locme.index.tolist()\n",
    "    for i in range(df_minU.index[0], df_minU.index[0]+len(df_minU)-1):\n",
    "        \n",
    "        newdate1 = time.strptime(df_minU.time_local[i] , \"%Y-%m-%d %H:%M:%S\")\n",
    "        \n",
    "        \n",
    "        for j in listI:\n",
    "                newdate2 = time.strptime(df_U.start_time[j] , \"%m/%d/%y %H:%M\")\n",
    "                newdate3 = time.strptime(df_U.stop_time[j] , \"%m/%d/%y %H:%M\")\n",
    "                if newdate1<= newdate3 and newdate1>=newdate2:\n",
    "                    df_minU.label[i]=df_U.locme[j]\n",
    "    df_list.append(df_minU)\n",
    "  \n",
    "df_label = pd.concat(df_list, ignore_index=True)\n",
    "\n",
    "#df_label.to_csv(\"baseLabexample.csv\", sep=',')\n",
    "\n",
    "\n"
   ]
  },
  {
   "cell_type": "code",
   "execution_count": 7,
   "metadata": {},
   "outputs": [
    {
     "name": "stdout",
     "output_type": "stream",
     "text": [
      "   Unnamed: 0  Unnamed: 0.1   sampno  placeno             time_utc  \\\n",
      "0           0        947343  8507392        2  2014-12-02 15:23:45   \n",
      "1           1        947344  8507392        2  2014-12-02 15:23:50   \n",
      "2           2        947345  8507392        2  2014-12-02 15:25:15   \n",
      "3           3        947346  8507392        2  2014-12-02 15:25:25   \n",
      "4           4        947347  8507392        2  2014-12-02 15:25:35   \n",
      "\n",
      "            time_local  longitude   latitude    altitude  speed valid  hdop  \\\n",
      "0  2014-12-02 16:23:45   2.087041  48.983364  177.800003    2.3     A   1.0   \n",
      "1  2014-12-02 16:23:50   2.086963  48.983344  181.199997    2.2     A   1.0   \n",
      "2  2014-12-02 16:25:15   2.086911  48.983327  193.399994    2.9     A   1.0   \n",
      "3  2014-12-02 16:25:25   2.087135  48.983361  183.399994    3.7     A   1.0   \n",
      "4  2014-12-02 16:25:35   2.087169  48.983235  177.800003    9.0     A   1.0   \n",
      "\n",
      "   nbsat label  \n",
      "0      9  vide  \n",
      "1      9  vide  \n",
      "2      9  vide  \n",
      "3      9  vide  \n",
      "4      9  vide  \n"
     ]
    },
    {
     "data": {
      "image/png": "[encoded data removed]",
      "text/plain": [
       "<matplotlib.figure.Figure at 0x21d613b8b00>"
      ]
     },
     "metadata": {},
     "output_type": "display_data"
    },
    {
     "name": "stdout",
     "output_type": "stream",
     "text": [
      "1016439\n",
      "1016439\n"
     ]
    },
    {
     "name": "stderr",
     "output_type": "stream",
     "text": [
      "D:\\Programmes\\Anaconda2\\lib\\site-packages\\ipykernel_launcher.py:116: RuntimeWarning: invalid value encountered in double_scalars\n"
     ]
    },
    {
     "data": {
      "image/png": "[encoded data removed]",
      "text/plain": [
       "<matplotlib.figure.Figure at 0x21d05581978>"
      ]
     },
     "metadata": {},
     "output_type": "display_data"
    },
    {
     "name": "stderr",
     "output_type": "stream",
     "text": [
      "D:\\Programmes\\Anaconda2\\lib\\site-packages\\ipykernel_launcher.py:167: SettingWithCopyWarning: \n",
      "A value is trying to be set on a copy of a slice from a DataFrame\n",
      "\n",
      "See the caveats in the documentation: http://pandas.pydata.org/pandas-docs/stable/indexing.html#indexing-view-versus-copy\n",
      "D:\\Programmes\\Anaconda2\\lib\\site-packages\\ipykernel_launcher.py:172: SettingWithCopyWarning: \n",
      "A value is trying to be set on a copy of a slice from a DataFrame\n",
      "\n",
      "See the caveats in the documentation: http://pandas.pydata.org/pandas-docs/stable/indexing.html#indexing-view-versus-copy\n",
      "D:\\Programmes\\Anaconda2\\lib\\site-packages\\ipykernel_launcher.py:178: SettingWithCopyWarning: \n",
      "A value is trying to be set on a copy of a slice from a DataFrame\n",
      "\n",
      "See the caveats in the documentation: http://pandas.pydata.org/pandas-docs/stable/indexing.html#indexing-view-versus-copy\n",
      "D:\\Programmes\\Anaconda2\\lib\\site-packages\\ipykernel_launcher.py:161: SettingWithCopyWarning: \n",
      "A value is trying to be set on a copy of a slice from a DataFrame\n",
      "\n",
      "See the caveats in the documentation: http://pandas.pydata.org/pandas-docs/stable/indexing.html#indexing-view-versus-copy\n"
     ]
    }
   ],
   "source": [
    "import pandas as pd\n",
    "import json\n",
    "import numpy as np\n",
    "import datetime \n",
    "from datetime import datetime\n",
    "import math\n",
    "\n",
    "import matplotlib.pyplot as plt\n",
    "\n",
    "\n",
    "\n",
    "df_min = pd.read_csv('C:/Users/MyPC/Desktop/Projet Gps/baseLab.csv', encoding='latin-1')\n",
    "df_min2 = pd.read_csv('C:/Users/MyPC/Desktop/Projet Gps/AutreP/Livraison 1_CSV/corrected_gps_information_new.csv')\n",
    "\n",
    "print(df_min.head())\n",
    "\n",
    "plt.plot(df_min.speed)\n",
    "plt.show()\n",
    "df_min['metro']=0\n",
    "df_min['bus']=0\n",
    "df_min['voiture']=0\n",
    "df_min['marche']=0\n",
    "df_min['acceleration']=0\n",
    "df_min['acceleration1000']=0\n",
    "df_min['speedMS']=df_min['speed']*0.278\n",
    "df_min['difTempsSec']=0\n",
    "df_min['moyenT']=0\n",
    "df_min['angle']=0\n",
    "df_min['smooth']=0\n",
    "\n",
    "\n",
    "\n",
    "smooth=[]\n",
    "\n",
    "#def CalculSmooth(s1,s2,s3):\n",
    "#    vit=1/3*(s1+s2+s3)\n",
    "#    return vit\n",
    "#\n",
    "#smooth.append(df_min.speed[0])\n",
    "#smooth.append(1/2*(df_min.speed[0]+df_min.speed[1]))\n",
    "#for i in range(2 , len(df_min)):\n",
    "#    if df_min.sampno[i]==df_min.sampno[i-1] and df_min.sampno[i-1]==df_min.sampno[i-2]:\n",
    "#        s=CalculSmooth(df_min.speed[i],df_min.speed[i-1],df_min.speed[i-2])\n",
    "#        smooth.append(s)\n",
    "#    elif df_min.sampno[i]==df_min.sampno[i-1] and df_min.sampno[i-1]!=df_min.sampno[i-2]:\n",
    "#        s=1/2*( df_min.speed[i]+df_min.speed[i-1])\n",
    "#        smooth.append(s)\n",
    "#    elif df_min.sampno[i]!=df_min.sampno[i-1]  :\n",
    "#        s=df_min.speed[i]\n",
    "#\n",
    "#print(len(smooth))\n",
    "#print(len(df_min))\n",
    "#\n",
    "#df_min.smooth=smooth  \n",
    "\n",
    "\n",
    "\n",
    "temps=[]\n",
    "temps.append(0)\n",
    "for i in range(0, len(df_min)-1):\n",
    "   \n",
    "    d1 = datetime.strptime(df_min.time_local[i], \"%Y-%m-%d %H:%M:%S\")\n",
    "    d2 = datetime.strptime(df_min.time_local[i+1], \"%Y-%m-%d %H:%M:%S\")\n",
    "    t=d2-d1\n",
    "    temps.append(t.total_seconds())\n",
    "    \n",
    "    \n",
    "df_min.difTempsSec=temps\n",
    "\n",
    "\n",
    "### feature smooth average \n",
    "df_min['smooth']=0\n",
    "\n",
    "\n",
    "\n",
    "smooth=[]\n",
    "\n",
    "def CalculSmooth(s1,s2,s3):\n",
    "    vit=1/3*(s1+s2+s3)\n",
    "    return vit\n",
    "\n",
    "smooth.append(df_min.speed[0])\n",
    "smooth.append(1/2*(df_min.speed[0]+df_min.speed[1]))\n",
    "for i in range(2 , len(df_min)):\n",
    "    if df_min.sampno[i]==df_min.sampno[i-1] and df_min.sampno[i-1]==df_min.sampno[i-2]:\n",
    "        s=CalculSmooth(df_min.speed[i],df_min.speed[i-1],df_min.speed[i-2])\n",
    "        smooth.append(s)\n",
    "    elif df_min.sampno[i]==df_min.sampno[i-1] and df_min.sampno[i-1]!=df_min.sampno[i-2]:\n",
    "        s=1/2*( df_min.speed[i]+df_min.speed[i-1])\n",
    "        smooth.append(s)\n",
    "    elif df_min.sampno[i]!=df_min.sampno[i-1]  :\n",
    "        s=df_min.speed[i]\n",
    "        smooth.append(s)\n",
    "print(len(smooth))\n",
    "print(len(df_min))\n",
    "\n",
    "df_min.smooth=smooth          \n",
    "  \n",
    "\n",
    "\n",
    "\n",
    "\n",
    "\n",
    "\n",
    "\n",
    "\n",
    "\n",
    "\n",
    "\n",
    " \n",
    "acceleration=[]\n",
    "acceleration.append(0)\n",
    "for i in range(1, len(df_min)):\n",
    "    if df_min.sampno[i]==df_min.sampno[i-1]:\n",
    "        a=df_min.speedMS[i]-df_min.speedMS[i-1]\n",
    "        b=a/df_min.difTempsSec[i]\n",
    "        acceleration.append(b)\n",
    "    else:\n",
    "        b=0\n",
    "        acceleration.append(b)\n",
    "df_min.acceleration=acceleration\n",
    "df_min.acceleration1000=np.absolute(df_min.acceleration)\n",
    "#print(df_min.acceleration.max())\n",
    "    \n",
    "#Calculer varaition angulaire trajectoire\n",
    "\n",
    "\n",
    "def CalculAngle(lat1,long1,lat2,long2):\n",
    "    dLon = (long2 - long1)\n",
    "    y = math.sin(dLon) * math.cos(lat2)\n",
    "    x = math.cos(lat1) * math.sin(lat2) - math.sin(lat1)* math.cos(lat2) * math.cos(dLon)\n",
    "    brng = math.atan2(y, x)\n",
    "    brng = math.degrees(brng)\n",
    "    brng = (brng + 360) % 360\n",
    "    brng = 360 - brng\n",
    "    return brng\n",
    "\n",
    "angles=[]\n",
    "angles.append(0)\n",
    "\n",
    "for i in range(1, len(df_min)):\n",
    "    if df_min.sampno[i]==df_min.sampno[i-1]:\n",
    "        angle =CalculAngle(df_min.latitude[i-1],df_min.longitude[i-1],df_min.latitude[i],df_min.latitude[i])\n",
    "        angles.append(angle)\n",
    "    else:\n",
    "        angle=0\n",
    "        angles.append(angle)\n",
    "\n",
    "df_min.angle=angles\n",
    "\n",
    "\n",
    "plt.plot(df_min.angle)\n",
    "plt.show()\n",
    "\n",
    "  \n",
    "\n",
    "\n",
    "def MotV(mot):\n",
    "    for i in range(0, len(df_min)):\n",
    "        if mot in df_min.label[i]:\n",
    "            df_min.voiture[i]=1\n",
    "            \n",
    "\n",
    "def Mot(mot):\n",
    "    for i in range(0, len(df_min)):\n",
    "        if mot in df_min.label[i]: # and  df_min.speed[i]<5    on enleve le speed pour avoir le deb et la fin\n",
    "            df_min.marche[i]=2\n",
    "\n",
    "def MotB(mot):\n",
    "    for i in range(0, len(df_min)):\n",
    "        if mot in df_min.label[i] :\n",
    "            df_min.bus[i]=3\n",
    "            \n",
    "            \n",
    "def MotExclut(mot, motE,motE1, motE2):\n",
    "    for i in range(0, len(df_min)):\n",
    "        if mot in df_min.label[i] and motE not in df_min.label[i] and motE1 not in df_min.label[i] and motE2 not in df_min.label[i]: #and df_min.speed[i]>5:\n",
    "            df_min.metro[i]=4\n",
    "\n",
    "\n",
    "def MotG(mot,motCat, df):\n",
    "    for i in range(0, len(df)):\n",
    "        if mot in df.label[i]:\n",
    "            df_min[motCat].iloc[i]=1\n",
    "            \n",
    "\n",
    "### Ici on déduit des tagues de moyen de transport à l'aide de mot clé dans la description , cette méthode n'est pas \n",
    "# parfaite car par exemple  certaines personne mettent  \"Residence\"  en description pour signifier qu'ils sont chez eux (donc à pied) ,\n",
    "#  et d'autre mettent cette description pour signifier qu ils rentrent chez eux (et parfois en voiture ...) pour en partie pallier à \n",
    "# on a rajouté une vitesse limite au sein de la résidence ici 8km/h (on mettra surement plus bas ), Methode \"Mot\"\n",
    "\n",
    "Mot('RÌ©sidence')\n",
    "Mot('MARCHE CHIEN')\n",
    "\n",
    "\n",
    "\n",
    "# vitesse moyenne ici 9.5km/h\n",
    "MotB('Bus')\n",
    "MotB('BUS')\n",
    "MotB('bus')\n",
    "\n",
    "#df_min3=df_min.loc[df_min['bus']==3,:]\n",
    "#plt.plot([i for i in range(0, len(df_min3))], df_min3.speed)\n",
    "#plt.show()\n",
    "#plt.plot([i for i in range(0, len(df_min3))], df_min3.angle)\n",
    "#plt.show()\n",
    "#print(df_min3.angle.mean())\n",
    "#print(df_min3.acceleration1000.mean())\n",
    "#print(df_min3.speed.mean())\n",
    "\n",
    "\n",
    "#print(df_min1.speed.mean())\n",
    "#print(df_min1.speed.mode())\n",
    "#print(df_min1[['speed', 'label']])\n",
    "#\n",
    "\n",
    "\n",
    "### meme principe qu'avant , sauf que ici on a exclut plusieurs mot Bus pour éviter les descriptions ayant des nom d'arrets de \n",
    "#bus contenant le mot RER, vitesse moyenne ici 27km/h\n",
    "\n",
    "MotExclut('RER', 'bus', 'Bus', 'BUS')\n",
    "#df_min2=df_min.loc[df_min['metro']==4,:]\n",
    "#plt.plot([i for i in range(0, len(df_min2))], df_min2.speed)\n",
    "#plt.show()\n",
    "#plt.plot([i for i in range(0, len(df_min2))], df_min2.angle)\n",
    "#plt.show()\n",
    "#print(df_min2.angle.mean())\n",
    "#print(df_min2.acceleration1000.mean())\n",
    "#print(df_min2.speed.mean())\n",
    "\n",
    "\n",
    "\n",
    "# on suppose qu'avec ce tague que la personne est en voiture , vitesse moyenne ici 11km/h\n",
    "MotV('Stationnement')\n",
    "#df_min1=df_min.loc[df_min['voiture']==1,:]\n",
    "#plt.plot([i for i in range(0, len(df_min1))], df_min1.speed)\n",
    "#plt.show()\n",
    "##\n",
    "#print(df_min1.speed.mean())\n",
    "#print(df_min1.acceleration1000.mean())\n",
    "#base=pd.DataFrame()\n",
    "#base=Trans(df_min)\n",
    "\n",
    "# on recuperla valeur des tagg , Voiure =1 , Marche =2, Bus= 3 ,Rer=4\n",
    "df_min.moyenT=df_min.bus+df_min.metro+df_min.marche+df_min.voiture\n",
    "\n",
    "#df_min.to_csv(\"Lab1.csv\", sep=',')\n",
    "\n",
    "\n",
    "\n",
    "\n",
    "#print(df_min2[['speed', 'label']])\n",
    "\n",
    "\n",
    "#print(df_min[['speed','label']])\n",
    "#labels=[]\n",
    "#\n",
    "#\n",
    "#for i in range(0, len(df_min)):\n",
    "#    labels.append(df_min.label[i])\n",
    "#    \n",
    "#label= list(set(labels))\n",
    "#print(label)\n",
    "##    "
   ]
  },
  {
   "cell_type": "code",
   "execution_count": 34,
   "metadata": {},
   "outputs": [
    {
     "name": "stdout",
     "output_type": "stream",
     "text": [
      "   Unnamed: 0  Unnamed: 0.1  Unnamed: 0.1.1   sampno  placeno  \\\n",
      "0           0             0          947343  8507392        2   \n",
      "1           1             1          947344  8507392        2   \n",
      "2           2             2          947345  8507392        2   \n",
      "3           3             3          947346  8507392        2   \n",
      "4           4             4          947347  8507392        2   \n",
      "\n",
      "              time_utc           time_local  longitude   latitude    altitude  \\\n",
      "0  2014-12-02 15:23:45  2014-12-02 16:23:45   2.087041  48.983364  177.800003   \n",
      "1  2014-12-02 15:23:50  2014-12-02 16:23:50   2.086963  48.983344  181.199997   \n",
      "2  2014-12-02 15:25:15  2014-12-02 16:25:15   2.086911  48.983327  193.399994   \n",
      "3  2014-12-02 15:25:25  2014-12-02 16:25:25   2.087135  48.983361  183.399994   \n",
      "4  2014-12-02 15:25:35  2014-12-02 16:25:35   2.087169  48.983235  177.800003   \n",
      "\n",
      "     ...     bus voiture  marche  acceleration acceleration1000  speedMS  \\\n",
      "0    ...       0       0       0      0.000000         0.000000   0.6394   \n",
      "1    ...       0       0       0     -0.005560         0.005560   0.6116   \n",
      "2    ...       0       0       0      0.002289         0.002289   0.8062   \n",
      "3    ...       0       0       0      0.022240         0.022240   1.0286   \n",
      "4    ...       0       0       0      0.147340         0.147340   2.5020   \n",
      "\n",
      "   difTempsSec  moyenT       angle    smooth  \n",
      "0          0.0       0    0.000000  2.300000  \n",
      "1          5.0       0  186.798482  2.250000  \n",
      "2         85.0       0  186.796659  2.466667  \n",
      "3         10.0       0  186.794695  2.933333  \n",
      "4         10.0       0  186.803209  5.200000  \n",
      "\n",
      "[5 rows x 26 columns]\n"
     ]
    },
    {
     "name": "stderr",
     "output_type": "stream",
     "text": [
      "D:\\Programmes\\Anaconda2\\lib\\site-packages\\ipykernel_launcher.py:45: SettingWithCopyWarning: \n",
      "A value is trying to be set on a copy of a slice from a DataFrame.\n",
      "Try using .loc[row_indexer,col_indexer] = value instead\n",
      "\n",
      "See the caveats in the documentation: http://pandas.pydata.org/pandas-docs/stable/indexing.html#indexing-view-versus-copy\n"
     ]
    },
    {
     "name": "stdout",
     "output_type": "stream",
     "text": [
      "2290\n",
      "2289\n",
      "[1, 1, 1, 1, 3, 3, 3, 3, 3, 3, 3, 3, 3, 3, 3, 1, 1, 1, 3, 3, 3, 3, 1, 1, 1, 1, 2, 1, 2, 1, 1, 1, 2, 1, 2, 1, 2, 1, 1, 2, 2, 1, 2, 1, 2, 1, 3, 3, 3, 3, 1, 1, 2, 2, 4, 2, 2, 2, 4, 4, 2, 2, 4, 2, 3, 3, 3, 3, 4, 2, 4, 2, 2, 2, 2, 3, 1, 3, 3, 3, 1, 2, 2, 2, 1, 2, 1, 1, 2, 2, 2, 2, 2, 2, 2, 1, 1, 2, 2, 3, 2, 2, 2, 2, 2, 3, 3, 2, 1, 1, 2, 1, 1, 2, 1, 1, 2, 3, 3, 3, 3, 1, 3, 3, 2, 1, 2, 3, 3, 3, 3, 2, 2, 3, 3, 3, 3, 3, 2, 1, 1, 2, 2, 3, 3, 2, 2, 2, 3, 3, 2, 2, 4, 4, 2, 2, 2, 4, 2, 4, 4, 2, 2, 4, 1, 1, 3, 3, 1, 1, 1, 2, 1, 1, 1, 2, 1, 1, 1, 1, 1, 1, 1, 2, 1, 2, 2, 1, 2, 2, 2, 2, 2, 2, 2, 2, 2, 2, 2, 2, 2, 2, 2, 3, 2, 2, 2, 2, 2, 2, 4, 2, 4, 2, 2, 2, 2, 2, 2, 2, 2, 2, 1, 1, 1, 1, 1, 1, 1, 1, 1, 1, 1, 1, 1, 1, 1, 1, 1, 1, 1, 1, 1, 1, 1, 1, 1, 1, 1, 4, 3, 3, 4, 3, 2, 2, 2, 2, 3, 4, 3, 3, 3, 3, 4, 1, 2, 2, 3, 3, 3, 3, 3, 3, 4, 3, 3, 3, 3, 3, 3, 3, 3, 3, 3, 3, 3, 3, 3, 3, 3, 3, 1, 1, 1, 2, 2, 1, 2, 2, 2, 2, 2, 2, 1, 2, 2, 1, 2, 3, 3, 2, 2, 1, 1, 1, 2, 2, 3, 3, 4, 4, 4, 4, 4, 4, 3, 3, 4, 4, 2, 4, 3, 1, 3, 3, 4, 4, 3, 3, 1, 3, 4, 3, 3, 3, 3, 4, 4, 3, 1, 3, 4, 1, 1, 2, 2, 1, 2, 2, 2, 2, 2, 2, 2, 3, 3, 3, 3, 3, 3, 3, 3, 4, 1, 1, 1, 1, 1, 1, 3, 3, 3, 3, 3, 3, 3, 3, 3, 3, 3, 3, 3, 3, 3, 3, 3, 3, 3, 3, 3, 3, 3, 3, 3, 3, 3, 3, 3, 3, 3, 3, 3, 3, 3, 3, 3, 3, 3, 3, 3, 3, 3, 2, 1, 1, 2, 2, 1, 2, 2, 2, 2, 2, 1, 1, 3, 3, 3, 3, 3, 1, 1, 1, 1, 1, 1, 1, 3, 3, 3, 3, 1, 1, 1, 1, 1, 1, 2, 2, 2, 2, 2, 2, 2, 2, 2, 2, 1, 1, 1, 1, 1, 1, 1, 1, 1, 1, 1, 1, 1, 3, 3, 3, 3, 3, 3, 4, 3, 3, 3, 2, 2, 3, 3, 3, 2, 3, 3, 3, 3, 3, 3, 3, 3, 3, 3, 3, 3, 3, 3, 3, 1, 1, 1, 1, 1, 3, 3, 1, 1, 1, 1, 1, 1, 1, 1, 2, 2, 2, 2, 2, 3, 3, 3, 3, 3, 3, 3, 3, 3, 3, 3, 3, 3, 2, 2, 2, 2, 3, 3, 3, 3, 1, 1, 1, 3, 3, 4, 3, 3, 3, 3, 1, 1, 2, 2, 1, 1, 1, 3, 3, 3, 3, 3, 3, 2, 2, 2, 3, 3, 2, 2, 2, 2, 1, 2, 2, 1, 1, 1, 1, 1, 1, 1, 2, 2, 2, 4, 3, 3, 4, 4, 2, 1, 3, 3, 4, 4, 2, 2, 2, 1, 3, 2, 2, 2, 2, 4, 4, 3, 3, 4, 4, 4, 4, 1, 1, 4, 4, 4, 2, 4, 4, 2, 2, 4, 2, 4, 3, 3, 2, 4, 4, 2, 2, 4, 4, 3, 3, 2, 1, 1, 1, 2, 2, 4, 4, 4, 4, 2, 2, 2, 2, 2, 2, 2, 4, 4, 4, 4, 4, 4, 4, 4, 2, 2, 4, 4, 4, 4, 2, 2, 2, 1, 1, 1, 2, 2, 2, 2, 2, 2, 1, 1, 1, 1, 1, 1, 1, 1, 2, 2, 2, 2, 1, 2, 2, 2, 2, 1, 1, 1, 1, 1, 1, 3, 4, 3, 4, 1, 3, 4, 4, 3, 4, 4, 4, 4, 4, 4, 2, 1, 1, 2, 4, 3, 1, 1, 2, 2, 2, 2, 2, 2, 2, 2, 2, 2, 2, 2, 2, 1, 2, 1, 3, 3, 2, 2, 2, 2, 2, 2, 2, 1, 2, 1, 1, 2, 3, 3, 2, 2, 2, 2, 2, 2, 1, 1, 1, 1, 2, 2, 2, 2, 1, 1, 1, 1, 2, 2, 1, 2, 2, 2, 2, 2, 1, 1, 1, 2, 1, 2, 2, 2, 1, 2, 1, 2, 1, 2, 1, 1, 2, 1, 2, 2, 2, 1, 2, 2, 2, 2, 2, 2, 2, 2, 2, 2, 2, 2, 2, 2, 2, 2, 2, 2, 2, 1, 1, 1, 1, 1, 1, 1, 1, 1, 1, 1, 1, 3, 3, 3, 3, 3, 3, 3, 1, 3, 3, 3, 3, 3, 3, 3, 3, 3, 3, 3, 3, 3, 3, 3, 1, 1, 1, 1, 2, 1, 1, 2, 1, 1, 2, 2, 2, 2, 1, 1, 2, 2, 4, 3, 1, 4, 4, 3, 3, 4, 4, 3, 1, 1, 2, 4, 1, 1, 1, 2, 2, 4, 2, 2, 2, 2, 2, 2, 2, 2, 2, 1, 1, 2, 2, 2, 2, 2, 2, 2, 2, 3, 3, 3, 3, 3, 3, 3, 2, 2, 2, 2, 2, 2, 2, 2, 2, 2, 2, 2, 2, 2, 2, 1, 2, 2, 2, 2, 1, 3, 3, 3, 3, 3, 3, 3, 3, 3, 1, 1, 1, 1, 1, 1, 1, 3, 3, 4, 4, 1, 1, 3, 2, 2, 2, 1, 3, 3, 3, 3, 3, 3, 3, 1, 1, 1, 1, 1, 1, 2, 2, 2, 2, 2, 2, 2, 3, 3, 3, 3, 1, 3, 3, 3, 3, 3, 3, 2, 2, 1, 1, 2, 1, 1, 2, 2, 1, 1, 2, 2, 1, 1, 2, 2, 1, 1, 2, 2, 1, 2, 3, 3, 3, 4, 3, 4, 3, 4, 4, 3, 3, 4, 1, 4, 1, 1, 2, 2, 2, 2, 1, 2, 2, 2, 2, 2, 2, 1, 1, 2, 2, 1, 1, 2, 2, 2, 2, 2, 2, 2, 2, 1, 1, 2, 2, 2, 2, 2, 2, 1, 1, 1, 1, 1, 1, 3, 3, 1, 1, 1, 1, 1, 1, 1, 1, 1, 1, 1, 1, 1, 3, 3, 3, 3, 1, 3, 3, 3, 1, 3, 1, 3, 3, 1, 3, 1, 1, 1, 1, 1, 1, 1, 1, 1, 1, 1, 1, 1, 1, 1, 1, 1, 1, 2, 3, 3, 3, 3, 3, 3, 3, 3, 3, 3, 3, 2, 1, 1, 1, 2, 2, 1, 1, 2, 1, 2, 2, 2, 2, 2, 2, 1, 1, 2, 2, 4, 2, 2, 2, 4, 2, 3, 1, 3, 2, 2, 4, 4, 2, 3, 2, 2, 2, 2, 2, 2, 2, 2, 3, 3, 4, 4, 4, 4, 2, 4, 4, 2, 2, 1, 2, 1, 1, 2, 3, 3, 2, 2, 2, 1, 1, 2, 1, 1, 2, 2, 2, 3, 4, 4, 3, 4, 4, 4, 3, 4, 4, 4, 1, 1, 4, 4, 3, 3, 4, 1, 2, 2, 2, 2, 2, 2, 2, 2, 2, 2, 2, 2, 2, 2, 2, 2, 1, 1, 1, 2, 2, 2, 2, 1, 1, 1, 1, 3, 3, 4, 4, 4, 4, 3, 3, 3, 4, 4, 4, 4, 3, 3, 1, 3, 3, 4, 4, 4, 1, 1, 1, 1, 1, 1, 1, 1, 1, 1, 1, 3, 3, 1, 1, 1, 2, 2, 2, 2, 1, 2, 2, 2, 2, 2, 2, 1, 1, 1, 1, 1, 1, 1, 1, 1, 1, 1, 1, 1, 1, 1, 1, 1, 1, 1, 1, 1, 1, 1, 1, 4, 1, 1, 4, 4, 4, 4, 1, 1, 1, 4, 4, 4, 4, 3, 3, 3, 2, 2, 2, 2, 3, 2, 2, 2, 3, 2, 3, 3, 3, 3, 2, 2, 2, 3, 3, 3, 3, 3, 3, 2, 2, 2, 2, 2, 2, 2, 3, 1, 1, 1, 1, 1, 1, 1, 1, 1, 1, 2, 2, 2, 2, 2, 2, 2, 2, 2, 2, 2, 2, 2, 2, 2, 2, 2, 2, 2, 2, 2, 2, 4, 2, 4, 3, 2, 2, 4, 4, 2, 4, 5, 2, 2, 2, 2, 5, 2, 2, 2, 2, 2, 2, 2, 2, 2, 4, 2, 3, 3, 3, 3, 4, 3, 3, 3, 3, 3, 3, 3, 3, 1, 3, 3, 3, 3, 1, 1, 1, 1, 3, 3, 3, 3, 3, 3, 3, 3, 3, 1, 1, 1, 2, 2, 2, 2, 1, 1, 2, 2, 1, 1, 1, 2, 1, 1, 2, 2, 1, 1, 2, 1, 2, 1, 1, 2, 1, 1, 1, 1, 2, 2, 2, 1, 1, 1, 1, 2, 1, 1, 2, 1, 1, 2, 2, 3, 3, 3, 3, 3, 3, 3, 3, 3, 3, 3, 3, 1, 2, 2, 1, 1, 2, 2, 2, 3, 3, 3, 3, 2, 4, 4, 2, 2, 4, 4, 4, 2, 2, 4, 2, 4, 2, 3, 2, 4, 1, 2, 2, 4, 3, 2, 2, 4, 4, 2, 2, 2, 1, 2, 1, 1, 2, 1, 1, 1, 4, 2, 2, 2, 2, 2, 2, 2, 1, 1, 1, 1, 1, 1, 1, 1, 3, 3, 3, 3, 3, 3, 3, 3, 3, 3, 3, 3, 3, 3, 3, 3, 1, 1, 3, 1, 2, 4, 4, 1, 2, 1, 1, 1, 1, 2, 2, 2, 2, 2, 2, 2, 2, 2, 1, 1, 1, 4, 3, 3, 4, 2, 4, 2, 4, 4, 3, 3, 3, 3, 3, 1, 3, 3, 3, 3, 3, 3, 3, 3, 2, 3, 1, 1, 2, 2, 4, 4, 1, 1, 1, 1, 1, 1, 2, 1, 1, 2, 4, 4, 2, 4, 4, 4, 2, 4, 4, 4, 2, 2, 1, 1, 2, 2, 1, 1, 1, 2, 1, 1, 1, 1, 1, 1, 3, 4, 3, 3, 3, 3, 3, 4, 3, 4, 3, 3, 3, 4, 2, 4, 3, 4, 2, 2, 4, 4, 2, 4, 4, 4, 2, 1, 1, 1, 1, 3, 3, 3, 3, 3, 3, 3, 3, 3, 1, 1, 1, 1, 1, 1, 1, 1, 1, 1, 1, 1, 1, 1, 1, 1, 1, 1, 1, 1, 1, 1, 2, 2, 1, 2, 1, 1, 2, 2, 2, 2, 2, 2, 1, 1, 1, 2, 2, 1, 2, 2, 3, 3, 3, 3, 2, 3, 3, 3, 3, 3, 2, 3, 3, 3, 2, 2, 2, 2, 2, 2, 3, 3, 3, 2, 2, 2, 3, 3, 3, 3, 3, 1, 1, 1, 3, 3, 3, 1, 3, 3, 2, 2, 2, 1, 2, 2, 2, 2, 1, 2, 1, 2, 3, 3, 3, 3, 3, 3, 3, 3, 1, 1, 2, 2, 1, 1, 1, 2, 1, 1, 1, 2, 2, 2, 1, 2, 3, 3, 3, 3, 3, 3, 3, 3, 3, 3, 3, 3, 3, 3, 3, 3, 3, 3, 3, 3, 3, 3, 3, 3, 3, 3, 3, 3, 3, 3, 3, 3, 3, 3, 3, 3, 2, 1, 1, 2, 1, 1, 2, 1, 1, 2, 1, 2, 1, 1, 1, 3, 3, 3, 3, 3, 1, 1, 4, 2, 1, 2, 1, 1, 1, 1, 1, 1, 1, 1, 1, 1, 1, 2, 2, 2, 2, 2, 1, 2, 2, 2, 2, 1, 2, 1, 3, 3, 3, 3, 3, 1, 1, 2, 3, 3, 1, 1, 1, 1, 2, 1, 1, 3, 4, 4, 4, 3, 3, 4, 1, 4, 1, 1, 1, 2, 2, 3, 1, 2, 2, 2, 2, 3, 3, 3, 3, 3, 3, 3, 3, 3, 3, 3, 3, 3, 3, 3, 3, 3, 3, 3, 3, 3, 3, 2, 2, 2, 2, 1, 1, 1, 1, 1, 1, 1, 1, 1, 1, 1, 1, 2, 2, 2, 2, 2, 2, 2, 2, 2, 3, 3, 3, 2, 1, 1, 1, 1, 1, 1, 1, 1, 1, 2, 2, 2, 2, 1, 1, 2, 1, 1, 1, 2, 2, 1, 1, 2, 2, 2, 2, 2, 1, 1, 1, 1, 1, 1, 1, 1, 1, 2, 2, 2, 2, 2, 2, 2, 2, 2, 2, 2, 2, 2, 2, 1, 2, 2, 2, 1, 2, 2, 1, 1, 1, 1, 3, 3, 3, 3, 3, 1, 3, 3, 3, 2, 3, 3, 3, 3, 3, 3, 3, 2, 3, 3, 3, 2, 2, 2, 3, 3, 3, 1, 1, 1, 1, 1, 1, 1, 1, 1, 1, 1, 1, 1, 1, 1, 1, 1, 1, 1, 1, 1, 1, 1, 1, 1, 1, 1, 1, 1, 1, 1, 1, 1, 1, 3, 3, 3, 3, 3, 3, 4, 2, 4, 2, 2, 2, 1, 1, 2, 2, 2, 1, 2, 2, 1, 1, 1, 2, 1, 1, 1, 2, 2, 2, 2, 2, 1, 1, 2, 1, 2, 2, 2, 2, 1, 1, 2, 1, 1, 1, 2, 2, 2, 1, 1, 2, 2, 2, 2, 1, 1, 2, 2, 2, 1, 1, 1, 1, 2, 1, 2, 2, 1, 1, 1, 1, 1, 1, 1, 1, 1, 1, 1, 1, 1, 1, 1, 1, 1, 1, 1, 3, 3, 3, 3, 2, 3, 3, 2, 2, 2, 1, 2, 2, 2, 2, 2, 2, 1, 2, 2, 2, 2, 1, 2, 3, 3, 3, 2, 3, 3, 3, 3, 3, 3, 2]\n",
      "12256\n"
     ]
    }
   ],
   "source": [
    "#Ici nous allons tagué les trajectoires par des ids chaque trajectoires différentes aura un id different \n",
    "# Pour ce faire à chaque fois que qu'un utilisateur change on incremente Id OU \n",
    "# à chaque fois que le mode de transport change on incrémente l'Id\n",
    "# ou que le temps entre deux points est jugé trop long entre l'enregistrement de 2 points successifs \n",
    "#(difTempsSec> valeur  ici on choisit 120 secondes ) on incrémente aussi l'Id\n",
    "#exemple : éviter que pour un meme utilisateur qui reprenne le meme mode \n",
    "# de transport le lendemain par lequelle il est arrivé l a veille soit consideré  comme une meme trajectoire\n",
    "\n",
    "\n",
    "\n",
    "\n",
    "# data analysis and wrangling\n",
    "import pandas as pd\n",
    "import numpy as np\n",
    "import random as rnd\n",
    "# visualization\n",
    "import seaborn as sns\n",
    "import matplotlib.pyplot as plt\n",
    "from pylab import *\n",
    "\n",
    "master_df = pd.read_csv('C:/Users/MyPC/Desktop/Projet Gps/ProjetBitbucket/Lab1.csv', encoding='latin-1')\n",
    "\n",
    "\n",
    "\n",
    "print(master_df.head())\n",
    "\n",
    "#on garde les variables qui nous interesse ..\n",
    "g= master_df[['sampno','longitude', 'latitude', 'altitude','speed', 'smooth','acceleration1000', 'acceleration','angle','moyenT','difTempsSec']]\n",
    "\n",
    "\n",
    "\n",
    "\n",
    "#IDS sera la liste contenant les id ,on initialise la valeur d'ID à 0 , et on ajoute 0 à IDS  pour une question d'indexage \n",
    "#dans la boucle \n",
    "IDS=[]\n",
    "ID=0\n",
    "IDS.append(0)\n",
    "for i in range(1, len(g)):\n",
    "    if g.sampno[i]!=g.sampno[i-1] or g.moyenT[i]!=g.moyenT[i-1] or g.difTempsSec[i]>120.0  :\n",
    "        \n",
    "        ID=ID+1\n",
    "    IDS.append(ID)\n",
    "\n",
    "\n",
    "g['Id']=IDS\n",
    "\n",
    "#on supprime les lignes qui ne sont pas tagué par un mode de transport \n",
    "g= g[g.moyenT != 0]\n",
    "\n",
    "#on enregistre \n",
    "g.to_csv('IDPartiel.csv', sep=',')\n",
    "\n",
    "\n",
    "\n",
    "\n",
    "#ON REAJUSTE ICI LES IDS , car on a supprimé tous les ligne  des trajectoires non tagué \n",
    "\n",
    "# data analysis and wrangling\n",
    "import pandas as pd\n",
    "import numpy as np\n",
    "import random as rnd\n",
    "\n",
    "# visualization\n",
    "import seaborn as sns\n",
    "import matplotlib.pyplot as plt\n",
    "\n",
    "\n",
    "\n",
    "from pylab import *\n",
    "\n",
    "g = pd.read_csv('C:/Users/MyPC/Desktop/Projet Gps/ProjetBitbucket/IDPartiel.csv', encoding='latin-1')\n",
    "\n",
    "# meme principe qu'avant  on reajuste juste ici les valeurs des index, qui seront contenue par la colonne Id1 de la base   \n",
    "# et on construit la liste y contenant la valeur  des classes \n",
    "IDS1=[]\n",
    "ID1=0\n",
    "IDS1.append(0)\n",
    "y11=[]\n",
    "y11.append(g.moyenT[0])\n",
    "\n",
    "\n",
    "for i in range(1, len(g)):\n",
    "    if g.Id[i]!=g.Id[i-1] :\n",
    "        \n",
    "        ID1=ID1+1\n",
    "        y11.append(g.moyenT[i])\n",
    "    IDS1.append(ID1)\n",
    "\n",
    "\n",
    "g['Id1']=IDS1\n",
    "#g=g.drop(['moyenT'], axis=1)\n",
    "\n",
    "print(len(y11))\n",
    "print(ID1)\n",
    "print(y11)\n",
    "\n",
    "g.to_csv('X.csv', sep=',')\n",
    "tabY=pd.DataFrame(np.array(y11))\n",
    "tabY.to_csv('y.csv', sep=',')\n",
    "\n",
    "print(len(g))\n",
    "\n",
    "\n",
    "\n"
   ]
  },
  {
   "cell_type": "code",
   "execution_count": 1,
   "metadata": {},
   "outputs": [
    {
     "name": "stderr",
     "output_type": "stream",
     "text": [
      "D:\\Programmes\\Anaconda2\\lib\\site-packages\\statsmodels\\compat\\pandas.py:56: FutureWarning: The pandas.core.datetools module is deprecated and will be removed in a future version. Please use the pandas.tseries module instead.\n",
      "  from pandas.core import datetools\n",
      "D:\\Programmes\\Anaconda2\\lib\\site-packages\\sklearn\\cross_validation.py:41: DeprecationWarning: This module was deprecated in version 0.18 in favor of the model_selection module into which all the refactored classes and functions are moved. Also note that the interface of the new CV iterators are different from that of this module. This module will be removed in 0.20.\n",
      "  \"This module will be removed in 0.20.\", DeprecationWarning)\n"
     ]
    },
    {
     "data": {
      "image/png": "[encoded data removed]",
      "text/plain": [
       "<matplotlib.figure.Figure at 0x129c89acb38>"
      ]
     },
     "metadata": {},
     "output_type": "display_data"
    }
   ],
   "source": [
    "#test accuracy du modele \n",
    "\n",
    "\n",
    "# data analysis and wrangling\n",
    "import pandas as pd\n",
    "import numpy as np\n",
    "import random as rnd\n",
    "\n",
    "# visualization\n",
    "import seaborn as sns\n",
    "import matplotlib.pyplot as plt\n",
    "\n",
    "import tsfresh\n",
    "from tsfresh import extract_features\n",
    "from tsfresh import select_features\n",
    "from tsfresh.utilities.dataframe_functions import impute\n",
    "\n",
    "from tsfresh.feature_extraction import MinimalFCParameters\n",
    "\n",
    "#from tsfresh.feature_extraction import FeatureExtractionSettings\n",
    "from tsfresh.feature_extraction import extract_features\n",
    "from tsfresh.feature_extraction import extract_features\n",
    "\n",
    "from sklearn.cross_validation import train_test_split\n",
    "\n",
    "from sklearn import datasets, linear_model\n",
    "from sklearn.model_selection import train_test_split\n",
    "from matplotlib import pyplot as plt\n",
    "from sklearn.linear_model import LogisticRegression\n",
    "from sklearn.svm import SVC, LinearSVC\n",
    "from sklearn.ensemble import RandomForestClassifier\n",
    "from sklearn.neighbors import KNeighborsClassifier\n",
    "from sklearn.naive_bayes import GaussianNB\n",
    "from sklearn.linear_model import Perceptron\n",
    "from sklearn.linear_model import SGDClassifier\n",
    "from sklearn.tree import DecisionTreeClassifier\n",
    "from pylab import *\n",
    "\n",
    "df_1 = pd.read_csv('C:/Users/MyPC/Desktop/Projet Gps/ProjetBitbucket/X.csv')\n",
    "df_2 = pd.read_csv('C:/Users/MyPC/Desktop/Projet Gps/ProjetBitbucket/y.csv')\n",
    "\n",
    "### finalement le feature des variation angulaire sur les trajectoires se revelle benefique \n",
    "df_1= df_1[['speed',  'acceleration','angle','smooth','Id1','longitude', 'latitude', 'difTempsSec', 'moyenT']]\n",
    "#df_1 = df_1[np.isfinite(df_1['acceleration'])]\n",
    "### on affiche\n",
    "#print(df_1)\n",
    "#print(len(df_2))\n",
    "corrmat = df_1.corr()\n",
    "f, ax = plt.subplots(figsize=(12, 9))\n",
    "sns.heatmap(corrmat, vmax=.8, square=True);\n",
    "plt.show()\n"
   ]
  },
  {
   "cell_type": "code",
   "execution_count": 4,
   "metadata": {},
   "outputs": [
    {
     "name": "stderr",
     "output_type": "stream",
     "text": [
      "Feature Extraction: 100%|██████████████████████████████████████████████████████████████| 10/10 [00:01<00:00,  5.18it/s]\n",
      "Feature Extraction: 100%|██████████████████████████████████████████████████████████████| 10/10 [00:01<00:00,  5.55it/s]\n"
     ]
    },
    {
     "name": "stdout",
     "output_type": "stream",
     "text": [
      "0  iterations\n"
     ]
    },
    {
     "name": "stderr",
     "output_type": "stream",
     "text": [
      "Feature Extraction: 100%|██████████████████████████████████████████████████████████████| 10/10 [00:01<00:00,  5.59it/s]\n"
     ]
    },
    {
     "name": "stdout",
     "output_type": "stream",
     "text": [
      "1  iterations\n"
     ]
    },
    {
     "name": "stderr",
     "output_type": "stream",
     "text": [
      "Feature Extraction: 100%|██████████████████████████████████████████████████████████████| 10/10 [00:01<00:00,  5.56it/s]\n"
     ]
    },
    {
     "name": "stdout",
     "output_type": "stream",
     "text": [
      "2  iterations\n"
     ]
    },
    {
     "name": "stderr",
     "output_type": "stream",
     "text": [
      "Feature Extraction: 100%|██████████████████████████████████████████████████████████████| 10/10 [00:01<00:00,  5.59it/s]\n"
     ]
    },
    {
     "name": "stdout",
     "output_type": "stream",
     "text": [
      "3  iterations\n"
     ]
    },
    {
     "name": "stderr",
     "output_type": "stream",
     "text": [
      "Feature Extraction: 100%|██████████████████████████████████████████████████████████████| 10/10 [00:01<00:00,  5.59it/s]\n"
     ]
    },
    {
     "name": "stdout",
     "output_type": "stream",
     "text": [
      "4  iterations\n"
     ]
    },
    {
     "name": "stderr",
     "output_type": "stream",
     "text": [
      "Feature Extraction: 100%|██████████████████████████████████████████████████████████████| 10/10 [00:01<00:00,  5.60it/s]\n"
     ]
    },
    {
     "name": "stdout",
     "output_type": "stream",
     "text": [
      "5  iterations\n"
     ]
    },
    {
     "name": "stderr",
     "output_type": "stream",
     "text": [
      "Feature Extraction: 100%|██████████████████████████████████████████████████████████████| 10/10 [00:01<00:00,  5.62it/s]\n"
     ]
    },
    {
     "name": "stdout",
     "output_type": "stream",
     "text": [
      "6  iterations\n"
     ]
    },
    {
     "name": "stderr",
     "output_type": "stream",
     "text": [
      "Feature Extraction: 100%|██████████████████████████████████████████████████████████████| 10/10 [00:01<00:00,  5.53it/s]\n"
     ]
    },
    {
     "name": "stdout",
     "output_type": "stream",
     "text": [
      "7  iterations\n"
     ]
    },
    {
     "name": "stderr",
     "output_type": "stream",
     "text": [
      "Feature Extraction: 100%|██████████████████████████████████████████████████████████████| 10/10 [00:01<00:00,  5.56it/s]\n"
     ]
    },
    {
     "name": "stdout",
     "output_type": "stream",
     "text": [
      "8  iterations\n"
     ]
    },
    {
     "name": "stderr",
     "output_type": "stream",
     "text": [
      "Feature Extraction: 100%|██████████████████████████████████████████████████████████████| 10/10 [00:01<00:00,  5.61it/s]\n"
     ]
    },
    {
     "name": "stdout",
     "output_type": "stream",
     "text": [
      "9  iterations\n"
     ]
    },
    {
     "data": {
      "image/png": "[encoded data removed]",
      "text/plain": [
       "<matplotlib.figure.Figure at 0x20a9b5cd390>"
      ]
     },
     "metadata": {},
     "output_type": "display_data"
    }
   ],
   "source": [
    "df_test = df_1[np.isfinite(df_1['acceleration'])]\n",
    "#df_test =df_test[['speed',  'acceleration','angle','smooth','Id1' ]]\n",
    "\n",
    "df_test =df_test[['speed','acceleration','smooth' , 'Id1' ]]\n",
    "X = extract_features(df_test, column_id=\"Id1\", default_fc_parameters=MinimalFCParameters())\n",
    "\n",
    "\n",
    "listAcc= []\n",
    "listeInd=[]\n",
    "\n",
    "for j in range(0,10): \n",
    "    X = extract_features(df_test, column_id=\"Id1\", default_fc_parameters=MinimalFCParameters())\n",
    "    print(j , \" iterations\")\n",
    "\n",
    "    ### on fait une liste correspondant à tous les numeros d'id existant 2304 et non 2303 car 1er id=0\n",
    "    y= list(df_2.iloc[:,1])\n",
    "\n",
    "\n",
    "\n",
    "    ### on creer un echatillon train 80% et test 20% \n",
    "    X_train,X_test,y_train,y_test = train_test_split(X,y,test_size=0.1)\n",
    "   \n",
    "    for i in range(2,40):\n",
    "    ### k plus proche voisins \n",
    "        knn = KNeighborsClassifier(n_neighbors =i)\n",
    "        knn.fit(X_train, y_train)\n",
    "        Y_pred = knn.predict(X_test)\n",
    "        \n",
    "        listAcc.append((Y_pred==y_test).mean())\n",
    "        \n",
    "        listeInd.append(i)\n",
    "    \n",
    "plot(listeInd, listAcc,'bo')\n",
    "plt.show()\n",
    "\n"
   ]
  },
  {
   "cell_type": "code",
   "execution_count": 6,
   "metadata": {},
   "outputs": [
    {
     "name": "stdout",
     "output_type": "stream",
     "text": [
      "Voiture :vitesse moyenne :  10.260296295012957  vitesse mediane:  8.10000038146973\n",
      "Marche: vitesse moyenne :  7.442861394199991  vitesse mediane:  3.70000004768372\n",
      "Bus: vitesse moyenne :  9.008952801407386  vitesse mediane:  6.599999904632571\n",
      "RER: vitesse moyenne :  20.338008653137074  vitesse mediane:  10.3000001907349\n",
      "Voiture :acceleration moyenne :  0.17253417410722818  acceleration mediane:  0.0945200424194362\n",
      "Marche: acceleration moyenne :  0.1162157933471251  acceleration mediane:  0.038920002651214286\n",
      "Bus: acceleration moyenne :  0.15752700817129123  acceeleration mediane:  0.07783997879027922\n",
      "RER: acceleration moyenne :  0.14137304862765526  acceleration mediane:  0.0556\n",
      "\n",
      " vitesse km voiutre\n"
     ]
    },
    {
     "data": {
      "image/png": "[encoded data removed]",
      "text/plain": [
       "<matplotlib.figure.Figure at 0x129ca5ab0b8>"
      ]
     },
     "metadata": {},
     "output_type": "display_data"
    },
    {
     "name": "stdout",
     "output_type": "stream",
     "text": [
      "vitesse km marche\n"
     ]
    },
    {
     "data": {
      "image/png": "[encoded data removed]",
      "text/plain": [
       "<matplotlib.figure.Figure at 0x129ca469e80>"
      ]
     },
     "metadata": {},
     "output_type": "display_data"
    },
    {
     "name": "stdout",
     "output_type": "stream",
     "text": [
      "bus\n"
     ]
    },
    {
     "data": {
      "image/png": "[encoded data removed]",
      "text/plain": [
       "<matplotlib.figure.Figure at 0x129ca5e32e8>"
      ]
     },
     "metadata": {},
     "output_type": "display_data"
    },
    {
     "name": "stdout",
     "output_type": "stream",
     "text": [
      "rer\n"
     ]
    },
    {
     "data": {
      "image/png": "[encoded data removed]",
      "text/plain": [
       "<matplotlib.figure.Figure at 0x129cb5c7208>"
      ]
     },
     "metadata": {},
     "output_type": "display_data"
    }
   ],
   "source": [
    "#on constate à l'aide du schéma qu il y a des valeurs pas cohérentes , ex vitesse marche >30km , du à une mauvaise \n",
    "#labelisation , ex: on a tagué marche avec Residence, certains mette ce taggue pour signaler qu ils sont chez eux et \n",
    "# donc à pied , d'autres pour signaler qu il rentre chez eux\n",
    "# met critère appliquer précedement pour déduire les classes marchent assez bien car globlamenet \n",
    "# vitesse moyenne et mediane semble cohérentes \n",
    "# nécessiter de mettre filtre de vitesse sur marche pour vitesse max , et vitesse min pour rer afin de capter le mouvement \n",
    "# la pluspart des confusion comme en témoigne la matrice de confusion on lieu avec la marche , car certains utilisateur signale \n",
    "#rer quand ils attendent le rer \n",
    "\n",
    "\n",
    "\n",
    "df_voiture= df_1[df_1.moyenT==1]\n",
    "df_marche= df_1[df_1.moyenT==2]\n",
    "df_bus= df_1[df_1.moyenT==3]\n",
    "df_rer= df_1[df_1.moyenT==4]\n",
    "print(\"Voiture :vitesse moyenne : \",df_voiture.speed.mean(), \" vitesse mediane: \", df_voiture.speed.median())\n",
    "print(\"Marche: vitesse moyenne : \",df_marche.speed.mean(),  \" vitesse mediane: \", df_marche.speed.median())\n",
    "print(\"Bus: vitesse moyenne : \",df_bus.speed.mean(),   \" vitesse mediane: \", df_bus.speed.median())\n",
    "print(\"RER: vitesse moyenne : \",df_rer.speed.mean(),  \" vitesse mediane: \", df_rer.speed.median())\n",
    "\n",
    "print(\"Voiture :acceleration moyenne : \",np.absolute(df_voiture.acceleration).mean(), \" acceleration mediane: \", np.absolute(df_voiture.acceleration).median())\n",
    "print(\"Marche: acceleration moyenne : \",np.absolute(df_marche.acceleration).mean(),  \" acceleration mediane: \", np.absolute(df_marche.acceleration).median())\n",
    "print(\"Bus: acceleration moyenne : \",np.absolute(df_bus.acceleration).mean(),   \" acceeleration mediane: \", np.absolute(df_bus.acceleration).median())\n",
    "print(\"RER: acceleration moyenne : \",np.absolute(df_rer.acceleration).mean(),  \" acceleration mediane: \", np.absolute(df_rer.acceleration).median())\n",
    "\n",
    "\n",
    "print('\\n vitesse km voiutre')\n",
    "plot(df_voiture.speed)\n",
    "plt.show()\n",
    "print('vitesse km marche')\n",
    "plot(df_marche.speed)\n",
    "plt.show()\n",
    "print('bus')\n",
    "plot(df_bus.speed)\n",
    "plt.show()\n",
    "print('rer')\n",
    "plot(df_rer.speed)\n",
    "plt.show()"
   ]
  },
  {
   "cell_type": "code",
   "execution_count": 7,
   "metadata": {},
   "outputs": [
    {
     "name": "stdout",
     "output_type": "stream",
     "text": [
      "vitesse km voiture\n"
     ]
    },
    {
     "data": {
      "image/png": "[encoded data removed]",
      "text/plain": [
       "<matplotlib.figure.Figure at 0x129ca495e48>"
      ]
     },
     "metadata": {},
     "output_type": "display_data"
    },
    {
     "name": "stdout",
     "output_type": "stream",
     "text": [
      "vitesse km marche\n"
     ]
    },
    {
     "data": {
      "image/png": "[encoded data removed]",
      "text/plain": [
       "<matplotlib.figure.Figure at 0x129c90d69e8>"
      ]
     },
     "metadata": {},
     "output_type": "display_data"
    },
    {
     "name": "stdout",
     "output_type": "stream",
     "text": [
      "bus\n"
     ]
    },
    {
     "data": {
      "image/png": "[encoded data removed]",
      "text/plain": [
       "<matplotlib.figure.Figure at 0x129ca4507f0>"
      ]
     },
     "metadata": {},
     "output_type": "display_data"
    },
    {
     "name": "stdout",
     "output_type": "stream",
     "text": [
      "rer\n"
     ]
    },
    {
     "data": {
      "image/png": "[encoded data removed]",
      "text/plain": [
       "<matplotlib.figure.Figure at 0x129c90b0cc0>"
      ]
     },
     "metadata": {},
     "output_type": "display_data"
    },
    {
     "name": "stdout",
     "output_type": "stream",
     "text": [
      "Voiture :vitesse moyenne :  12.352791717988783  vitesse mediane:  10.6999998092651\n",
      "Marche: vitesse moyenne :  3.436936535929173  vitesse mediane:  2.9000000953674303\n",
      "Bus: vitesse moyenne :  11.248121133384718  vitesse mediane:  9.89999961853027\n",
      "RER: vitesse moyenne :  32.88749999588444  vitesse mediane:  31.5\n",
      "Voiture :acceleration moyenne :  0.20188398267119154  acceleration mediane:  0.1445599416732759\n",
      "Marche: acceleration moyenne :  0.07499427858840836  acceleration mediane:  0.02038666489919012\n",
      "Bus: acceleration moyenne :  0.19279331283595358  acceeleration mediane:  0.12788001060485826\n",
      "RER: acceleration moyenne :  0.2096472526386161  acceleration mediane:  0.1779199893951423\n"
     ]
    }
   ],
   "source": [
    "df_voitureM= df_voiture[df_voiture.speed>3]\n",
    "df_marcheM= df_marche[df_marche.speed<8]\n",
    "df_busM= df_bus[df_bus.speed>3]\n",
    "df_rerM= df_rer[df_rer.speed>5]\n",
    "print('vitesse km voiture')\n",
    "plot(df_voitureM.speed)\n",
    "plt.show()\n",
    "print('vitesse km marche')\n",
    "plot(df_marcheM.speed)\n",
    "plt.show()\n",
    "print('bus')\n",
    "plot(df_busM.speed)\n",
    "plt.show()\n",
    "print('rer')\n",
    "plot(df_rerM.speed)\n",
    "plt.show()\n",
    "print(\"Voiture :vitesse moyenne : \",df_voitureM.speed.mean(), \" vitesse mediane: \", df_voitureM.speed.median())\n",
    "print(\"Marche: vitesse moyenne : \",df_marcheM.speed.mean(),  \" vitesse mediane: \", df_marcheM.speed.median())\n",
    "print(\"Bus: vitesse moyenne : \",df_busM.speed.mean(),   \" vitesse mediane: \", df_busM.speed.median())\n",
    "print(\"RER: vitesse moyenne : \",df_rerM.speed.mean(),  \" vitesse mediane: \", df_rerM.speed.median())\n",
    "\n",
    "\n",
    "print(\"Voiture :acceleration moyenne : \",np.absolute(df_voitureM.acceleration).mean(), \" acceleration mediane: \", np.absolute(df_voitureM.acceleration).median())\n",
    "print(\"Marche: acceleration moyenne : \",np.absolute(df_marcheM.acceleration).mean(),  \" acceleration mediane: \", np.absolute(df_marcheM.acceleration).median())\n",
    "print(\"Bus: acceleration moyenne : \",np.absolute(df_busM.acceleration).mean(),   \" acceeleration mediane: \", np.absolute(df_busM.acceleration).median())\n",
    "print(\"RER: acceleration moyenne : \",np.absolute(df_rerM.acceleration).mean(),  \" acceleration mediane: \", np.absolute(df_rerM.acceleration).median())"
   ]
  },
  {
   "cell_type": "code",
   "execution_count": 20,
   "metadata": {},
   "outputs": [
    {
     "data": {
      "image/png": "[encoded data removed]",
      "text/plain": [
       "<matplotlib.figure.Figure at 0x20a9aae1358>"
      ]
     },
     "metadata": {},
     "output_type": "display_data"
    }
   ],
   "source": [
    "\n",
    "listedf=[df_voitureM,df_marcheM,df_busM,df_rerM]\n",
    "ModifVit= pd.concat(listedf , ignore_index=True)\n",
    "\n",
    "corrmat = ModifVit.corr()\n",
    "f, ax = plt.subplots(figsize=(12, 9))\n",
    "sns.heatmap(corrmat, vmax=.8, square=True);\n",
    "plt.show()\n"
   ]
  },
  {
   "cell_type": "code",
   "execution_count": 82,
   "metadata": {},
   "outputs": [
    {
     "name": "stdout",
     "output_type": "stream",
     "text": [
      "Using matplotlib backend: Qt5Agg\n",
      "Confusion matrix, without normalization\n",
      "[[24 32 21  1  0]\n",
      " [13 50 12  0  0]\n",
      " [14 18 15  0  0]\n",
      " [ 9 16  2  1  0]\n",
      " [ 0  1  0  0  0]]\n",
      "Normalized confusion matrix\n",
      "[[ 0.31  0.41  0.27  0.01  0.  ]\n",
      " [ 0.17  0.67  0.16  0.    0.  ]\n",
      " [ 0.3   0.38  0.32  0.    0.  ]\n",
      " [ 0.32  0.57  0.07  0.04  0.  ]\n",
      " [ 0.    1.    0.    0.    0.  ]]\n"
     ]
    }
   ],
   "source": [
    "import itertools\n",
    "%matplotlib\n",
    "import numpy as np\n",
    "import matplotlib.pyplot as plt\n",
    "\n",
    "from sklearn import svm, datasets\n",
    "from sklearn.model_selection import train_test_split\n",
    "from sklearn.metrics import confusion_matrix\n",
    "\n",
    "y_test = y_test\n",
    "y_pred = Y_pred\n",
    "\n",
    "\n",
    "def plot_confusion_matrix(cm, classes,\n",
    "                          normalize=False,\n",
    "                          title='Confusion matrix',\n",
    "                          cmap=plt.cm.Blues):\n",
    "    \"\"\"\n",
    "    This function prints and plots the confusion matrix.\n",
    "    Normalization can be applied by setting `normalize=True`.\n",
    "    \"\"\"\n",
    "    if normalize:\n",
    "        cm = cm.astype('float') / cm.sum(axis=1)[:, np.newaxis]\n",
    "        print(\"Normalized confusion matrix\")\n",
    "    else:\n",
    "        print('Confusion matrix, without normalization')\n",
    "\n",
    "    print(cm)\n",
    "\n",
    "    plt.imshow(cm, interpolation='nearest', cmap=cmap)\n",
    "    plt.title(title)\n",
    "    plt.colorbar()\n",
    "    tick_marks = np.arange(len(classes))\n",
    "    plt.xticks(tick_marks, classes, rotation=45)\n",
    "    plt.yticks(tick_marks, classes)\n",
    "\n",
    "    fmt = '.2f' if normalize else 'd'\n",
    "    thresh = cm.max() / 2.\n",
    "    for i, j in itertools.product(range(cm.shape[0]), range(cm.shape[1])):\n",
    "        plt.text(j, i, format(cm[i, j], fmt),\n",
    "                 horizontalalignment=\"center\",\n",
    "                 color=\"white\" if cm[i, j] > thresh else \"black\")\n",
    "\n",
    "    plt.tight_layout()\n",
    "    plt.ylabel('True label')\n",
    "    plt.xlabel('Predicted label')\n",
    "\n",
    "# Compute confusion matrix\n",
    "cnf_matrix = confusion_matrix(y_test, y_pred)\n",
    "np.set_printoptions(precision=2)\n",
    "\n",
    "# Plot non-normalized confusion matrix\n",
    "plt.figure()\n",
    "plot_confusion_matrix(cnf_matrix, classes=['voiture', 'marche', 'bus', 'rer'],\n",
    "                      title='Confusion matrix, without normalization')\n",
    "\n",
    "# Plot normalized confusion matrix\n",
    "plt.figure()\n",
    "plot_confusion_matrix(cnf_matrix, classes=['voiture', 'marche', 'bus', 'rer'], normalize=True,\n",
    "                      title='Normalized confusion matrix')\n",
    "\n",
    "plt.show()"
   ]
  },
  {
   "cell_type": "code",
   "execution_count": 2,
   "metadata": {
    "collapsed": true
   },
   "outputs": [],
   "source": [
    "Arret = pd.read_csv('C:/Users/MyPC/Desktop/Projet Gps/positions-geographiques-des-stations-du-reseau-ratp.csv', sep=';')"
   ]
  },
  {
   "cell_type": "code",
   "execution_count": 3,
   "metadata": {
    "collapsed": true
   },
   "outputs": [],
   "source": [
    "Arret =Arret[Arret.stop_lat!=0]\n",
    "Arret =Arret[Arret.stop_lon!=0]\n"
   ]
  },
  {
   "cell_type": "code",
   "execution_count": 4,
   "metadata": {
    "collapsed": true
   },
   "outputs": [],
   "source": [
    "#Gerer erreur gps , choisir un perimetre de 20 mètre autour de l'arret, le but va etre ensuite de déterminer si trajectoire \n",
    "# à commencer et terminer par un arret (donc dans l'intervalle de valeur que l'on va calculer ) \n",
    "#si oui varaible positive,on commence sans distinction de type d'arret on affinera \n",
    "# selon le mode de transport de l'arrêt  si peu de précision\n",
    "#formule utilisée : https://knowledge.safe.com/articles/725/calculating-accurate-length-in-meters-for-lat-long.html\n",
    "#formule utilisée : https://knowledge.safe.com/articles/725/calculating-accurate-length-in-meters-for-lat-long.html\n",
    "Arret['Lat1']=0\n",
    "Arret['Lat2']=0\n",
    "Arret['Lon1']=0\n",
    "Arret['Lon2']=0\n",
    "\n",
    "for i in range (0 , len(Arret)):\n",
    "    Arret.loc[i,'Lat1']=Arret.loc[i,'stop_lat']-0.0000899*2  #0.0000899 correspond à 10 metre en latitude  \n",
    "    Arret.loc[i,'Lat2']=Arret.loc[i,'stop_lat']+0.0000899*2\n",
    "    Arret.loc[i,'Lon1']=Arret.loc[i,'stop_lon']-0.000139*2 #0.000139 correspond à 10 mètres en longitude \n",
    "    Arret.loc[i,'Lon2']=Arret.loc[i,'stop_lon']+0.000139*2"
   ]
  },
  {
   "cell_type": "code",
   "execution_count": 7,
   "metadata": {},
   "outputs": [
    {
     "data": {
      "text/plain": [
       "stop_id                                2158\n",
       "stop_name                     Achères-Ville\n",
       "stop_desc        Avenue de Conflans - 78005\n",
       "coord          48.9700771763, 2.07761818201\n",
       "stop_lat                            48.9701\n",
       "stop_lon                            2.07762\n",
       "code_INSEE                            78005\n",
       "departement                              78\n",
       "Lat1                                48.9699\n",
       "Lat2                                48.9703\n",
       "Lon1                                2.07734\n",
       "Lon2                                 2.0779\n",
       "Name: 0, dtype: object"
      ]
     },
     "execution_count": 7,
     "metadata": {},
     "output_type": "execute_result"
    }
   ],
   "source": [
    "Arret.iloc[0]"
   ]
  },
  {
   "cell_type": "code",
   "execution_count": 10,
   "metadata": {},
   "outputs": [
    {
     "name": "stdout",
     "output_type": "stream",
     "text": [
      "12256\n"
     ]
    }
   ],
   "source": [
    "#Arret.to_csv('Arret.csv', sep=';')\n",
    "print(len(df_3))\n"
   ]
  },
  {
   "cell_type": "code",
   "execution_count": null,
   "metadata": {
    "collapsed": true
   },
   "outputs": [],
   "source": [
    "# faire la jointure entre la base X contenant les trajectoires differentes (Id differents)\n",
    "# jointure si longitude et latitude son dans intervalle de valeur definit par Arret[lon1] Arret[lon2] et Arret[lat1] Arret[lat2]\n",
    "#testé début et fin si dans intervalle coordonnées gps, si oui variable 'DebFin' =1\n",
    "df_1['DebFin']=0\n",
    "NombreId= df_1['Id'].count()\n",
    "for i in range(0, NombreId-1):\n",
    "   \n",
    "    baseT= df_1[df_1.Id==i  ]\n",
    "    \n",
    "    longueurT= len(baseT)\n",
    "    #si premier et dernier element compris dans intervalle \n",
    "    for el in range(0, len(Arret)):\n",
    "        if baseT.longitude[0]<=Arret.Lon2 and baseT.longitude[0]>=Arret.Lon1 and  baseT.Latitude[0]>=Arret.lat1 and baseT.atitude[0]<=Arret.lat2:\n",
    "            \n",
    "            for j in range(0 ,longeurT)\n",
    "            #derniere ligne \n",
    "                firstLine=BaseT.longitude\n",
    "                lastLine=baseT.irow(slice(-1, None))\n",
    "\n",
    "\n"
   ]
  },
  {
   "cell_type": "code",
   "execution_count": 26,
   "metadata": {},
   "outputs": [
    {
     "data": {
      "text/plain": [
       "5025    48.856519\n",
       "5026    48.849845\n",
       "5027    48.848376\n",
       "5028    48.847171\n",
       "5029    48.850171\n",
       "5030    48.853152\n",
       "5031    48.857446\n",
       "5032    48.835654\n",
       "5033    48.835327\n",
       "5034    48.834278\n",
       "Name: Lat2, dtype: float64"
      ]
     },
     "execution_count": 26,
     "metadata": {},
     "output_type": "execute_result"
    }
   ],
   "source": [
    "Arret.Lon2[5030]\n",
    "len(Arret)\n",
    "df_1.latitude[5029]\n",
    "len(df_1)\n",
    "Arret.Lon1[5025:5035]\n",
    "Arret.Lat1[5025:5035]\n",
    "Arret.Lon2[5025:5035]\n",
    "Arret.Lat2[5025:5035]"
   ]
  },
  {
   "cell_type": "code",
   "execution_count": 5,
   "metadata": {
    "collapsed": true
   },
   "outputs": [],
   "source": [
    "df_1['DebFin']=0\n",
    "for i in range(0, len(df_1)):\n",
    "    \n",
    "    for j in range(0 ,len(Arret)):\n",
    "        if df_1.longitude[i]<= Arret.Lon2[j] and df_1.longitude[i]>= Arret.Lon1[j]  and df_1.latitude[i]>= Arret.Lat1[j] and df_1.latitude[i]<= Arret.Lat2[j]:\n",
    "            df_1.loc[i,'DebFin'] =1\n",
    "            break\n",
    "        "
   ]
  },
  {
   "cell_type": "code",
   "execution_count": 7,
   "metadata": {},
   "outputs": [
    {
     "name": "stdout",
     "output_type": "stream",
     "text": [
      "   speed  acceleration       angle     smooth  Id1  longitude   latitude  \\\n",
      "0   12.2     -0.077840  186.275472  13.600000    0   2.078366  48.992353   \n",
      "1   13.3      0.061160  186.287040  13.033333    0   2.078768  48.992389   \n",
      "2   10.5     -0.155680  186.299391  12.000000    0   2.079054  48.992354   \n",
      "3    2.5     -0.444800  186.308093   8.766667    0   2.079243  48.992364   \n",
      "4    2.7      0.003336  186.322297   2.300000    1   2.079572  48.992414   \n",
      "\n",
      "   DebFin  \n",
      "0       0  \n",
      "1       0  \n",
      "2       0  \n",
      "3       0  \n",
      "4       0  \n"
     ]
    }
   ],
   "source": [
    "#df_1.to_csv('Xarr.csv', sep=',')\n",
    "print(df_1.head())"
   ]
  },
  {
   "cell_type": "code",
   "execution_count": 2,
   "metadata": {},
   "outputs": [
    {
     "name": "stdout",
     "output_type": "stream",
     "text": [
      "   Unnamed: 0  speed  acceleration       angle     smooth  Id1  longitude  \\\n",
      "0           0   12.2     -0.077840  186.275472  13.600000    0   2.078366   \n",
      "1           1   13.3      0.061160  186.287040  13.033333    0   2.078768   \n",
      "2           2   10.5     -0.155680  186.299391  12.000000    0   2.079054   \n",
      "3           3    2.5     -0.444800  186.308093   8.766667    0   2.079243   \n",
      "4           4    2.7      0.003336  186.322297   2.300000    1   2.079572   \n",
      "\n",
      "    latitude  DebFin  \n",
      "0  48.992353       0  \n",
      "1  48.992389       0  \n",
      "2  48.992354       0  \n",
      "3  48.992364       0  \n",
      "4  48.992414       0  \n"
     ]
    }
   ],
   "source": [
    "df_3=pd.read_csv('C:/Users/MyPC/Desktop/Projet Gps/ProjetBitbucket/Xarr.csv', sep=',')\n",
    "print(df_3.head())\n"
   ]
  },
  {
   "cell_type": "code",
   "execution_count": 3,
   "metadata": {
    "collapsed": true
   },
   "outputs": [],
   "source": [
    "#Voir distance parcourues sur les trajectoires, savoir si l'utilsateur fais du surplace , peut déterminer des temps d'attentes\n",
    "# / des comportements spécifiques aux utilisateusrs \n",
    "df_3['Distance2points']=0\n",
    "df_3['DifLat']=0\n",
    "df_3['DifLon']=0\n",
    "\n",
    "for i in range(1, len(df_3)):\n",
    "    if df_3.loc[i, 'Id1']== df_3.loc[i-1, 'Id1']:\n",
    "        \n",
    "        df_3.loc[i, 'DifLat']=df_3.loc[i, 'latitude']- df_3.loc[i-1, 'latitude']\n",
    "        df_3.loc[i, 'DifLon']=df_3.loc[i, 'longitude']- df_3.loc[i-1, 'longitude']\n",
    "    else:\n",
    "        \n",
    "        df_3.loc[i, 'DifLat']=0\n",
    "        df_3.loc[i, 'DifLon']=0\n",
    "        \n",
    "\n",
    "\n",
    "# on garde la valeur absolue des différences \n",
    "import numpy as np\n",
    "df_3.DifLat=np.abs(df_3.DifLat)\n",
    "df_3.DifLon=np.abs(df_3.DifLon)\n",
    "\n",
    "#on covertit en distance km \n",
    "\n",
    "df_3['DifLatKm']=df_3['DifLat']/0.00899\n",
    "df_3['DifLonKm']=df_3['DifLon']/0.0139\n",
    "\n",
    "df_3['Distance2points']=np.sqrt(np.power(df_3['DifLatKm'],2)+np.power(df_3['DifLonKm'],2))\n",
    "\n",
    "           \n",
    "    \n",
    "    \n",
    "    "
   ]
  },
  {
   "cell_type": "code",
   "execution_count": 4,
   "metadata": {
    "collapsed": true
   },
   "outputs": [],
   "source": [
    "df_3.loc[:,'difTempsSec'] =df_1.loc[:, 'difTempsSec']"
   ]
  },
  {
   "cell_type": "code",
   "execution_count": 5,
   "metadata": {},
   "outputs": [
    {
     "name": "stdout",
     "output_type": "stream",
     "text": [
      "   Unnamed: 0  speed  acceleration       angle     smooth  Id1  longitude  \\\n",
      "0           0   12.2     -0.077840  186.275472  13.600000    0   2.078366   \n",
      "1           1   13.3      0.061160  186.287040  13.033333    0   2.078768   \n",
      "2           2   10.5     -0.155680  186.299391  12.000000    0   2.079054   \n",
      "3           3    2.5     -0.444800  186.308093   8.766667    0   2.079243   \n",
      "4           4    2.7      0.003336  186.322297   2.300000    1   2.079572   \n",
      "\n",
      "    latitude  DebFin  Distance2points    DifLat    DifLon  DifLatKm  DifLonKm  \\\n",
      "0  48.992353       0         0.000000  0.000000  0.000000  0.000000  0.000000   \n",
      "1  48.992389       0         0.029197  0.000036  0.000402  0.004004  0.028921   \n",
      "2  48.992354       0         0.020941  0.000035  0.000286  0.003893  0.020576   \n",
      "3  48.992364       0         0.013643  0.000010  0.000189  0.001112  0.013597   \n",
      "4  48.992414       0         0.000000  0.000000  0.000000  0.000000  0.000000   \n",
      "\n",
      "   difTempsSec  difTempsHeure  vitesseMoyenne  \n",
      "0          5.0       0.001389        0.000000  \n",
      "1          5.0       0.001389       20.823022  \n",
      "2          5.0       0.001389       14.814388  \n",
      "3          5.0       0.001389        9.789928  \n",
      "4         50.0       0.013889        0.000000  \n"
     ]
    }
   ],
   "source": [
    "df_3['difTempsHeure']=0\n",
    "df_3['difTempsHeure']= df_3['difTempsSec']/3600\n",
    "df_3['vitesseMoyenne']=0\n",
    "df_3['vitesseMoyenne']=df_3['DifLonKm']/df_3['difTempsHeure']\n",
    "print(df_3.head())"
   ]
  },
  {
   "cell_type": "code",
   "execution_count": 6,
   "metadata": {},
   "outputs": [
    {
     "name": "stdout",
     "output_type": "stream",
     "text": [
      "2290\n"
     ]
    }
   ],
   "source": [
    "df_3['VitesseTraj']=0\n",
    "NombreId=2290\n",
    "print(NombreId)\n",
    "taille =0\n",
    "listeVit=[]\n",
    "for i in range(0, NombreId-1):\n",
    "   \n",
    "    baseT= df_3[df_3.Id1==i  ]\n",
    "    \n",
    "    longueurT= len(baseT)\n",
    "    debLon=baseT.loc[i+ taille, 'longitude']\n",
    "    debLat=baseT.loc[i+taille, 'latitude']\n",
    "    \n",
    "    taille= taille +len(baseT)-1\n",
    "    \n",
    "    totalTemps= baseT.difTempsSec.sum()\n",
    "    \n",
    "    finLon=baseT.loc[i+ taille, 'longitude']\n",
    "    finLat=baseT.loc[i+taille, 'latitude']\n",
    "    difLon= np.abs(finLon- debLon)/0.00899  # distance en KM\n",
    "    difLat= np.abs(finLat-debLat)/0.0139\n",
    "    #print((np.sqrt(np.power(difLon,2)+np.power(difLat,2))/totalTemps)*3600)\n",
    "    listeVit.append((np.sqrt(np.power(difLon,2)+np.power(difLat,2))/totalTemps)*3600)\n",
    "        \n",
    "   \n",
    "\n",
    "         "
   ]
  },
  {
   "cell_type": "code",
   "execution_count": 7,
   "metadata": {},
   "outputs": [
    {
     "name": "stdout",
     "output_type": "stream",
     "text": [
      "   Unnamed: 0  speed  acceleration       angle     smooth  Id1  longitude  \\\n",
      "0           0   12.2     -0.077840  186.275472  13.600000    0   2.078366   \n",
      "1           1   13.3      0.061160  186.287040  13.033333    0   2.078768   \n",
      "2           2   10.5     -0.155680  186.299391  12.000000    0   2.079054   \n",
      "3           3    2.5     -0.444800  186.308093   8.766667    0   2.079243   \n",
      "4           4    2.7      0.003336  186.322297   2.300000    1   2.079572   \n",
      "\n",
      "    latitude  DebFin  Distance2points    DifLat    DifLon  DifLatKm  DifLonKm  \\\n",
      "0  48.992353       0         0.000000  0.000000  0.000000  0.000000  0.000000   \n",
      "1  48.992389       0         0.029197  0.000036  0.000402  0.004004  0.028921   \n",
      "2  48.992354       0         0.020941  0.000035  0.000286  0.003893  0.020576   \n",
      "3  48.992364       0         0.013643  0.000010  0.000189  0.001112  0.013597   \n",
      "4  48.992414       0         0.000000  0.000000  0.000000  0.000000  0.000000   \n",
      "\n",
      "   difTempsSec  difTempsHeure  vitesseMoyenne  VitesseTraj  \n",
      "0          5.0       0.001389        0.000000    17.560088  \n",
      "1          5.0       0.001389       20.823022    17.560088  \n",
      "2          5.0       0.001389       14.814388    17.560088  \n",
      "3          5.0       0.001389        9.789928    17.560088  \n",
      "4         50.0       0.013889        0.000000     8.342014  \n"
     ]
    }
   ],
   "source": [
    "df_3.loc[0, 'VitesseTraj']= listeVit[0]\n",
    "j=0\n",
    "for i in range(1, len(df_3)-1):\n",
    "    if df_3.loc[i,'Id1']== df_3.loc[i-1,'Id1' ]:\n",
    "        df_3.loc[i,'VitesseTraj']=listeVit[j]\n",
    "    else:\n",
    "        j=j+1\n",
    "        df_3.loc[i,'VitesseTraj']=listeVit[j]\n",
    "        \n",
    "        \n",
    "print(df_3.head())"
   ]
  },
  {
   "cell_type": "code",
   "execution_count": 30,
   "metadata": {},
   "outputs": [
    {
     "name": "stdout",
     "output_type": "stream",
     "text": [
      "       Unnamed: 0  speed  acceleration       angle     smooth   Id1  \\\n",
      "0               0   12.2     -0.077840  186.275472  13.600000     0   \n",
      "1               1   13.3      0.061160  186.287040  13.033333     0   \n",
      "2               2   10.5     -0.155680  186.299391  12.000000     0   \n",
      "3               3    2.5     -0.444800  186.308093   8.766667     0   \n",
      "4               4    2.7      0.003336  186.322297   2.300000     1   \n",
      "5               5    6.0      0.183480  186.322198   3.600000     1   \n",
      "6               6    6.0      0.000000  186.315307   4.900000     1   \n",
      "7               7   12.9      0.383640  186.304193   8.300000     1   \n",
      "8               8   17.5      0.255760  186.290083  12.133333     1   \n",
      "9               9   15.9     -0.088960  186.273960  15.433333     1   \n",
      "10             10   15.5     -0.022240  186.257595  16.300000     1   \n",
      "11             11    9.8     -0.316920  186.243076  13.733333     1   \n",
      "12             12   15.9     -0.139000  186.261477  17.466667     2   \n",
      "13             13   13.0     -0.161240  186.276322  15.766666     2   \n",
      "14             14   13.1      0.005560  186.288368  14.000000     2   \n",
      "15             15   10.2     -0.161240  186.298708  12.100000     2   \n",
      "16             16    6.1     -0.227960  186.309163   9.800000     2   \n",
      "17             17    4.8     -0.072280  186.315387   7.033333     2   \n",
      "18             18    5.4      0.033360  186.319462   5.433333     2   \n",
      "19             19    7.2      0.100080  186.324529   5.800000     2   \n",
      "20             20    5.8     -0.077840  186.329693   6.133333     2   \n",
      "21             21    4.2     -0.088960  186.336315   5.733333     2   \n",
      "22             22    3.6     -0.033360  186.341223   4.533333     2   \n",
      "23             23    2.6      0.001308  186.342042   2.333333     3   \n",
      "24             24    5.8      0.177920  186.350461   3.533333     3   \n",
      "25             25    5.5     -0.008340  186.346503   4.633333     3   \n",
      "26             26    7.8      0.127880  186.343117   6.366667     3   \n",
      "27             27   11.3      0.194600  186.336074   8.200000     3   \n",
      "28             28    9.8     -0.083400  186.327282   9.633334     3   \n",
      "29             29    7.2     -0.144560  186.315764   9.433333     3   \n",
      "...           ...    ...           ...         ...        ...   ...   \n",
      "12226       12226   16.6     -0.450360  196.540135  20.433334  2281   \n",
      "12227       12227    6.6     -0.556000  196.538828  15.966667  2281   \n",
      "12228       12228    9.3      0.050040  196.534701  10.833333  2281   \n",
      "12229       12229   12.1      0.155680  196.544800   9.333333  2281   \n",
      "12230       12230    7.9     -0.233520  196.543565   9.766667  2281   \n",
      "12231       12231    9.7      0.100080  196.542639   9.900000  2281   \n",
      "12232       12232    7.2     -0.139000  196.543847   8.266667  2281   \n",
      "12233       12233    3.0     -0.233520  196.541257   6.633333  2281   \n",
      "12234       12234    3.3      0.001651  196.301005   2.866667  2282   \n",
      "12235       12235    3.7      0.022240  196.193521   3.233333  2282   \n",
      "12236       12236    3.8     -0.031507  196.505620   4.233333  2283   \n",
      "12237       12237    2.3     -0.016680  196.515254   3.866667  2283   \n",
      "12238       12238    2.2     -0.002780  196.523909   2.766667  2283   \n",
      "12239       12239    2.8      0.002780  196.503349   2.433333  2284   \n",
      "12240       12240    2.1     -0.038920  196.518327   2.366667  2284   \n",
      "12241       12241    2.5      0.004448  196.516385   2.466667  2284   \n",
      "12242       12242   10.1      0.000017  196.123986   4.800000  2285   \n",
      "12243       12243   10.4      0.016680  196.540684   7.533333  2285   \n",
      "12244       12244    9.1     -0.072280  196.543851   9.866667  2285   \n",
      "12245       12245    3.0     -0.339160  196.545056   7.500000  2285   \n",
      "12246       12246    2.7     -0.003336  196.549373   4.933333  2285   \n",
      "12247       12247    9.8      0.043862  196.544684   5.166667  2285   \n",
      "12248       12248    7.5     -0.127880  196.548485   6.666667  2285   \n",
      "12249       12249    2.6      0.000101  196.408260   2.600000  2286   \n",
      "12250       12250    2.3     -0.007413  196.532671   2.633333  2287   \n",
      "12251       12251    3.1      0.055600  196.538229   2.566667  2288   \n",
      "12252       12252    2.3     -0.044480  196.539515   2.500000  2288   \n",
      "12253       12253    2.4      0.005560  196.543599   2.600000  2288   \n",
      "12254       12254    4.4      0.111200  196.541852   3.033333  2288   \n",
      "12255       12255    3.9      0.003217  196.290562   2.900000  2289   \n",
      "\n",
      "       longitude   latitude  DebFin  Distance2points    DifLat    DifLon  \\\n",
      "0       2.078366  48.992353       0         0.000000  0.000000  0.000000   \n",
      "1       2.078768  48.992389       0         0.029197  0.000036  0.000402   \n",
      "2       2.079054  48.992354       0         0.020941  0.000035  0.000286   \n",
      "3       2.079243  48.992364       0         0.013643  0.000010  0.000189   \n",
      "4       2.079572  48.992414       0         0.000000  0.000000  0.000000   \n",
      "5       2.079334  48.992409       0         0.017131  0.000005  0.000238   \n",
      "6       2.079055  48.992399       0         0.020103  0.000010  0.000279   \n",
      "7       2.078807  48.992552       0         0.024657  0.000153  0.000248   \n",
      "8       2.078540  48.992833       0         0.036687  0.000281  0.000267   \n",
      "9       2.078259  48.993127       0         0.038447  0.000294  0.000281   \n",
      "10      2.077997  48.993405       0         0.036215  0.000278  0.000262   \n",
      "11      2.077754  48.993623       0         0.029894  0.000218  0.000243   \n",
      "12      2.077993  48.992349       0         0.000000  0.000000  0.000000   \n",
      "13      2.078411  48.992367       0         0.030139  0.000018  0.000418   \n",
      "14      2.078772  48.992383       0         0.026032  0.000016  0.000361   \n",
      "15      2.079144  48.992400       0         0.026829  0.000017  0.000372   \n",
      "16      2.079375  48.992428       0         0.016908  0.000028  0.000231   \n",
      "17      2.079537  48.992451       0         0.011932  0.000023  0.000162   \n",
      "18      2.079725  48.992481       0         0.013931  0.000030  0.000188   \n",
      "19      2.079919  48.992496       0         0.014056  0.000015  0.000194   \n",
      "20      2.080112  48.992523       0         0.014206  0.000027  0.000193   \n",
      "21      2.080204  48.992464       0         0.009321  0.000059  0.000092   \n",
      "22      2.080298  48.992378       0         0.011715  0.000086  0.000094   \n",
      "23      2.080623  48.992507       0         0.000000  0.000000  0.000000   \n",
      "24      2.080485  48.992534       0         0.010372  0.000027  0.000138   \n",
      "25      2.080351  48.992511       0         0.009974  0.000023  0.000134   \n",
      "26      2.080097  48.992489       0         0.018437  0.000022  0.000254   \n",
      "27      2.079760  48.992470       0         0.024337  0.000019  0.000337   \n",
      "28      2.079339  48.992410       0         0.031014  0.000060  0.000421   \n",
      "29      2.079037  48.992382       0         0.021949  0.000028  0.000302   \n",
      "...          ...        ...     ...              ...       ...       ...   \n",
      "12226   2.325540  48.881740       0         0.043006  0.000318  0.000340   \n",
      "12227   2.325665  48.881892       0         0.019150  0.000152  0.000125   \n",
      "12228   2.325782  48.881825       0         0.011242  0.000067  0.000117   \n",
      "12229   2.325952  48.882044       0         0.027258  0.000219  0.000170   \n",
      "12230   2.326105  48.882237       0         0.024126  0.000193  0.000153   \n",
      "12231   2.326283  48.882411       0         0.023208  0.000174  0.000178   \n",
      "12232   2.326458  48.882619       0         0.026340  0.000208  0.000175   \n",
      "12233   2.326537  48.882696       1         0.010279  0.000077  0.000079   \n",
      "12234   2.320166  48.888430       0         0.000000  0.000000  0.000000   \n",
      "12235   2.320816  48.887650       0         0.098563  0.000780  0.000650   \n",
      "12236   2.326710  48.883691       1         0.000000  0.000000  0.000000   \n",
      "12237   2.326722  48.883452       0         0.026599  0.000239  0.000012   \n",
      "12238   2.326679  48.883336       0         0.013269  0.000116  0.000043   \n",
      "12239   2.326967  48.883926       0         0.000000  0.000000  0.000000   \n",
      "12240   2.326899  48.883789       1         0.016005  0.000137  0.000068   \n",
      "12241   2.326746  48.883443       0         0.040030  0.000346  0.000153   \n",
      "12242   2.323233  48.878894       1         0.000000  0.000000  0.000000   \n",
      "12243   2.323205  48.878738       0         0.017469  0.000156  0.000028   \n",
      "12244   2.323078  48.878577       1         0.020105  0.000161  0.000127   \n",
      "12245   2.322997  48.878454       1         0.014871  0.000123  0.000081   \n",
      "12246   2.323067  48.878521       1         0.008995  0.000067  0.000070   \n",
      "12247   2.322987  48.878315       1         0.023626  0.000206  0.000080   \n",
      "12248   2.322831  48.878150       1         0.021513  0.000165  0.000156   \n",
      "12249   2.326437  48.882948       1         0.000000  0.000000  0.000000   \n",
      "12250   2.326908  48.883480       1         0.000000  0.000000  0.000000   \n",
      "12251   2.326860  48.883085       1         0.000000  0.000000  0.000000   \n",
      "12252   2.326937  48.883088       1         0.005550  0.000003  0.000077   \n",
      "12253   2.326973  48.883204       1         0.013161  0.000116  0.000036   \n",
      "12254   2.326936  48.883334       1         0.014703  0.000130  0.000037   \n",
      "12255   2.321192  48.887534       0         0.000000  0.000000  0.000000   \n",
      "\n",
      "       DifLatKm  DifLonKm  difTempsSec  difTempsHeure  vitesseMoyenne  \\\n",
      "0      0.000000  0.000000          5.0       0.001389        0.000000   \n",
      "1      0.004004  0.028921          5.0       0.001389       20.823022   \n",
      "2      0.003893  0.020576          5.0       0.001389       14.814388   \n",
      "3      0.001112  0.013597          5.0       0.001389        9.789928   \n",
      "4      0.000000  0.000000         50.0       0.013889        0.000000   \n",
      "5      0.000556  0.017122          5.0       0.001389       12.328058   \n",
      "6      0.001112  0.020072         15.0       0.004167        4.817266   \n",
      "7      0.017019  0.017842          5.0       0.001389       12.846043   \n",
      "8      0.031257  0.019209          5.0       0.001389       13.830216   \n",
      "9      0.032703  0.020216          5.0       0.001389       14.555396   \n",
      "10     0.030923  0.018849          5.0       0.001389       13.571223   \n",
      "11     0.024249  0.017482          5.0       0.001389       12.587050   \n",
      "12     0.000000  0.000000          5.0       0.001389        0.000000   \n",
      "13     0.002002  0.030072          5.0       0.001389       21.651799   \n",
      "14     0.001780  0.025971          5.0       0.001389       18.699281   \n",
      "15     0.001891  0.026763          5.0       0.001389       19.269065   \n",
      "16     0.003115  0.016619          5.0       0.001389       11.965468   \n",
      "17     0.002558  0.011655          5.0       0.001389        8.391367   \n",
      "18     0.003337  0.013525          5.0       0.001389        9.738129   \n",
      "19     0.001669  0.013957          5.0       0.001389       10.048921   \n",
      "20     0.003003  0.013885          5.0       0.001389        9.997122   \n",
      "21     0.006563  0.006619          5.0       0.001389        4.765468   \n",
      "22     0.009566  0.006763          5.0       0.001389        4.869065   \n",
      "23     0.000000  0.000000         85.0       0.023611        0.000000   \n",
      "24     0.003003  0.009928          5.0       0.001389        7.148201   \n",
      "25     0.002558  0.009640         10.0       0.002778        3.470504   \n",
      "26     0.002447  0.018273          5.0       0.001389       13.156835   \n",
      "27     0.002113  0.024245          5.0       0.001389       17.456115   \n",
      "28     0.006674  0.030288          5.0       0.001389       21.807194   \n",
      "29     0.003115  0.021727          5.0       0.001389       15.643165   \n",
      "...         ...       ...          ...            ...             ...   \n",
      "12226  0.035373  0.024460          5.0       0.001389       17.611511   \n",
      "12227  0.016908  0.008993          5.0       0.001389        6.474820   \n",
      "12228  0.007453  0.008417         15.0       0.004167        2.020144   \n",
      "12229  0.024360  0.012230          5.0       0.001389        8.805755   \n",
      "12230  0.021468  0.011007          5.0       0.001389        7.925180   \n",
      "12231  0.019355  0.012806          5.0       0.001389        9.220144   \n",
      "12232  0.023137  0.012590          5.0       0.001389        9.064748   \n",
      "12233  0.008565  0.005683          5.0       0.001389        4.092086   \n",
      "12234  0.000000  0.000000        101.0       0.028056        0.000000   \n",
      "12235  0.086763  0.046763          5.0       0.001389       33.669065   \n",
      "12236  0.000000  0.000000         15.0       0.004167        0.000000   \n",
      "12237  0.026585  0.000863         25.0       0.006944        0.124317   \n",
      "12238  0.012903  0.003094         10.0       0.002778        1.113669   \n",
      "12239  0.000000  0.000000         60.0       0.016667        0.000000   \n",
      "12240  0.015239  0.004892          5.0       0.001389        3.522302   \n",
      "12241  0.038487  0.011007         25.0       0.006944        1.585036   \n",
      "12242  0.000000  0.000000     131275.0      36.465278        0.000000   \n",
      "12243  0.017353  0.002014          5.0       0.001389        1.450360   \n",
      "12244  0.017909  0.009137          5.0       0.001389        6.578417   \n",
      "12245  0.013682  0.005827          5.0       0.001389        4.195683   \n",
      "12246  0.007453  0.005036         25.0       0.006944        0.725180   \n",
      "12247  0.022914  0.005755         45.0       0.012500        0.460432   \n",
      "12248  0.018354  0.011223          5.0       0.001389        8.080576   \n",
      "12249  0.000000  0.000000        549.0       0.152500        0.000000   \n",
      "12250  0.000000  0.000000         15.0       0.004167        0.000000   \n",
      "12251  0.000000  0.000000          5.0       0.001389        0.000000   \n",
      "12252  0.000334  0.005540          5.0       0.001389        3.988489   \n",
      "12253  0.012903  0.002590          5.0       0.001389        1.864748   \n",
      "12254  0.014461  0.002662          5.0       0.001389        1.916547   \n",
      "12255  0.000000  0.000000        121.0       0.033611        0.000000   \n",
      "\n",
      "       VitesseTraj  vitesseTraj  \n",
      "0        17.560088    17.560088  \n",
      "1        17.560088          NaN  \n",
      "2        17.560088          NaN  \n",
      "3        17.560088          NaN  \n",
      "4         8.342014          NaN  \n",
      "5         8.342014          NaN  \n",
      "6         8.342014          NaN  \n",
      "7         8.342014          NaN  \n",
      "8         8.342014          NaN  \n",
      "9         8.342014          NaN  \n",
      "10        8.342014          NaN  \n",
      "11        8.342014          NaN  \n",
      "12       16.782839          NaN  \n",
      "13       16.782839          NaN  \n",
      "14       16.782839          NaN  \n",
      "15       16.782839          NaN  \n",
      "16       16.782839          NaN  \n",
      "17       16.782839          NaN  \n",
      "18       16.782839          NaN  \n",
      "19       16.782839          NaN  \n",
      "20       16.782839          NaN  \n",
      "21       16.782839          NaN  \n",
      "22       16.782839          NaN  \n",
      "23        6.281723          NaN  \n",
      "24        6.281723          NaN  \n",
      "25        6.281723          NaN  \n",
      "26        6.281723          NaN  \n",
      "27        6.281723          NaN  \n",
      "28        6.281723          NaN  \n",
      "29        6.281723          NaN  \n",
      "...            ...          ...  \n",
      "12226    11.434603          NaN  \n",
      "12227    11.434603          NaN  \n",
      "12228    11.434603          NaN  \n",
      "12229    11.434603          NaN  \n",
      "12230    11.434603          NaN  \n",
      "12231    11.434603          NaN  \n",
      "12232    11.434603          NaN  \n",
      "12233    11.434603          NaN  \n",
      "12234     3.108348          NaN  \n",
      "12235     3.108348          NaN  \n",
      "12236     1.855534          NaN  \n",
      "12237     1.855534          NaN  \n",
      "12238     1.855534          NaN  \n",
      "12239     1.702589          NaN  \n",
      "12240     1.702589          NaN  \n",
      "12241     1.702589          NaN  \n",
      "12242     0.001911          NaN  \n",
      "12243     0.001911          NaN  \n",
      "12244     0.001911          NaN  \n",
      "12245     0.001911          NaN  \n",
      "12246     0.001911          NaN  \n",
      "12247     0.001911          NaN  \n",
      "12248     0.001911          NaN  \n",
      "12249     0.000000          NaN  \n",
      "12250     0.000000          NaN  \n",
      "12251     3.565486          NaN  \n",
      "12252     3.565486          NaN  \n",
      "12253     3.565486          NaN  \n",
      "12254     3.565486          NaN  \n",
      "12255     0.000000          NaN  \n",
      "\n"
     ]
    },
    {
     "name": "stdout",
     "output_type": "stream",
     "text": [
      "[12256 rows x 19 columns]\n"
     ]
    }
   ],
   "source": []
  },
  {
   "cell_type": "code",
   "execution_count": 26,
   "metadata": {
    "collapsed": true
   },
   "outputs": [],
   "source": [
    "# en ommettant les vitesses sur les labels et les bus et les métros ou vitesse >5km , cela permet de récupperer les points d\n",
    "# d'attentes ,et de pouvoir rendre effective  la variable début fin\n",
    "# cependant il y a une perte de précisions qui liée à cette ommission de vittesse , car le temps d'attente d'un bus n'est pas une \n",
    "#véritablement une trajectoir de bus mais plutôt une attente à pied ,\n",
    "# pour remédier à ca on va creer une variable temps d'attente =1 si la personne reste dans un meme périmetre definit\n",
    "#pour les trajectoires étant labelliser bus ou métro , en supprimant ces points nous gagnerons en précisions \n",
    "#mais nous aurons tous de même la variable DF qui nous indiquera si le trajet a commencé et terminera par un arrêt.\n",
    "\n",
    "taille=0\n",
    "df_3['DF']=0\n",
    "listeDF=[]\n",
    "for i in range(0, 2290):  # nombre d'id \n",
    "    \n",
    "    baseT= df_3[df_3.Id1==i  ]\n",
    "    deb=baseT.DebFin[0+taille]\n",
    "    taille=taille+len(baseT)\n",
    "    fin =baseT.DebFin[0+taille-1]\n",
    "    if deb==fin and fin ==1:\n",
    "        listeDF.append(1)\n",
    "    else :\n",
    "        listeDF.append(0)\n",
    "\n",
    "df_3.loc[0, 'DF']= listeDF[0]\n",
    "\n",
    "j=0\n",
    "for i in range(1, len(df_3)-1):\n",
    "    if df_3.loc[i,'Id1']== df_3.loc[i-1,'Id1' ]:\n",
    "        df_3.loc[i,'DF']=listeDF[j]\n",
    "    else:\n",
    "        j=j+1\n",
    "        df_3.loc[i,'DF']=listeDF[j]\n",
    "                \n",
    "\n",
    "        \n",
    "        "
   ]
  },
  {
   "cell_type": "code",
   "execution_count": null,
   "metadata": {
    "collapsed": true
   },
   "outputs": [],
   "source": []
  },
  {
   "cell_type": "code",
   "execution_count": 41,
   "metadata": {},
   "outputs": [
    {
     "data": {
      "text/html": [
       "<div>\n",
       "<style>\n",
       "    .dataframe thead tr:only-child th {\n",
       "        text-align: right;\n",
       "    }\n",
       "\n",
       "    .dataframe thead th {\n",
       "        text-align: left;\n",
       "    }\n",
       "\n",
       "    .dataframe tbody tr th {\n",
       "        vertical-align: top;\n",
       "    }\n",
       "</style>\n",
       "<table border=\"1\" class=\"dataframe\">\n",
       "  <thead>\n",
       "    <tr style=\"text-align: right;\">\n",
       "      <th></th>\n",
       "      <th>Unnamed: 0</th>\n",
       "      <th>speed</th>\n",
       "      <th>acceleration</th>\n",
       "      <th>angle</th>\n",
       "      <th>smooth</th>\n",
       "      <th>Id1</th>\n",
       "      <th>longitude</th>\n",
       "      <th>latitude</th>\n",
       "      <th>DebFin</th>\n",
       "      <th>DF</th>\n",
       "      <th>Attente</th>\n",
       "    </tr>\n",
       "  </thead>\n",
       "  <tbody>\n",
       "    <tr>\n",
       "      <th>3535</th>\n",
       "      <td>3535</td>\n",
       "      <td>3.4</td>\n",
       "      <td>0.055600</td>\n",
       "      <td>201.558280</td>\n",
       "      <td>2.900000</td>\n",
       "      <td>642</td>\n",
       "      <td>2.464786</td>\n",
       "      <td>48.843636</td>\n",
       "      <td>1</td>\n",
       "      <td>0</td>\n",
       "      <td>0</td>\n",
       "    </tr>\n",
       "    <tr>\n",
       "      <th>3536</th>\n",
       "      <td>3536</td>\n",
       "      <td>3.1</td>\n",
       "      <td>-0.016680</td>\n",
       "      <td>201.558134</td>\n",
       "      <td>2.966667</td>\n",
       "      <td>642</td>\n",
       "      <td>2.464723</td>\n",
       "      <td>48.843577</td>\n",
       "      <td>1</td>\n",
       "      <td>0</td>\n",
       "      <td>0</td>\n",
       "    </tr>\n",
       "    <tr>\n",
       "      <th>3537</th>\n",
       "      <td>3537</td>\n",
       "      <td>2.5</td>\n",
       "      <td>-0.004170</td>\n",
       "      <td>201.560151</td>\n",
       "      <td>3.000000</td>\n",
       "      <td>642</td>\n",
       "      <td>2.464346</td>\n",
       "      <td>48.843566</td>\n",
       "      <td>1</td>\n",
       "      <td>0</td>\n",
       "      <td>0</td>\n",
       "    </tr>\n",
       "    <tr>\n",
       "      <th>3538</th>\n",
       "      <td>3538</td>\n",
       "      <td>2.3</td>\n",
       "      <td>-0.000029</td>\n",
       "      <td>192.029449</td>\n",
       "      <td>3.200000</td>\n",
       "      <td>643</td>\n",
       "      <td>2.463122</td>\n",
       "      <td>48.844703</td>\n",
       "      <td>0</td>\n",
       "      <td>0</td>\n",
       "      <td>0</td>\n",
       "    </tr>\n",
       "    <tr>\n",
       "      <th>3540</th>\n",
       "      <td>3540</td>\n",
       "      <td>2.1</td>\n",
       "      <td>-0.001264</td>\n",
       "      <td>201.276775</td>\n",
       "      <td>2.266667</td>\n",
       "      <td>644</td>\n",
       "      <td>2.461608</td>\n",
       "      <td>48.851106</td>\n",
       "      <td>0</td>\n",
       "      <td>0</td>\n",
       "      <td>0</td>\n",
       "    </tr>\n",
       "    <tr>\n",
       "      <th>3541</th>\n",
       "      <td>3541</td>\n",
       "      <td>2.6</td>\n",
       "      <td>-0.072280</td>\n",
       "      <td>201.281785</td>\n",
       "      <td>3.266667</td>\n",
       "      <td>645</td>\n",
       "      <td>2.460773</td>\n",
       "      <td>48.850155</td>\n",
       "      <td>0</td>\n",
       "      <td>0</td>\n",
       "      <td>0</td>\n",
       "    </tr>\n",
       "  </tbody>\n",
       "</table>\n",
       "</div>"
      ],
      "text/plain": [
       "      Unnamed: 0  speed  acceleration       angle    smooth  Id1  longitude  \\\n",
       "3535        3535    3.4      0.055600  201.558280  2.900000  642   2.464786   \n",
       "3536        3536    3.1     -0.016680  201.558134  2.966667  642   2.464723   \n",
       "3537        3537    2.5     -0.004170  201.560151  3.000000  642   2.464346   \n",
       "3538        3538    2.3     -0.000029  192.029449  3.200000  643   2.463122   \n",
       "3540        3540    2.1     -0.001264  201.276775  2.266667  644   2.461608   \n",
       "3541        3541    2.6     -0.072280  201.281785  3.266667  645   2.460773   \n",
       "\n",
       "       latitude  DebFin  DF  Attente   \n",
       "3535  48.843636       1   0         0  \n",
       "3536  48.843577       1   0         0  \n",
       "3537  48.843566       1   0         0  \n",
       "3538  48.844703       0   0         0  \n",
       "3540  48.851106       0   0         0  \n",
       "3541  48.850155       0   0         0  "
      ]
     },
     "execution_count": 41,
     "metadata": {},
     "output_type": "execute_result"
    }
   ],
   "source": [
    "# aucune trajectoire qui commence et finit par un arret , on va donc essayer le nombre de correspondance avec un arret / taille \n",
    "\n",
    "df_3.loc[3535: 3541]"
   ]
  },
  {
   "cell_type": "code",
   "execution_count": null,
   "metadata": {
    "collapsed": true
   },
   "outputs": [],
   "source": [
    "# perte de précision du à l'enlevement des critère de vitesse \n",
    "#on va introduire la variable attente qui visera à savoir si l'individu reste en position stationnaire par rapport à sa première position"
   ]
  },
  {
   "cell_type": "code",
   "execution_count": 19,
   "metadata": {},
   "outputs": [
    {
     "name": "stderr",
     "output_type": "stream",
     "text": [
      "D:\\Programmes\\Anaconda2\\lib\\site-packages\\pandas\\core\\indexing.py:517: SettingWithCopyWarning: \n",
      "A value is trying to be set on a copy of a slice from a DataFrame.\n",
      "Try using .loc[row_indexer,col_indexer] = value instead\n",
      "\n",
      "See the caveats in the documentation: http://pandas.pydata.org/pandas-docs/stable/indexing.html#indexing-view-versus-copy\n",
      "  self.obj[item] = s\n"
     ]
    }
   ],
   "source": [
    "#définissons un périmetre de 15 mètres \n",
    "df_3['Attente']=0\n",
    "taille=0\n",
    "for i in range(0, 2290):  # nombre d'id \n",
    "    \n",
    "    baseT= df_3[df_3.Id1==i  ]\n",
    "    deb=baseT.loc[0+taille]\n",
    "    debLo=baseT.loc[0+taille, 'longitude']\n",
    "    debLat=baseT.loc[0+taille, 'latitude']\n",
    "    \n",
    "    \n",
    "    i=0\n",
    "\n",
    "    #tant qu on reste au meme endroit par rapport au début on ajoute de l'attente \n",
    "    while baseT.longitude[i+taille] > deb.longitude -0.000139 and baseT.longitude[i+taille] < deb.longitude +0.000139 and baseT.latitude[i+taille] < deb.latitude +0.0000899  and baseT.latitude[i+taille] > deb.latitude -0.0000899:\n",
    "            baseT.loc[i+taille,'Attente']=1\n",
    "            if i == len(baseT)-1:\n",
    "                break\n",
    "\n",
    "            i=i+1\n",
    "                \n",
    "    taille=taille+len(baseT)\n",
    "    fin =baseT.DebFin[0+taille-1]\n",
    "        \n"
   ]
  },
  {
   "cell_type": "code",
   "execution_count": 95,
   "metadata": {},
   "outputs": [
    {
     "name": "stdout",
     "output_type": "stream",
     "text": [
      "   speed  acceleration       angle  Id1\n",
      "0   12.2     -0.077840  186.275472    0\n",
      "1   13.3      0.061160  186.287040    0\n",
      "2   10.5     -0.155680  186.299391    0\n",
      "3    2.5     -0.444800  186.308093    0\n",
      "4    2.7      0.003336  186.322297    1\n"
     ]
    }
   ],
   "source": [
    "\n",
    "#df_essai= df_3[['speed',  'acceleration','angle','smooth','Id1','DebFin', 'vitesseMoyenne']]\n",
    "\n",
    "# acceleration utile , DebFin mauvais resultat \n",
    "df_essai= df_3[['speed','acceleration','angle','Id1']]\n",
    "print(df_essai.head())"
   ]
  },
  {
   "cell_type": "code",
   "execution_count": 66,
   "metadata": {},
   "outputs": [
    {
     "name": "stderr",
     "output_type": "stream",
     "text": [
      "Feature Extraction: 100%|██████████████████████████████████████████████████████████████| 10/10 [00:02<00:00,  4.69it/s]\n"
     ]
    }
   ],
   "source": [
    "### on extracte les features en fonction de la colonne id \n",
    "#df_essai= df_3[['speed',  'acceleration','angle','smooth','Id1','DebFin', 'vitesseMoyenne','DF']]\n",
    "\n",
    "df_essai= df_3[['speed',  'acceleration','angle','smooth','Id1']]\n",
    "df_essai = df_essai[np.isfinite(df_essai['acceleration'])]\n",
    "#df_essai = df_essai[np.isfinite(df_3['VitesseTraj'])]\n",
    "#df_essai = df_essai[np.isfinite(df_3['vitesseMoyenne'])]\n",
    "\n",
    "X = extract_features(df_essai, column_id=\"Id1\", default_fc_parameters=MinimalFCParameters())\n",
    "\n",
    "\n",
    "### on fait une liste correspondant à tous les numeros d'id existant 2304 et non 2303 car 1er id=0\n",
    "y= list(df_2.iloc[:,1])\n",
    "\n",
    "\n",
    "\n",
    "### on creer un echatillon train 80% et test 20% \n",
    "X_train,X_test,y_train,y_test = train_test_split(X,y,test_size=0.1)\n",
    "\n",
    "\n",
    "### on reshape les y train et test pour les utiliser dans des fonctions de predictions \n",
    "#yy_train=np.array(y_train).reshape(-1,1)\n",
    "#yy_test=np.array(y_test).reshape(-1,1)\n"
   ]
  },
  {
   "cell_type": "code",
   "execution_count": 27,
   "metadata": {},
   "outputs": [
    {
     "name": "stderr",
     "output_type": "stream",
     "text": [
      "D:\\Programmes\\Anaconda2\\lib\\site-packages\\ipykernel_launcher.py:3: SettingWithCopyWarning: \n",
      "A value is trying to be set on a copy of a slice from a DataFrame.\n",
      "Try using .loc[row_indexer,col_indexer] = value instead\n",
      "\n",
      "See the caveats in the documentation: http://pandas.pydata.org/pandas-docs/stable/indexing.html#indexing-view-versus-copy\n",
      "  This is separate from the ipykernel package so we can avoid doing imports until\n",
      "D:\\Programmes\\Anaconda2\\lib\\site-packages\\pandas\\core\\indexing.py:517: SettingWithCopyWarning: \n",
      "A value is trying to be set on a copy of a slice from a DataFrame.\n",
      "Try using .loc[row_indexer,col_indexer] = value instead\n",
      "\n",
      "See the caveats in the documentation: http://pandas.pydata.org/pandas-docs/stable/indexing.html#indexing-view-versus-copy\n",
      "  self.obj[item] = s\n"
     ]
    },
    {
     "name": "stdout",
     "output_type": "stream",
     "text": [
      "   speed  acceleration       angle     smooth  Id1  DebFin  vitesseMoyenne  \\\n",
      "0   12.2     -0.077840  186.275472  13.600000    0       0        0.000000   \n",
      "1   13.3      0.061160  186.287040  13.033333    0       0       20.823022   \n",
      "2   10.5     -0.155680  186.299391  12.000000    0       0       14.814388   \n",
      "3    2.5     -0.444800  186.308093   8.766667    0       0        9.789928   \n",
      "4    2.7      0.003336  186.322297   2.300000    1       0        0.000000   \n",
      "\n",
      "   DF  classe  \n",
      "0   0       0  \n",
      "1   0       1  \n",
      "2   0       1  \n",
      "3   0       1  \n",
      "4   0       1  \n"
     ]
    }
   ],
   "source": [
    "j=0\n",
    "df_essai= df_3[['speed',  'acceleration','angle','smooth','Id1','DebFin', 'vitesseMoyenne','DF']]\n",
    "df_essai['classe']=0\n",
    "for i in range(1, len(df_3)-1):\n",
    "    if df_essai.loc[i,'Id1']== df_essai.loc[i-1,'Id1' ]:\n",
    "        df_essai.loc[i,'classe']=y[j]\n",
    "    else:\n",
    "        j=j+1\n",
    "        df_essai.loc[i,'classe']=y[j]\n",
    "        \n",
    "        \n",
    "print(df_essai.head())"
   ]
  },
  {
   "cell_type": "code",
   "execution_count": 28,
   "metadata": {},
   "outputs": [
    {
     "data": {
      "image/png": "[encoded data removed]",
      "text/plain": [
       "<matplotlib.figure.Figure at 0x24b03e79080>"
      ]
     },
     "metadata": {},
     "output_type": "display_data"
    }
   ],
   "source": [
    "#\n",
    "corrmat = df_essai.corr()\n",
    "f, ax = plt.subplots(figsize=(12, 9))\n",
    "sns.heatmap(corrmat, vmax=.8, square=True);\n",
    "plt.show()"
   ]
  },
  {
   "cell_type": "code",
   "execution_count": 65,
   "metadata": {},
   "outputs": [
    {
     "ename": "KeyError",
     "evalue": "\"['angle' 'smooth'] not in index\"",
     "output_type": "error",
     "traceback": [
      "\u001b[1;31m---------------------------------------------------------------------------\u001b[0m",
      "\u001b[1;31mKeyError\u001b[0m                                  Traceback (most recent call last)",
      "\u001b[1;32m<ipython-input-65-0065c176bf7e>\u001b[0m in \u001b[0;36m<module>\u001b[1;34m()\u001b[0m\n\u001b[0;32m      1\u001b[0m \u001b[1;31m### on extracte les features en fonction de la colonne id\u001b[0m\u001b[1;33m\u001b[0m\u001b[1;33m\u001b[0m\u001b[0m\n\u001b[0;32m      2\u001b[0m \u001b[1;31m#df_essai= df_essai[['speed',  'acceleration','angle','smooth','Id1','DebFin', 'vitesseMoyenne','DF']]\u001b[0m\u001b[1;33m\u001b[0m\u001b[1;33m\u001b[0m\u001b[0m\n\u001b[1;32m----> 3\u001b[1;33m \u001b[0mdf_essai\u001b[0m\u001b[1;33m=\u001b[0m \u001b[0mdf_essai\u001b[0m\u001b[1;33m[\u001b[0m\u001b[1;33m[\u001b[0m\u001b[1;34m'speed'\u001b[0m\u001b[1;33m,\u001b[0m\u001b[1;34m'angle'\u001b[0m\u001b[1;33m,\u001b[0m \u001b[1;34m'smooth'\u001b[0m\u001b[1;33m,\u001b[0m\u001b[1;34m'Id1'\u001b[0m\u001b[1;33m]\u001b[0m\u001b[1;33m]\u001b[0m\u001b[1;33m\u001b[0m\u001b[0m\n\u001b[0m\u001b[0;32m      4\u001b[0m \u001b[0mdf_essai\u001b[0m \u001b[1;33m=\u001b[0m \u001b[0mdf_essai\u001b[0m\u001b[1;33m[\u001b[0m\u001b[0mnp\u001b[0m\u001b[1;33m.\u001b[0m\u001b[0misfinite\u001b[0m\u001b[1;33m(\u001b[0m\u001b[0mdf_essai\u001b[0m\u001b[1;33m[\u001b[0m\u001b[1;34m'speed'\u001b[0m\u001b[1;33m]\u001b[0m\u001b[1;33m)\u001b[0m\u001b[1;33m]\u001b[0m\u001b[1;33m\u001b[0m\u001b[0m\n\u001b[0;32m      5\u001b[0m \u001b[1;31m#df_essai = df_essai[np.isfinite(df_3['VitesseTraj'])]\u001b[0m\u001b[1;33m\u001b[0m\u001b[1;33m\u001b[0m\u001b[0m\n",
      "\u001b[1;32mD:\\Programmes\\Anaconda2\\lib\\site-packages\\pandas\\core\\frame.py\u001b[0m in \u001b[0;36m__getitem__\u001b[1;34m(self, key)\u001b[0m\n\u001b[0;32m   1956\u001b[0m         \u001b[1;32mif\u001b[0m \u001b[0misinstance\u001b[0m\u001b[1;33m(\u001b[0m\u001b[0mkey\u001b[0m\u001b[1;33m,\u001b[0m \u001b[1;33m(\u001b[0m\u001b[0mSeries\u001b[0m\u001b[1;33m,\u001b[0m \u001b[0mnp\u001b[0m\u001b[1;33m.\u001b[0m\u001b[0mndarray\u001b[0m\u001b[1;33m,\u001b[0m \u001b[0mIndex\u001b[0m\u001b[1;33m,\u001b[0m \u001b[0mlist\u001b[0m\u001b[1;33m)\u001b[0m\u001b[1;33m)\u001b[0m\u001b[1;33m:\u001b[0m\u001b[1;33m\u001b[0m\u001b[0m\n\u001b[0;32m   1957\u001b[0m             \u001b[1;31m# either boolean or fancy integer index\u001b[0m\u001b[1;33m\u001b[0m\u001b[1;33m\u001b[0m\u001b[0m\n\u001b[1;32m-> 1958\u001b[1;33m             \u001b[1;32mreturn\u001b[0m \u001b[0mself\u001b[0m\u001b[1;33m.\u001b[0m\u001b[0m_getitem_array\u001b[0m\u001b[1;33m(\u001b[0m\u001b[0mkey\u001b[0m\u001b[1;33m)\u001b[0m\u001b[1;33m\u001b[0m\u001b[0m\n\u001b[0m\u001b[0;32m   1959\u001b[0m         \u001b[1;32melif\u001b[0m \u001b[0misinstance\u001b[0m\u001b[1;33m(\u001b[0m\u001b[0mkey\u001b[0m\u001b[1;33m,\u001b[0m \u001b[0mDataFrame\u001b[0m\u001b[1;33m)\u001b[0m\u001b[1;33m:\u001b[0m\u001b[1;33m\u001b[0m\u001b[0m\n\u001b[0;32m   1960\u001b[0m             \u001b[1;32mreturn\u001b[0m \u001b[0mself\u001b[0m\u001b[1;33m.\u001b[0m\u001b[0m_getitem_frame\u001b[0m\u001b[1;33m(\u001b[0m\u001b[0mkey\u001b[0m\u001b[1;33m)\u001b[0m\u001b[1;33m\u001b[0m\u001b[0m\n",
      "\u001b[1;32mD:\\Programmes\\Anaconda2\\lib\\site-packages\\pandas\\core\\frame.py\u001b[0m in \u001b[0;36m_getitem_array\u001b[1;34m(self, key)\u001b[0m\n\u001b[0;32m   2000\u001b[0m             \u001b[1;32mreturn\u001b[0m \u001b[0mself\u001b[0m\u001b[1;33m.\u001b[0m\u001b[0mtake\u001b[0m\u001b[1;33m(\u001b[0m\u001b[0mindexer\u001b[0m\u001b[1;33m,\u001b[0m \u001b[0maxis\u001b[0m\u001b[1;33m=\u001b[0m\u001b[1;36m0\u001b[0m\u001b[1;33m,\u001b[0m \u001b[0mconvert\u001b[0m\u001b[1;33m=\u001b[0m\u001b[1;32mFalse\u001b[0m\u001b[1;33m)\u001b[0m\u001b[1;33m\u001b[0m\u001b[0m\n\u001b[0;32m   2001\u001b[0m         \u001b[1;32melse\u001b[0m\u001b[1;33m:\u001b[0m\u001b[1;33m\u001b[0m\u001b[0m\n\u001b[1;32m-> 2002\u001b[1;33m             \u001b[0mindexer\u001b[0m \u001b[1;33m=\u001b[0m \u001b[0mself\u001b[0m\u001b[1;33m.\u001b[0m\u001b[0mloc\u001b[0m\u001b[1;33m.\u001b[0m\u001b[0m_convert_to_indexer\u001b[0m\u001b[1;33m(\u001b[0m\u001b[0mkey\u001b[0m\u001b[1;33m,\u001b[0m \u001b[0maxis\u001b[0m\u001b[1;33m=\u001b[0m\u001b[1;36m1\u001b[0m\u001b[1;33m)\u001b[0m\u001b[1;33m\u001b[0m\u001b[0m\n\u001b[0m\u001b[0;32m   2003\u001b[0m             \u001b[1;32mreturn\u001b[0m \u001b[0mself\u001b[0m\u001b[1;33m.\u001b[0m\u001b[0mtake\u001b[0m\u001b[1;33m(\u001b[0m\u001b[0mindexer\u001b[0m\u001b[1;33m,\u001b[0m \u001b[0maxis\u001b[0m\u001b[1;33m=\u001b[0m\u001b[1;36m1\u001b[0m\u001b[1;33m,\u001b[0m \u001b[0mconvert\u001b[0m\u001b[1;33m=\u001b[0m\u001b[1;32mTrue\u001b[0m\u001b[1;33m)\u001b[0m\u001b[1;33m\u001b[0m\u001b[0m\n\u001b[0;32m   2004\u001b[0m \u001b[1;33m\u001b[0m\u001b[0m\n",
      "\u001b[1;32mD:\\Programmes\\Anaconda2\\lib\\site-packages\\pandas\\core\\indexing.py\u001b[0m in \u001b[0;36m_convert_to_indexer\u001b[1;34m(self, obj, axis, is_setter)\u001b[0m\n\u001b[0;32m   1229\u001b[0m                 \u001b[0mmask\u001b[0m \u001b[1;33m=\u001b[0m \u001b[0mcheck\u001b[0m \u001b[1;33m==\u001b[0m \u001b[1;33m-\u001b[0m\u001b[1;36m1\u001b[0m\u001b[1;33m\u001b[0m\u001b[0m\n\u001b[0;32m   1230\u001b[0m                 \u001b[1;32mif\u001b[0m \u001b[0mmask\u001b[0m\u001b[1;33m.\u001b[0m\u001b[0many\u001b[0m\u001b[1;33m(\u001b[0m\u001b[1;33m)\u001b[0m\u001b[1;33m:\u001b[0m\u001b[1;33m\u001b[0m\u001b[0m\n\u001b[1;32m-> 1231\u001b[1;33m                     \u001b[1;32mraise\u001b[0m \u001b[0mKeyError\u001b[0m\u001b[1;33m(\u001b[0m\u001b[1;34m'%s not in index'\u001b[0m \u001b[1;33m%\u001b[0m \u001b[0mobjarr\u001b[0m\u001b[1;33m[\u001b[0m\u001b[0mmask\u001b[0m\u001b[1;33m]\u001b[0m\u001b[1;33m)\u001b[0m\u001b[1;33m\u001b[0m\u001b[0m\n\u001b[0m\u001b[0;32m   1232\u001b[0m \u001b[1;33m\u001b[0m\u001b[0m\n\u001b[0;32m   1233\u001b[0m                 \u001b[1;32mreturn\u001b[0m \u001b[0m_values_from_object\u001b[0m\u001b[1;33m(\u001b[0m\u001b[0mindexer\u001b[0m\u001b[1;33m)\u001b[0m\u001b[1;33m\u001b[0m\u001b[0m\n",
      "\u001b[1;31mKeyError\u001b[0m: \"['angle' 'smooth'] not in index\""
     ]
    }
   ],
   "source": [
    "### on extracte les features en fonction de la colonne id \n",
    "#df_essai= df_essai[['speed',  'acceleration','angle','smooth','Id1','DebFin', 'vitesseMoyenne','DF']]\n",
    "df_essai= df_essai[['speed','angle', 'smooth','Id1']]\n",
    "df_essai = df_essai[np.isfinite(df_essai['speed'])]\n",
    "#df_essai = df_essai[np.isfinite(df_3['VitesseTraj'])]\n",
    "#df_essai = df_essai[np.isfinite(df_3['vitesseMoyenne'])]\n",
    "\n",
    "X = extract_features(df_essai, column_id=\"Id1\", default_fc_parameters=MinimalFCParameters())\n",
    "\n",
    "\n",
    "### on fait une liste correspondant à tous les numeros d'id existant 2304 et non 2303 car 1er id=0\n",
    "y= list(df_2.iloc[:,1])\n",
    "\n",
    "\n",
    "\n",
    "### on creer un echatillon train 80% et test 20% \n",
    "X_train,X_test,y_train,y_test = train_test_split(X,y,test_size=0.2)\n"
   ]
  },
  {
   "cell_type": "code",
   "execution_count": 37,
   "metadata": {},
   "outputs": [
    {
     "name": "stderr",
     "output_type": "stream",
     "text": [
      "\n",
      "Feature Extraction:   0%|                                                                       | 0/10 [00:00<?, ?it/s]\n",
      "Feature Extraction:  10%|██████▎                                                        | 1/10 [00:01<00:13,  1.48s/it]\n",
      "Feature Extraction:  30%|██████████████████▉                                            | 3/10 [00:01<00:04,  1.73it/s]\n",
      "Feature Extraction:  50%|███████████████████████████████▌                               | 5/10 [00:01<00:01,  2.52it/s]\n",
      "Feature Extraction:  60%|█████████████████████████████████████▊                         | 6/10 [00:01<00:01,  3.02it/s]\n",
      "Feature Extraction:  70%|████████████████████████████████████████████                   | 7/10 [00:02<00:00,  3.27it/s]\n",
      "Feature Extraction:  90%|████████████████████████████████████████████████████████▋      | 9/10 [00:02<00:00,  3.88it/s]\n",
      "Feature Extraction: 100%|██████████████████████████████████████████████████████████████| 10/10 [00:02<00:00,  4.19it/s]"
     ]
    },
    {
     "name": "stdout",
     "output_type": "stream",
     "text": [
      "0  iterations\n"
     ]
    },
    {
     "data": {
      "image/png": "[encoded data removed]",
      "text/plain": [
       "<matplotlib.figure.Figure at 0x24b08ba6048>"
      ]
     },
     "metadata": {},
     "output_type": "display_data"
    },
    {
     "name": "stderr",
     "output_type": "stream",
     "text": [
      "\n",
      "Feature Extraction:   0%|                                                                       | 0/10 [00:00<?, ?it/s]\n",
      "Feature Extraction:  10%|██████▎                                                        | 1/10 [00:01<00:13,  1.48s/it]\n",
      "Feature Extraction:  20%|████████████▌                                                  | 2/10 [00:01<00:05,  1.34it/s]\n",
      "Feature Extraction:  30%|██████████████████▉                                            | 3/10 [00:01<00:04,  1.65it/s]\n",
      "Feature Extraction:  50%|███████████████████████████████▌                               | 5/10 [00:01<00:01,  2.59it/s]\n",
      "Feature Extraction:  60%|█████████████████████████████████████▊                         | 6/10 [00:02<00:01,  2.89it/s]\n",
      "Feature Extraction:  80%|██████████████████████████████████████████████████▍            | 8/10 [00:02<00:00,  3.56it/s]\n",
      "Feature Extraction:  90%|████████████████████████████████████████████████████████▋      | 9/10 [00:02<00:00,  3.83it/s]\n",
      "Feature Extraction: 100%|██████████████████████████████████████████████████████████████| 10/10 [00:02<00:00,  4.05it/s]\n"
     ]
    },
    {
     "name": "stdout",
     "output_type": "stream",
     "text": [
      "1  iterations\n"
     ]
    },
    {
     "data": {
      "image/png": "[encoded data removed]",
      "text/plain": [
       "<matplotlib.figure.Figure at 0x24b05093358>"
      ]
     },
     "metadata": {},
     "output_type": "display_data"
    },
    {
     "name": "stderr",
     "output_type": "stream",
     "text": [
      "\n",
      "Feature Extraction:   0%|                                                                       | 0/10 [00:00<?, ?it/s]\n",
      "Feature Extraction:  10%|██████▎                                                        | 1/10 [00:01<00:13,  1.45s/it]\n",
      "Feature Extraction:  20%|████████████▌                                                  | 2/10 [00:01<00:05,  1.37it/s]\n",
      "Feature Extraction:  30%|██████████████████▉                                            | 3/10 [00:01<00:03,  1.79it/s]\n",
      "Feature Extraction:  40%|█████████████████████████▏                                     | 4/10 [00:01<00:02,  2.37it/s]\n",
      "Feature Extraction:  50%|███████████████████████████████▌                               | 5/10 [00:02<00:02,  2.49it/s]\n",
      "Feature Extraction:  60%|█████████████████████████████████████▊                         | 6/10 [00:02<00:01,  2.96it/s]\n",
      "Feature Extraction:  90%|████████████████████████████████████████████████████████▋      | 9/10 [00:02<00:00,  3.95it/s]\n",
      "Feature Extraction: 100%|██████████████████████████████████████████████████████████████| 10/10 [00:02<00:00,  4.26it/s]"
     ]
    },
    {
     "name": "stdout",
     "output_type": "stream",
     "text": [
      "2  iterations\n"
     ]
    },
    {
     "data": {
      "image/png": "[encoded data removed]",
      "text/plain": [
       "<matplotlib.figure.Figure at 0x24b08f79048>"
      ]
     },
     "metadata": {},
     "output_type": "display_data"
    },
    {
     "name": "stderr",
     "output_type": "stream",
     "text": [
      "\n",
      "Feature Extraction:   0%|                                                                       | 0/10 [00:00<?, ?it/s]\n",
      "Feature Extraction:  10%|██████▎                                                        | 1/10 [00:01<00:13,  1.50s/it]\n",
      "Feature Extraction:  20%|████████████▌                                                  | 2/10 [00:01<00:06,  1.33it/s]\n",
      "Feature Extraction:  30%|██████████████████▉                                            | 3/10 [00:01<00:03,  1.87it/s]\n",
      "Feature Extraction:  50%|███████████████████████████████▌                               | 5/10 [00:01<00:01,  2.61it/s]\n",
      "Feature Extraction:  70%|████████████████████████████████████████████                   | 7/10 [00:02<00:00,  3.38it/s]\n",
      "Feature Extraction:  90%|████████████████████████████████████████████████████████▋      | 9/10 [00:02<00:00,  3.95it/s]\n",
      "Feature Extraction: 100%|██████████████████████████████████████████████████████████████| 10/10 [00:02<00:00,  4.24it/s]"
     ]
    },
    {
     "name": "stdout",
     "output_type": "stream",
     "text": [
      "3  iterations\n"
     ]
    },
    {
     "data": {
      "image/png": "[encoded data removed]",
      "text/plain": [
       "<matplotlib.figure.Figure at 0x24b0a8fa6a0>"
      ]
     },
     "metadata": {},
     "output_type": "display_data"
    },
    {
     "name": "stderr",
     "output_type": "stream",
     "text": [
      "\n",
      "Feature Extraction:   0%|                                                                       | 0/10 [00:00<?, ?it/s]\n",
      "Feature Extraction:  10%|██████▎                                                        | 1/10 [00:01<00:14,  1.58s/it]\n",
      "Feature Extraction:  20%|████████████▌                                                  | 2/10 [00:01<00:06,  1.27it/s]\n",
      "Feature Extraction:  30%|██████████████████▉                                            | 3/10 [00:01<00:04,  1.66it/s]\n",
      "Feature Extraction:  40%|█████████████████████████▏                                     | 4/10 [00:01<00:02,  2.21it/s]\n",
      "Feature Extraction:  50%|███████████████████████████████▌                               | 5/10 [00:02<00:02,  2.47it/s]\n",
      "Feature Extraction:  60%|█████████████████████████████████████▊                         | 6/10 [00:02<00:01,  2.67it/s]\n",
      "Feature Extraction:  70%|████████████████████████████████████████████                   | 7/10 [00:02<00:00,  3.09it/s]\n",
      "Feature Extraction:  90%|████████████████████████████████████████████████████████▋      | 9/10 [00:02<00:00,  3.69it/s]\n",
      "Feature Extraction: 100%|██████████████████████████████████████████████████████████████| 10/10 [00:02<00:00,  3.99it/s]"
     ]
    },
    {
     "name": "stdout",
     "output_type": "stream",
     "text": [
      "4  iterations\n"
     ]
    },
    {
     "data": {
      "image/png": "[encoded data removed]",
      "text/plain": [
       "<matplotlib.figure.Figure at 0x24b061d3240>"
      ]
     },
     "metadata": {},
     "output_type": "display_data"
    },
    {
     "name": "stderr",
     "output_type": "stream",
     "text": [
      "\n",
      "Feature Extraction:   0%|                                                                       | 0/10 [00:00<?, ?it/s]\n",
      "Feature Extraction:  10%|██████▎                                                        | 1/10 [00:01<00:14,  1.63s/it]\n",
      "Feature Extraction:  20%|████████████▌                                                  | 2/10 [00:01<00:06,  1.21it/s]\n",
      "Feature Extraction:  40%|█████████████████████████▏                                     | 4/10 [00:01<00:02,  2.23it/s]\n",
      "Feature Extraction:  50%|███████████████████████████████▌                               | 5/10 [00:01<00:01,  2.51it/s]\n",
      "Feature Extraction:  70%|████████████████████████████████████████████                   | 7/10 [00:02<00:00,  3.12it/s]\n",
      "Feature Extraction:  90%|████████████████████████████████████████████████████████▋      | 9/10 [00:02<00:00,  3.69it/s]\n",
      "Feature Extraction: 100%|██████████████████████████████████████████████████████████████| 10/10 [00:02<00:00,  4.03it/s]"
     ]
    },
    {
     "name": "stdout",
     "output_type": "stream",
     "text": [
      "5  iterations\n"
     ]
    },
    {
     "data": {
      "image/png": "[encoded data removed]",
      "text/plain": [
       "<matplotlib.figure.Figure at 0x24b02e95dd8>"
      ]
     },
     "metadata": {},
     "output_type": "display_data"
    },
    {
     "name": "stderr",
     "output_type": "stream",
     "text": [
      "\n",
      "Feature Extraction:   0%|                                                                       | 0/10 [00:00<?, ?it/s]\n",
      "Feature Extraction:  10%|██████▎                                                        | 1/10 [00:01<00:12,  1.43s/it]\n",
      "Feature Extraction:  30%|██████████████████▉                                            | 3/10 [00:01<00:03,  1.84it/s]\n",
      "Feature Extraction:  50%|███████████████████████████████▌                               | 5/10 [00:01<00:01,  2.66it/s]\n",
      "Feature Extraction:  60%|█████████████████████████████████████▊                         | 6/10 [00:02<00:01,  2.81it/s]\n",
      "Feature Extraction:  70%|████████████████████████████████████████████                   | 7/10 [00:02<00:00,  3.28it/s]\n",
      "Feature Extraction:  90%|████████████████████████████████████████████████████████▋      | 9/10 [00:02<00:00,  3.87it/s]\n",
      "Feature Extraction: 100%|██████████████████████████████████████████████████████████████| 10/10 [00:02<00:00,  4.19it/s]"
     ]
    },
    {
     "name": "stdout",
     "output_type": "stream",
     "text": [
      "6  iterations\n"
     ]
    },
    {
     "data": {
      "image/png": "[encoded data removed]",
      "text/plain": [
       "<matplotlib.figure.Figure at 0x24b061ecc18>"
      ]
     },
     "metadata": {},
     "output_type": "display_data"
    },
    {
     "name": "stderr",
     "output_type": "stream",
     "text": [
      "\n",
      "Feature Extraction:   0%|                                                                       | 0/10 [00:00<?, ?it/s]\n",
      "Feature Extraction:  10%|██████▎                                                        | 1/10 [00:01<00:14,  1.64s/it]\n",
      "Feature Extraction:  20%|████████████▌                                                  | 2/10 [00:01<00:06,  1.21it/s]\n",
      "Feature Extraction:  40%|█████████████████████████▏                                     | 4/10 [00:01<00:02,  2.23it/s]\n",
      "Feature Extraction:  50%|███████████████████████████████▌                               | 5/10 [00:01<00:01,  2.56it/s]\n",
      "Feature Extraction:  60%|█████████████████████████████████████▊                         | 6/10 [00:02<00:01,  2.94it/s]\n",
      "Feature Extraction:  70%|████████████████████████████████████████████                   | 7/10 [00:02<00:00,  3.19it/s]\n",
      "Feature Extraction:  90%|████████████████████████████████████████████████████████▋      | 9/10 [00:02<00:00,  3.79it/s]\n",
      "Feature Extraction: 100%|██████████████████████████████████████████████████████████████| 10/10 [00:02<00:00,  4.10it/s]"
     ]
    },
    {
     "name": "stdout",
     "output_type": "stream",
     "text": [
      "7  iterations\n"
     ]
    },
    {
     "data": {
      "image/png": "[encoded data removed]",
      "text/plain": [
       "<matplotlib.figure.Figure at 0x24b093cd518>"
      ]
     },
     "metadata": {},
     "output_type": "display_data"
    },
    {
     "name": "stderr",
     "output_type": "stream",
     "text": [
      "\n",
      "Feature Extraction:   0%|                                                                       | 0/10 [00:00<?, ?it/s]\n",
      "Feature Extraction:  10%|██████▎                                                        | 1/10 [00:01<00:11,  1.33s/it]\n",
      "Feature Extraction:  20%|████████████▌                                                  | 2/10 [00:01<00:05,  1.49it/s]\n",
      "Feature Extraction:  30%|██████████████████▉                                            | 3/10 [00:01<00:03,  1.92it/s]\n",
      "Feature Extraction:  40%|█████████████████████████▏                                     | 4/10 [00:01<00:02,  2.56it/s]\n",
      "Feature Extraction:  50%|███████████████████████████████▌                               | 5/10 [00:01<00:01,  2.69it/s]\n",
      "Feature Extraction:  60%|█████████████████████████████████████▊                         | 6/10 [00:01<00:01,  3.20it/s]\n",
      "Feature Extraction:  90%|████████████████████████████████████████████████████████▋      | 9/10 [00:02<00:00,  4.26it/s]\n",
      "Feature Extraction: 100%|██████████████████████████████████████████████████████████████| 10/10 [00:02<00:00,  4.63it/s]"
     ]
    },
    {
     "name": "stdout",
     "output_type": "stream",
     "text": [
      "8  iterations\n"
     ]
    },
    {
     "data": {
      "image/png": "[encoded data removed]",
      "text/plain": [
       "<matplotlib.figure.Figure at 0x24b041e3e10>"
      ]
     },
     "metadata": {},
     "output_type": "display_data"
    },
    {
     "name": "stderr",
     "output_type": "stream",
     "text": [
      "\n",
      "Feature Extraction:   0%|                                                                       | 0/10 [00:00<?, ?it/s]\n",
      "Feature Extraction:  10%|██████▎                                                        | 1/10 [00:01<00:13,  1.45s/it]\n",
      "Feature Extraction:  20%|████████████▌                                                  | 2/10 [00:01<00:05,  1.38it/s]\n",
      "Feature Extraction:  40%|█████████████████████████▏                                     | 4/10 [00:01<00:02,  2.49it/s]\n",
      "Feature Extraction:  50%|███████████████████████████████▌                               | 5/10 [00:01<00:01,  2.75it/s]\n",
      "Feature Extraction:  60%|█████████████████████████████████████▊                         | 6/10 [00:01<00:01,  3.27it/s]\n",
      "Feature Extraction:  80%|██████████████████████████████████████████████████▍            | 8/10 [00:01<00:00,  4.04it/s]\n",
      "Feature Extraction:  90%|████████████████████████████████████████████████████████▋      | 9/10 [00:02<00:00,  4.21it/s]\n",
      "Feature Extraction: 100%|██████████████████████████████████████████████████████████████| 10/10 [00:02<00:00,  4.56it/s]"
     ]
    },
    {
     "name": "stdout",
     "output_type": "stream",
     "text": [
      "9  iterations\n"
     ]
    },
    {
     "data": {
      "image/png": "[encoded data removed]",
      "text/plain": [
       "<matplotlib.figure.Figure at 0x24b7be7cac8>"
      ]
     },
     "metadata": {},
     "output_type": "display_data"
    }
   ],
   "source": [
    "from sklearn.metrics import confusion_matrix\n",
    "\n",
    "for j in range(0,10): \n",
    "    X = extract_features(df_essai, column_id=\"Id1\", default_fc_parameters=MinimalFCParameters())\n",
    "    print(j , \" iterations\")\n",
    "\n",
    "    ### on fait une liste correspondant à tous les numeros d'id existant 2304 et non 2303 car 1er id=0\n",
    "    y= list(df_2.iloc[:,1])\n",
    "\n",
    "\n",
    "\n",
    "    ### on creer un echatillon train 80% et test 20% \n",
    "    X_train,X_test,y_train,y_test = train_test_split(X,y,test_size=0.1)\n",
    "    listAcc= []\n",
    "    listeInd=[]\n",
    "    for i in range(2,40):\n",
    "    ### k plus proche voisins \n",
    "        knn = KNeighborsClassifier(n_neighbors =i)\n",
    "        knn.fit(X_train, y_train)\n",
    "        Y_pred = knn.predict(X_test)\n",
    "        \n",
    "        listAcc.append((Y_pred==y_test).mean())\n",
    "        \n",
    "        listeInd.append(i)\n",
    "    plot(listeInd, listAcc)\n",
    "    plt.show()\n",
    "\n",
    "#print(confusion_matrix( y_test, Y_pred))\n",
    "\n",
    "\n",
    "\n"
   ]
  },
  {
   "cell_type": "code",
   "execution_count": 67,
   "metadata": {},
   "outputs": [
    {
     "name": "stdout",
     "output_type": "stream",
     "text": [
      "0.327510917031\n"
     ]
    },
    {
     "data": {
      "text/plain": [
       "array([[ 1, 79,  0,  0,  0],\n",
       "       [ 1, 73,  1,  0,  0],\n",
       "       [ 0, 54,  1,  0,  0],\n",
       "       [ 1, 15,  2,  0,  1],\n",
       "       [ 0,  0,  0,  0,  0]], dtype=int64)"
      ]
     },
     "execution_count": 67,
     "metadata": {},
     "output_type": "execute_result"
    }
   ],
   "source": [
    "lm = linear_model.LinearRegression()\n",
    "model = lm.fit(X_train, y_train)\n",
    "Y_pred = lm.predict(X_test)\n",
    "Y_pred=np.round(Y_pred)\n",
    "print((Y_pred==y_test).mean())\n",
    "confusion_matrix( y_test, Y_pred)"
   ]
  },
  {
   "cell_type": "code",
   "execution_count": 68,
   "metadata": {},
   "outputs": [
    {
     "name": "stderr",
     "output_type": "stream",
     "text": [
      "D:\\Programmes\\Anaconda2\\lib\\site-packages\\sklearn\\model_selection\\_split.py:605: Warning: The least populated class in y has only 2 members, which is too few. The minimum number of members in any class cannot be less than n_splits=5.\n",
      "  % (min_groups, self.n_splits)), Warning)\n"
     ]
    },
    {
     "name": "stdout",
     "output_type": "stream",
     "text": [
      "[ 0.43  0.43  0.39  0.43  0.43]\n",
      "0.423135928304\n",
      "0.0158844341811\n"
     ]
    },
    {
     "name": "stderr",
     "output_type": "stream",
     "text": [
      "D:\\Programmes\\Anaconda2\\lib\\site-packages\\sklearn\\model_selection\\_split.py:605: Warning: The least populated class in y has only 2 members, which is too few. The minimum number of members in any class cannot be less than n_splits=10.\n",
      "  % (min_groups, self.n_splits)), Warning)\n"
     ]
    },
    {
     "name": "stdout",
     "output_type": "stream",
     "text": [
      "[ 0.45  0.44  0.4   0.43  0.41  0.39  0.45  0.4   0.39  0.41]\n",
      "0.415199188001\n",
      "0.0215343097521\n"
     ]
    },
    {
     "name": "stderr",
     "output_type": "stream",
     "text": [
      "D:\\Programmes\\Anaconda2\\lib\\site-packages\\sklearn\\model_selection\\_split.py:605: Warning: The least populated class in y has only 2 members, which is too few. The minimum number of members in any class cannot be less than n_splits=3.\n",
      "  % (min_groups, self.n_splits)), Warning)\n"
     ]
    },
    {
     "name": "stdout",
     "output_type": "stream",
     "text": [
      "[ 0.42  0.39  0.43]\n",
      "0.413549900669\n",
      "0.0175644795504\n",
      "[ 0.41  0.4 ]\n",
      "0.406108507548\n",
      "0.00575885719865\n"
     ]
    }
   ],
   "source": [
    "#moyenne similaire si on decoupe en 10 ou en 5 (10% 20% de test ), plus de variance avec 10%\n",
    "\n",
    "from sklearn.model_selection import cross_val_score\n",
    "scores = cross_val_score(knn, X, y, cv=5)\n",
    "print(scores)\n",
    "print(np.mean(scores))\n",
    "print(np.std(scores))\n",
    "scores = cross_val_score(knn, X, y, cv=10)\n",
    "print(scores)\n",
    "print(np.mean(scores))\n",
    "print(np.std(scores ))\n",
    "\n",
    "\n",
    "scores = cross_val_score(knn, X, y, cv=3)\n",
    "print(scores)\n",
    "print(np.mean(scores))\n",
    "print(np.std(scores ))\n",
    "\n",
    "scores = cross_val_score(knn, X, y, cv=2)\n",
    "print(scores)\n",
    "print(np.mean(scores))\n",
    "print(np.std(scores ))"
   ]
  },
  {
   "cell_type": "code",
   "execution_count": 59,
   "metadata": {},
   "outputs": [
    {
     "name": "stderr",
     "output_type": "stream",
     "text": [
      "D:\\Programmes\\Anaconda2\\lib\\site-packages\\ipykernel_launcher.py:2: UserWarning: Boolean Series key will be reindexed to match DataFrame index.\n",
      "  \n",
      "D:\\Programmes\\Anaconda2\\lib\\site-packages\\ipykernel_launcher.py:3: UserWarning: Boolean Series key will be reindexed to match DataFrame index.\n",
      "  This is separate from the ipykernel package so we can avoid doing imports until\n",
      "D:\\Programmes\\Anaconda2\\lib\\site-packages\\ipykernel_launcher.py:4: UserWarning: Boolean Series key will be reindexed to match DataFrame index.\n",
      "  after removing the cwd from sys.path.\n",
      "D:\\Programmes\\Anaconda2\\lib\\site-packages\\ipykernel_launcher.py:5: UserWarning: Boolean Series key will be reindexed to match DataFrame index.\n",
      "  \"\"\"\n"
     ]
    },
    {
     "name": "stdout",
     "output_type": "stream",
     "text": [
      "10.260296295012957\n",
      "7.442861394199991\n",
      "9.010692001650744\n",
      "20.353639509896883\n"
     ]
    }
   ],
   "source": [
    "#est ce que les classes sont valables , tout le monde est est mis en voiture sans contraintes de vitesse\n",
    "df_voiture= df_essai[df_1.moyenT==1]\n",
    "df_marche= df_essai[df_1.moyenT==2]\n",
    "df_bus= df_essai[df_1.moyenT==3]\n",
    "df_rer= df_essai[df_1.moyenT==4]\n",
    "print(df_voiture.speed.mean())\n",
    "print(df_marche.speed.mean())\n",
    "print(df_bus.speed.mean())\n",
    "print(df_rer.speed.mean())\n"
   ]
  },
  {
   "cell_type": "code",
   "execution_count": 69,
   "metadata": {},
   "outputs": [
    {
     "name": "stdout",
     "output_type": "stream",
     "text": [
      "0.410480349345\n",
      "0.406113537118\n",
      "0.410480349345\n",
      "0.401746724891\n",
      "0.393013100437\n",
      "0.414847161572\n",
      "0.43231441048\n",
      "0.43231441048\n",
      "0.445414847162\n",
      "0.449781659389\n",
      "0.471615720524\n",
      "0.454148471616\n",
      "0.458515283843\n",
      "0.454148471616\n",
      "0.445414847162\n",
      "0.43231441048\n",
      "0.406113537118\n",
      "0.427947598253\n",
      "0.441048034934\n",
      "0.427947598253\n",
      "0.454148471616\n",
      "0.445414847162\n",
      "0.419213973799\n",
      "0.436681222707\n",
      "0.449781659389\n",
      "0.458515283843\n",
      "0.458515283843\n",
      "0.445414847162\n"
     ]
    }
   ],
   "source": [
    "for k in range(2,30 ):\n",
    "    knn = KNeighborsClassifier(n_neighbors =k)\n",
    "    knn.fit(X_train, y_train)\n",
    "    Y_pred = knn.predict(X_test)\n",
    "    print((Y_pred==y_test).mean())\n"
   ]
  },
  {
   "cell_type": "code",
   "execution_count": 58,
   "metadata": {},
   "outputs": [
    {
     "name": "stdout",
     "output_type": "stream",
     "text": [
      "Using matplotlib backend: Qt5Agg\n",
      "Confusion matrix, without normalization\n",
      "[[104  35   3   0]\n",
      " [ 67  66  11   1]\n",
      " [ 79  28  14   1]\n",
      " [ 30  12   4   3]]\n",
      "Normalized confusion matrix\n",
      "[[ 0.73  0.25  0.02  0.  ]\n",
      " [ 0.46  0.46  0.08  0.01]\n",
      " [ 0.65  0.23  0.11  0.01]\n",
      " [ 0.61  0.24  0.08  0.06]]\n"
     ]
    }
   ],
   "source": [
    "import itertools\n",
    "%matplotlib\n",
    "import numpy as np\n",
    "import matplotlib.pyplot as plt\n",
    "\n",
    "from sklearn import svm, datasets\n",
    "from sklearn.model_selection import train_test_split\n",
    "from sklearn.metrics import confusion_matrix\n",
    "\n",
    "y_test = y_test\n",
    "y_pred = Y_pred\n",
    "\n",
    "\n",
    "def plot_confusion_matrix(cm, classes,\n",
    "                          normalize=False,\n",
    "                          title='Confusion matrix',\n",
    "                          cmap=plt.cm.Blues):\n",
    "    \"\"\"\n",
    "    This function prints and plots the confusion matrix.\n",
    "    Normalization can be applied by setting `normalize=True`.\n",
    "    \"\"\"\n",
    "    if normalize:\n",
    "        cm = cm.astype('float') / cm.sum(axis=1)[:, np.newaxis]\n",
    "        print(\"Normalized confusion matrix\")\n",
    "    else:\n",
    "        print('Confusion matrix, without normalization')\n",
    "\n",
    "    print(cm)\n",
    "\n",
    "    plt.imshow(cm, interpolation='nearest', cmap=cmap)\n",
    "    plt.title(title)\n",
    "    plt.colorbar()\n",
    "    tick_marks = np.arange(len(classes))\n",
    "    plt.xticks(tick_marks, classes, rotation=45)\n",
    "    plt.yticks(tick_marks, classes)\n",
    "\n",
    "    fmt = '.2f' if normalize else 'd'\n",
    "    thresh = cm.max() / 2.\n",
    "    for i, j in itertools.product(range(cm.shape[0]), range(cm.shape[1])):\n",
    "        plt.text(j, i, format(cm[i, j], fmt),\n",
    "                 horizontalalignment=\"center\",\n",
    "                 color=\"white\" if cm[i, j] > thresh else \"black\")\n",
    "\n",
    "    plt.tight_layout()\n",
    "    plt.ylabel('True label')\n",
    "    plt.xlabel('Predicted label')\n",
    "\n",
    "# Compute confusion matrix\n",
    "cnf_matrix = confusion_matrix(y_test, y_pred)\n",
    "np.set_printoptions(precision=2)\n",
    "\n",
    "# Plot non-normalized confusion matrix\n",
    "plt.figure()\n",
    "plot_confusion_matrix(cnf_matrix, classes=['voiture', 'marche', 'bus', 'rer'],\n",
    "                      title='Confusion matrix, without normalization')\n",
    "\n",
    "# Plot normalized confusion matrix\n",
    "plt.figure()\n",
    "plot_confusion_matrix(cnf_matrix, classes=['voiture', 'marche', 'bus', 'rer'], normalize=True,\n",
    "                      title='Normalized confusion matrix')\n",
    "\n",
    "plt.show()"
   ]
  },
  {
   "cell_type": "code",
   "execution_count": 57,
   "metadata": {},
   "outputs": [
    {
     "name": "stdout",
     "output_type": "stream",
     "text": [
      "0.408296943231\n",
      "[[104  35   3   0]\n",
      " [ 67  66  11   1]\n",
      " [ 79  28  14   1]\n",
      " [ 30  12   4   3]]\n"
     ]
    }
   ],
   "source": [
    "from sklearn import svm\n",
    "\n",
    "clf = svm.SVC()\n",
    "clf.fit(X_train, y_train)  \n",
    "SVC(C=1.0, cache_size=200, class_weight=None, coef0=0.0,\n",
    "    decision_function_shape='ovr', degree=3, gamma='auto', kernel='rbf',\n",
    "    max_iter=-1, probability=False, random_state=None, shrinking=True,\n",
    "    tol=0.001, verbose=False)\n",
    "Y_pred= clf.predict(X_test)\n",
    "print((Y_pred==y_test).mean())\n",
    "print(confusion_matrix( y_test, Y_pred))\n"
   ]
  },
  {
   "cell_type": "code",
   "execution_count": 40,
   "metadata": {},
   "outputs": [
    {
     "name": "stderr",
     "output_type": "stream",
     "text": [
      "Feature Extraction: 100%|██████████████████████████████████████████████████████████████| 10/10 [00:03<00:00,  3.01it/s]\n"
     ]
    },
    {
     "name": "stdout",
     "output_type": "stream",
     "text": [
      "[0.1, 0.2, 0.3, 0.4, 0.5, 0.6, 0.7, 0.8, 0.9, 0.1, 0.2, 0.3, 0.4, 0.5, 0.6, 0.7, 0.8, 0.9, 0.1, 0.2, 0.3, 0.4, 0.5, 0.6, 0.7, 0.8, 0.9, 0.1, 0.2, 0.3, 0.4, 0.5, 0.6, 0.7, 0.8, 0.9, 0.1, 0.2, 0.3, 0.4, 0.5, 0.6, 0.7, 0.8, 0.9, 0.1, 0.2, 0.3, 0.4, 0.5, 0.6, 0.7, 0.8, 0.9, 0.1, 0.2, 0.3, 0.4, 0.5, 0.6, 0.7, 0.8, 0.9, 0.1, 0.2, 0.3, 0.4, 0.5, 0.6, 0.7, 0.8, 0.9, 0.1, 0.2, 0.3, 0.4, 0.5, 0.6, 0.7, 0.8, 0.9, 0.1, 0.2, 0.3, 0.4, 0.5, 0.6, 0.7, 0.8, 0.9, 0.1, 0.2, 0.3, 0.4, 0.5, 0.6, 0.7, 0.8, 0.9, 0.1, 0.2, 0.3, 0.4, 0.5, 0.6, 0.7, 0.8, 0.9, 0.1, 0.2, 0.3, 0.4, 0.5, 0.6, 0.7, 0.8, 0.9, 0.1, 0.2, 0.3, 0.4, 0.5, 0.6, 0.7, 0.8, 0.9, 0.1, 0.2, 0.3, 0.4, 0.5, 0.6, 0.7, 0.8, 0.9, 0.1, 0.2, 0.3, 0.4, 0.5, 0.6, 0.7, 0.8, 0.9, 0.1, 0.2, 0.3, 0.4, 0.5, 0.6, 0.7, 0.8, 0.9, 0.1, 0.2, 0.3, 0.4, 0.5, 0.6, 0.7, 0.8, 0.9, 0.1, 0.2, 0.3, 0.4, 0.5, 0.6, 0.7, 0.8, 0.9, 0.1, 0.2, 0.3, 0.4, 0.5, 0.6, 0.7, 0.8, 0.9, 0.1, 0.2, 0.3, 0.4, 0.5, 0.6, 0.7, 0.8, 0.9, 0.1, 0.2, 0.3, 0.4, 0.5, 0.6, 0.7, 0.8, 0.9, 0.1, 0.2, 0.3, 0.4, 0.5, 0.6, 0.7, 0.8, 0.9, 0.1, 0.2, 0.3, 0.4, 0.5, 0.6, 0.7, 0.8, 0.9, 0.1, 0.2, 0.3, 0.4, 0.5, 0.6, 0.7, 0.8, 0.9, 0.1, 0.2, 0.3, 0.4, 0.5, 0.6, 0.7, 0.8, 0.9, 0.1, 0.2, 0.3, 0.4, 0.5, 0.6, 0.7, 0.8, 0.9, 0.1, 0.2, 0.3, 0.4, 0.5, 0.6, 0.7, 0.8, 0.9, 0.1, 0.2, 0.3, 0.4, 0.5, 0.6, 0.7, 0.8, 0.9, 0.1, 0.2, 0.3, 0.4, 0.5, 0.6, 0.7, 0.8, 0.9, 0.1, 0.2, 0.3, 0.4, 0.5, 0.6, 0.7, 0.8, 0.9, 0.1, 0.2, 0.3, 0.4, 0.5, 0.6, 0.7, 0.8, 0.9, 0.1, 0.2, 0.3, 0.4, 0.5, 0.6, 0.7, 0.8, 0.9, 0.1, 0.2, 0.3, 0.4, 0.5, 0.6, 0.7, 0.8, 0.9, 0.1, 0.2, 0.3, 0.4, 0.5, 0.6, 0.7, 0.8, 0.9, 0.1, 0.2, 0.3, 0.4, 0.5, 0.6, 0.7, 0.8, 0.9, 0.1, 0.2, 0.3, 0.4, 0.5, 0.6, 0.7, 0.8, 0.9, 0.1, 0.2, 0.3, 0.4, 0.5, 0.6, 0.7, 0.8, 0.9, 0.1, 0.2, 0.3, 0.4, 0.5, 0.6, 0.7, 0.8, 0.9, 0.1, 0.2, 0.3, 0.4, 0.5, 0.6, 0.7, 0.8, 0.9, 0.1, 0.2, 0.3, 0.4, 0.5, 0.6, 0.7, 0.8, 0.9, 0.1, 0.2, 0.3, 0.4, 0.5, 0.6, 0.7, 0.8, 0.9, 0.1, 0.2, 0.3, 0.4, 0.5, 0.6, 0.7, 0.8, 0.9, 0.1, 0.2, 0.3, 0.4, 0.5, 0.6, 0.7, 0.8, 0.9, 0.1, 0.2, 0.3, 0.4, 0.5, 0.6, 0.7, 0.8, 0.9, 0.1, 0.2, 0.3, 0.4, 0.5, 0.6, 0.7, 0.8, 0.9, 0.1, 0.2, 0.3, 0.4, 0.5, 0.6, 0.7, 0.8, 0.9, 0.1, 0.2, 0.3, 0.4, 0.5, 0.6, 0.7, 0.8, 0.9, 0.1, 0.2, 0.3, 0.4, 0.5, 0.6, 0.7, 0.8, 0.9, 0.1, 0.2, 0.3, 0.4, 0.5, 0.6, 0.7, 0.8, 0.9, 0.1, 0.2, 0.3, 0.4, 0.5, 0.6, 0.7, 0.8, 0.9, 0.1, 0.2, 0.3, 0.4, 0.5, 0.6, 0.7, 0.8, 0.9, 0.1, 0.2, 0.3, 0.4, 0.5, 0.6, 0.7, 0.8, 0.9, 0.1, 0.2, 0.3, 0.4, 0.5, 0.6, 0.7, 0.8, 0.9, 0.1, 0.2, 0.3, 0.4, 0.5, 0.6, 0.7, 0.8, 0.9, 0.1, 0.2, 0.3, 0.4, 0.5, 0.6, 0.7, 0.8, 0.9, 0.1, 0.2, 0.3, 0.4, 0.5, 0.6, 0.7, 0.8, 0.9, 0.1, 0.2, 0.3, 0.4, 0.5, 0.6, 0.7, 0.8, 0.9, 0.1, 0.2, 0.3, 0.4, 0.5, 0.6, 0.7, 0.8, 0.9, 0.1, 0.2, 0.3, 0.4, 0.5, 0.6, 0.7, 0.8, 0.9, 0.1, 0.2, 0.3, 0.4, 0.5, 0.6, 0.7, 0.8, 0.9, 0.1, 0.2, 0.3, 0.4, 0.5, 0.6, 0.7, 0.8, 0.9, 0.1, 0.2, 0.3, 0.4, 0.5, 0.6, 0.7, 0.8, 0.9, 0.1, 0.2, 0.3, 0.4, 0.5, 0.6, 0.7, 0.8, 0.9, 0.1, 0.2, 0.3, 0.4, 0.5, 0.6, 0.7, 0.8, 0.9, 0.1, 0.2, 0.3, 0.4, 0.5, 0.6, 0.7, 0.8, 0.9, 0.1, 0.2, 0.3, 0.4, 0.5, 0.6, 0.7, 0.8, 0.9, 0.1, 0.2, 0.3, 0.4, 0.5, 0.6, 0.7, 0.8, 0.9, 0.1, 0.2, 0.3, 0.4, 0.5, 0.6, 0.7, 0.8, 0.9, 0.1, 0.2, 0.3, 0.4, 0.5, 0.6, 0.7, 0.8, 0.9, 0.1, 0.2, 0.3, 0.4, 0.5, 0.6, 0.7, 0.8, 0.9, 0.1, 0.2, 0.3, 0.4, 0.5, 0.6, 0.7, 0.8, 0.9, 0.1, 0.2, 0.3, 0.4, 0.5, 0.6, 0.7, 0.8, 0.9, 0.1, 0.2, 0.3, 0.4, 0.5, 0.6, 0.7, 0.8, 0.9, 0.1, 0.2, 0.3, 0.4, 0.5, 0.6, 0.7, 0.8, 0.9, 0.1, 0.2, 0.3, 0.4, 0.5, 0.6, 0.7, 0.8, 0.9, 0.1, 0.2, 0.3, 0.4, 0.5, 0.6, 0.7, 0.8, 0.9, 0.1, 0.2, 0.3, 0.4, 0.5, 0.6, 0.7, 0.8, 0.9, 0.1, 0.2, 0.3, 0.4, 0.5, 0.6, 0.7, 0.8, 0.9, 0.1, 0.2, 0.3, 0.4, 0.5, 0.6, 0.7, 0.8, 0.9, 0.1, 0.2, 0.3, 0.4, 0.5, 0.6, 0.7, 0.8, 0.9, 0.1, 0.2, 0.3, 0.4, 0.5, 0.6, 0.7, 0.8, 0.9, 0.1, 0.2, 0.3, 0.4, 0.5, 0.6, 0.7, 0.8, 0.9, 0.1, 0.2, 0.3, 0.4, 0.5, 0.6, 0.7, 0.8, 0.9, 0.1, 0.2, 0.3, 0.4, 0.5, 0.6, 0.7, 0.8, 0.9, 0.1, 0.2, 0.3, 0.4, 0.5, 0.6, 0.7, 0.8, 0.9, 0.1, 0.2, 0.3, 0.4, 0.5, 0.6, 0.7, 0.8, 0.9, 0.1, 0.2, 0.3, 0.4, 0.5, 0.6, 0.7, 0.8, 0.9, 0.1, 0.2, 0.3, 0.4, 0.5, 0.6, 0.7, 0.8, 0.9, 0.1, 0.2, 0.3, 0.4, 0.5, 0.6, 0.7, 0.8, 0.9, 0.1, 0.2, 0.3, 0.4, 0.5, 0.6, 0.7, 0.8, 0.9, 0.1, 0.2, 0.3, 0.4, 0.5, 0.6, 0.7, 0.8, 0.9, 0.1, 0.2, 0.3, 0.4, 0.5, 0.6, 0.7, 0.8, 0.9, 0.1, 0.2, 0.3, 0.4, 0.5, 0.6, 0.7, 0.8, 0.9, 0.1, 0.2, 0.3, 0.4, 0.5, 0.6, 0.7, 0.8, 0.9, 0.1, 0.2, 0.3, 0.4, 0.5, 0.6, 0.7, 0.8, 0.9, 0.1, 0.2, 0.3, 0.4, 0.5, 0.6, 0.7, 0.8, 0.9, 0.1, 0.2, 0.3, 0.4, 0.5, 0.6, 0.7, 0.8, 0.9, 0.1, 0.2, 0.3, 0.4, 0.5, 0.6, 0.7, 0.8, 0.9, 0.1, 0.2, 0.3, 0.4, 0.5, 0.6, 0.7, 0.8, 0.9]\n"
     ]
    }
   ],
   "source": [
    "### on extracte les features en fonction de la colonne id \n",
    "X = extract_features(df_essai, column_id=\"Id1\", default_fc_parameters=MinimalFCParameters())\n",
    "from matplotlib.lines import Line2D\n",
    "\n",
    "\n",
    "### on fait une liste correspondant à tous les numeros d'id existant \n",
    "y=[]\n",
    "for i in range(0, 2290):\n",
    "    y.append(i)\n",
    "    \n",
    "\n",
    "### on itere sans fois des predictions avec à chaque une proportien test et train differentes, pour trouver la meilleur proportion\n",
    "## pour l'apprentissage \n",
    "    \n",
    "\n",
    "maximum=0\n",
    "Tab=[]\n",
    "Tab.append(0)\n",
    "valeur=[]\n",
    "abscisse=[0.1,0.2,0.3,0.4,0.5,0.6,0.7,0.8,0.9]*100\n",
    "print(abscisse)\n",
    "for p in range(0,100):\n",
    "    for j in range(1,10):\n",
    "\n",
    "        ### on creer un echatillon train 80% et test 20% \n",
    "        X_train,X_test,y_train,y_test = train_test_split(X,y,test_size=j/10)\n",
    "\n",
    "\n",
    "        ### on reshape les y train et test pour les utiliser dans des fonctions de predictions \n",
    "        yy_train=np.array(y_train).reshape(-1,1)\n",
    "        yy_test=np.array(y_test).reshape(-1,1)\n",
    "\n",
    "            ### k plus proche voisins \n",
    "        knn = KNeighborsClassifier(n_neighbors =2)\n",
    "        knn.fit(X_train, y_train)\n",
    "        Y_pred = knn.predict(X_test)\n",
    "        acc_knn = round(knn.score(X_train, y_train) * 100, 2)\n",
    "        acc_knn\n",
    "\n",
    "\n",
    "\n",
    "        ### p= 85% de bon résultats n=2, 82% n=3 de prédictions de classe \n",
    "        compt=0\n",
    "        c1=c2=c3=c4=0\n",
    "        c1v=c2v=c3v=c4v=0\n",
    "        for i in range(0, len(y_test)):\n",
    "            if df_2.iloc[Y_pred[i],1] ==df_2.iloc[y_test[i],1]:\n",
    "                compt=compt+1\n",
    "                if df_2.iloc[Y_pred[i],1]==1:\n",
    "                    c1=c1+1\n",
    "                elif df_2.iloc[Y_pred[i],1]==2:\n",
    "                    c2=c2+1\n",
    "                elif df_2.iloc[Y_pred[i],1]==3:\n",
    "                    c3=c3+1\n",
    "                else: c4=c4+1\n",
    "\n",
    "            if df_2.iloc[y_test[i],1]==1:\n",
    "                c1v=c1v+1\n",
    "            if df_2.iloc[y_test[i],1]==2:\n",
    "                c2v=c2v+1\n",
    "            if df_2.iloc[y_test[i],1]==3:\n",
    "                c3v=c3v+1\n",
    "            if df_2.iloc[y_test[i],1]==4:\n",
    "                c4v=c4v+1\n",
    "\n",
    "\n",
    "\n",
    "        p= compt*100/len(y_test)\n",
    "        \n",
    "        if p>maximum:\n",
    "            del Tab[0]\n",
    "            Tab.append([X_train,X_test,y_train,y_test  ] )\n",
    "            maximum=p\n",
    "        valeur.append(p)\n",
    "\n",
    "plt.plot(abscisse, valeur ,'bo')\n",
    "plt.ylabel('Label 1')\n",
    "plt.show()\n"
   ]
  },
  {
   "cell_type": "code",
   "execution_count": 41,
   "metadata": {},
   "outputs": [
    {
     "name": "stdout",
     "output_type": "stream",
     "text": [
      "43.66812227074236\n",
      "34 35 28 3\n",
      "71 79 67 11\n"
     ]
    },
    {
     "data": {
      "text/plain": [
       "array([[35, 21, 12,  4],\n",
       "       [15, 35, 20,  9],\n",
       "       [15, 20, 28,  4],\n",
       "       [ 2,  3,  3,  3]], dtype=int64)"
      ]
     },
     "execution_count": 41,
     "metadata": {},
     "output_type": "execute_result"
    }
   ],
   "source": [
    "### Comme on peut le voir sur le schema l'accuracy  est en moyenne  meilleur pour size(X_train)>=0.6* size(X)\n",
    "### pour les k means , on favorisera une proportion entre 0.2 et 0.4 pour l'echantillon test , \n",
    "#car pour l'echantillon 0.1 size de X\n",
    "### la variance est trop grande \n",
    "\n",
    "# Ci dessous on a le resultat des meilleurs predicitions (à titre d'exemple )\n",
    "\n",
    "X_train,X_test,y_train,y_test = Tab[0]\n",
    "\n",
    "### k plus proche voisins \n",
    "knn = KNeighborsClassifier(n_neighbors =2)\n",
    "knn.fit(X_train, y_train)\n",
    "Y_pred = knn.predict(X_test)\n",
    "acc_knn = round(knn.score(X_train, y_train) * 100, 2)\n",
    "acc_knn\n",
    "\n",
    "\n",
    "compt=0\n",
    "c1=c2=c3=c4=0\n",
    "c1v=c2v=c3v=c4v=0\n",
    "for i in range(0, len(y_test)-1):\n",
    "    if df_2.iloc[Y_pred[i],1] ==df_2.iloc[y_test[i],1]:\n",
    "        compt=compt+1\n",
    "        if df_2.iloc[Y_pred[i],1]==1:\n",
    "            c1=c1+1\n",
    "        elif df_2.iloc[Y_pred[i],1]==2:\n",
    "            c2=c2+1\n",
    "        elif df_2.iloc[Y_pred[i],1]==3:\n",
    "            c3=c3+1\n",
    "        else: c4=c4+1\n",
    "        \n",
    "    if df_2.iloc[y_test[i],1]==1:\n",
    "        c1v=c1v+1\n",
    "    if df_2.iloc[y_test[i],1]==2:\n",
    "        c2v=c2v+1\n",
    "    if df_2.iloc[y_test[i],1]==3:\n",
    "        c3v=c3v+1\n",
    "    if df_2.iloc[y_test[i],1]==4:\n",
    "        c4v=c4v+1\n",
    "    \n",
    "        \n",
    "\n",
    "p= compt*100/len(y_test)\n",
    "print(p)\n",
    "print(c1, c2, c3, c4)\n",
    "print(c1v, c2v, c3v, c4v)\n",
    "from sklearn.metrics import confusion_matrix\n",
    "confusion_matrix(df_2.iloc[y_test,1 ], df_2.iloc[Y_pred,1 ])\n",
    "### le carré de 4*4 ai milieu voiture = 1, marche =2 , bus =3 , rer = 4\n",
    "\n",
    "\n",
    "\n"
   ]
  },
  {
   "cell_type": "code",
   "execution_count": 42,
   "metadata": {
    "collapsed": true
   },
   "outputs": [],
   "source": [
    "### random forest classifier \n",
    "random_forest = RandomForestClassifier(n_estimators=50)\n",
    "random_forest.fit(X_train, y_train)\n",
    "Y_pred = random_forest.predict(X_test)\n",
    "random_forest.score(X_train, y_train)\n",
    "acc_random_forest = round(random_forest.score(X_train, y_train) * 100, 2)\n",
    "acc_random_forest\n",
    "\n",
    "\n",
    "compt=0\n",
    "for i in range(0, len(y_test)-1):\n",
    "    if df_2.iloc[Y_pred[i],1] ==df_2.iloc[y_test[i],1]:\n",
    "        compt=compt+1\n",
    "\n",
    "p= compt/len(y_test)"
   ]
  },
  {
   "cell_type": "code",
   "execution_count": 43,
   "metadata": {},
   "outputs": [
    {
     "data": {
      "text/plain": [
       "0.4104803493449782"
      ]
     },
     "execution_count": 43,
     "metadata": {},
     "output_type": "execute_result"
    }
   ],
   "source": [
    "p"
   ]
  },
  {
   "cell_type": "code",
   "execution_count": 229,
   "metadata": {},
   "outputs": [
    {
     "name": "stderr",
     "output_type": "stream",
     "text": [
      "Feature Extraction: 100%|██████████████████████████████████████████████████████████████| 10/10 [00:02<00:00,  4.93it/s]\n"
     ]
    },
    {
     "name": "stdout",
     "output_type": "stream",
     "text": [
      "51.94805194805195\n",
      "50.108459869848154\n",
      "45.809248554913296\n",
      "48.915401301518436\n",
      "49.13194444444444\n",
      "46.131597975415765\n",
      "46.24922504649721\n",
      "48.48156182212581\n",
      "46.57666345226615\n",
      "52.38095238095238\n",
      "48.80694143167028\n"
     ]
    },
    {
     "ename": "KeyboardInterrupt",
     "evalue": "",
     "output_type": "error",
     "traceback": [
      "\u001b[1;31m---------------------------------------------------------------------------\u001b[0m",
      "\u001b[1;31mKeyboardInterrupt\u001b[0m                         Traceback (most recent call last)",
      "\u001b[1;32m<ipython-input-229-e719720237d2>\u001b[0m in \u001b[0;36m<module>\u001b[1;34m()\u001b[0m\n\u001b[0;32m     29\u001b[0m         \u001b[0mY_pred\u001b[0m \u001b[1;33m=\u001b[0m \u001b[0mrandom_forest\u001b[0m\u001b[1;33m.\u001b[0m\u001b[0mpredict\u001b[0m\u001b[1;33m(\u001b[0m\u001b[0mX_test\u001b[0m\u001b[1;33m)\u001b[0m\u001b[1;33m\u001b[0m\u001b[0m\n\u001b[0;32m     30\u001b[0m         \u001b[0mrandom_forest\u001b[0m\u001b[1;33m.\u001b[0m\u001b[0mscore\u001b[0m\u001b[1;33m(\u001b[0m\u001b[0mX_train\u001b[0m\u001b[1;33m,\u001b[0m \u001b[0my_train\u001b[0m\u001b[1;33m)\u001b[0m\u001b[1;33m\u001b[0m\u001b[0m\n\u001b[1;32m---> 31\u001b[1;33m         \u001b[0macc_random_forest\u001b[0m \u001b[1;33m=\u001b[0m \u001b[0mround\u001b[0m\u001b[1;33m(\u001b[0m\u001b[0mrandom_forest\u001b[0m\u001b[1;33m.\u001b[0m\u001b[0mscore\u001b[0m\u001b[1;33m(\u001b[0m\u001b[0mX_train\u001b[0m\u001b[1;33m,\u001b[0m \u001b[0my_train\u001b[0m\u001b[1;33m)\u001b[0m \u001b[1;33m*\u001b[0m \u001b[1;36m100\u001b[0m\u001b[1;33m,\u001b[0m \u001b[1;36m2\u001b[0m\u001b[1;33m)\u001b[0m\u001b[1;33m\u001b[0m\u001b[0m\n\u001b[0m\u001b[0;32m     32\u001b[0m \u001b[1;33m\u001b[0m\u001b[0m\n\u001b[0;32m     33\u001b[0m \u001b[1;33m\u001b[0m\u001b[0m\n",
      "\u001b[1;32mD:\\Programmes\\Anaconda2\\lib\\site-packages\\sklearn\\base.py\u001b[0m in \u001b[0;36mscore\u001b[1;34m(self, X, y, sample_weight)\u001b[0m\n\u001b[0;32m    347\u001b[0m         \"\"\"\n\u001b[0;32m    348\u001b[0m         \u001b[1;32mfrom\u001b[0m \u001b[1;33m.\u001b[0m\u001b[0mmetrics\u001b[0m \u001b[1;32mimport\u001b[0m \u001b[0maccuracy_score\u001b[0m\u001b[1;33m\u001b[0m\u001b[0m\n\u001b[1;32m--> 349\u001b[1;33m         \u001b[1;32mreturn\u001b[0m \u001b[0maccuracy_score\u001b[0m\u001b[1;33m(\u001b[0m\u001b[0my\u001b[0m\u001b[1;33m,\u001b[0m \u001b[0mself\u001b[0m\u001b[1;33m.\u001b[0m\u001b[0mpredict\u001b[0m\u001b[1;33m(\u001b[0m\u001b[0mX\u001b[0m\u001b[1;33m)\u001b[0m\u001b[1;33m,\u001b[0m \u001b[0msample_weight\u001b[0m\u001b[1;33m=\u001b[0m\u001b[0msample_weight\u001b[0m\u001b[1;33m)\u001b[0m\u001b[1;33m\u001b[0m\u001b[0m\n\u001b[0m\u001b[0;32m    350\u001b[0m \u001b[1;33m\u001b[0m\u001b[0m\n\u001b[0;32m    351\u001b[0m \u001b[1;33m\u001b[0m\u001b[0m\n",
      "\u001b[1;32mD:\\Programmes\\Anaconda2\\lib\\site-packages\\sklearn\\ensemble\\forest.py\u001b[0m in \u001b[0;36mpredict\u001b[1;34m(self, X)\u001b[0m\n\u001b[0;32m    536\u001b[0m             \u001b[0mThe\u001b[0m \u001b[0mpredicted\u001b[0m \u001b[0mclasses\u001b[0m\u001b[1;33m.\u001b[0m\u001b[1;33m\u001b[0m\u001b[0m\n\u001b[0;32m    537\u001b[0m         \"\"\"\n\u001b[1;32m--> 538\u001b[1;33m         \u001b[0mproba\u001b[0m \u001b[1;33m=\u001b[0m \u001b[0mself\u001b[0m\u001b[1;33m.\u001b[0m\u001b[0mpredict_proba\u001b[0m\u001b[1;33m(\u001b[0m\u001b[0mX\u001b[0m\u001b[1;33m)\u001b[0m\u001b[1;33m\u001b[0m\u001b[0m\n\u001b[0m\u001b[0;32m    539\u001b[0m \u001b[1;33m\u001b[0m\u001b[0m\n\u001b[0;32m    540\u001b[0m         \u001b[1;32mif\u001b[0m \u001b[0mself\u001b[0m\u001b[1;33m.\u001b[0m\u001b[0mn_outputs_\u001b[0m \u001b[1;33m==\u001b[0m \u001b[1;36m1\u001b[0m\u001b[1;33m:\u001b[0m\u001b[1;33m\u001b[0m\u001b[0m\n",
      "\u001b[1;32mD:\\Programmes\\Anaconda2\\lib\\site-packages\\sklearn\\ensemble\\forest.py\u001b[0m in \u001b[0;36mpredict_proba\u001b[1;34m(self, X)\u001b[0m\n\u001b[0;32m    587\u001b[0m         Parallel(n_jobs=n_jobs, verbose=self.verbose, backend=\"threading\")(\n\u001b[0;32m    588\u001b[0m             \u001b[0mdelayed\u001b[0m\u001b[1;33m(\u001b[0m\u001b[0maccumulate_prediction\u001b[0m\u001b[1;33m)\u001b[0m\u001b[1;33m(\u001b[0m\u001b[0me\u001b[0m\u001b[1;33m.\u001b[0m\u001b[0mpredict_proba\u001b[0m\u001b[1;33m,\u001b[0m \u001b[0mX\u001b[0m\u001b[1;33m,\u001b[0m \u001b[0mall_proba\u001b[0m\u001b[1;33m,\u001b[0m \u001b[0mlock\u001b[0m\u001b[1;33m)\u001b[0m\u001b[1;33m\u001b[0m\u001b[0m\n\u001b[1;32m--> 589\u001b[1;33m             for e in self.estimators_)\n\u001b[0m\u001b[0;32m    590\u001b[0m \u001b[1;33m\u001b[0m\u001b[0m\n\u001b[0;32m    591\u001b[0m         \u001b[1;32mfor\u001b[0m \u001b[0mproba\u001b[0m \u001b[1;32min\u001b[0m \u001b[0mall_proba\u001b[0m\u001b[1;33m:\u001b[0m\u001b[1;33m\u001b[0m\u001b[0m\n",
      "\u001b[1;32mD:\\Programmes\\Anaconda2\\lib\\site-packages\\sklearn\\externals\\joblib\\parallel.py\u001b[0m in \u001b[0;36m__call__\u001b[1;34m(self, iterable)\u001b[0m\n\u001b[0;32m    777\u001b[0m             \u001b[1;31m# was dispatched. In particular this covers the edge\u001b[0m\u001b[1;33m\u001b[0m\u001b[1;33m\u001b[0m\u001b[0m\n\u001b[0;32m    778\u001b[0m             \u001b[1;31m# case of Parallel used with an exhausted iterator.\u001b[0m\u001b[1;33m\u001b[0m\u001b[1;33m\u001b[0m\u001b[0m\n\u001b[1;32m--> 779\u001b[1;33m             \u001b[1;32mwhile\u001b[0m \u001b[0mself\u001b[0m\u001b[1;33m.\u001b[0m\u001b[0mdispatch_one_batch\u001b[0m\u001b[1;33m(\u001b[0m\u001b[0miterator\u001b[0m\u001b[1;33m)\u001b[0m\u001b[1;33m:\u001b[0m\u001b[1;33m\u001b[0m\u001b[0m\n\u001b[0m\u001b[0;32m    780\u001b[0m                 \u001b[0mself\u001b[0m\u001b[1;33m.\u001b[0m\u001b[0m_iterating\u001b[0m \u001b[1;33m=\u001b[0m \u001b[1;32mTrue\u001b[0m\u001b[1;33m\u001b[0m\u001b[0m\n\u001b[0;32m    781\u001b[0m             \u001b[1;32melse\u001b[0m\u001b[1;33m:\u001b[0m\u001b[1;33m\u001b[0m\u001b[0m\n",
      "\u001b[1;32mD:\\Programmes\\Anaconda2\\lib\\site-packages\\sklearn\\externals\\joblib\\parallel.py\u001b[0m in \u001b[0;36mdispatch_one_batch\u001b[1;34m(self, iterator)\u001b[0m\n\u001b[0;32m    623\u001b[0m                 \u001b[1;32mreturn\u001b[0m \u001b[1;32mFalse\u001b[0m\u001b[1;33m\u001b[0m\u001b[0m\n\u001b[0;32m    624\u001b[0m             \u001b[1;32melse\u001b[0m\u001b[1;33m:\u001b[0m\u001b[1;33m\u001b[0m\u001b[0m\n\u001b[1;32m--> 625\u001b[1;33m                 \u001b[0mself\u001b[0m\u001b[1;33m.\u001b[0m\u001b[0m_dispatch\u001b[0m\u001b[1;33m(\u001b[0m\u001b[0mtasks\u001b[0m\u001b[1;33m)\u001b[0m\u001b[1;33m\u001b[0m\u001b[0m\n\u001b[0m\u001b[0;32m    626\u001b[0m                 \u001b[1;32mreturn\u001b[0m \u001b[1;32mTrue\u001b[0m\u001b[1;33m\u001b[0m\u001b[0m\n\u001b[0;32m    627\u001b[0m \u001b[1;33m\u001b[0m\u001b[0m\n",
      "\u001b[1;32mD:\\Programmes\\Anaconda2\\lib\\site-packages\\sklearn\\externals\\joblib\\parallel.py\u001b[0m in \u001b[0;36m_dispatch\u001b[1;34m(self, batch)\u001b[0m\n\u001b[0;32m    586\u001b[0m         \u001b[0mdispatch_timestamp\u001b[0m \u001b[1;33m=\u001b[0m \u001b[0mtime\u001b[0m\u001b[1;33m.\u001b[0m\u001b[0mtime\u001b[0m\u001b[1;33m(\u001b[0m\u001b[1;33m)\u001b[0m\u001b[1;33m\u001b[0m\u001b[0m\n\u001b[0;32m    587\u001b[0m         \u001b[0mcb\u001b[0m \u001b[1;33m=\u001b[0m \u001b[0mBatchCompletionCallBack\u001b[0m\u001b[1;33m(\u001b[0m\u001b[0mdispatch_timestamp\u001b[0m\u001b[1;33m,\u001b[0m \u001b[0mlen\u001b[0m\u001b[1;33m(\u001b[0m\u001b[0mbatch\u001b[0m\u001b[1;33m)\u001b[0m\u001b[1;33m,\u001b[0m \u001b[0mself\u001b[0m\u001b[1;33m)\u001b[0m\u001b[1;33m\u001b[0m\u001b[0m\n\u001b[1;32m--> 588\u001b[1;33m         \u001b[0mjob\u001b[0m \u001b[1;33m=\u001b[0m \u001b[0mself\u001b[0m\u001b[1;33m.\u001b[0m\u001b[0m_backend\u001b[0m\u001b[1;33m.\u001b[0m\u001b[0mapply_async\u001b[0m\u001b[1;33m(\u001b[0m\u001b[0mbatch\u001b[0m\u001b[1;33m,\u001b[0m \u001b[0mcallback\u001b[0m\u001b[1;33m=\u001b[0m\u001b[0mcb\u001b[0m\u001b[1;33m)\u001b[0m\u001b[1;33m\u001b[0m\u001b[0m\n\u001b[0m\u001b[0;32m    589\u001b[0m         \u001b[0mself\u001b[0m\u001b[1;33m.\u001b[0m\u001b[0m_jobs\u001b[0m\u001b[1;33m.\u001b[0m\u001b[0mappend\u001b[0m\u001b[1;33m(\u001b[0m\u001b[0mjob\u001b[0m\u001b[1;33m)\u001b[0m\u001b[1;33m\u001b[0m\u001b[0m\n\u001b[0;32m    590\u001b[0m \u001b[1;33m\u001b[0m\u001b[0m\n",
      "\u001b[1;32mD:\\Programmes\\Anaconda2\\lib\\site-packages\\sklearn\\externals\\joblib\\_parallel_backends.py\u001b[0m in \u001b[0;36mapply_async\u001b[1;34m(self, func, callback)\u001b[0m\n\u001b[0;32m    109\u001b[0m     \u001b[1;32mdef\u001b[0m \u001b[0mapply_async\u001b[0m\u001b[1;33m(\u001b[0m\u001b[0mself\u001b[0m\u001b[1;33m,\u001b[0m \u001b[0mfunc\u001b[0m\u001b[1;33m,\u001b[0m \u001b[0mcallback\u001b[0m\u001b[1;33m=\u001b[0m\u001b[1;32mNone\u001b[0m\u001b[1;33m)\u001b[0m\u001b[1;33m:\u001b[0m\u001b[1;33m\u001b[0m\u001b[0m\n\u001b[0;32m    110\u001b[0m         \u001b[1;34m\"\"\"Schedule a func to be run\"\"\"\u001b[0m\u001b[1;33m\u001b[0m\u001b[0m\n\u001b[1;32m--> 111\u001b[1;33m         \u001b[0mresult\u001b[0m \u001b[1;33m=\u001b[0m \u001b[0mImmediateResult\u001b[0m\u001b[1;33m(\u001b[0m\u001b[0mfunc\u001b[0m\u001b[1;33m)\u001b[0m\u001b[1;33m\u001b[0m\u001b[0m\n\u001b[0m\u001b[0;32m    112\u001b[0m         \u001b[1;32mif\u001b[0m \u001b[0mcallback\u001b[0m\u001b[1;33m:\u001b[0m\u001b[1;33m\u001b[0m\u001b[0m\n\u001b[0;32m    113\u001b[0m             \u001b[0mcallback\u001b[0m\u001b[1;33m(\u001b[0m\u001b[0mresult\u001b[0m\u001b[1;33m)\u001b[0m\u001b[1;33m\u001b[0m\u001b[0m\n",
      "\u001b[1;32mD:\\Programmes\\Anaconda2\\lib\\site-packages\\sklearn\\externals\\joblib\\_parallel_backends.py\u001b[0m in \u001b[0;36m__init__\u001b[1;34m(self, batch)\u001b[0m\n\u001b[0;32m    330\u001b[0m         \u001b[1;31m# Don't delay the application, to avoid keeping the input\u001b[0m\u001b[1;33m\u001b[0m\u001b[1;33m\u001b[0m\u001b[0m\n\u001b[0;32m    331\u001b[0m         \u001b[1;31m# arguments in memory\u001b[0m\u001b[1;33m\u001b[0m\u001b[1;33m\u001b[0m\u001b[0m\n\u001b[1;32m--> 332\u001b[1;33m         \u001b[0mself\u001b[0m\u001b[1;33m.\u001b[0m\u001b[0mresults\u001b[0m \u001b[1;33m=\u001b[0m \u001b[0mbatch\u001b[0m\u001b[1;33m(\u001b[0m\u001b[1;33m)\u001b[0m\u001b[1;33m\u001b[0m\u001b[0m\n\u001b[0m\u001b[0;32m    333\u001b[0m \u001b[1;33m\u001b[0m\u001b[0m\n\u001b[0;32m    334\u001b[0m     \u001b[1;32mdef\u001b[0m \u001b[0mget\u001b[0m\u001b[1;33m(\u001b[0m\u001b[0mself\u001b[0m\u001b[1;33m)\u001b[0m\u001b[1;33m:\u001b[0m\u001b[1;33m\u001b[0m\u001b[0m\n",
      "\u001b[1;32mD:\\Programmes\\Anaconda2\\lib\\site-packages\\sklearn\\externals\\joblib\\parallel.py\u001b[0m in \u001b[0;36m__call__\u001b[1;34m(self)\u001b[0m\n\u001b[0;32m    129\u001b[0m \u001b[1;33m\u001b[0m\u001b[0m\n\u001b[0;32m    130\u001b[0m     \u001b[1;32mdef\u001b[0m \u001b[0m__call__\u001b[0m\u001b[1;33m(\u001b[0m\u001b[0mself\u001b[0m\u001b[1;33m)\u001b[0m\u001b[1;33m:\u001b[0m\u001b[1;33m\u001b[0m\u001b[0m\n\u001b[1;32m--> 131\u001b[1;33m         \u001b[1;32mreturn\u001b[0m \u001b[1;33m[\u001b[0m\u001b[0mfunc\u001b[0m\u001b[1;33m(\u001b[0m\u001b[1;33m*\u001b[0m\u001b[0margs\u001b[0m\u001b[1;33m,\u001b[0m \u001b[1;33m**\u001b[0m\u001b[0mkwargs\u001b[0m\u001b[1;33m)\u001b[0m \u001b[1;32mfor\u001b[0m \u001b[0mfunc\u001b[0m\u001b[1;33m,\u001b[0m \u001b[0margs\u001b[0m\u001b[1;33m,\u001b[0m \u001b[0mkwargs\u001b[0m \u001b[1;32min\u001b[0m \u001b[0mself\u001b[0m\u001b[1;33m.\u001b[0m\u001b[0mitems\u001b[0m\u001b[1;33m]\u001b[0m\u001b[1;33m\u001b[0m\u001b[0m\n\u001b[0m\u001b[0;32m    132\u001b[0m \u001b[1;33m\u001b[0m\u001b[0m\n\u001b[0;32m    133\u001b[0m     \u001b[1;32mdef\u001b[0m \u001b[0m__len__\u001b[0m\u001b[1;33m(\u001b[0m\u001b[0mself\u001b[0m\u001b[1;33m)\u001b[0m\u001b[1;33m:\u001b[0m\u001b[1;33m\u001b[0m\u001b[0m\n",
      "\u001b[1;32mD:\\Programmes\\Anaconda2\\lib\\site-packages\\sklearn\\externals\\joblib\\parallel.py\u001b[0m in \u001b[0;36m<listcomp>\u001b[1;34m(.0)\u001b[0m\n\u001b[0;32m    129\u001b[0m \u001b[1;33m\u001b[0m\u001b[0m\n\u001b[0;32m    130\u001b[0m     \u001b[1;32mdef\u001b[0m \u001b[0m__call__\u001b[0m\u001b[1;33m(\u001b[0m\u001b[0mself\u001b[0m\u001b[1;33m)\u001b[0m\u001b[1;33m:\u001b[0m\u001b[1;33m\u001b[0m\u001b[0m\n\u001b[1;32m--> 131\u001b[1;33m         \u001b[1;32mreturn\u001b[0m \u001b[1;33m[\u001b[0m\u001b[0mfunc\u001b[0m\u001b[1;33m(\u001b[0m\u001b[1;33m*\u001b[0m\u001b[0margs\u001b[0m\u001b[1;33m,\u001b[0m \u001b[1;33m**\u001b[0m\u001b[0mkwargs\u001b[0m\u001b[1;33m)\u001b[0m \u001b[1;32mfor\u001b[0m \u001b[0mfunc\u001b[0m\u001b[1;33m,\u001b[0m \u001b[0margs\u001b[0m\u001b[1;33m,\u001b[0m \u001b[0mkwargs\u001b[0m \u001b[1;32min\u001b[0m \u001b[0mself\u001b[0m\u001b[1;33m.\u001b[0m\u001b[0mitems\u001b[0m\u001b[1;33m]\u001b[0m\u001b[1;33m\u001b[0m\u001b[0m\n\u001b[0m\u001b[0;32m    132\u001b[0m \u001b[1;33m\u001b[0m\u001b[0m\n\u001b[0;32m    133\u001b[0m     \u001b[1;32mdef\u001b[0m \u001b[0m__len__\u001b[0m\u001b[1;33m(\u001b[0m\u001b[0mself\u001b[0m\u001b[1;33m)\u001b[0m\u001b[1;33m:\u001b[0m\u001b[1;33m\u001b[0m\u001b[0m\n",
      "\u001b[1;32mD:\\Programmes\\Anaconda2\\lib\\site-packages\\sklearn\\ensemble\\forest.py\u001b[0m in \u001b[0;36maccumulate_prediction\u001b[1;34m(predict, X, out, lock)\u001b[0m\n\u001b[0;32m    381\u001b[0m \u001b[1;33m\u001b[0m\u001b[0m\n\u001b[0;32m    382\u001b[0m \u001b[1;32mdef\u001b[0m \u001b[0maccumulate_prediction\u001b[0m\u001b[1;33m(\u001b[0m\u001b[0mpredict\u001b[0m\u001b[1;33m,\u001b[0m \u001b[0mX\u001b[0m\u001b[1;33m,\u001b[0m \u001b[0mout\u001b[0m\u001b[1;33m,\u001b[0m \u001b[0mlock\u001b[0m\u001b[1;33m)\u001b[0m\u001b[1;33m:\u001b[0m\u001b[1;33m\u001b[0m\u001b[0m\n\u001b[1;32m--> 383\u001b[1;33m     \u001b[0mprediction\u001b[0m \u001b[1;33m=\u001b[0m \u001b[0mpredict\u001b[0m\u001b[1;33m(\u001b[0m\u001b[0mX\u001b[0m\u001b[1;33m,\u001b[0m \u001b[0mcheck_input\u001b[0m\u001b[1;33m=\u001b[0m\u001b[1;32mFalse\u001b[0m\u001b[1;33m)\u001b[0m\u001b[1;33m\u001b[0m\u001b[0m\n\u001b[0m\u001b[0;32m    384\u001b[0m     \u001b[1;32mwith\u001b[0m \u001b[0mlock\u001b[0m\u001b[1;33m:\u001b[0m\u001b[1;33m\u001b[0m\u001b[0m\n\u001b[0;32m    385\u001b[0m         \u001b[1;32mif\u001b[0m \u001b[0mlen\u001b[0m\u001b[1;33m(\u001b[0m\u001b[0mout\u001b[0m\u001b[1;33m)\u001b[0m \u001b[1;33m==\u001b[0m \u001b[1;36m1\u001b[0m\u001b[1;33m:\u001b[0m\u001b[1;33m\u001b[0m\u001b[0m\n",
      "\u001b[1;32mD:\\Programmes\\Anaconda2\\lib\\site-packages\\sklearn\\tree\\tree.py\u001b[0m in \u001b[0;36mpredict_proba\u001b[1;34m(self, X, check_input)\u001b[0m\n\u001b[0;32m    820\u001b[0m         \u001b[0mcheck_is_fitted\u001b[0m\u001b[1;33m(\u001b[0m\u001b[0mself\u001b[0m\u001b[1;33m,\u001b[0m \u001b[1;34m'tree_'\u001b[0m\u001b[1;33m)\u001b[0m\u001b[1;33m\u001b[0m\u001b[0m\n\u001b[0;32m    821\u001b[0m         \u001b[0mX\u001b[0m \u001b[1;33m=\u001b[0m \u001b[0mself\u001b[0m\u001b[1;33m.\u001b[0m\u001b[0m_validate_X_predict\u001b[0m\u001b[1;33m(\u001b[0m\u001b[0mX\u001b[0m\u001b[1;33m,\u001b[0m \u001b[0mcheck_input\u001b[0m\u001b[1;33m)\u001b[0m\u001b[1;33m\u001b[0m\u001b[0m\n\u001b[1;32m--> 822\u001b[1;33m         \u001b[0mproba\u001b[0m \u001b[1;33m=\u001b[0m \u001b[0mself\u001b[0m\u001b[1;33m.\u001b[0m\u001b[0mtree_\u001b[0m\u001b[1;33m.\u001b[0m\u001b[0mpredict\u001b[0m\u001b[1;33m(\u001b[0m\u001b[0mX\u001b[0m\u001b[1;33m)\u001b[0m\u001b[1;33m\u001b[0m\u001b[0m\n\u001b[0m\u001b[0;32m    823\u001b[0m \u001b[1;33m\u001b[0m\u001b[0m\n\u001b[0;32m    824\u001b[0m         \u001b[1;32mif\u001b[0m \u001b[0mself\u001b[0m\u001b[1;33m.\u001b[0m\u001b[0mn_outputs_\u001b[0m \u001b[1;33m==\u001b[0m \u001b[1;36m1\u001b[0m\u001b[1;33m:\u001b[0m\u001b[1;33m\u001b[0m\u001b[0m\n",
      "\u001b[1;31mKeyboardInterrupt\u001b[0m: "
     ]
    }
   ],
   "source": [
    "### on extracte les features en fonction de la colonne id \n",
    "X = extract_features(df_1, column_id=\"Id1\", default_fc_parameters=MinimalFCParameters())\n",
    "\n",
    "\n",
    "### on fait une liste correspondant à tous les numeros d'id existant \n",
    "y=[]\n",
    "for i in range(0, 2304):\n",
    "    y.append(i)\n",
    "    \n",
    "abscisse=[0.1,0.2,0.3,0.4,0.5,0.6,0.7,0.8,0.9]*10\n",
    "\n",
    "maximum=0\n",
    "Tab=[]\n",
    "Tab.append(0)\n",
    "for p in range(0,10):\n",
    "    for j in range(1,10):\n",
    "\n",
    "        ### on creer un echatillon train 80% et test 20% \n",
    "        X_train,X_test,y_train,y_test = train_test_split(X,y,test_size=j/10)\n",
    "\n",
    "\n",
    "        ### on reshape les y train et test pour les utiliser dans des fonctions de predictions \n",
    "        yy_train=np.array(y_train).reshape(-1,1)\n",
    "        yy_test=np.array(y_test).reshape(-1,1)\n",
    "\n",
    "            ### k plus proche voisins \n",
    "        random_forest = RandomForestClassifier(n_estimators=30)\n",
    "        random_forest.fit(X_train, y_train)\n",
    "        Y_pred = random_forest.predict(X_test)\n",
    "        random_forest.score(X_train, y_train)\n",
    "        acc_random_forest = round(random_forest.score(X_train, y_train) * 100, 2)\n",
    "        \n",
    "\n",
    "\n",
    "        ### p= 85% de bon résultats n=2, 82% n=3 de prédictions de classe \n",
    "        compt=0\n",
    "        c1=c2=c3=c4=0\n",
    "        c1v=c2v=c3v=c4v=0\n",
    "        for i in range(0, len(y_test)):\n",
    "            if df_2.iloc[Y_pred[i],1] ==df_2.iloc[y_test[i],1]:\n",
    "                compt=compt+1\n",
    "                if df_2.iloc[Y_pred[i],1]==1:\n",
    "                    c1=c1+1\n",
    "                elif df_2.iloc[Y_pred[i],1]==2:\n",
    "                    c2=c2+1\n",
    "                elif df_2.iloc[Y_pred[i],1]==3:\n",
    "                    c3=c3+1\n",
    "                else: c4=c4+1\n",
    "\n",
    "            if df_2.iloc[y_test[i],1]==1:\n",
    "                c1v=c1v+1\n",
    "            if df_2.iloc[y_test[i],1]==2:\n",
    "                c2v=c2v+1\n",
    "            if df_2.iloc[y_test[i],1]==3:\n",
    "                c3v=c3v+1\n",
    "            if df_2.iloc[y_test[i],1]==4:\n",
    "                c4v=c4v+1\n",
    "\n",
    "\n",
    "\n",
    "        p= compt*100/len(y_test)\n",
    "        print(p)\n",
    "        if p>maximum:\n",
    "            del Tab[0]\n",
    "            Tab.append([X_train,X_test,y_train,y_test  ] )\n",
    "            maximum=p\n",
    "        valeur=[]\n",
    "plt.plot(abscisse, valeur ,'bo')\n",
    "plt.ylabel('Label 1')\n",
    "plt.show()\n"
   ]
  },
  {
   "cell_type": "code",
   "execution_count": 68,
   "metadata": {},
   "outputs": [
    {
     "data": {
      "text/plain": [
       "(2046,)"
      ]
     },
     "execution_count": 68,
     "metadata": {},
     "output_type": "execute_result"
    }
   ],
   "source": [
    "### A FAIRE \n",
    "### definir impact des features , faire experience  sans et avec ,\n",
    "### schema avec score apprentissage et test \n",
    "### faire jointure localistation \n",
    "### d'autres données plus fiable, et non pas une supposition de ce que veut dire l'utlisateur dans sa description,\n",
    "##entrainer le modele avec \n",
    "### faire jointure avec localisation et presence arret de bus , creer varibale binaires , ou plutot calquer trajectoire\n",
    "### avec trajctoire itineraire  bus connu , surement plus fiable la deuxieme solution car en zone urbaine il y a des arrets de bus un \n",
    "#peu partout \n"
   ]
  },
  {
   "cell_type": "code",
   "execution_count": 69,
   "metadata": {},
   "outputs": [
    {
     "name": "stdout",
     "output_type": "stream",
     "text": [
      "Automatically created module for IPython interactive environment\n"
     ]
    },
    {
     "data": {
      "image/png": "[encoded data removed]",
      "text/plain": [
       "<matplotlib.figure.Figure at 0x1c1785d8f60>"
      ]
     },
     "metadata": {},
     "output_type": "display_data"
    },
    {
     "data": {
      "image/png": "[encoded data removed]",
      "text/plain": [
       "<matplotlib.figure.Figure at 0x1c178f0ccf8>"
      ]
     },
     "metadata": {},
     "output_type": "display_data"
    },
    {
     "data": {
      "image/png": "[encoded data removed]",
      "text/plain": [
       "<matplotlib.figure.Figure at 0x1c178f0c9b0>"
      ]
     },
     "metadata": {},
     "output_type": "display_data"
    }
   ],
   "source": []
  },
  {
   "cell_type": "code",
   "execution_count": 115,
   "metadata": {},
   "outputs": [
    {
     "name": "stderr",
     "output_type": "stream",
     "text": [
      "D:\\Programmes\\Anaconda2\\lib\\site-packages\\sklearn\\model_selection\\_split.py:605: Warning: The least populated class in y has only 1 members, which is too few. The minimum number of members in any class cannot be less than n_splits=10.\n",
      "  % (min_groups, self.n_splits)), Warning)\n",
      "D:\\Programmes\\Anaconda2\\lib\\site-packages\\sklearn\\metrics\\classification.py:1135: UndefinedMetricWarning: Precision is ill-defined and being set to 0.0 in labels with no predicted samples.\n",
      "  'precision', 'predicted', average, warn_for)\n",
      "D:\\Programmes\\Anaconda2\\lib\\site-packages\\sklearn\\metrics\\classification.py:1135: UndefinedMetricWarning: Precision is ill-defined and being set to 0.0 in labels with no predicted samples.\n",
      "  'precision', 'predicted', average, warn_for)\n",
      "D:\\Programmes\\Anaconda2\\lib\\site-packages\\sklearn\\metrics\\classification.py:1135: UndefinedMetricWarning: Precision is ill-defined and being set to 0.0 in labels with no predicted samples.\n",
      "  'precision', 'predicted', average, warn_for)\n",
      "D:\\Programmes\\Anaconda2\\lib\\site-packages\\sklearn\\metrics\\classification.py:1137: UndefinedMetricWarning: Recall is ill-defined and being set to 0.0 in labels with no true samples.\n",
      "  'recall', 'true', average, warn_for)\n",
      "D:\\Programmes\\Anaconda2\\lib\\site-packages\\sklearn\\metrics\\classification.py:1137: UndefinedMetricWarning: Recall is ill-defined and being set to 0.0 in labels with no true samples.\n",
      "  'recall', 'true', average, warn_for)\n"
     ]
    },
    {
     "data": {
      "text/plain": [
       "['fit_time', 'score_time', 'test_precision_macro', 'test_recall_macro']"
      ]
     },
     "execution_count": 115,
     "metadata": {},
     "output_type": "execute_result"
    }
   ],
   "source": []
  },
  {
   "cell_type": "code",
   "execution_count": 119,
   "metadata": {},
   "outputs": [
    {
     "ename": "TypeError",
     "evalue": "Cannot clone object '<function clf at 0x000001C175303AE8>' (type <class 'function'>): it does not seem to be a scikit-learn estimator as it does not implement a 'get_params' methods.",
     "output_type": "error",
     "traceback": [
      "\u001b[1;31m---------------------------------------------------------------------------\u001b[0m",
      "\u001b[1;31mTypeError\u001b[0m                                 Traceback (most recent call last)",
      "\u001b[1;32m<ipython-input-119-c5f55f344f7a>\u001b[0m in \u001b[0;36m<module>\u001b[1;34m()\u001b[0m\n\u001b[0;32m      1\u001b[0m \u001b[1;32mfrom\u001b[0m \u001b[0msklearn\u001b[0m\u001b[1;33m.\u001b[0m\u001b[0mmodel_selection\u001b[0m \u001b[1;32mimport\u001b[0m \u001b[0mcross_val_predict\u001b[0m\u001b[1;33m\u001b[0m\u001b[0m\n\u001b[1;32m----> 2\u001b[1;33m \u001b[0mpredicted\u001b[0m \u001b[1;33m=\u001b[0m \u001b[0mcross_val_predict\u001b[0m\u001b[1;33m(\u001b[0m\u001b[0mclf\u001b[0m\u001b[1;33m,\u001b[0m \u001b[0mX\u001b[0m\u001b[1;33m,\u001b[0m \u001b[0my\u001b[0m\u001b[1;33m,\u001b[0m \u001b[0mcv\u001b[0m\u001b[1;33m=\u001b[0m\u001b[1;36m10\u001b[0m\u001b[1;33m)\u001b[0m\u001b[1;33m\u001b[0m\u001b[0m\n\u001b[0m\u001b[0;32m      3\u001b[0m \u001b[0mmetrics\u001b[0m\u001b[1;33m.\u001b[0m\u001b[0maccuracy_score\u001b[0m\u001b[1;33m(\u001b[0m\u001b[0my\u001b[0m\u001b[1;33m,\u001b[0m \u001b[0mpredicted\u001b[0m\u001b[1;33m)\u001b[0m\u001b[1;33m\u001b[0m\u001b[0m\n",
      "\u001b[1;32mD:\\Programmes\\Anaconda2\\lib\\site-packages\\sklearn\\model_selection\\_validation.py\u001b[0m in \u001b[0;36mcross_val_predict\u001b[1;34m(estimator, X, y, groups, cv, n_jobs, verbose, fit_params, pre_dispatch, method)\u001b[0m\n\u001b[0;32m    678\u001b[0m     prediction_blocks = parallel(delayed(_fit_and_predict)(\n\u001b[0;32m    679\u001b[0m         clone(estimator), X, y, train, test, verbose, fit_params, method)\n\u001b[1;32m--> 680\u001b[1;33m         for train, test in cv.split(X, y, groups))\n\u001b[0m\u001b[0;32m    681\u001b[0m \u001b[1;33m\u001b[0m\u001b[0m\n\u001b[0;32m    682\u001b[0m     \u001b[1;31m# Concatenate the predictions\u001b[0m\u001b[1;33m\u001b[0m\u001b[1;33m\u001b[0m\u001b[0m\n",
      "\u001b[1;32mD:\\Programmes\\Anaconda2\\lib\\site-packages\\sklearn\\externals\\joblib\\parallel.py\u001b[0m in \u001b[0;36m__call__\u001b[1;34m(self, iterable)\u001b[0m\n\u001b[0;32m    777\u001b[0m             \u001b[1;31m# was dispatched. In particular this covers the edge\u001b[0m\u001b[1;33m\u001b[0m\u001b[1;33m\u001b[0m\u001b[0m\n\u001b[0;32m    778\u001b[0m             \u001b[1;31m# case of Parallel used with an exhausted iterator.\u001b[0m\u001b[1;33m\u001b[0m\u001b[1;33m\u001b[0m\u001b[0m\n\u001b[1;32m--> 779\u001b[1;33m             \u001b[1;32mwhile\u001b[0m \u001b[0mself\u001b[0m\u001b[1;33m.\u001b[0m\u001b[0mdispatch_one_batch\u001b[0m\u001b[1;33m(\u001b[0m\u001b[0miterator\u001b[0m\u001b[1;33m)\u001b[0m\u001b[1;33m:\u001b[0m\u001b[1;33m\u001b[0m\u001b[0m\n\u001b[0m\u001b[0;32m    780\u001b[0m                 \u001b[0mself\u001b[0m\u001b[1;33m.\u001b[0m\u001b[0m_iterating\u001b[0m \u001b[1;33m=\u001b[0m \u001b[1;32mTrue\u001b[0m\u001b[1;33m\u001b[0m\u001b[0m\n\u001b[0;32m    781\u001b[0m             \u001b[1;32melse\u001b[0m\u001b[1;33m:\u001b[0m\u001b[1;33m\u001b[0m\u001b[0m\n",
      "\u001b[1;32mD:\\Programmes\\Anaconda2\\lib\\site-packages\\sklearn\\externals\\joblib\\parallel.py\u001b[0m in \u001b[0;36mdispatch_one_batch\u001b[1;34m(self, iterator)\u001b[0m\n\u001b[0;32m    618\u001b[0m \u001b[1;33m\u001b[0m\u001b[0m\n\u001b[0;32m    619\u001b[0m         \u001b[1;32mwith\u001b[0m \u001b[0mself\u001b[0m\u001b[1;33m.\u001b[0m\u001b[0m_lock\u001b[0m\u001b[1;33m:\u001b[0m\u001b[1;33m\u001b[0m\u001b[0m\n\u001b[1;32m--> 620\u001b[1;33m             \u001b[0mtasks\u001b[0m \u001b[1;33m=\u001b[0m \u001b[0mBatchedCalls\u001b[0m\u001b[1;33m(\u001b[0m\u001b[0mitertools\u001b[0m\u001b[1;33m.\u001b[0m\u001b[0mislice\u001b[0m\u001b[1;33m(\u001b[0m\u001b[0miterator\u001b[0m\u001b[1;33m,\u001b[0m \u001b[0mbatch_size\u001b[0m\u001b[1;33m)\u001b[0m\u001b[1;33m)\u001b[0m\u001b[1;33m\u001b[0m\u001b[0m\n\u001b[0m\u001b[0;32m    621\u001b[0m             \u001b[1;32mif\u001b[0m \u001b[0mlen\u001b[0m\u001b[1;33m(\u001b[0m\u001b[0mtasks\u001b[0m\u001b[1;33m)\u001b[0m \u001b[1;33m==\u001b[0m \u001b[1;36m0\u001b[0m\u001b[1;33m:\u001b[0m\u001b[1;33m\u001b[0m\u001b[0m\n\u001b[0;32m    622\u001b[0m                 \u001b[1;31m# No more tasks available in the iterator: tell caller to stop.\u001b[0m\u001b[1;33m\u001b[0m\u001b[1;33m\u001b[0m\u001b[0m\n",
      "\u001b[1;32mD:\\Programmes\\Anaconda2\\lib\\site-packages\\sklearn\\externals\\joblib\\parallel.py\u001b[0m in \u001b[0;36m__init__\u001b[1;34m(self, iterator_slice)\u001b[0m\n\u001b[0;32m    125\u001b[0m \u001b[1;33m\u001b[0m\u001b[0m\n\u001b[0;32m    126\u001b[0m     \u001b[1;32mdef\u001b[0m \u001b[0m__init__\u001b[0m\u001b[1;33m(\u001b[0m\u001b[0mself\u001b[0m\u001b[1;33m,\u001b[0m \u001b[0miterator_slice\u001b[0m\u001b[1;33m)\u001b[0m\u001b[1;33m:\u001b[0m\u001b[1;33m\u001b[0m\u001b[0m\n\u001b[1;32m--> 127\u001b[1;33m         \u001b[0mself\u001b[0m\u001b[1;33m.\u001b[0m\u001b[0mitems\u001b[0m \u001b[1;33m=\u001b[0m \u001b[0mlist\u001b[0m\u001b[1;33m(\u001b[0m\u001b[0miterator_slice\u001b[0m\u001b[1;33m)\u001b[0m\u001b[1;33m\u001b[0m\u001b[0m\n\u001b[0m\u001b[0;32m    128\u001b[0m         \u001b[0mself\u001b[0m\u001b[1;33m.\u001b[0m\u001b[0m_size\u001b[0m \u001b[1;33m=\u001b[0m \u001b[0mlen\u001b[0m\u001b[1;33m(\u001b[0m\u001b[0mself\u001b[0m\u001b[1;33m.\u001b[0m\u001b[0mitems\u001b[0m\u001b[1;33m)\u001b[0m\u001b[1;33m\u001b[0m\u001b[0m\n\u001b[0;32m    129\u001b[0m \u001b[1;33m\u001b[0m\u001b[0m\n",
      "\u001b[1;32mD:\\Programmes\\Anaconda2\\lib\\site-packages\\sklearn\\model_selection\\_validation.py\u001b[0m in \u001b[0;36m<genexpr>\u001b[1;34m(.0)\u001b[0m\n\u001b[0;32m    678\u001b[0m     prediction_blocks = parallel(delayed(_fit_and_predict)(\n\u001b[0;32m    679\u001b[0m         clone(estimator), X, y, train, test, verbose, fit_params, method)\n\u001b[1;32m--> 680\u001b[1;33m         for train, test in cv.split(X, y, groups))\n\u001b[0m\u001b[0;32m    681\u001b[0m \u001b[1;33m\u001b[0m\u001b[0m\n\u001b[0;32m    682\u001b[0m     \u001b[1;31m# Concatenate the predictions\u001b[0m\u001b[1;33m\u001b[0m\u001b[1;33m\u001b[0m\u001b[0m\n",
      "\u001b[1;32mD:\\Programmes\\Anaconda2\\lib\\site-packages\\sklearn\\base.py\u001b[0m in \u001b[0;36mclone\u001b[1;34m(estimator, safe)\u001b[0m\n\u001b[0;32m     56\u001b[0m                             \u001b[1;34m\"it does not seem to be a scikit-learn estimator \"\u001b[0m\u001b[1;33m\u001b[0m\u001b[0m\n\u001b[0;32m     57\u001b[0m                             \u001b[1;34m\"as it does not implement a 'get_params' methods.\"\u001b[0m\u001b[1;33m\u001b[0m\u001b[0m\n\u001b[1;32m---> 58\u001b[1;33m                             % (repr(estimator), type(estimator)))\n\u001b[0m\u001b[0;32m     59\u001b[0m     \u001b[0mklass\u001b[0m \u001b[1;33m=\u001b[0m \u001b[0mestimator\u001b[0m\u001b[1;33m.\u001b[0m\u001b[0m__class__\u001b[0m\u001b[1;33m\u001b[0m\u001b[0m\n\u001b[0;32m     60\u001b[0m     \u001b[0mnew_object_params\u001b[0m \u001b[1;33m=\u001b[0m \u001b[0mestimator\u001b[0m\u001b[1;33m.\u001b[0m\u001b[0mget_params\u001b[0m\u001b[1;33m(\u001b[0m\u001b[0mdeep\u001b[0m\u001b[1;33m=\u001b[0m\u001b[1;32mFalse\u001b[0m\u001b[1;33m)\u001b[0m\u001b[1;33m\u001b[0m\u001b[0m\n",
      "\u001b[1;31mTypeError\u001b[0m: Cannot clone object '<function clf at 0x000001C175303AE8>' (type <class 'function'>): it does not seem to be a scikit-learn estimator as it does not implement a 'get_params' methods."
     ]
    }
   ],
   "source": []
  },
  {
   "cell_type": "code",
   "execution_count": 90,
   "metadata": {},
   "outputs": [
    {
     "data": {
      "text/plain": [
       "array([1, 1, 1, ..., 2, 2, 2], dtype=int64)"
      ]
     },
     "execution_count": 90,
     "metadata": {},
     "output_type": "execute_result"
    }
   ],
   "source": []
  },
  {
   "cell_type": "code",
   "execution_count": 87,
   "metadata": {},
   "outputs": [
    {
     "name": "stdout",
     "output_type": "stream",
     "text": [
      "2045\n"
     ]
    }
   ],
   "source": []
  },
  {
   "cell_type": "code",
   "execution_count": 88,
   "metadata": {},
   "outputs": [
    {
     "data": {
      "text/plain": [
       "2046"
      ]
     },
     "execution_count": 88,
     "metadata": {},
     "output_type": "execute_result"
    }
   ],
   "source": []
  },
  {
   "cell_type": "code",
   "execution_count": 89,
   "metadata": {
    "collapsed": true
   },
   "outputs": [],
   "source": []
  },
  {
   "cell_type": "code",
   "execution_count": null,
   "metadata": {
    "collapsed": true
   },
   "outputs": [],
   "source": []
  }
 ],
 "metadata": {
  "kernelspec": {
   "display_name": "Python 3",
   "language": "python",
   "name": "python3"
  },
  "language_info": {
   "codemirror_mode": {
    "name": "ipython",
    "version": 3
   },
   "file_extension": ".py",
   "mimetype": "text/x-python",
   "name": "python",
   "nbconvert_exporter": "python",
   "pygments_lexer": "ipython3",
   "version": "3.6.3"
  }
 },
 "nbformat": 4,
 "nbformat_minor": 2
}
