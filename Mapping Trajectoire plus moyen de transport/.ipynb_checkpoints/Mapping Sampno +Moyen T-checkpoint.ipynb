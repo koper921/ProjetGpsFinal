{
 "cells": [
  {
   "cell_type": "code",
   "execution_count": null,
   "metadata": {},
   "outputs": [
    {
     "name": "stderr",
     "output_type": "stream",
     "text": [
      "D:\\Programmes\\Anaconda2\\lib\\site-packages\\statsmodels\\compat\\pandas.py:56: FutureWarning: The pandas.core.datetools module is deprecated and will be removed in a future version. Please use the pandas.tseries module instead.\n",
      "  from pandas.core import datetools\n",
      "D:\\Programmes\\Anaconda2\\lib\\site-packages\\sklearn\\cross_validation.py:41: DeprecationWarning: This module was deprecated in version 0.18 in favor of the model_selection module into which all the refactored classes and functions are moved. Also note that the interface of the new CV iterators are different from that of this module. This module will be removed in 0.20.\n",
      "  \"This module will be removed in 0.20.\", DeprecationWarning)\n"
     ]
    }
   ],
   "source": [
    "#test accuracy du modele \n",
    "\n",
    "\n",
    "# data analysis and wrangling\n",
    "import pandas as pd\n",
    "import numpy as np\n",
    "import random as rnd\n",
    "\n",
    "# visualization\n",
    "import seaborn as sns\n",
    "import matplotlib.pyplot as plt\n",
    "\n",
    "import tsfresh\n",
    "from tsfresh import extract_features\n",
    "from tsfresh import select_features\n",
    "from tsfresh.utilities.dataframe_functions import impute\n",
    "\n",
    "from tsfresh.feature_extraction import MinimalFCParameters\n",
    "\n",
    "#from tsfresh.feature_extraction import FeatureExtractionSettings\n",
    "from tsfresh.feature_extraction import extract_features\n",
    "from tsfresh.feature_extraction import extract_features\n",
    "\n",
    "from sklearn.cross_validation import train_test_split\n",
    "\n",
    "from sklearn import datasets, linear_model\n",
    "from sklearn.model_selection import train_test_split\n",
    "from matplotlib import pyplot as plt\n",
    "from sklearn.linear_model import LogisticRegression\n",
    "from sklearn.svm import SVC, LinearSVC\n",
    "from sklearn.ensemble import RandomForestClassifier\n",
    "from sklearn.neighbors import KNeighborsClassifier\n",
    "from sklearn.naive_bayes import GaussianNB\n",
    "from sklearn.linear_model import Perceptron\n",
    "from sklearn.linear_model import SGDClassifier\n",
    "from sklearn.tree import DecisionTreeClassifier\n",
    "from pylab import *\n",
    "\n",
    "df_1 = pd.read_csv('C:/Users/MyPC/Desktop/Projet Gps/ProjetGitHub/DA/XarrModifVitesseRerStopMoove.csv')\n",
    "\n",
    "\n",
    "### finalement le feature des variation angulaire sur les trajectoires se revelle benefique \n",
    "df_1= df_1[['sampno','speed',  'acceleration','angle','smooth','Id1','longitude', 'latitude', 'difTempsSec', 'moyenT', 'altitude', 'StoopMoove','StopMoove1','DebFin']]\n",
    "#df_1 = df_1[np.isfinite(df_1['acceleration'])]\n",
    "### on affiche\n",
    "#print(df_1)\n",
    "#print(len(df_2))\n",
    "print(df_1.head())\n"
   ]
  },
  {
   "cell_type": "code",
   "execution_count": 7,
   "metadata": {},
   "outputs": [
    {
     "name": "stdout",
     "output_type": "stream",
     "text": [
      "{8507392, 7312385, 8519171, 6422020, 6748163, 3778568, 8336393, 8090122, 5544971, 8616973, 8331278, 6945295, 8565775, 8310289, 3662861, 5771285, 5835798, 8534039, 5644313, 5888026, 7334427, 8435227, 5728800, 6508065, 6339107, 6073891, 6375464, 8392234, 8469547, 2795566, 8274479, 8323119, 8415285, 8515638, 2569272, 6372414, 5583934, 5162564, 8361037, 8431183, 8569940, 8392277, 6029401, 8601690, 8309851, 8458332, 8384096, 8506469, 8581223, 8531048, 8551529, 5943914, 8449643, 8487022, 8624240, 4709489, 8409714, 7254131, 8330867, 7240309, 8591989, 6812279, 4514424, 5052025, 5231736, 8313458, 735361, 8390789, 8447624, 8594058, 8402574, 8498318, 8415889, 2419858, 8352402, 8453268, 5838487, 7232152, 8383642, 8456860, 6200990, 7175841, 8572070, 8489130, 8429227, 8577196, 8404143, 8284849, 8539316, 5834422, 1697463, 8405174, 6948030, 8598721, 4403401, 8471754, 5484235, 8366284, 8592586, 8318158, 8543951, 7008465, 8323798, 8527067, 8607451, 6366945, 8635617, 4941543, 8571112, 6487785, 8318697, 8451311, 8312559, 8363250, 7007991, 7005946, 8396541, 5750016, 8501505, 8572161, 496901, 7305990, 8598282, 5834511, 437522, 8398615, 8502552, 8389918, 8609055, 6993184, 5948193, 7242530, 8468771, 8364834, 8436517, 8562466, 8560935, 8613672, 8323879, 7260970, 8475946, 8573220, 8342318, 5432626, 5833523, 8451893, 6043445, 8349495, 8438072, 8367418, 6997831, 8449351, 7226187, 8437068, 7308108, 8457549, 8498512, 7006551, 8446296, 8452441, 8502617, 8597847, 8410461, 8419167, 8436576, 8606048, 8543585, 8579938, 8501599, 8359271, 8284008, 5968747, 8569711, 8506736, 8562032, 8347506, 8571759, 8413045, 8449910, 8425337, 7015811, 5452163, 8539014, 8463239, 8617864, 8448396, 8230285, 8343438, 8399247, 6783376, 8482705, 8521621, 8430489, 8609691, 8635803, 6950302, 8499616, 8353700, 8501157, 8483752, 8550824, 6493610, 8612269, 8584109, 8299951, 8623023, 8589747, 8523703, 7010745, 8375739, 8555451, 8485313, 8442819, 8448965, 6988229, 8384967, 5547466, 8576459, 2721228, 5123021, 2264013, 8450511, 3737039, 8476111, 8512469, 8437718, 8514518, 8540632, 6108121, 8456666, 8478686, 6997473, 6915043, 8289255, 8403945, 6583792, 8601585, 8590834, 8426481, 4318196, 8288763}\n"
     ]
    }
   ],
   "source": [
    "traj=[]\n",
    "for i in range(0, len(df_1)):\n",
    "    traj.append(df_1.loc[i,'sampno'])\n",
    "print(set(traj))    "
   ]
  },
  {
   "cell_type": "code",
   "execution_count": 54,
   "metadata": {},
   "outputs": [
    {
     "name": "stdout",
     "output_type": "stream",
     "text": [
      "171\n",
      "171\n",
      "       sampno      speed  acceleration       angle     smooth   Id1  \\\n",
      "7327  8499616  10.000000      0.000000    0.000000  10.000000  1822   \n",
      "7328  8499616  14.000000      0.222400  198.394067  12.000000  1822   \n",
      "7329  8499616   6.400000     -0.422560  198.410235  10.133333  1822   \n",
      "7330  8499616   6.600000      0.011120  198.406784   9.000000  1822   \n",
      "7331  8499616   3.400000     -0.177920  198.413271   5.466667  1822   \n",
      "7332  8499616   9.600000      0.344720  198.412880   6.533333  1822   \n",
      "7333  8499616   6.100000     -0.194600  198.423889   6.366667  1822   \n",
      "7334  8499616   3.800000     -0.127880  198.431723   6.500000  1822   \n",
      "7335  8499616  11.800000      0.444800  198.433274   7.233333  1822   \n",
      "7336  8499616   9.500000     -0.127880  198.436103   8.366667  1822   \n",
      "7337  8499616   5.200000     -0.239080  198.449043   8.833333  1822   \n",
      "7338  8499616  10.700000      0.305800  198.450059   8.466667  1822   \n",
      "7339  8499616   8.600000     -0.116760  198.448803   8.166667  1822   \n",
      "7340  8499616   7.100000      0.038126  198.516401   3.966667  1823   \n",
      "7341  8499616  15.300000      0.455920  198.538690   8.233333  1823   \n",
      "7342  8499616   4.800000     -0.583800  198.548003   9.066667  1823   \n",
      "7343  8499616   8.200000     -0.027800  198.678742   6.700000  1824   \n",
      "7344  8499616   7.800000     -0.022240  198.670953   8.233333  1824   \n",
      "7345  8499616   4.700000     -0.172360  198.659013   6.900000  1824   \n",
      "7346  8499616   7.600000      0.161240  198.657698   6.700000  1824   \n",
      "7347  8499616   4.300000     -0.183480  198.654591   5.533333  1824   \n",
      "7348  8499616   8.500000      0.058380  198.645666   6.800000  1824   \n",
      "7349  8499616  12.300000      0.211280  198.627620   8.366667  1824   \n",
      "7350  8499616  14.400000      0.116760  198.621618  11.733333  1824   \n",
      "7351  8499616  12.900000     -0.083400  198.609409  13.200000  1824   \n",
      "7352  8499616  11.100000     -0.328040  198.490304  12.400000  1825   \n",
      "7353  8499616  11.300000      0.082473  198.470627   8.266667  1826   \n",
      "7354  8499616  16.200001      0.272440  198.472194   9.966667  1826   \n",
      "7355  8499616  14.400000     -0.100080  198.468188  13.966667  1826   \n",
      "7356  8499616  12.000000     -0.133440  198.462365  14.200000  1826   \n",
      "...       ...        ...           ...         ...        ...   ...   \n",
      "7468  8499616   6.900000      0.040773  198.655529   5.900000  1856   \n",
      "7469  8499616  15.300000      0.467040  198.655377   8.233333  1856   \n",
      "7470  8499616  13.300000     -0.111200  198.662038  11.833333  1856   \n",
      "7471  8499616   3.100000      0.011120  198.427684   2.766667  1857   \n",
      "7472  8499616   3.600000      0.020850  198.432299   2.666667  1858   \n",
      "7473  8499616   5.800000      0.166800  198.425063   3.633333  1859   \n",
      "7474  8499616   8.700000      0.161240  198.429340   5.766667  1859   \n",
      "7475  8499616  12.900000      0.233520  198.436042   9.133333  1859   \n",
      "7476  8499616  11.400000     -0.083400  198.435342  11.000000  1859   \n",
      "7477  8499616  17.700001     -0.077840  197.981375  18.433334  1860   \n",
      "7478  8499616   7.900000     -0.544880  197.962187  14.900000  1860   \n",
      "7479  8499616   9.900000      0.022240  197.948661  11.833333  1860   \n",
      "7480  8499616  12.700000      0.155680  197.943017  10.166667  1860   \n",
      "7481  8499616   9.800000     -0.161240  197.934265  10.800000  1860   \n",
      "7482  8499616   6.000000      0.200160  197.618069   7.633333  1861   \n",
      "7483  8499616   7.700000      0.094520  197.614189   5.366667  1861   \n",
      "7484  8499616   5.300000     -0.133440  197.613286   6.333333  1861   \n",
      "7485  8499616   3.100000      0.000024  196.917573   2.466667  1862   \n",
      "7486  8499616   3.400000      0.016680  198.412033   2.900000  1862   \n",
      "7487  8499616   3.200000     -0.011120  198.420794   3.233333  1862   \n",
      "7488  8499616  15.500000      0.001133  198.607616   6.666667  1863   \n",
      "7489  8499616  15.500000      0.000000  198.447761  11.033333  1863   \n",
      "7490  8499616   5.400000     -0.561560  198.440003  12.133333  1863   \n",
      "7491  8499616   8.600000      0.019769  198.446089   9.833333  1863   \n",
      "7492  8499616   4.300000      0.038920  196.946270   3.600000  1864   \n",
      "7493  8499616   6.900000     -0.036696  198.423438  10.100000  1865   \n",
      "7494  8499616  12.100000      0.289120  198.421819   9.733333  1865   \n",
      "7495  8499616  11.000000     -0.061160  198.424220  10.000000  1865   \n",
      "7496  8499616  10.900000     -0.005560  198.432734  11.333333  1865   \n",
      "7497  8499616   3.200000      0.033360  198.418693   5.566667  1866   \n",
      "\n",
      "      longitude   latitude  difTempsSec  moyenT    altitude  StoopMoove  \\\n",
      "7327   2.341856  48.828598   28046433.0       3  361.299988           1   \n",
      "7328   2.341895  48.828304          5.0       3  359.000000           1   \n",
      "7329   2.341729  48.828178          5.0       3  357.100006           1   \n",
      "7330   2.341760  48.828006          5.0       3  354.799988           1   \n",
      "7331   2.341791  48.827858          5.0       3  353.000000           1   \n",
      "7332   2.341857  48.827591          5.0       3  350.899994           1   \n",
      "7333   2.341860  48.827371          5.0       3  350.799988           1   \n",
      "7334   2.341783  48.827195          5.0       3  350.600006           1   \n",
      "7335   2.341812  48.826999          5.0       3  351.500000           1   \n",
      "7336   2.341846  48.826731          5.0       3  350.500000           1   \n",
      "7337   2.341764  48.826573          5.0       3  351.100006           1   \n",
      "7338   2.341593  48.826397          5.0       3  354.399994           1   \n",
      "7339   2.341386  48.826199          5.0       3  359.100006           1   \n",
      "7340   2.340856  48.822093         35.0       3  354.700012           1   \n",
      "7341   2.340946  48.821837          5.0       3  354.700012           1   \n",
      "7342   2.341018  48.821580          5.0       3  350.399994           1   \n",
      "7343   2.342827  48.820111          5.0       3  416.100006           1   \n",
      "7344   2.342736  48.820326          5.0       3  421.399994           1   \n",
      "7345   2.342721  48.820468          5.0       3  429.200012           1   \n",
      "7346   2.342655  48.820670          5.0       3  435.700012           1   \n",
      "7347   2.342488  48.820959          5.0       3  439.299988           1   \n",
      "7348   2.342458  48.821324         20.0       3  413.100006           1   \n",
      "7349   2.342340  48.821535          5.0       3  392.399994           1   \n",
      "7350   2.342189  48.821810          5.0       3  375.000000           1   \n",
      "7351   2.342037  48.822075          5.0       3  365.500000           1   \n",
      "7352   2.341886  48.826479          5.0       3  346.200012           1   \n",
      "7353   2.342024  48.826856         30.0       3  325.899994           1   \n",
      "7354   2.342182  48.827181          5.0       3  321.000000           1   \n",
      "7355   2.342313  48.827509          5.0       3  317.000000           1   \n",
      "7356   2.342361  48.827818          5.0       3  315.899994           1   \n",
      "...         ...        ...          ...     ...         ...         ...   \n",
      "7468   2.354650  48.832760         30.0       3  380.500000           1   \n",
      "7469   2.354780  48.832514          5.0       3  374.799988           1   \n",
      "7470   2.354994  48.832184          5.0       3  361.700012           1   \n",
      "7471   2.343358  48.829275          5.0       3  365.600006           0   \n",
      "7472   2.342929  48.829082         20.0       3  370.500000           0   \n",
      "7473   2.343017  48.829142          5.0       3  365.600006           0   \n",
      "7474   2.343091  48.829224          5.0       3  369.799988           1   \n",
      "7475   2.343312  48.829464          5.0       3  372.700012           0   \n",
      "7476   2.343429  48.829688          5.0       3  378.899994           0   \n",
      "7477   2.341535  48.845382          5.0       3  386.399994           1   \n",
      "7478   2.341431  48.845641          5.0       3  381.399994           0   \n",
      "7479   2.341285  48.845790         25.0       3  358.700012           0   \n",
      "7480   2.341169  48.846015          5.0       3  359.000000           1   \n",
      "7481   2.341174  48.846257          5.0       3  371.399994           0   \n",
      "7482   2.332906  48.848650          5.0       3  267.000000           1   \n",
      "7483   2.332735  48.848533          5.0       3  266.899994           1   \n",
      "7484   2.332606  48.848447          5.0       3  266.700012           1   \n",
      "7485   2.342424  48.828902      10545.0       3  318.600006           0   \n",
      "7486   2.342567  48.828831          5.0       3  313.899994           0   \n",
      "7487   2.342713  48.828824          5.0       3  306.299988           1   \n",
      "7488   2.343354  48.829242       3288.0       3  216.300003           0   \n",
      "7489   2.343625  48.829590          5.0       3  216.699997           0   \n",
      "7490   2.343796  48.829790          5.0       3  218.000000           1   \n",
      "7491   2.343963  48.830143         45.0       3  222.500000           1   \n",
      "7492   2.330964  48.871777          5.0       3  241.600006           1   \n",
      "7493   2.343618  48.829521         25.0       3  148.100006           0   \n",
      "7494   2.343436  48.829257          5.0       3  148.699997           0   \n",
      "7495   2.343213  48.829009          5.0       3  145.399994           0   \n",
      "7496   2.342864  48.828956          5.0       3  159.899994           0   \n",
      "7497   2.342675  48.828891          5.0       3  232.800003           1   \n",
      "\n",
      "      StopMoove1  DebFin  \n",
      "7327           1       0  \n",
      "7328           1       0  \n",
      "7329           1       0  \n",
      "7330           1       0  \n",
      "7331           1       0  \n",
      "7332           1       0  \n",
      "7333           1       0  \n",
      "7334           1       0  \n",
      "7335           1       0  \n",
      "7336           1       1  \n",
      "7337           1       1  \n",
      "7338           1       0  \n",
      "7339           1       0  \n",
      "7340           1       0  \n",
      "7341           1       0  \n",
      "7342           1       1  \n",
      "7343           1       0  \n",
      "7344           1       0  \n",
      "7345           1       0  \n",
      "7346           1       0  \n",
      "7347           1       0  \n",
      "7348           1       0  \n",
      "7349           1       0  \n",
      "7350           1       0  \n",
      "7351           1       0  \n",
      "7352           1       1  \n",
      "7353           1       1  \n",
      "7354           1       0  \n",
      "7355           1       0  \n",
      "7356           1       0  \n",
      "...          ...     ...  \n",
      "7468           1       0  \n",
      "7469           1       0  \n",
      "7470           1       1  \n",
      "7471           0       0  \n",
      "7472           0       0  \n",
      "7473           1       0  \n",
      "7474           1       0  \n",
      "7475           1       0  \n",
      "7476           1       0  \n",
      "7477           1       0  \n",
      "7478           1       0  \n",
      "7479           1       0  \n",
      "7480           1       0  \n",
      "7481           1       1  \n",
      "7482           1       1  \n",
      "7483           1       1  \n",
      "7484           1       1  \n",
      "7485           0       1  \n",
      "7486           0       1  \n",
      "7487           1       1  \n",
      "7488           1       0  \n",
      "7489           1       0  \n",
      "7490           1       0  \n",
      "7491           1       0  \n",
      "7492           1       0  \n",
      "7493           1       0  \n",
      "7494           1       0  \n",
      "7495           1       0  \n",
      "7496           1       0  \n",
      "7497           1       1  \n",
      "\n"
     ]
    },
    {
     "name": "stdout",
     "output_type": "stream",
     "text": [
      "[171 rows x 14 columns]\n"
     ]
    }
   ],
   "source": [
    "\n",
    "T1= df_1[df_1.sampno == 8519171]\n",
    "T1Voiture=T1[T1.moyenT == 1]\n",
    "T1Marche=T1[T1.moyenT == 2]\n",
    "T1Bus=T1[T1.moyenT == 3]\n",
    "T1Rer=T1[T1.moyenT == 4]\n",
    "print(len(T1Voiture))\n",
    "print(len(T1))\n",
    "print(len(T1Voiture))\n",
    "print(len(T1Voiture))"
   ]
  },
  {
   "cell_type": "code",
   "execution_count": 25,
   "metadata": {},
   "outputs": [
    {
     "name": "stdout",
     "output_type": "stream",
     "text": [
      "8\n"
     ]
    }
   ],
   "source": [
    "print(len(T1))\n",
    "t = list(set(traj))\n",
    "maxilen=0\n",
    "for i in t:\n",
    "    tt=df_1[df_1.sampno == i]\n",
    "    lent=len(tt)\n",
    "    if lent>maxilen:\n",
    "        maxi=i\n",
    "        maxilen= len(df_1[df_1.sampno == i])"
   ]
  },
  {
   "cell_type": "code",
   "execution_count": 26,
   "metadata": {},
   "outputs": [
    {
     "name": "stdout",
     "output_type": "stream",
     "text": [
      "8499616\n"
     ]
    }
   ],
   "source": [
    "print(maxi)"
   ]
  },
  {
   "cell_type": "code",
   "execution_count": 14,
   "metadata": {},
   "outputs": [
    {
     "data": {
      "text/plain": [
       "48.849216999999996"
      ]
     },
     "execution_count": 14,
     "metadata": {},
     "output_type": "execute_result"
    }
   ],
   "source": [
    "T1.latitude.iloc[0]"
   ]
  },
  {
   "cell_type": "code",
   "execution_count": 50,
   "metadata": {
    "collapsed": true
   },
   "outputs": [],
   "source": [
    "import gmplot\n",
    "# declare the center of the map, and how much we want the map zoomed in\n",
    "gmap = gmplot.GoogleMapPlotter(T1.latitude.iloc[0] , T1.longitude.iloc[0] , 11)\n",
    "gmap.scatter(T1.latitude, T1.longitude, '#FA8072', size=40, marker=False)\n",
    "gmap.draw(\"BoutdeTrajId.html\")"
   ]
  },
  {
   "cell_type": "code",
   "execution_count": 30,
   "metadata": {
    "collapsed": true
   },
   "outputs": [],
   "source": [
    "df_moove = pd.read_csv('C:/Users/MyPC/Desktop/Projet Gps/ProjetGitHub/df_StopMoove.csv', encoding='latin-1')"
   ]
  },
  {
   "cell_type": "code",
   "execution_count": 51,
   "metadata": {
    "collapsed": true
   },
   "outputs": [],
   "source": [
    "T1Complete=df_moove[df_moove.sampno == 8499616]\n",
    "\n",
    "import gmplot\n",
    "# declare the center of the map, and how much we want the map zoomed in\n",
    "gmap = gmplot.GoogleMapPlotter(T1Complete.latitude.iloc[0] , T1Complete.longitude.iloc[0] , 11)\n",
    "gmap.scatter(T1Complete.latitude, T1Complete.longitude, '#3B0B39', size=10, marker=False)\n",
    "gmap.draw(\"BoutdeTrajIdComplete.html\")\n",
    "\n",
    "T1CMoove=T1Complete[T1Complete.StopMoove == 1]\n",
    "\n",
    "# declare the center of the map, and how much we want the map zoomed in\n",
    "gmap = gmplot.GoogleMapPlotter(T1CMoove.latitude.iloc[0] , T1CMoove.longitude.iloc[0] , 11)\n",
    "gmap.scatter(T1CMoove.latitude, T1CMoove.longitude, '#3B0B39', size=10, marker=False)\n",
    "gmap.draw(\"BoutdeTrajIdCompleteMoove.html\")"
   ]
  },
  {
   "cell_type": "code",
   "execution_count": 52,
   "metadata": {
    "collapsed": true
   },
   "outputs": [],
   "source": [
    "T1CMoove=T1Complete[T1Complete.StopMoove == 0]\n",
    "\n",
    "# declare the center of the map, and how much we want the map zoomed in\n",
    "gmap = gmplot.GoogleMapPlotter(T1CMoove.latitude.iloc[0] , T1CMoove.longitude.iloc[0] , 11)\n",
    "gmap.scatter(T1CMoove.latitude, T1CMoove.longitude, '#3B0B39', size=10, marker=False)\n",
    "gmap.draw(\"BoutdeTrajIdCompleteStop.html\")"
   ]
  },
  {
   "cell_type": "code",
   "execution_count": 34,
   "metadata": {},
   "outputs": [
    {
     "name": "stdout",
     "output_type": "stream",
     "text": [
      "   Unnamed: 0  Unnamed: 0.1   sampno  placeno             time_utc  \\\n",
      "0           0             1  8447624        3  2014-09-16 05:33:01   \n",
      "1           1             2  8447624        3  2014-09-16 05:33:06   \n",
      "2           2             3  8447624        3  2014-09-16 05:33:11   \n",
      "3           3             4  8447624        3  2014-09-16 05:33:16   \n",
      "4           4             5  8447624        3  2014-09-16 05:33:21   \n",
      "\n",
      "            time_local  longitude   latitude    altitude  speed valid  hdop  \\\n",
      "0  2014-09-16 07:33:01   2.284952  48.963909  284.100006    2.5     A   1.0   \n",
      "1  2014-09-16 07:33:06   2.285028  48.963881  282.500000    5.6     A   1.0   \n",
      "2  2014-09-16 07:33:11   2.285242  48.963832  282.399994    9.5     A   0.9   \n",
      "3  2014-09-16 07:33:16   2.285622  48.963788  281.500000   12.9     A   1.4   \n",
      "4  2014-09-16 07:33:21   2.286126  48.963615  282.500000   18.1     A   1.4   \n",
      "\n",
      "   nbsat  StopMoove  \n",
      "0      7          1  \n",
      "1      7          0  \n",
      "2      8          0  \n",
      "3      7          0  \n",
      "4      7          1  \n"
     ]
    }
   ],
   "source": [
    "print(df_moove.head())"
   ]
  },
  {
   "cell_type": "code",
   "execution_count": 48,
   "metadata": {
    "collapsed": true
   },
   "outputs": [],
   "source": [
    "df_moove['StopMooveStop']=df_moove['StopMoove']\n",
    "for i in range(0, len(df_moove)):\n",
    "    if df_moove.speed[i] >2.5 :\n",
    "        df_moove.set_value(i ,'StopMooveStop',1)"
   ]
  },
  {
   "cell_type": "code",
   "execution_count": 53,
   "metadata": {
    "collapsed": true
   },
   "outputs": [],
   "source": [
    "T1CMoove=T1Complete[T1Complete.StopMooveStop == 0]\n",
    "\n",
    "# declare the center of the map, and how much we want the map zoomed in\n",
    "gmap = gmplot.GoogleMapPlotter(T1CMoove.latitude.iloc[0] , T1CMoove.longitude.iloc[0] , 11)\n",
    "gmap.scatter(T1CMoove.latitude, T1CMoove.longitude, '#3B0B39', size=10, marker=False)\n",
    "gmap.draw(\"BoutdeTrajIdCompleteVraiStop.html\")"
   ]
  },
  {
   "cell_type": "code",
   "execution_count": null,
   "metadata": {
    "collapsed": true
   },
   "outputs": [],
   "source": []
  }
 ],
 "metadata": {
  "kernelspec": {
   "display_name": "Python 3",
   "language": "python",
   "name": "python3"
  },
  "language_info": {
   "codemirror_mode": {
    "name": "ipython",
    "version": 3
   },
   "file_extension": ".py",
   "mimetype": "text/x-python",
   "name": "python",
   "nbconvert_exporter": "python",
   "pygments_lexer": "ipython3",
   "version": "3.6.3"
  }
 },
 "nbformat": 4,
 "nbformat_minor": 2
}
