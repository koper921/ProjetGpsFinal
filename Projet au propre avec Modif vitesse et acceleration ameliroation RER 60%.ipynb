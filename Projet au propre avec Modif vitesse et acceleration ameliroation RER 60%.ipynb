{
 "cells": [
  {
   "cell_type": "code",
   "execution_count": 5,
   "metadata": {},
   "outputs": [
    {
     "name": "stdout",
     "output_type": "stream",
     "text": [
      "   Unnamed: 0   sampno  placeno             time_utc           time_local  \\\n",
      "0           1  8447624        3  2014-09-16 05:33:01  2014-09-16 07:33:01   \n",
      "1           2  8447624        3  2014-09-16 05:33:06  2014-09-16 07:33:06   \n",
      "2           3  8447624        3  2014-09-16 05:33:11  2014-09-16 07:33:11   \n",
      "3           4  8447624        3  2014-09-16 05:33:16  2014-09-16 07:33:16   \n",
      "4           5  8447624        3  2014-09-16 05:33:21  2014-09-16 07:33:21   \n",
      "\n",
      "   longitude   latitude    altitude  speed valid  hdop  nbsat  \n",
      "0   2.284952  48.963909  284.100006    2.5     A   1.0      7  \n",
      "1   2.285028  48.963881  282.500000    5.6     A   1.0      7  \n",
      "2   2.285242  48.963832  282.399994    9.5     A   0.9      8  \n",
      "3   2.285622  48.963788  281.500000   12.9     A   1.4      7  \n",
      "4   2.286126  48.963615  282.500000   18.1     A   1.4      7  \n",
      "   Unnamed: 0 PersonUserme    N_ipc  placeno      locno other1  supermarket1  \\\n",
      "0           1           p1  8230285      1.0        1.0    NaN          -1.0   \n",
      "1           2           p1  8230285      NaN        NaN    NaN           NaN   \n",
      "2           3           p1  8230285      2.0  1000001.0    NaN          -1.0   \n",
      "3           4           p1  8230285      NaN        NaN    NaN           NaN   \n",
      "4           5           p1  8230285      3.0  1000002.0    NaN          -1.0   \n",
      "\n",
      "   fastfood1  sportif1 other2     ...      mode  distance  route o_mode  \\\n",
      "0       -1.0      -1.0    NaN     ...       NaN       NaN    NaN    NaN   \n",
      "1        NaN       NaN    NaN     ...      10.0     5.362    NaN    NaN   \n",
      "2       -1.0      -1.0    NaN     ...       NaN       NaN    NaN    NaN   \n",
      "3        NaN       NaN    NaN     ...      10.0    14.005    NaN    NaN   \n",
      "4       -1.0      -1.0    NaN     ...       NaN       NaN    NaN    NaN   \n",
      "\n",
      "   inputed_trip_start  changement_mode  incomplete_trip  code_detaille  \\\n",
      "0                 NaN              NaN              NaN          Amax1   \n",
      "1                 NaN              0.0              NaN             T1   \n",
      "2                 NaN              NaN              NaN          Amax2   \n",
      "3                 NaN              0.0              NaN             T2   \n",
      "4                 NaN              NaN              NaN          Amax3   \n",
      "\n",
      "   code_synthetique    duration  \n",
      "0             Amin1  267.233333  \n",
      "1                D1   15.250000  \n",
      "2             Amin2  128.133333  \n",
      "3                D2   23.733333  \n",
      "4             Amin3   14.516667  \n",
      "\n",
      "[5 rows x 45 columns]\n"
     ]
    },
    {
     "name": "stderr",
     "output_type": "stream",
     "text": [
      "D:\\Programmes\\Anaconda2\\lib\\site-packages\\IPython\\core\\interactiveshell.py:2698: DtypeWarning: Columns (30,31) have mixed types. Specify dtype option on import or set low_memory=False.\n",
      "  interactivity=interactivity, compiler=compiler, result=result)\n"
     ]
    },
    {
     "ename": "AttributeError",
     "evalue": "'DataFrame' object has no attribute 'column'",
     "output_type": "error",
     "traceback": [
      "\u001b[1;31m---------------------------------------------------------------------------\u001b[0m",
      "\u001b[1;31mAttributeError\u001b[0m                            Traceback (most recent call last)",
      "\u001b[1;32m<ipython-input-5-68742bc002fc>\u001b[0m in \u001b[0;36m<module>\u001b[1;34m()\u001b[0m\n\u001b[0;32m      7\u001b[0m \u001b[1;33m\u001b[0m\u001b[0m\n\u001b[0;32m      8\u001b[0m \u001b[0mprint\u001b[0m\u001b[1;33m(\u001b[0m\u001b[0mdf_list2\u001b[0m\u001b[1;33m.\u001b[0m\u001b[0mhead\u001b[0m\u001b[1;33m(\u001b[0m\u001b[1;33m)\u001b[0m\u001b[1;33m)\u001b[0m\u001b[1;33m\u001b[0m\u001b[0m\n\u001b[1;32m----> 9\u001b[1;33m \u001b[0mprint\u001b[0m\u001b[1;33m(\u001b[0m\u001b[0mdf_list3\u001b[0m\u001b[1;33m.\u001b[0m\u001b[0mcolumn\u001b[0m\u001b[1;33m(\u001b[0m\u001b[1;33m)\u001b[0m\u001b[1;33m)\u001b[0m\u001b[1;33m\u001b[0m\u001b[0m\n\u001b[0m",
      "\u001b[1;32mD:\\Programmes\\Anaconda2\\lib\\site-packages\\pandas\\core\\generic.py\u001b[0m in \u001b[0;36m__getattr__\u001b[1;34m(self, name)\u001b[0m\n\u001b[0;32m   3079\u001b[0m             \u001b[1;32mif\u001b[0m \u001b[0mname\u001b[0m \u001b[1;32min\u001b[0m \u001b[0mself\u001b[0m\u001b[1;33m.\u001b[0m\u001b[0m_info_axis\u001b[0m\u001b[1;33m:\u001b[0m\u001b[1;33m\u001b[0m\u001b[0m\n\u001b[0;32m   3080\u001b[0m                 \u001b[1;32mreturn\u001b[0m \u001b[0mself\u001b[0m\u001b[1;33m[\u001b[0m\u001b[0mname\u001b[0m\u001b[1;33m]\u001b[0m\u001b[1;33m\u001b[0m\u001b[0m\n\u001b[1;32m-> 3081\u001b[1;33m             \u001b[1;32mreturn\u001b[0m \u001b[0mobject\u001b[0m\u001b[1;33m.\u001b[0m\u001b[0m__getattribute__\u001b[0m\u001b[1;33m(\u001b[0m\u001b[0mself\u001b[0m\u001b[1;33m,\u001b[0m \u001b[0mname\u001b[0m\u001b[1;33m)\u001b[0m\u001b[1;33m\u001b[0m\u001b[0m\n\u001b[0m\u001b[0;32m   3082\u001b[0m \u001b[1;33m\u001b[0m\u001b[0m\n\u001b[0;32m   3083\u001b[0m     \u001b[1;32mdef\u001b[0m \u001b[0m__setattr__\u001b[0m\u001b[1;33m(\u001b[0m\u001b[0mself\u001b[0m\u001b[1;33m,\u001b[0m \u001b[0mname\u001b[0m\u001b[1;33m,\u001b[0m \u001b[0mvalue\u001b[0m\u001b[1;33m)\u001b[0m\u001b[1;33m:\u001b[0m\u001b[1;33m\u001b[0m\u001b[0m\n",
      "\u001b[1;31mAttributeError\u001b[0m: 'DataFrame' object has no attribute 'column'"
     ]
    }
   ],
   "source": [
    "import pandas as pd\n",
    "df_min = pd.read_csv('C:/Users/MyPC/Desktop/Projet Gps/AutreP/Livraison 1_CSV/corrected_gps_information_new.csv')\n",
    "df_list2 = pd.read_csv('C:/Users/MyPC/Desktop/Projet Gps/AutreP/Livraison 1_CSV/table_horaire.csv', encoding='latin-1')\n",
    "df_list3 = pd.read_csv('C:/Users/MyPC/Desktop/Projet Gps/AutreP/Livraison 1_CSV/suivi_mc.csv', encoding='latin-1')\n",
    "\n",
    "print(df_min.head())\n",
    "\n",
    "print(df_list2.head())\n",
    "print(df_list3.column())"
   ]
  },
  {
   "cell_type": "code",
   "execution_count": 4,
   "metadata": {},
   "outputs": [
    {
     "ename": "AttributeError",
     "evalue": "module 'pandas' has no attribute 'core'",
     "output_type": "error",
     "traceback": [
      "\u001b[1;31m---------------------------------------------------------------------------\u001b[0m",
      "\u001b[1;31mAttributeError\u001b[0m                            Traceback (most recent call last)",
      "\u001b[1;32m<ipython-input-4-a89ffe5a5afc>\u001b[0m in \u001b[0;36m<module>\u001b[1;34m()\u001b[0m\n\u001b[0;32m      1\u001b[0m \u001b[1;31m### Labeliser base prends un certain temps!\u001b[0m\u001b[1;33m\u001b[0m\u001b[1;33m\u001b[0m\u001b[0m\n\u001b[0;32m      2\u001b[0m \u001b[1;33m\u001b[0m\u001b[0m\n\u001b[1;32m----> 3\u001b[1;33m \u001b[1;32mimport\u001b[0m \u001b[0mpandas\u001b[0m \u001b[1;32mas\u001b[0m \u001b[0mpd\u001b[0m\u001b[1;33m\u001b[0m\u001b[0m\n\u001b[0m\u001b[0;32m      4\u001b[0m \u001b[1;32mimport\u001b[0m \u001b[0mjson\u001b[0m\u001b[1;33m\u001b[0m\u001b[0m\n\u001b[0;32m      5\u001b[0m \u001b[1;32mimport\u001b[0m \u001b[0mnumpy\u001b[0m \u001b[1;32mas\u001b[0m \u001b[0mnp\u001b[0m\u001b[1;33m\u001b[0m\u001b[0m\n",
      "\u001b[1;32mD:\\Programmes\\Anaconda2\\lib\\site-packages\\pandas\\__init__.py\u001b[0m in \u001b[0;36m<module>\u001b[1;34m()\u001b[0m\n\u001b[0;32m     40\u001b[0m \u001b[1;32mimport\u001b[0m \u001b[0mpandas\u001b[0m\u001b[1;33m.\u001b[0m\u001b[0mcore\u001b[0m\u001b[1;33m.\u001b[0m\u001b[0mconfig_init\u001b[0m\u001b[1;33m\u001b[0m\u001b[0m\n\u001b[0;32m     41\u001b[0m \u001b[1;33m\u001b[0m\u001b[0m\n\u001b[1;32m---> 42\u001b[1;33m \u001b[1;32mfrom\u001b[0m \u001b[0mpandas\u001b[0m\u001b[1;33m.\u001b[0m\u001b[0mcore\u001b[0m\u001b[1;33m.\u001b[0m\u001b[0mapi\u001b[0m \u001b[1;32mimport\u001b[0m \u001b[1;33m*\u001b[0m\u001b[1;33m\u001b[0m\u001b[0m\n\u001b[0m\u001b[0;32m     43\u001b[0m \u001b[1;32mfrom\u001b[0m \u001b[0mpandas\u001b[0m\u001b[1;33m.\u001b[0m\u001b[0mcore\u001b[0m\u001b[1;33m.\u001b[0m\u001b[0msparse\u001b[0m\u001b[1;33m.\u001b[0m\u001b[0mapi\u001b[0m \u001b[1;32mimport\u001b[0m \u001b[1;33m*\u001b[0m\u001b[1;33m\u001b[0m\u001b[0m\n\u001b[0;32m     44\u001b[0m \u001b[1;32mfrom\u001b[0m \u001b[0mpandas\u001b[0m\u001b[1;33m.\u001b[0m\u001b[0mstats\u001b[0m\u001b[1;33m.\u001b[0m\u001b[0mapi\u001b[0m \u001b[1;32mimport\u001b[0m \u001b[1;33m*\u001b[0m\u001b[1;33m\u001b[0m\u001b[0m\n",
      "\u001b[1;32mD:\\Programmes\\Anaconda2\\lib\\site-packages\\pandas\\core\\api.py\u001b[0m in \u001b[0;36m<module>\u001b[1;34m()\u001b[0m\n\u001b[0;32m      8\u001b[0m \u001b[1;32mfrom\u001b[0m \u001b[0mpandas\u001b[0m\u001b[1;33m.\u001b[0m\u001b[0mcore\u001b[0m\u001b[1;33m.\u001b[0m\u001b[0mdtypes\u001b[0m\u001b[1;33m.\u001b[0m\u001b[0mmissing\u001b[0m \u001b[1;32mimport\u001b[0m \u001b[0misnull\u001b[0m\u001b[1;33m,\u001b[0m \u001b[0mnotnull\u001b[0m\u001b[1;33m\u001b[0m\u001b[0m\n\u001b[0;32m      9\u001b[0m \u001b[1;32mfrom\u001b[0m \u001b[0mpandas\u001b[0m\u001b[1;33m.\u001b[0m\u001b[0mcore\u001b[0m\u001b[1;33m.\u001b[0m\u001b[0mcategorical\u001b[0m \u001b[1;32mimport\u001b[0m \u001b[0mCategorical\u001b[0m\u001b[1;33m\u001b[0m\u001b[0m\n\u001b[1;32m---> 10\u001b[1;33m \u001b[1;32mfrom\u001b[0m \u001b[0mpandas\u001b[0m\u001b[1;33m.\u001b[0m\u001b[0mcore\u001b[0m\u001b[1;33m.\u001b[0m\u001b[0mgroupby\u001b[0m \u001b[1;32mimport\u001b[0m \u001b[0mGrouper\u001b[0m\u001b[1;33m\u001b[0m\u001b[0m\n\u001b[0m\u001b[0;32m     11\u001b[0m \u001b[1;32mfrom\u001b[0m \u001b[0mpandas\u001b[0m\u001b[1;33m.\u001b[0m\u001b[0mio\u001b[0m\u001b[1;33m.\u001b[0m\u001b[0mformats\u001b[0m\u001b[1;33m.\u001b[0m\u001b[0mformat\u001b[0m \u001b[1;32mimport\u001b[0m \u001b[0mset_eng_float_format\u001b[0m\u001b[1;33m\u001b[0m\u001b[0m\n\u001b[0;32m     12\u001b[0m from pandas.core.index import (Index, CategoricalIndex, Int64Index,\n",
      "\u001b[1;32mD:\\Programmes\\Anaconda2\\lib\\site-packages\\pandas\\core\\groupby.py\u001b[0m in \u001b[0;36m<module>\u001b[1;34m()\u001b[0m\n\u001b[0;32m     44\u001b[0m from pandas.core.base import (PandasObject, SelectionMixin, GroupByError,\n\u001b[0;32m     45\u001b[0m                               DataError, SpecificationError)\n\u001b[1;32m---> 46\u001b[1;33m from pandas.core.index import (Index, MultiIndex,\n\u001b[0m\u001b[0;32m     47\u001b[0m                                CategoricalIndex, _ensure_index)\n\u001b[0;32m     48\u001b[0m \u001b[1;32mfrom\u001b[0m \u001b[0mpandas\u001b[0m\u001b[1;33m.\u001b[0m\u001b[0mcore\u001b[0m\u001b[1;33m.\u001b[0m\u001b[0mcategorical\u001b[0m \u001b[1;32mimport\u001b[0m \u001b[0mCategorical\u001b[0m\u001b[1;33m\u001b[0m\u001b[0m\n",
      "\u001b[1;32mD:\\Programmes\\Anaconda2\\lib\\site-packages\\pandas\\core\\index.py\u001b[0m in \u001b[0;36m<module>\u001b[1;34m()\u001b[0m\n\u001b[0;32m      1\u001b[0m \u001b[1;31m# flake8: noqa\u001b[0m\u001b[1;33m\u001b[0m\u001b[1;33m\u001b[0m\u001b[0m\n\u001b[1;32m----> 2\u001b[1;33m \u001b[1;32mfrom\u001b[0m \u001b[0mpandas\u001b[0m\u001b[1;33m.\u001b[0m\u001b[0mcore\u001b[0m\u001b[1;33m.\u001b[0m\u001b[0mindexes\u001b[0m\u001b[1;33m.\u001b[0m\u001b[0mapi\u001b[0m \u001b[1;32mimport\u001b[0m \u001b[1;33m*\u001b[0m\u001b[1;33m\u001b[0m\u001b[0m\n\u001b[0m\u001b[0;32m      3\u001b[0m \u001b[1;32mfrom\u001b[0m \u001b[0mpandas\u001b[0m\u001b[1;33m.\u001b[0m\u001b[0mcore\u001b[0m\u001b[1;33m.\u001b[0m\u001b[0mindexes\u001b[0m\u001b[1;33m.\u001b[0m\u001b[0mmulti\u001b[0m \u001b[1;32mimport\u001b[0m \u001b[0m_sparsify\u001b[0m\u001b[1;33m\u001b[0m\u001b[0m\n",
      "\u001b[1;32mD:\\Programmes\\Anaconda2\\lib\\site-packages\\pandas\\core\\indexes\\api.py\u001b[0m in \u001b[0;36m<module>\u001b[1;34m()\u001b[0m\n\u001b[1;32m----> 1\u001b[1;33m from pandas.core.indexes.base import (Index, _new_Index,  # noqa\n\u001b[0m\u001b[0;32m      2\u001b[0m                                  \u001b[0m_ensure_index\u001b[0m\u001b[1;33m,\u001b[0m \u001b[0m_get_na_value\u001b[0m\u001b[1;33m,\u001b[0m\u001b[1;33m\u001b[0m\u001b[0m\n\u001b[0;32m      3\u001b[0m                                  InvalidIndexError)\n\u001b[0;32m      4\u001b[0m \u001b[1;32mfrom\u001b[0m \u001b[0mpandas\u001b[0m\u001b[1;33m.\u001b[0m\u001b[0mcore\u001b[0m\u001b[1;33m.\u001b[0m\u001b[0mindexes\u001b[0m\u001b[1;33m.\u001b[0m\u001b[0mcategory\u001b[0m \u001b[1;32mimport\u001b[0m \u001b[0mCategoricalIndex\u001b[0m  \u001b[1;31m# noqa\u001b[0m\u001b[1;33m\u001b[0m\u001b[0m\n\u001b[0;32m      5\u001b[0m \u001b[1;32mfrom\u001b[0m \u001b[0mpandas\u001b[0m\u001b[1;33m.\u001b[0m\u001b[0mcore\u001b[0m\u001b[1;33m.\u001b[0m\u001b[0mindexes\u001b[0m\u001b[1;33m.\u001b[0m\u001b[0mmulti\u001b[0m \u001b[1;32mimport\u001b[0m \u001b[0mMultiIndex\u001b[0m  \u001b[1;31m# noqa\u001b[0m\u001b[1;33m\u001b[0m\u001b[0m\n",
      "\u001b[1;32mD:\\Programmes\\Anaconda2\\lib\\site-packages\\pandas\\core\\indexes\\base.py\u001b[0m in \u001b[0;36m<module>\u001b[1;34m()\u001b[0m\n\u001b[0;32m     41\u001b[0m \u001b[1;33m\u001b[0m\u001b[0m\n\u001b[0;32m     42\u001b[0m \u001b[1;32mfrom\u001b[0m \u001b[0mpandas\u001b[0m\u001b[1;33m.\u001b[0m\u001b[0mcore\u001b[0m\u001b[1;33m.\u001b[0m\u001b[0mbase\u001b[0m \u001b[1;32mimport\u001b[0m \u001b[0mPandasObject\u001b[0m\u001b[1;33m,\u001b[0m \u001b[0mIndexOpsMixin\u001b[0m\u001b[1;33m\u001b[0m\u001b[0m\n\u001b[1;32m---> 43\u001b[1;33m \u001b[1;32mimport\u001b[0m \u001b[0mpandas\u001b[0m\u001b[1;33m.\u001b[0m\u001b[0mcore\u001b[0m\u001b[1;33m.\u001b[0m\u001b[0mbase\u001b[0m \u001b[1;32mas\u001b[0m \u001b[0mbase\u001b[0m\u001b[1;33m\u001b[0m\u001b[0m\n\u001b[0m\u001b[0;32m     44\u001b[0m from pandas.util._decorators import (Appender, Substitution, cache_readonly,\n\u001b[0;32m     45\u001b[0m                                      deprecate, deprecate_kwarg)\n",
      "\u001b[1;31mAttributeError\u001b[0m: module 'pandas' has no attribute 'core'"
     ]
    }
   ],
   "source": [
    "### Labeliser base prends un certain temps!\n",
    "### on fait une jointure en fonction du temps entre les 2 bases \n",
    "\n",
    "import pandas as pd\n",
    "import json\n",
    "import numpy as np\n",
    "import datetime\n",
    "import math\n",
    "import matplotlib.pyplot as plt\n",
    "\n",
    "\n",
    "\n",
    "df_min = pd.read_csv('C:/Users/MyPC/Desktop/Projet Gps/AutreP/Livraison 1_CSV/corrected_gps_information_new.csv')\n",
    "df_list2 = pd.read_csv('C:/Users/MyPC/Desktop/Projet Gps/AutreP/Livraison 1_CSV/table_horaire.csv', encoding='latin-1')\n",
    "df_list3 = pd.read_csv('C:/Users/MyPC/Desktop/Projet Gps/AutreP/Livraison 1_CSV/suivi_mc.csv', encoding='latin-1')\n",
    "\n",
    "\n",
    "\n",
    "listid=[]\n",
    "for i in range(len(df_min)):\n",
    "    listid.append(df_min['sampno'].iloc[i])\n",
    "\n",
    "# liste de chaque utilisateurs differents  , servira pour la boucle ci dessous \n",
    "user=list(set(listid))\n",
    "\n",
    "import time\n",
    "df_min['label']=\"vide\"\n",
    "df_list=[]\n",
    "\n",
    "for u in user:\n",
    "    df_minU=df_min.loc[df_min['sampno']==u,:]\n",
    "    df_U=df_list2.loc[df_list2['N_ipc']==u,:]  #utilisateur jointure sur N_ipc, et sampno\n",
    "    listI=df_U.locme.index.tolist()\n",
    "    for i in range(df_minU.index[0], df_minU.index[0]+len(df_minU)-1):\n",
    "        \n",
    "        newdate1 = time.strptime(df_minU.time_local[i] , \"%Y-%m-%d %H:%M:%S\")\n",
    "        \n",
    "        \n",
    "        for j in listI:\n",
    "                newdate2 = time.strptime(df_U.start_time[j] , \"%m/%d/%y %H:%M\")\n",
    "                newdate3 = time.strptime(df_U.stop_time[j] , \"%m/%d/%y %H:%M\")\n",
    "                if newdate1<= newdate3 and newdate1>=newdate2:\n",
    "                    df_minU.label[i]=df_U.locme[j]\n",
    "    df_list.append(df_minU)\n",
    "  \n",
    "df_label = pd.concat(df_list, ignore_index=True)\n",
    "\n",
    "#df_label.to_csv(\"baseLabexample.csv\", sep=',')\n",
    "\n",
    "\n"
   ]
  },
  {
   "cell_type": "code",
   "execution_count": 8,
   "metadata": {},
   "outputs": [
    {
     "name": "stdout",
     "output_type": "stream",
     "text": [
      "25                     vide\n",
      "26                     vide\n",
      "27                     vide\n",
      "28                     vide\n",
      "29                     vide\n",
      "30                     vide\n",
      "31                     vide\n",
      "32                     vide\n",
      "33                     vide\n",
      "34                     vide\n",
      "118                    vide\n",
      "119                    vide\n",
      "120                    vide\n",
      "121                    vide\n",
      "122                    vide\n",
      "183                    vide\n",
      "184                    vide\n",
      "185                    vide\n",
      "186                    vide\n",
      "187                    vide\n",
      "188                    vide\n",
      "189                    vide\n",
      "190                    vide\n",
      "191                    vide\n",
      "284                    vide\n",
      "340                    vide\n",
      "341                    vide\n",
      "342                    vide\n",
      "343                    vide\n",
      "344                    vide\n",
      "                 ...       \n",
      "1014693    AchÌ¬res - Ville\n",
      "1014694    AchÌ¬res - Ville\n",
      "1014695    AchÌ¬res - Ville\n",
      "1014696    AchÌ¬res - Ville\n",
      "1014697    AchÌ¬res - Ville\n",
      "1014698    AchÌ¬res - Ville\n",
      "1014699    AchÌ¬res - Ville\n",
      "1014700    AchÌ¬res - Ville\n",
      "1014701    AchÌ¬res - Ville\n",
      "1014702    AchÌ¬res - Ville\n",
      "1014703    AchÌ¬res - Ville\n",
      "1014704    AchÌ¬res - Ville\n",
      "1014705    AchÌ¬res - Ville\n",
      "1014706    AchÌ¬res - Ville\n",
      "1014707    AchÌ¬res - Ville\n",
      "1014708    AchÌ¬res - Ville\n",
      "1014709    AchÌ¬res - Ville\n",
      "1014710    AchÌ¬res - Ville\n",
      "1014711    AchÌ¬res - Ville\n",
      "1014712    AchÌ¬res - Ville\n",
      "1014713    AchÌ¬res - Ville\n",
      "1014714    AchÌ¬res - Ville\n",
      "1014715    AchÌ¬res - Ville\n",
      "1014716    AchÌ¬res - Ville\n",
      "1014717    AchÌ¬res - Ville\n",
      "1014968                vide\n",
      "1014969                vide\n",
      "1014970                vide\n",
      "1014971                vide\n",
      "1014972                vide\n",
      "Name: label, Length: 185376, dtype: object\n",
      "{'Gare RER Saint Gratien', 'La DÌ©fense', 'Attente de sa fille', 'Stationnement travail', 'RER Val de Fontey', 'Epicerie exotique', 'Point de passage fonctionnel-5', 'Bus route de Plessis', 'CimetiÌ¬re', 'KinÌ©', 'RER A NTERRE VILLE', 'vide', 'Gare Bourg La Reine', 'RER Saint Denis', 'Tram BelvÌ©dÌ¬re', 'Gare La DÌ©fense', 'Carrossier', 'DÌ©pose Ì©pouse', 'RER Joinville le Pont', 'RER Noisy Le Grand', 'Bus Avenue de la RÌ©publique-2', 'MÌ©tro Place de Clichy', 'Centre commercial Bercy 2', 'Pause sur la route', 'VÌ©rification de ses mails-2', 'Auchan Cergy', 'Gare Ablon', 'Parking centre commercial', 'RER E BONDY', 'Monoprix', 'Gare Joinville-Le-Pont', 'CafÌ©', 'ForÌ»t de Saint Palais', 'RÌ©sidence', 'Station / arrÌ»t\\tGARE DE SAINT CLOUD', 'GARE DE BECON LES BRUYERES', 'Famille-2', 'RER NTERRE VILLE', 'Point de passage fonctionnel 4', 'RER nterre PrÌ©fecture', 'Ami-3', 'Gare Clichy Levallois', 'GARE DE MELUN', 'RER Epiy sur seine', 'Station / arrÌ»t\\tgare Sartrouville', 'GARE DE FONTEY LE FLEURY', 'Tram Puteaux', 'GARE DE LA DEFENSE', 'IKEA', 'AMIS', 'PÌ©age', 'Lieu de visite AMIS RUE GALVANI', 'ArrÌ»t de bus RER Epiy sur Seine', 'Amis-2', 'Suresnes-Mont-ValÌ©rien', 'GARE DE VANVES MALAKOFF', 'Tramway Puteaux', 'RER La Courneuve Aubervilliers', 'Stationnement', 'Point de passage fonctionnel-3', 'RER D Vitry sur Seine', 'Bus Avenue de la RÌ©publique', 'Gare Houilles CarriÌ¬res sur Seine', 'Gare de Saint Quentin en Yvelines', 'RER Noisiel', \"RER Noisy Le Grand Mont d'Est\", 'Aires de Morainvilliers', \"Gare Saint Ouen L'AumÌ«ne Quartier de L'Eglise\", 'Gare Suresnes - Mont ValÌ©rien', 'Gare Saint CLoud-2', 'RER nterre-UniversitÌ©', 'DÌ©pose participant', 'Gare Montreuil', 'RER Station / arrÌ»t\\tNTERRE VILLE', 'Station / arrÌ»t\\trer issy', 'RER B LA COURNEUVE AUBERVILLIERS', 'Accompagnement de personne', \"Gare Saint Ouen L'AumÌ«ne Liesse\", 'RER nterre UniversitÌ©', 'AchÌ¬res - Ville', 'Lieu de rÌ©sidence', \"Stationnement Lieu d''accompagnement GYMSE\", 'Gare AchÌ¬res-Ville', 'RER Rueil Malmaison', 'Essence', 'Stationnement vÌ©hicule', \"Gare d'Herblay\", 'RER C VITRY SUR SEINE', 'LIGNE J GARE DE CORMEILLES EN PARISIS', 'Gare Argenteuil', 'Gare Fontey-sous-Bois', 'RER A POISSY', 'Domicile', 'RER E LES BOULLEREAUX CHAMPIGNY'}\n",
      "   Unnamed: 0  Unnamed: 0.1   sampno  placeno             time_utc  \\\n",
      "0           0        947343  8507392        2  2014-12-02 15:23:45   \n",
      "1           1        947344  8507392        2  2014-12-02 15:23:50   \n",
      "2           2        947345  8507392        2  2014-12-02 15:25:15   \n",
      "3           3        947346  8507392        2  2014-12-02 15:25:25   \n",
      "4           4        947347  8507392        2  2014-12-02 15:25:35   \n",
      "\n",
      "            time_local  longitude   latitude    altitude  speed valid  hdop  \\\n",
      "0  2014-12-02 16:23:45   2.087041  48.983364  177.800003    2.3     A   1.0   \n",
      "1  2014-12-02 16:23:50   2.086963  48.983344  181.199997    2.2     A   1.0   \n",
      "2  2014-12-02 16:25:15   2.086911  48.983327  193.399994    2.9     A   1.0   \n",
      "3  2014-12-02 16:25:25   2.087135  48.983361  183.399994    3.7     A   1.0   \n",
      "4  2014-12-02 16:25:35   2.087169  48.983235  177.800003    9.0     A   1.0   \n",
      "\n",
      "   nbsat label  \n",
      "0      9  vide  \n",
      "1      9  vide  \n",
      "2      9  vide  \n",
      "3      9  vide  \n",
      "4      9  vide  \n"
     ]
    },
    {
     "data": {
      "image/png": "[encoded data removed]",
      "text/plain": [
       "<matplotlib.figure.Figure at 0x16d36907eb8>"
      ]
     },
     "metadata": {},
     "output_type": "display_data"
    },
    {
     "name": "stdout",
     "output_type": "stream",
     "text": [
      "1016439\n",
      "1016439\n"
     ]
    },
    {
     "name": "stderr",
     "output_type": "stream",
     "text": [
      "D:\\Programmes\\Anaconda2\\lib\\site-packages\\ipykernel_launcher.py:133: RuntimeWarning: invalid value encountered in double_scalars\n"
     ]
    },
    {
     "data": {
      "image/png": "[encoded data removed]",
      "text/plain": [
       "<matplotlib.figure.Figure at 0x16d155924e0>"
      ]
     },
     "metadata": {},
     "output_type": "display_data"
    }
   ],
   "source": [
    "import pandas as pd\n",
    "import json\n",
    "import numpy as np\n",
    "import datetime \n",
    "from datetime import datetime\n",
    "import math\n",
    "\n",
    "import matplotlib.pyplot as plt\n",
    "\n",
    "\n",
    "\n",
    "df_min = pd.read_csv('C:/Users/MyPC/Desktop/Projet Gps/baseLab.csv', encoding='latin-1')\n",
    "df_min2 = pd.read_csv('C:/Users/MyPC/Desktop/Projet Gps/AutreP/Livraison 1_CSV/corrected_gps_information_new.csv')\n",
    "\n",
    "\n",
    "\n",
    "\n",
    "\n",
    "\n",
    "\n",
    "\n",
    "\n",
    "df_rapide= df_min[df_min.speed>40]\n",
    "print(df_rapide.label)\n",
    "\n",
    "rapidelabel=[]\n",
    "for i in range(0,len(df_rapide)):\n",
    "    rapidelabel.append(df_rapide['label'].iloc[i])\n",
    "RL= set(rapidelabel)\n",
    "print(RL)\n",
    "    \n",
    "print(df_min.head())\n",
    "\n",
    "plt.plot(df_min.speed)\n",
    "plt.show()\n",
    "df_min['metro']=0\n",
    "df_min['bus']=0\n",
    "df_min['voiture']=0\n",
    "df_min['marche']=0\n",
    "df_min['acceleration']=0\n",
    "df_min['acceleration1000']=0\n",
    "df_min['speedMS']=df_min['speed']*0.278\n",
    "df_min['difTempsSec']=0\n",
    "df_min['moyenT']=0\n",
    "df_min['angle']=0\n",
    "df_min['smooth']=0\n",
    "\n",
    "\n",
    "\n",
    "smooth=[]\n",
    "\n",
    "#def CalculSmooth(s1,s2,s3):\n",
    "#    vit=1/3*(s1+s2+s3)\n",
    "#    return vit\n",
    "#\n",
    "#smooth.append(df_min.speed[0])\n",
    "#smooth.append(1/2*(df_min.speed[0]+df_min.speed[1]))\n",
    "#for i in range(2 , len(df_min)):\n",
    "#    if df_min.sampno[i]==df_min.sampno[i-1] and df_min.sampno[i-1]==df_min.sampno[i-2]:\n",
    "#        s=CalculSmooth(df_min.speed[i],df_min.speed[i-1],df_min.speed[i-2])\n",
    "#        smooth.append(s)\n",
    "#    elif df_min.sampno[i]==df_min.sampno[i-1] and df_min.sampno[i-1]!=df_min.sampno[i-2]:\n",
    "#        s=1/2*( df_min.speed[i]+df_min.speed[i-1])\n",
    "#        smooth.append(s)\n",
    "#    elif df_min.sampno[i]!=df_min.sampno[i-1]  :\n",
    "#        s=df_min.speed[i]\n",
    "#\n",
    "#print(len(smooth))\n",
    "#print(len(df_min))\n",
    "#\n",
    "#df_min.smooth=smooth  \n",
    "\n",
    "\n",
    "\n",
    "temps=[]\n",
    "temps.append(0)\n",
    "for i in range(0, len(df_min)-1):\n",
    "   \n",
    "    d1 = datetime.strptime(df_min.time_local[i], \"%Y-%m-%d %H:%M:%S\")\n",
    "    d2 = datetime.strptime(df_min.time_local[i+1], \"%Y-%m-%d %H:%M:%S\")\n",
    "    t=d2-d1\n",
    "    temps.append(t.total_seconds())\n",
    "    \n",
    "    \n",
    "df_min.difTempsSec=temps\n",
    "\n",
    "\n",
    "### feature smooth average \n",
    "df_min['smooth']=0\n",
    "\n",
    "\n",
    "\n",
    "smooth=[]\n",
    "\n",
    "def CalculSmooth(s1,s2,s3):\n",
    "    vit=1/3*(s1+s2+s3)\n",
    "    return vit\n",
    "\n",
    "smooth.append(df_min.speed[0])\n",
    "smooth.append(1/2*(df_min.speed[0]+df_min.speed[1]))\n",
    "for i in range(2 , len(df_min)):\n",
    "    if df_min.sampno[i]==df_min.sampno[i-1] and df_min.sampno[i-1]==df_min.sampno[i-2]:\n",
    "        s=CalculSmooth(df_min.speed[i],df_min.speed[i-1],df_min.speed[i-2])\n",
    "        smooth.append(s)\n",
    "    elif df_min.sampno[i]==df_min.sampno[i-1] and df_min.sampno[i-1]!=df_min.sampno[i-2]:\n",
    "        s=1/2*( df_min.speed[i]+df_min.speed[i-1])\n",
    "        smooth.append(s)\n",
    "    elif df_min.sampno[i]!=df_min.sampno[i-1]  :\n",
    "        s=df_min.speed[i]\n",
    "        smooth.append(s)\n",
    "print(len(smooth))\n",
    "print(len(df_min))\n",
    "\n",
    "df_min.smooth=smooth          \n",
    "  \n",
    "\n",
    "\n",
    "\n",
    "\n",
    "\n",
    "\n",
    "\n",
    "\n",
    "\n",
    "\n",
    "\n",
    " \n",
    "acceleration=[]\n",
    "acceleration.append(0)\n",
    "for i in range(1, len(df_min)):\n",
    "    if df_min.sampno[i]==df_min.sampno[i-1]:\n",
    "        a=df_min.speedMS[i]-df_min.speedMS[i-1]\n",
    "        b=a/df_min.difTempsSec[i]\n",
    "        acceleration.append(b)\n",
    "    else:\n",
    "        b=0\n",
    "        acceleration.append(b)\n",
    "df_min.acceleration=acceleration\n",
    "df_min.acceleration1000=np.absolute(df_min.acceleration)\n",
    "#print(df_min.acceleration.max())\n",
    "    \n",
    "#Calculer varaition angulaire trajectoire\n",
    "\n",
    "\n",
    "def CalculAngle(lat1,long1,lat2,long2):\n",
    "    dLon = (long2 - long1)\n",
    "    y = math.sin(dLon) * math.cos(lat2)\n",
    "    x = math.cos(lat1) * math.sin(lat2) - math.sin(lat1)* math.cos(lat2) * math.cos(dLon)\n",
    "    brng = math.atan2(y, x)\n",
    "    brng = math.degrees(brng)\n",
    "    brng = (brng + 360) % 360\n",
    "    brng = 360 - brng\n",
    "    return brng\n",
    "\n",
    "angles=[]\n",
    "angles.append(0)\n",
    "\n",
    "for i in range(1, len(df_min)):\n",
    "    if df_min.sampno[i]==df_min.sampno[i-1]:\n",
    "        angle =CalculAngle(df_min.latitude[i-1],df_min.longitude[i-1],df_min.latitude[i],df_min.latitude[i])\n",
    "        angles.append(angle)\n",
    "    else:\n",
    "        angle=0\n",
    "        angles.append(angle)\n",
    "\n",
    "df_min.angle=angles\n",
    "\n",
    "\n",
    "plt.plot(df_min.angle)\n",
    "plt.show()\n",
    "\n",
    "  \n",
    "\n",
    "\n",
    "def MotV(mot):\n",
    "    for i in range(0, len(df_min)):\n",
    "        if mot in df_min.label[i] and df_min.speed[i]>3 :\n",
    "            #df_min.voiture[i]=1\n",
    "            df_min.set_value(i ,'voiture',1)\n",
    "            \n",
    "\n",
    "def Mot(mot):\n",
    "    for i in range(0, len(df_min)):\n",
    "        if mot in df_min.label[i] and  df_min.speed[i]<8 and df_min.acceleration1000[i] <12 :  # on enleve le speed pour avoir le deb et la fin\n",
    "            df_min.set_value(i ,'marche',2)\n",
    "\n",
    "def MotB(mot):\n",
    "    for i in range(0, len(df_min)):\n",
    "        if mot in df_min.label[i] and df_min.speed[i]>3:\n",
    "            df_min.set_value(i ,'bus',3)\n",
    "            \n",
    "            \n",
    "\n",
    "\n",
    "\n",
    "def MotG(mot,motCat, df):\n",
    "    for i in range(0, len(df)):\n",
    "        if mot in df.label[i]:\n",
    "            df_min[motCat].iloc[i]=1\n",
    "            \n",
    "            \n",
    "            \n",
    "def MotExclut(mot, motE,motE1, motE2):\n",
    "    for i in range(0, len(df_min)):\n",
    "        if mot in df_min.label[i] and motE not in df_min.label[i] and motE1 not in df_min.label[i] and motE2 not in df_min.label[i] and df_min.speed[i]>5:\n",
    "            df_min.set_value(i ,'metro',4)\n",
    "\n",
    "\n",
    "MotExclut('RER', 'bus', 'Bus', 'BUS')\n",
    "\n",
    "MotExclut('Gare', 'bus', 'Bus', 'BUS')\n",
    "MotExclut('GARE', 'bus', 'Bus', 'BUS')\n",
    "            \n",
    "\n",
    "### Ici on déduit des tagues de moyen de transport à l'aide de mot clé dans la description , cette méthode n'est pas \n",
    "# parfaite car par exemple  certaines personne mettent  \"Residence\"  en description pour signifier qu'ils sont chez eux (donc à pied) ,\n",
    "#  et d'autre mettent cette description pour signifier qu ils rentrent chez eux (et parfois en voiture ...) pour en partie pallier à \n",
    "# on a rajouté une vitesse limite au sein de la résidence ici 8km/h (on mettra surement plus bas ), Methode \"Mot\"\n",
    "\n",
    "Mot('RÌ©sidence')\n",
    "Mot('MARCHE CHIEN')\n",
    "\n",
    "\n",
    "\n",
    "# vitesse moyenne ici 9.5km/h\n",
    "MotB('Bus')\n",
    "MotB('BUS')\n",
    "MotB('bus')\n",
    "\n",
    "#df_min3=df_min.loc[df_min['bus']==3,:]\n",
    "#plt.plot([i for i in range(0, len(df_min3))], df_min3.speed)\n",
    "#plt.show()\n",
    "#plt.plot([i for i in range(0, len(df_min3))], df_min3.angle)\n",
    "#plt.show()\n",
    "#print(df_min3.angle.mean())\n",
    "#print(df_min3.acceleration1000.mean())\n",
    "#print(df_min3.speed.mean())\n",
    "\n",
    "\n",
    "#print(df_min1.speed.mean())\n",
    "#print(df_min1.speed.mode())\n",
    "#print(df_min1[['speed', 'label']])\n",
    "#\n",
    "\n",
    "\n",
    "### meme principe qu'avant , sauf que ici on a exclut plusieurs mot Bus pour éviter les descriptions ayant des nom d'arrets de \n",
    "#bus contenant le mot RER, vitesse moyenne ici 27km/h\n",
    "\n",
    "MotExclut('RER', 'bus', 'Bus', 'BUS')\n",
    "#df_min2=df_min.loc[df_min['metro']==4,:]\n",
    "#plt.plot([i for i in range(0, len(df_min2))], df_min2.speed)\n",
    "#plt.show()\n",
    "#plt.plot([i for i in range(0, len(df_min2))], df_min2.angle)\n",
    "#plt.show()\n",
    "#print(df_min2.angle.mean())\n",
    "#print(df_min2.acceleration1000.mean())\n",
    "#print(df_min2.speed.mean())\n",
    "\n",
    "\n",
    "\n",
    "# on suppose qu'avec ce tague que la personne est en voiture , vitesse moyenne ici 11km/h\n",
    "MotV('Stationnement')\n",
    "#df_min1=df_min.loc[df_min['voiture']==1,:]\n",
    "#plt.plot([i for i in range(0, len(df_min1))], df_min1.speed)\n",
    "#plt.show()\n",
    "##\n",
    "#print(df_min1.speed.mean())\n",
    "#print(df_min1.acceleration1000.mean())\n",
    "#base=pd.DataFrame()\n",
    "#base=Trans(df_min)\n",
    "\n",
    "# on recuperla valeur des tagg , Voiure =1 , Marche =2, Bus= 3 ,Rer=4\n",
    "df_min.moyenT=df_min.bus+df_min.metro+df_min.marche+df_min.voiture\n",
    "\n",
    "df_min.to_csv(\"LabelVitAccModif.csv\", sep=',')\n",
    "\n",
    "\n",
    "\n",
    "\n",
    "#print(df_min2[['speed', 'label']])\n",
    "\n",
    "\n",
    "#print(df_min[['speed','label']])\n",
    "#labels=[]\n",
    "#\n",
    "#\n",
    "#for i in range(0, len(df_min)):\n",
    "#    labels.append(df_min.label[i])\n",
    "#    \n",
    "#label= list(set(labels))\n",
    "#print(label)\n",
    "##    "
   ]
  },
  {
   "cell_type": "code",
   "execution_count": 9,
   "metadata": {},
   "outputs": [
    {
     "name": "stdout",
     "output_type": "stream",
     "text": [
      "   Unnamed: 0  Unnamed: 0.1  Unnamed: 0.1.1   sampno  placeno  \\\n",
      "0           0             0          947343  8507392        2   \n",
      "1           1             1          947344  8507392        2   \n",
      "2           2             2          947345  8507392        2   \n",
      "3           3             3          947346  8507392        2   \n",
      "4           4             4          947347  8507392        2   \n",
      "\n",
      "              time_utc           time_local  longitude   latitude    altitude  \\\n",
      "0  2014-12-02 15:23:45  2014-12-02 16:23:45   2.087041  48.983364  177.800003   \n",
      "1  2014-12-02 15:23:50  2014-12-02 16:23:50   2.086963  48.983344  181.199997   \n",
      "2  2014-12-02 15:25:15  2014-12-02 16:25:15   2.086911  48.983327  193.399994   \n",
      "3  2014-12-02 15:25:25  2014-12-02 16:25:25   2.087135  48.983361  183.399994   \n",
      "4  2014-12-02 15:25:35  2014-12-02 16:25:35   2.087169  48.983235  177.800003   \n",
      "\n",
      "     ...     bus voiture  marche  acceleration acceleration1000  speedMS  \\\n",
      "0    ...       0       0       0      0.000000         0.000000   0.6394   \n",
      "1    ...       0       0       0     -0.005560         0.005560   0.6116   \n",
      "2    ...       0       0       0      0.002289         0.002289   0.8062   \n",
      "3    ...       0       0       0      0.022240         0.022240   1.0286   \n",
      "4    ...       0       0       0      0.147340         0.147340   2.5020   \n",
      "\n",
      "   difTempsSec  moyenT       angle    smooth  \n",
      "0          0.0       0    0.000000  2.300000  \n",
      "1          5.0       0  186.798482  2.250000  \n",
      "2         85.0       0  186.796659  2.466667  \n",
      "3         10.0       0  186.794695  2.933333  \n",
      "4         10.0       0  186.803209  5.200000  \n",
      "\n",
      "[5 rows x 26 columns]\n"
     ]
    },
    {
     "name": "stderr",
     "output_type": "stream",
     "text": [
      "D:\\Programmes\\Anaconda2\\lib\\site-packages\\ipykernel_launcher.py:45: SettingWithCopyWarning: \n",
      "A value is trying to be set on a copy of a slice from a DataFrame.\n",
      "Try using .loc[row_indexer,col_indexer] = value instead\n",
      "\n",
      "See the caveats in the documentation: http://pandas.pydata.org/pandas-docs/stable/indexing.html#indexing-view-versus-copy\n"
     ]
    },
    {
     "name": "stdout",
     "output_type": "stream",
     "text": [
      "2459\n",
      "2458\n",
      "[1, 1, 1, 1, 3, 3, 3, 3, 3, 3, 3, 3, 3, 3, 3, 3, 3, 3, 1, 1, 1, 1, 1, 3, 3, 1, 1, 1, 2, 2, 1, 2, 1, 1, 1, 1, 2, 1, 1, 2, 1, 1, 2, 2, 1, 1, 2, 1, 2, 2, 3, 3, 3, 3, 1, 2, 2, 2, 2, 2, 4, 2, 2, 2, 3, 3, 3, 4, 2, 4, 2, 2, 2, 2, 2, 3, 3, 3, 3, 3, 4, 2, 2, 2, 1, 1, 2, 1, 1, 4, 2, 2, 2, 2, 2, 2, 2, 2, 1, 2, 2, 3, 2, 2, 2, 2, 3, 3, 2, 1, 1, 1, 2, 2, 2, 1, 2, 2, 1, 1, 2, 3, 3, 3, 3, 1, 3, 3, 3, 2, 1, 2, 3, 3, 3, 3, 2, 2, 3, 3, 4, 3, 3, 2, 1, 1, 2, 2, 3, 3, 3, 2, 2, 2, 3, 3, 3, 2, 2, 2, 2, 2, 4, 2, 4, 4, 2, 2, 1, 3, 1, 1, 1, 1, 1, 1, 2, 1, 1, 1, 1, 1, 1, 1, 1, 1, 1, 1, 1, 1, 2, 1, 2, 2, 1, 2, 2, 2, 2, 2, 2, 2, 2, 4, 4, 2, 2, 2, 2, 2, 2, 2, 3, 2, 2, 4, 4, 2, 4, 2, 4, 4, 4, 4, 4, 4, 4, 4, 4, 4, 4, 4, 2, 2, 4, 2, 4, 2, 2, 2, 2, 2, 2, 2, 2, 2, 1, 1, 1, 1, 1, 1, 1, 1, 1, 1, 1, 1, 1, 1, 1, 1, 1, 1, 1, 1, 1, 1, 1, 1, 1, 3, 3, 3, 2, 2, 2, 2, 2, 2, 2, 2, 3, 4, 3, 3, 3, 3, 3, 4, 4, 4, 1, 2, 2, 3, 3, 3, 4, 3, 3, 3, 3, 3, 3, 3, 3, 3, 3, 1, 1, 2, 2, 1, 4, 4, 2, 2, 2, 2, 2, 2, 1, 2, 2, 2, 2, 3, 3, 3, 3, 3, 2, 2, 1, 1, 1, 2, 2, 2, 3, 3, 4, 4, 3, 3, 3, 4, 4, 4, 4, 4, 4, 2, 4, 3, 1, 3, 3, 4, 4, 3, 3, 1, 3, 4, 4, 3, 3, 3, 4, 4, 4, 3, 3, 4, 1, 1, 2, 2, 1, 2, 2, 2, 2, 2, 2, 2, 2, 3, 3, 3, 3, 3, 3, 3, 3, 4, 1, 1, 1, 1, 1, 1, 1, 3, 3, 3, 3, 3, 3, 3, 3, 3, 3, 3, 3, 3, 3, 3, 3, 3, 3, 3, 3, 3, 3, 3, 3, 3, 3, 3, 3, 3, 3, 3, 3, 3, 3, 3, 3, 3, 3, 3, 3, 2, 1, 1, 2, 2, 1, 2, 2, 2, 2, 2, 1, 1, 3, 3, 3, 3, 3, 1, 1, 1, 1, 1, 3, 3, 3, 3, 1, 1, 1, 1, 1, 1, 4, 4, 4, 4, 4, 4, 4, 4, 4, 4, 4, 4, 4, 4, 4, 4, 4, 4, 4, 2, 2, 2, 2, 2, 2, 2, 2, 2, 2, 2, 2, 1, 1, 1, 1, 1, 4, 4, 1, 1, 1, 1, 1, 1, 1, 3, 3, 3, 3, 3, 4, 3, 2, 2, 3, 3, 3, 2, 3, 3, 3, 3, 3, 3, 3, 4, 4, 3, 3, 4, 4, 3, 4, 4, 3, 3, 1, 1, 1, 1, 1, 4, 3, 3, 4, 1, 1, 1, 1, 1, 1, 1, 1, 1, 1, 4, 1, 1, 4, 2, 2, 2, 2, 2, 4, 4, 3, 3, 3, 3, 3, 3, 3, 3, 3, 3, 3, 2, 2, 2, 2, 3, 3, 3, 3, 3, 3, 1, 3, 3, 4, 3, 3, 3, 3, 1, 1, 1, 2, 2, 1, 1, 1, 1, 1, 3, 3, 3, 3, 3, 2, 2, 2, 3, 3, 3, 3, 2, 2, 2, 2, 2, 2, 1, 1, 1, 1, 1, 1, 1, 1, 1, 2, 2, 2, 3, 4, 4, 2, 1, 3, 3, 4, 2, 2, 2, 1, 3, 2, 2, 2, 2, 4, 3, 3, 3, 4, 4, 4, 4, 1, 1, 1, 4, 2, 4, 2, 2, 2, 3, 3, 3, 2, 2, 2, 4, 4, 4, 4, 4, 3, 3, 4, 2, 1, 1, 2, 4, 4, 4, 2, 2, 2, 2, 2, 2, 2, 2, 4, 4, 4, 4, 4, 2, 2, 2, 4, 4, 2, 2, 2, 1, 1, 1, 1, 2, 2, 2, 2, 2, 2, 2, 2, 2, 1, 1, 1, 1, 1, 1, 1, 1, 1, 1, 2, 2, 2, 1, 1, 2, 2, 2, 1, 1, 1, 1, 1, 1, 3, 3, 3, 3, 1, 3, 3, 4, 4, 2, 1, 1, 4, 3, 1, 1, 2, 2, 2, 2, 2, 2, 2, 2, 2, 2, 2, 2, 1, 2, 1, 3, 3, 2, 2, 2, 2, 2, 2, 2, 2, 2, 1, 2, 1, 1, 1, 2, 2, 1, 3, 1, 3, 2, 2, 3, 1, 3, 2, 2, 2, 2, 2, 2, 2, 2, 1, 1, 2, 2, 2, 1, 1, 1, 1, 1, 1, 2, 2, 2, 2, 2, 2, 1, 1, 2, 1, 2, 2, 2, 2, 1, 2, 1, 2, 2, 1, 2, 1, 1, 2, 2, 2, 1, 2, 2, 2, 2, 2, 2, 2, 2, 2, 2, 2, 2, 2, 2, 2, 2, 2, 2, 2, 2, 2, 2, 2, 1, 1, 1, 1, 1, 1, 1, 1, 1, 1, 3, 3, 3, 3, 3, 3, 3, 1, 3, 3, 3, 3, 3, 3, 3, 3, 3, 3, 3, 3, 3, 3, 1, 1, 1, 1, 2, 1, 1, 2, 1, 1, 2, 2, 2, 1, 1, 1, 2, 2, 2, 4, 4, 4, 1, 1, 4, 3, 3, 4, 3, 1, 2, 4, 1, 1, 1, 1, 2, 2, 4, 2, 2, 2, 2, 2, 2, 2, 2, 1, 1, 1, 2, 2, 2, 2, 2, 2, 2, 2, 3, 3, 3, 3, 3, 3, 2, 2, 2, 2, 2, 2, 2, 2, 2, 2, 2, 2, 2, 2, 2, 2, 2, 2, 2, 2, 1, 2, 2, 2, 2, 1, 3, 3, 3, 3, 3, 3, 3, 3, 3, 3, 1, 1, 1, 1, 1, 3, 3, 4, 1, 4, 3, 2, 2, 2, 1, 3, 3, 3, 3, 3, 3, 3, 1, 1, 1, 1, 1, 2, 2, 2, 2, 2, 2, 2, 3, 3, 3, 1, 3, 3, 3, 3, 3, 3, 2, 2, 2, 4, 1, 1, 2, 1, 1, 2, 2, 1, 2, 2, 2, 1, 4, 1, 2, 2, 1, 2, 2, 1, 2, 3, 3, 4, 3, 3, 4, 4, 4, 4, 4, 3, 3, 3, 3, 4, 5, 1, 1, 4, 1, 5, 1, 2, 2, 2, 1, 2, 4, 4, 2, 4, 2, 4, 2, 4, 2, 2, 4, 1, 1, 1, 1, 2, 2, 1, 1, 2, 2, 2, 2, 2, 2, 2, 2, 1, 1, 1, 2, 2, 2, 2, 2, 2, 1, 1, 1, 1, 1, 3, 3, 3, 3, 1, 1, 1, 1, 1, 1, 1, 1, 1, 1, 1, 1, 1, 3, 3, 1, 3, 3, 3, 3, 1, 3, 3, 1, 3, 3, 1, 3, 1, 1, 1, 1, 1, 1, 1, 1, 1, 1, 1, 1, 1, 1, 1, 1, 1, 1, 2, 3, 3, 3, 3, 3, 3, 3, 3, 3, 4, 3, 3, 2, 1, 1, 1, 2, 2, 1, 1, 2, 2, 1, 2, 2, 2, 2, 2, 2, 2, 2, 1, 1, 1, 2, 2, 2, 2, 2, 2, 2, 3, 1, 3, 2, 2, 2, 4, 2, 3, 2, 2, 2, 2, 2, 2, 2, 2, 2, 2, 4, 4, 4, 2, 3, 4, 2, 2, 4, 4, 4, 2, 1, 1, 1, 2, 3, 4, 4, 2, 2, 4, 4, 2, 1, 1, 1, 1, 2, 4, 2, 4, 2, 4, 4, 3, 4, 3, 4, 4, 4, 3, 4, 4, 4, 1, 3, 3, 3, 3, 4, 1, 2, 2, 2, 2, 2, 2, 2, 2, 2, 2, 2, 2, 2, 2, 2, 2, 2, 2, 1, 1, 1, 1, 2, 2, 2, 2, 2, 4, 4, 1, 1, 3, 3, 4, 4, 3, 3, 3, 4, 4, 4, 3, 3, 3, 1, 3, 4, 1, 1, 1, 1, 1, 1, 1, 1, 1, 3, 3, 1, 1, 2, 2, 2, 2, 2, 1, 2, 2, 2, 2, 2, 2, 1, 1, 1, 1, 1, 1, 1, 1, 1, 1, 1, 1, 1, 1, 1, 1, 1, 1, 1, 1, 1, 1, 1, 1, 1, 1, 4, 1, 4, 4, 4, 1, 1, 1, 1, 4, 4, 3, 3, 4, 2, 2, 2, 3, 2, 2, 2, 3, 2, 3, 3, 3, 3, 3, 3, 2, 2, 2, 2, 3, 3, 3, 3, 3, 3, 2, 2, 2, 2, 2, 2, 2, 3, 1, 1, 1, 1, 1, 1, 1, 1, 1, 1, 2, 2, 2, 2, 2, 2, 2, 2, 2, 2, 2, 2, 2, 2, 2, 2, 2, 2, 2, 2, 2, 2, 2, 2, 2, 2, 2, 2, 4, 2, 4, 5, 1, 5, 2, 2, 2, 2, 2, 2, 5, 1, 5, 2, 2, 2, 2, 4, 4, 2, 2, 2, 2, 2, 2, 3, 3, 3, 3, 3, 3, 3, 3, 3, 3, 1, 3, 3, 3, 3, 3, 1, 4, 1, 1, 3, 3, 3, 3, 3, 3, 3, 3, 3, 4, 4, 1, 4, 4, 4, 2, 2, 2, 2, 1, 2, 2, 1, 1, 2, 1, 1, 2, 2, 1, 2, 1, 2, 1, 1, 2, 2, 1, 1, 1, 2, 2, 2, 1, 1, 1, 1, 1, 2, 1, 2, 1, 1, 2, 3, 3, 3, 3, 3, 3, 3, 3, 1, 2, 2, 2, 1, 1, 2, 2, 2, 3, 3, 3, 2, 4, 2, 2, 4, 2, 2, 2, 3, 3, 2, 4, 2, 2, 2, 2, 3, 3, 2, 2, 4, 4, 4, 2, 2, 1, 2, 1, 2, 1, 1, 1, 2, 2, 2, 2, 2, 2, 2, 2, 2, 2, 2, 2, 1, 1, 1, 1, 1, 1, 1, 1, 1, 4, 3, 3, 3, 3, 3, 3, 3, 3, 3, 3, 3, 3, 3, 3, 3, 3, 3, 1, 1, 3, 3, 1, 2, 2, 4, 4, 4, 1, 2, 1, 1, 2, 2, 2, 2, 2, 2, 2, 2, 3, 3, 3, 3, 2, 4, 2, 4, 4, 3, 3, 3, 3, 1, 3, 3, 3, 3, 3, 3, 3, 4, 4, 2, 4, 3, 1, 2, 4, 4, 4, 4, 2, 4, 4, 4, 4, 4, 4, 4, 4, 1, 1, 1, 1, 2, 1, 1, 1, 1, 2, 4, 4, 4, 4, 4, 2, 4, 4, 4, 4, 4, 4, 2, 4, 4, 4, 4, 4, 2, 2, 1, 1, 2, 2, 2, 1, 1, 1, 2, 2, 1, 1, 1, 1, 1, 1, 1, 4, 3, 3, 3, 3, 3, 4, 3, 3, 3, 3, 4, 4, 3, 3, 3, 4, 4, 4, 3, 3, 3, 4, 2, 3, 4, 2, 2, 4, 2, 4, 2, 1, 1, 1, 1, 5, 3, 3, 3, 3, 3, 3, 3, 3, 3, 1, 1, 1, 1, 1, 1, 1, 1, 1, 1, 1, 1, 1, 1, 1, 1, 1, 4, 4, 4, 4, 1, 4, 1, 4, 4, 2, 2, 4, 4, 1, 2, 2, 1, 2, 2, 2, 2, 2, 1, 1, 1, 1, 2, 2, 1, 2, 2, 4, 3, 3, 3, 3, 2, 4, 4, 4, 4, 4, 3, 3, 3, 4, 3, 3, 4, 4, 2, 4, 3, 3, 3, 2, 2, 2, 2, 2, 2, 3, 2, 2, 2, 3, 3, 3, 3, 3, 3, 1, 1, 3, 3, 1, 4, 3, 3, 2, 2, 2, 1, 2, 2, 2, 2, 1, 2, 2, 1, 2, 3, 3, 3, 3, 3, 3, 3, 3, 3, 2, 1, 1, 1, 2, 1, 1, 1, 2, 2, 2, 1, 1, 2, 3, 3, 3, 3, 3, 3, 3, 3, 3, 3, 3, 3, 3, 3, 3, 3, 3, 3, 3, 3, 3, 3, 3, 3, 3, 3, 3, 3, 3, 3, 3, 3, 3, 3, 3, 3, 3, 3, 3, 3, 3, 3, 3, 3, 3, 1, 1, 2, 2, 1, 1, 2, 1, 1, 1, 2, 2, 2, 1, 1, 1, 4, 3, 3, 3, 3, 3, 4, 4, 1, 4, 4, 4, 4, 4, 2, 1, 2, 1, 1, 1, 1, 1, 4, 1, 1, 1, 1, 1, 4, 2, 2, 2, 2, 4, 2, 1, 2, 2, 2, 2, 2, 1, 3, 3, 3, 3, 3, 3, 4, 1, 1, 2, 3, 3, 1, 1, 1, 1, 2, 1, 1, 1, 3, 3, 3, 1, 1, 1, 1, 1, 2, 2, 3, 3, 3, 3, 1, 2, 2, 2, 2, 3, 3, 3, 3, 3, 4, 4, 4, 3, 3, 3, 3, 3, 3, 3, 3, 3, 3, 3, 3, 3, 3, 3, 3, 3, 3, 3, 3, 3, 3, 3, 3, 3, 3, 4, 2, 2, 2, 2, 4, 4, 4, 4, 4, 4, 4, 4, 4, 1, 1, 1, 1, 1, 1, 2, 2, 2, 2, 2, 2, 2, 2, 2, 2, 3, 3, 2, 1, 1, 1, 1, 1, 1, 1, 2, 2, 2, 2, 1, 1, 2, 1, 1, 1, 1, 2, 2, 2, 1, 2, 2, 2, 2, 2, 2, 2, 1, 1, 1, 1, 1, 1, 1, 1, 1, 1, 2, 2, 2, 2, 2, 2, 2, 2, 2, 2, 2, 2, 2, 2, 1, 2, 2, 2, 2, 2, 1, 1, 1, 3, 3, 3, 1, 3, 4, 4, 3, 2, 3, 3, 4, 4, 3, 3, 3, 3, 3, 3, 4, 4, 4, 3, 2, 3, 3, 3, 4, 4, 3, 2, 2, 3, 3, 3, 4, 4, 3, 1, 1, 1, 1, 1, 1, 1, 1, 1, 1, 1, 1, 1, 1, 1, 1, 1, 1, 1, 1, 4, 4, 4, 4, 1, 4, 4, 4, 1, 1, 1, 1, 3, 3, 3, 3, 3, 3, 3, 3, 4, 4, 4, 2, 2, 4, 2, 2, 1, 2, 2, 4, 4, 2, 1, 2, 2, 1, 1, 2, 1, 1, 2, 2, 2, 2, 2, 2, 2, 1, 1, 2, 1, 2, 2, 2, 2, 1, 1, 1, 2, 2, 2, 2, 1, 1, 1, 1, 1, 2, 2, 2, 1, 1, 2, 2, 2, 2, 2, 2, 1, 1, 1, 1, 2, 1, 1, 1, 2, 2, 1, 1, 1, 1, 1, 1, 1, 1, 1, 1, 1, 1, 1, 1, 1, 1, 1, 1, 3, 3, 4, 3, 2, 3, 3, 3, 2, 2, 2, 1, 2, 2, 2, 2, 2, 2, 1, 2, 2, 2, 1, 2, 3, 3, 3, 2, 3, 3, 3, 3, 3, 2]\n",
      "9918\n"
     ]
    }
   ],
   "source": [
    "#Ici nous allons tagué les trajectoires par des ids chaque trajectoires différentes aura un id different \n",
    "# Pour ce faire à chaque fois que qu'un utilisateur change on incremente Id OU \n",
    "# à chaque fois que le mode de transport change on incrémente l'Id\n",
    "# ou que le temps entre deux points est jugé trop long entre l'enregistrement de 2 points successifs \n",
    "#(difTempsSec> valeur  ici on choisit 120 secondes ) on incrémente aussi l'Id\n",
    "#exemple : éviter que pour un meme utilisateur qui reprenne le meme mode \n",
    "# de transport le lendemain par lequelle il est arrivé l a veille soit consideré  comme une meme trajectoire\n",
    "\n",
    "\n",
    "\n",
    "\n",
    "# data analysis and wrangling\n",
    "import pandas as pd\n",
    "import numpy as np\n",
    "import random as rnd\n",
    "# visualization\n",
    "import seaborn as sns\n",
    "import matplotlib.pyplot as plt\n",
    "from pylab import *\n",
    "\n",
    "master_df = pd.read_csv('C:/Users/MyPC/Desktop/Projet Gps/ProjetGitHub - Copie (2)/LabelVitAccModif.csv', encoding='latin-1')\n",
    "\n",
    "\n",
    "\n",
    "print(master_df.head())\n",
    "\n",
    "#on garde les variables qui nous interesse ..\n",
    "g= master_df[['sampno','longitude', 'latitude', 'altitude','speed', 'smooth','acceleration1000', 'acceleration','angle','moyenT','difTempsSec']]\n",
    "\n",
    "\n",
    "\n",
    "\n",
    "#IDS sera la liste contenant les id ,on initialise la valeur d'ID à 0 , et on ajoute 0 à IDS  pour une question d'indexage \n",
    "#dans la boucle \n",
    "IDS=[]\n",
    "ID=0\n",
    "IDS.append(0)\n",
    "for i in range(1, len(g)):\n",
    "    if g.sampno[i]!=g.sampno[i-1] or g.moyenT[i]!=g.moyenT[i-1] or g.difTempsSec[i]>120.0  :\n",
    "        \n",
    "        ID=ID+1\n",
    "    IDS.append(ID)\n",
    "\n",
    "\n",
    "g['Id']=IDS\n",
    "\n",
    "#on supprime les lignes qui ne sont pas tagué par un mode de transport \n",
    "g= g[g.moyenT != 0]\n",
    "\n",
    "#on enregistre \n",
    "g.to_csv('IDPartiel.csv', sep=',')\n",
    "\n",
    "\n",
    "\n",
    "\n",
    "#ON REAJUSTE ICI LES IDS , car on a supprimé tous les ligne  des trajectoires non tagué \n",
    "\n",
    "# data analysis and wrangling\n",
    "import pandas as pd\n",
    "import numpy as np\n",
    "import random as rnd\n",
    "\n",
    "# visualization\n",
    "import seaborn as sns\n",
    "import matplotlib.pyplot as plt\n",
    "\n",
    "\n",
    "\n",
    "from pylab import *\n",
    "\n",
    "g = pd.read_csv('C:/Users/MyPC/Desktop/Projet Gps/ProjetGitHub - Copie (2)/IDPartiel.csv', encoding='latin-1')\n",
    "\n",
    "# meme principe qu'avant  on reajuste juste ici les valeurs des index, qui seront contenue par la colonne Id1 de la base   \n",
    "# et on construit la liste y contenant la valeur  des classes \n",
    "IDS1=[]\n",
    "ID1=0\n",
    "IDS1.append(0)\n",
    "y11=[]\n",
    "y11.append(g.moyenT[0])\n",
    "\n",
    "\n",
    "for i in range(1, len(g)):\n",
    "    if g.Id[i]!=g.Id[i-1] :\n",
    "        \n",
    "        ID1=ID1+1\n",
    "        y11.append(g.moyenT[i])\n",
    "    IDS1.append(ID1)\n",
    "\n",
    "\n",
    "g['Id1']=IDS1\n",
    "#g=g.drop(['moyenT'], axis=1)\n",
    "\n",
    "print(len(y11))\n",
    "print(ID1)\n",
    "print(y11)\n",
    "\n",
    "g.to_csv('XmodifV.csv', sep=',')\n",
    "tabY=pd.DataFrame(np.array(y11))\n",
    "tabY.to_csv('ymodifV.csv', sep=',')\n",
    "\n",
    "print(len(g))\n",
    "\n",
    "\n",
    "\n"
   ]
  },
  {
   "cell_type": "code",
   "execution_count": 1,
   "metadata": {},
   "outputs": [
    {
     "name": "stderr",
     "output_type": "stream",
     "text": [
      "D:\\Programmes\\Anaconda2\\lib\\site-packages\\statsmodels\\compat\\pandas.py:56: FutureWarning: The pandas.core.datetools module is deprecated and will be removed in a future version. Please use the pandas.tseries module instead.\n",
      "  from pandas.core import datetools\n",
      "D:\\Programmes\\Anaconda2\\lib\\site-packages\\sklearn\\cross_validation.py:41: DeprecationWarning: This module was deprecated in version 0.18 in favor of the model_selection module into which all the refactored classes and functions are moved. Also note that the interface of the new CV iterators are different from that of this module. This module will be removed in 0.20.\n",
      "  \"This module will be removed in 0.20.\", DeprecationWarning)\n"
     ]
    },
    {
     "data": {
      "image/png": "[encoded data removed]",
      "text/plain": [
       "<matplotlib.figure.Figure at 0x28db2efbf98>"
      ]
     },
     "metadata": {},
     "output_type": "display_data"
    }
   ],
   "source": [
    "#test accuracy du modele \n",
    "\n",
    "\n",
    "# data analysis and wrangling\n",
    "import pandas as pd\n",
    "import numpy as np\n",
    "import random as rnd\n",
    "\n",
    "# visualization\n",
    "import seaborn as sns\n",
    "import matplotlib.pyplot as plt\n",
    "\n",
    "import tsfresh\n",
    "from tsfresh import extract_features\n",
    "from tsfresh import select_features\n",
    "from tsfresh.utilities.dataframe_functions import impute\n",
    "\n",
    "from tsfresh.feature_extraction import MinimalFCParameters\n",
    "\n",
    "#from tsfresh.feature_extraction import FeatureExtractionSettings\n",
    "from tsfresh.feature_extraction import extract_features\n",
    "from tsfresh.feature_extraction import extract_features\n",
    "\n",
    "from sklearn.cross_validation import train_test_split\n",
    "\n",
    "from sklearn import datasets, linear_model\n",
    "from sklearn.model_selection import train_test_split\n",
    "from matplotlib import pyplot as plt\n",
    "from sklearn.linear_model import LogisticRegression\n",
    "from sklearn.svm import SVC, LinearSVC\n",
    "from sklearn.ensemble import RandomForestClassifier\n",
    "from sklearn.neighbors import KNeighborsClassifier\n",
    "from sklearn.naive_bayes import GaussianNB\n",
    "from sklearn.linear_model import Perceptron\n",
    "from sklearn.linear_model import SGDClassifier\n",
    "from sklearn.tree import DecisionTreeClassifier\n",
    "from pylab import *\n",
    "\n",
    "df_1 = pd.read_csv('C:/Users/MyPC/Desktop/Projet Gps/ProjetGitHub - Copie (2)/XmodifV.csv')\n",
    "df_2 = pd.read_csv('C:/Users/MyPC/Desktop/Projet Gps/ProjetGitHub - Copie (2)/ymodifV.csv')\n",
    "\n",
    "### finalement le feature des variation angulaire sur les trajectoires se revelle benefique \n",
    "df_1= df_1[['sampno', 'speed',  'acceleration','angle','smooth','Id1','longitude', 'latitude', 'difTempsSec', 'moyenT', 'altitude']]\n",
    "#df_1 = df_1[np.isfinite(df_1['acceleration'])]\n",
    "### on affiche\n",
    "#print(df_1)\n",
    "#print(len(df_2))\n",
    "corrmat = df_1.corr()\n",
    "f, ax = plt.subplots(figsize=(12, 9))\n",
    "sns.heatmap(corrmat, vmax=.8, square=True);\n",
    "plt.show()\n"
   ]
  },
  {
   "cell_type": "code",
   "execution_count": null,
   "metadata": {
    "collapsed": true
   },
   "outputs": [],
   "source": []
  },
  {
   "cell_type": "code",
   "execution_count": 3,
   "metadata": {
    "collapsed": true
   },
   "outputs": [],
   "source": []
  },
  {
   "cell_type": "code",
   "execution_count": 11,
   "metadata": {},
   "outputs": [
    {
     "name": "stdout",
     "output_type": "stream",
     "text": [
      "Voiture :vitesse moyenne :  12.336007520645175  vitesse mediane:  10.6999998092651\n",
      "Marche: vitesse moyenne :  3.435795447834722  vitesse mediane:  2.9000000953674303\n",
      "Bus: vitesse moyenne :  11.248209074052454  vitesse mediane:  9.89999961853027\n",
      "RER: vitesse moyenne :  26.38287064315156  vitesse mediane:  21.0\n",
      "Voiture :acceleration moyenne :  0.2018296542550677  acceleration mediane:  0.1445599681854242\n",
      "Marche: acceleration moyenne :  0.07501178026365464  acceleration mediane:  0.02038666489919012\n",
      "Bus: acceleration moyenne :  0.1926619848315994  acceeleration mediane:  0.12788001060485824\n",
      "RER: acceleration moyenne :  0.21091469857633824  acceleration mediane:  0.17236002120971872\n",
      "\n",
      " vitesse km voiutre\n"
     ]
    },
    {
     "data": {
      "image/png": "[encoded data removed]",
      "text/plain": [
       "<matplotlib.figure.Figure at 0x16d3755ae48>"
      ]
     },
     "metadata": {},
     "output_type": "display_data"
    },
    {
     "name": "stdout",
     "output_type": "stream",
     "text": [
      "vitesse km marche\n"
     ]
    },
    {
     "data": {
      "image/png": "[encoded data removed]",
      "text/plain": [
       "<matplotlib.figure.Figure at 0x16d1bc44ba8>"
      ]
     },
     "metadata": {},
     "output_type": "display_data"
    },
    {
     "name": "stdout",
     "output_type": "stream",
     "text": [
      "bus\n"
     ]
    },
    {
     "data": {
      "image/png": "[encoded data removed]",
      "text/plain": [
       "<matplotlib.figure.Figure at 0x16d4ced37b8>"
      ]
     },
     "metadata": {},
     "output_type": "display_data"
    },
    {
     "name": "stdout",
     "output_type": "stream",
     "text": [
      "rer\n"
     ]
    },
    {
     "data": {
      "image/png": "[encoded data removed]",
      "text/plain": [
       "<matplotlib.figure.Figure at 0x16d3b0da438>"
      ]
     },
     "metadata": {},
     "output_type": "display_data"
    }
   ],
   "source": [
    "#on constate à l'aide du schéma qu il y a des valeurs pas cohérentes , ex vitesse marche >30km , du à une mauvaise \n",
    "#labelisation , ex: on a tagué marche avec Residence, certains mette ce taggue pour signaler qu ils sont chez eux et \n",
    "# donc à pied , d'autres pour signaler qu il rentre chez eux\n",
    "# met critère appliquer précedement pour déduire les classes marchent assez bien car globlamenet \n",
    "# vitesse moyenne et mediane semble cohérentes \n",
    "# nécessiter de mettre filtre de vitesse sur marche pour vitesse max , et vitesse min pour rer afin de capter le mouvement \n",
    "# la pluspart des confusion comme en témoigne la matrice de confusion on lieu avec la marche , car certains utilisateur signale \n",
    "#rer quand ils attendent le rer \n",
    "\n",
    "\n",
    "\n",
    "df_voiture= df_1[df_1.moyenT==1]\n",
    "df_marche= df_1[df_1.moyenT==2]\n",
    "df_bus= df_1[df_1.moyenT==3]\n",
    "df_rer= df_1[df_1.moyenT==4]\n",
    "print(\"Voiture :vitesse moyenne : \",df_voiture.speed.mean(), \" vitesse mediane: \", df_voiture.speed.median())\n",
    "print(\"Marche: vitesse moyenne : \",df_marche.speed.mean(),  \" vitesse mediane: \", df_marche.speed.median())\n",
    "print(\"Bus: vitesse moyenne : \",df_bus.speed.mean(),   \" vitesse mediane: \", df_bus.speed.median())\n",
    "print(\"RER: vitesse moyenne : \",df_rer.speed.mean(),  \" vitesse mediane: \", df_rer.speed.median())\n",
    "\n",
    "print(\"Voiture :acceleration moyenne : \",np.absolute(df_voiture.acceleration).mean(), \" acceleration mediane: \", np.absolute(df_voiture.acceleration).median())\n",
    "print(\"Marche: acceleration moyenne : \",np.absolute(df_marche.acceleration).mean(),  \" acceleration mediane: \", np.absolute(df_marche.acceleration).median())\n",
    "print(\"Bus: acceleration moyenne : \",np.absolute(df_bus.acceleration).mean(),   \" acceeleration mediane: \", np.absolute(df_bus.acceleration).median())\n",
    "print(\"RER: acceleration moyenne : \",np.absolute(df_rer.acceleration).mean(),  \" acceleration mediane: \", np.absolute(df_rer.acceleration).median())\n",
    "\n",
    "\n",
    "print('\\n vitesse km voiutre')\n",
    "plot(df_voiture.speed)\n",
    "plt.show()\n",
    "print('vitesse km marche')\n",
    "plot(df_marche.speed)\n",
    "plt.show()\n",
    "print('bus')\n",
    "plot(df_bus.speed)\n",
    "plt.show()\n",
    "print('rer')\n",
    "plot(df_rer.speed)\n",
    "plt.show()"
   ]
  },
  {
   "cell_type": "code",
   "execution_count": 12,
   "metadata": {},
   "outputs": [
    {
     "name": "stdout",
     "output_type": "stream",
     "text": [
      "vitesse km voiture\n"
     ]
    },
    {
     "data": {
      "image/png": "[encoded data removed]",
      "text/plain": [
       "<matplotlib.figure.Figure at 0x16d48ad49e8>"
      ]
     },
     "metadata": {},
     "output_type": "display_data"
    },
    {
     "name": "stdout",
     "output_type": "stream",
     "text": [
      "vitesse km marche\n"
     ]
    },
    {
     "data": {
      "image/png": "[encoded data removed]",
      "text/plain": [
       "<matplotlib.figure.Figure at 0x16d295c3a90>"
      ]
     },
     "metadata": {},
     "output_type": "display_data"
    },
    {
     "name": "stdout",
     "output_type": "stream",
     "text": [
      "bus\n"
     ]
    },
    {
     "data": {
      "image/png": "[encoded data removed]",
      "text/plain": [
       "<matplotlib.figure.Figure at 0x16d17685278>"
      ]
     },
     "metadata": {},
     "output_type": "display_data"
    },
    {
     "name": "stdout",
     "output_type": "stream",
     "text": [
      "rer\n"
     ]
    },
    {
     "data": {
      "image/png": "[encoded data removed]",
      "text/plain": [
       "<matplotlib.figure.Figure at 0x16d48aefe80>"
      ]
     },
     "metadata": {},
     "output_type": "display_data"
    },
    {
     "name": "stdout",
     "output_type": "stream",
     "text": [
      "Voiture :vitesse moyenne :  12.336007520645175  vitesse mediane:  10.6999998092651\n",
      "Marche: vitesse moyenne :  3.435795447834722  vitesse mediane:  2.9000000953674303\n",
      "Bus: vitesse moyenne :  11.248209074052454  vitesse mediane:  9.89999961853027\n",
      "RER: vitesse moyenne :  26.38287064315156  vitesse mediane:  21.0\n",
      "Voiture :acceleration moyenne :  0.2018296542550677  acceleration mediane:  0.1445599681854242\n",
      "Marche: acceleration moyenne :  0.07501178026365464  acceleration mediane:  0.02038666489919012\n",
      "Bus: acceleration moyenne :  0.1926619848315994  acceeleration mediane:  0.12788001060485824\n",
      "RER: acceleration moyenne :  0.21091469857633824  acceleration mediane:  0.17236002120971872\n"
     ]
    }
   ],
   "source": [
    "df_voitureM= df_voiture[df_voiture.speed>3]\n",
    "df_marcheM= df_marche[df_marche.speed<8]\n",
    "df_busM= df_bus[df_bus.speed>3]\n",
    "df_rerM= df_rer[df_rer.speed>5]\n",
    "print('vitesse km voiture')\n",
    "plot(df_voitureM.speed)\n",
    "plt.show()\n",
    "print('vitesse km marche')\n",
    "plot(df_marcheM.speed)\n",
    "plt.show()\n",
    "print('bus')\n",
    "plot(df_busM.speed)\n",
    "plt.show()\n",
    "print('rer')\n",
    "plot(df_rerM.speed)\n",
    "plt.show()\n",
    "print(\"Voiture :vitesse moyenne : \",df_voitureM.speed.mean(), \" vitesse mediane: \", df_voitureM.speed.median())\n",
    "print(\"Marche: vitesse moyenne : \",df_marcheM.speed.mean(),  \" vitesse mediane: \", df_marcheM.speed.median())\n",
    "print(\"Bus: vitesse moyenne : \",df_busM.speed.mean(),   \" vitesse mediane: \", df_busM.speed.median())\n",
    "print(\"RER: vitesse moyenne : \",df_rerM.speed.mean(),  \" vitesse mediane: \", df_rerM.speed.median())\n",
    "\n",
    "\n",
    "print(\"Voiture :acceleration moyenne : \",np.absolute(df_voitureM.acceleration).mean(), \" acceleration mediane: \", np.absolute(df_voitureM.acceleration).median())\n",
    "print(\"Marche: acceleration moyenne : \",np.absolute(df_marcheM.acceleration).mean(),  \" acceleration mediane: \", np.absolute(df_marcheM.acceleration).median())\n",
    "print(\"Bus: acceleration moyenne : \",np.absolute(df_busM.acceleration).mean(),   \" acceeleration mediane: \", np.absolute(df_busM.acceleration).median())\n",
    "print(\"RER: acceleration moyenne : \",np.absolute(df_rerM.acceleration).mean(),  \" acceleration mediane: \", np.absolute(df_rerM.acceleration).median())"
   ]
  },
  {
   "cell_type": "code",
   "execution_count": 20,
   "metadata": {},
   "outputs": [
    {
     "data": {
      "image/png": "[encoded data removed]",
      "text/plain": [
       "<matplotlib.figure.Figure at 0x20a9aae1358>"
      ]
     },
     "metadata": {},
     "output_type": "display_data"
    }
   ],
   "source": [
    "\n",
    "listedf=[df_voitureM,df_marcheM,df_busM,df_rerM]\n",
    "ModifVit= pd.concat(listedf , ignore_index=True)\n",
    "\n",
    "corrmat = ModifVit.corr()\n",
    "f, ax = plt.subplots(figsize=(12, 9))\n",
    "sns.heatmap(corrmat, vmax=.8, square=True);\n",
    "plt.show()\n"
   ]
  },
  {
   "cell_type": "code",
   "execution_count": 4,
   "metadata": {},
   "outputs": [
    {
     "name": "stdout",
     "output_type": "stream",
     "text": [
      "Confusion matrix, without normalization\n",
      "[[ 69  30  40   0]\n",
      " [ 12 142   9   0]\n",
      " [ 45  31  47   1]\n",
      " [ 10   2   5   5]]\n",
      "Normalized confusion matrix\n",
      "[[ 0.5   0.22  0.29  0.  ]\n",
      " [ 0.07  0.87  0.06  0.  ]\n",
      " [ 0.36  0.25  0.38  0.01]\n",
      " [ 0.45  0.09  0.23  0.23]]\n"
     ]
    },
    {
     "data": {
      "image/png": "[encoded data removed]",
      "text/plain": [
       "<matplotlib.figure.Figure at 0x241803011d0>"
      ]
     },
     "metadata": {},
     "output_type": "display_data"
    },
    {
     "data": {
      "image/png": "[encoded data removed]",
      "text/plain": [
       "<matplotlib.figure.Figure at 0x24180301940>"
      ]
     },
     "metadata": {},
     "output_type": "display_data"
    }
   ],
   "source": [
    "import itertools\n",
    "#%matplotlib\n",
    "import numpy as np\n",
    "import matplotlib.pyplot as plt\n",
    "\n",
    "from sklearn import svm, datasets\n",
    "from sklearn.model_selection import train_test_split\n",
    "from sklearn.metrics import confusion_matrix\n",
    "\n",
    "y_test = y_test\n",
    "y_pred = Y_pred\n",
    "\n",
    "\n",
    "def plot_confusion_matrix(cm, classes,\n",
    "                          normalize=False,\n",
    "                          title='Confusion matrix',\n",
    "                          cmap=plt.cm.Blues):\n",
    "    \"\"\"\n",
    "    This function prints and plots the confusion matrix.\n",
    "    Normalization can be applied by setting `normalize=True`.\n",
    "    \"\"\"\n",
    "    if normalize:\n",
    "        cm = cm.astype('float') / cm.sum(axis=1)[:, np.newaxis]\n",
    "        print(\"Normalized confusion matrix\")\n",
    "    else:\n",
    "        print('Confusion matrix, without normalization')\n",
    "\n",
    "    print(cm)\n",
    "\n",
    "    plt.imshow(cm, interpolation='nearest', cmap=cmap)\n",
    "    plt.title(title)\n",
    "    plt.colorbar()\n",
    "    tick_marks = np.arange(len(classes))\n",
    "    plt.xticks(tick_marks, classes, rotation=45)\n",
    "    plt.yticks(tick_marks, classes)\n",
    "\n",
    "    fmt = '.2f' if normalize else 'd'\n",
    "    thresh = cm.max() / 2.\n",
    "    for i, j in itertools.product(range(cm.shape[0]), range(cm.shape[1])):\n",
    "        plt.text(j, i, format(cm[i, j], fmt),\n",
    "                 horizontalalignment=\"center\",\n",
    "                 color=\"white\" if cm[i, j] > thresh else \"black\")\n",
    "\n",
    "    plt.tight_layout()\n",
    "    plt.ylabel('True label')\n",
    "    plt.xlabel('Predicted label')\n",
    "\n",
    "# Compute confusion matrix\n",
    "cnf_matrix = confusion_matrix(y_test, y_pred)\n",
    "np.set_printoptions(precision=2)\n",
    "\n",
    "# Plot non-normalized confusion matrix\n",
    "plt.figure()\n",
    "plot_confusion_matrix(cnf_matrix, classes=['voiture', 'marche', 'bus', 'rer'],\n",
    "                      title='Confusion matrix, without normalization')\n",
    "\n",
    "# Plot normalized confusion matrix\n",
    "plt.figure()\n",
    "plot_confusion_matrix(cnf_matrix, classes=['voiture', 'marche', 'bus', 'rer'], normalize=True,\n",
    "                      title='Normalized confusion matrix')\n",
    "\n",
    "plt.show()"
   ]
  },
  {
   "cell_type": "code",
   "execution_count": 2,
   "metadata": {
    "collapsed": true
   },
   "outputs": [],
   "source": [
    "Arret = pd.read_csv('C:/Users/MyPC/Desktop/Projet Gps/positions-geographiques-des-stations-du-reseau-ratp.csv', sep=';')"
   ]
  },
  {
   "cell_type": "code",
   "execution_count": 3,
   "metadata": {
    "collapsed": true
   },
   "outputs": [],
   "source": [
    "Arret =Arret[Arret.stop_lat!=0]\n",
    "Arret =Arret[Arret.stop_lon!=0]\n"
   ]
  },
  {
   "cell_type": "code",
   "execution_count": 4,
   "metadata": {
    "collapsed": true
   },
   "outputs": [],
   "source": [
    "#Gerer erreur gps , choisir un perimetre de 20 mètre autour de l'arret, le but va etre ensuite de déterminer si trajectoire \n",
    "# à commencer et terminer par un arret (donc dans l'intervalle de valeur que l'on va calculer ) \n",
    "#si oui varaible positive,on commence sans distinction de type d'arret on affinera \n",
    "# selon le mode de transport de l'arrêt  si peu de précision\n",
    "#formule utilisée : https://knowledge.safe.com/articles/725/calculating-accurate-length-in-meters-for-lat-long.html\n",
    "#formule utilisée : https://knowledge.safe.com/articles/725/calculating-accurate-length-in-meters-for-lat-long.html\n",
    "Arret['Lat1']=0\n",
    "Arret['Lat2']=0\n",
    "Arret['Lon1']=0\n",
    "Arret['Lon2']=0\n",
    "\n",
    "for i in range (0 , len(Arret)):\n",
    "    Arret.loc[i,'Lat1']=Arret.loc[i,'stop_lat']-0.0000899*2  #0.0000899 correspond à 10 metre en latitude  \n",
    "    Arret.loc[i,'Lat2']=Arret.loc[i,'stop_lat']+0.0000899*2\n",
    "    Arret.loc[i,'Lon1']=Arret.loc[i,'stop_lon']-0.000139*2 #0.000139 correspond à 10 mètres en longitude \n",
    "    Arret.loc[i,'Lon2']=Arret.loc[i,'stop_lon']+0.000139*2"
   ]
  },
  {
   "cell_type": "code",
   "execution_count": 7,
   "metadata": {},
   "outputs": [
    {
     "data": {
      "text/plain": [
       "stop_id                                2158\n",
       "stop_name                     Achères-Ville\n",
       "stop_desc        Avenue de Conflans - 78005\n",
       "coord          48.9700771763, 2.07761818201\n",
       "stop_lat                            48.9701\n",
       "stop_lon                            2.07762\n",
       "code_INSEE                            78005\n",
       "departement                              78\n",
       "Lat1                                48.9699\n",
       "Lat2                                48.9703\n",
       "Lon1                                2.07734\n",
       "Lon2                                 2.0779\n",
       "Name: 0, dtype: object"
      ]
     },
     "execution_count": 7,
     "metadata": {},
     "output_type": "execute_result"
    }
   ],
   "source": [
    "Arret.iloc[0]"
   ]
  },
  {
   "cell_type": "code",
   "execution_count": 10,
   "metadata": {},
   "outputs": [
    {
     "name": "stdout",
     "output_type": "stream",
     "text": [
      "12256\n"
     ]
    }
   ],
   "source": [
    "#Arret.to_csv('Arret.csv', sep=';')\n",
    "print(len(df_3))\n"
   ]
  },
  {
   "cell_type": "code",
   "execution_count": null,
   "metadata": {
    "collapsed": true
   },
   "outputs": [],
   "source": [
    "\n",
    "\n"
   ]
  },
  {
   "cell_type": "code",
   "execution_count": null,
   "metadata": {
    "collapsed": true
   },
   "outputs": [],
   "source": []
  },
  {
   "cell_type": "code",
   "execution_count": 5,
   "metadata": {
    "collapsed": true
   },
   "outputs": [],
   "source": [
    "df_1['DebFin']=0\n",
    "for i in range(0, len(df_1)):\n",
    "    \n",
    "    for j in range(0 ,len(Arret)):\n",
    "        if df_1.longitude[i]<= Arret.Lon2[j] and df_1.longitude[i]>= Arret.Lon1[j]  and df_1.latitude[i]>= Arret.Lat1[j] and df_1.latitude[i]<= Arret.Lat2[j]:\n",
    "            df_1.loc[i,'DebFin'] =1\n",
    "            break\n",
    "        "
   ]
  },
  {
   "cell_type": "code",
   "execution_count": 6,
   "metadata": {},
   "outputs": [
    {
     "name": "stdout",
     "output_type": "stream",
     "text": [
      "    sampno  speed  acceleration       angle     smooth  Id1  longitude  \\\n",
      "0  8507392   12.2      -0.07784  186.275472  13.600000    0   2.078366   \n",
      "1  8507392   13.3       0.06116  186.287040  13.033333    0   2.078768   \n",
      "2  8507392   10.5      -0.15568  186.299391  12.000000    0   2.079054   \n",
      "3  8507392    6.0       0.18348  186.322198   3.600000    1   2.079334   \n",
      "4  8507392    6.0       0.00000  186.315307   4.900000    1   2.079055   \n",
      "\n",
      "    latitude  difTempsSec  moyenT    altitude  DebFin  \n",
      "0  48.992353          5.0       1  241.399994       0  \n",
      "1  48.992389          5.0       1  240.699997       0  \n",
      "2  48.992354          5.0       1  245.199997       0  \n",
      "3  48.992409          5.0       1  277.399994       0  \n",
      "4  48.992399         15.0       1  281.100006       0  \n"
     ]
    }
   ],
   "source": [
    "df_1.to_csv('XarrModifVitesse.csv', sep=',')\n",
    "print(df_1.head())"
   ]
  },
  {
   "cell_type": "code",
   "execution_count": 26,
   "metadata": {},
   "outputs": [
    {
     "name": "stdout",
     "output_type": "stream",
     "text": [
      "    Unnamed: 0      speed  acceleration       angle     smooth  Id1  \\\n",
      "0            0  12.200000     -0.077840  186.275472  13.600000    0   \n",
      "1            1  13.300000      0.061160  186.287040  13.033333    0   \n",
      "2            2  10.500000     -0.155680  186.299391  12.000000    0   \n",
      "3            3   6.000000      0.183480  186.322198   3.600000    1   \n",
      "4            4   6.000000      0.000000  186.315307   4.900000    1   \n",
      "5            5  12.900000      0.383640  186.304193   8.300000    1   \n",
      "6            6  17.500000      0.255760  186.290083  12.133333    1   \n",
      "7            7  15.900000     -0.088960  186.273960  15.433333    1   \n",
      "8            8  15.500000     -0.022240  186.257595  16.300000    1   \n",
      "9            9   9.800000     -0.316920  186.243076  13.733333    1   \n",
      "10          10  15.900000     -0.139000  186.261477  17.466667    2   \n",
      "11          11  13.000000     -0.161240  186.276322  15.766666    2   \n",
      "12          12  13.100000      0.005560  186.288368  14.000000    2   \n",
      "13          13  10.200000     -0.161240  186.298708  12.100000    2   \n",
      "14          14   6.100000     -0.227960  186.309163   9.800000    2   \n",
      "15          15   4.800000     -0.072280  186.315387   7.033333    2   \n",
      "16          16   5.400000      0.033360  186.319462   5.433333    2   \n",
      "17          17   7.200000      0.100080  186.324529   5.800000    2   \n",
      "18          18   5.800000     -0.077840  186.329693   6.133333    2   \n",
      "19          19   4.200000     -0.088960  186.336315   5.733333    2   \n",
      "20          20   3.600000     -0.033360  186.341223   4.533333    2   \n",
      "21          21   5.800000      0.177920  186.350461   3.533333    3   \n",
      "22          22   5.500000     -0.008340  186.346503   4.633333    3   \n",
      "23          23   7.800000      0.127880  186.343117   6.366667    3   \n",
      "24          24  11.300000      0.194600  186.336074   8.200000    3   \n",
      "25          25   9.800000     -0.083400  186.327282   9.633334    3   \n",
      "26          26   7.200000     -0.144560  186.315764   9.433333    3   \n",
      "27          27  12.500000      0.294680  186.304560   9.833333    3   \n",
      "28          28  14.800000      0.127880  186.292788  11.500000    3   \n",
      "29          29   4.400000      0.083400  201.155731   3.166667    4   \n",
      "30          30   5.300000      0.027800  201.162694   4.166667    5   \n",
      "31          31  11.200000      0.328040  201.146812   6.433333    5   \n",
      "32          32  18.100000      0.383640  201.138162  11.533333    5   \n",
      "33          33  20.100000      0.111200  201.144685  16.466667    5   \n",
      "34          34   3.900000      0.022240  200.720014   3.033333    6   \n",
      "35          35  17.600000     -0.300240  200.376353  20.166667    7   \n",
      "36          36   9.400000     -0.455920  200.353846  16.666667    7   \n",
      "37          37   4.200000     -0.289120  200.337388  10.400000    7   \n",
      "38          38  12.400000      0.561560  200.331692   6.300000    8   \n",
      "39          39  17.700001      0.294680  200.328531  10.800000    8   \n",
      "40          40  20.600000      0.161240  200.297373  16.900000    8   \n",
      "41          41  13.500000     -0.394760  200.293672  17.266667    8   \n",
      "42          42   4.000000      0.011120  200.715919   3.600000    9   \n",
      "43          43   4.100000      0.005560  200.715428   3.500000    9   \n",
      "44          44   3.400000     -0.004865  200.719777   3.833333    9   \n",
      "45          45   3.700000     -0.328040  201.108465   6.000000   10   \n",
      "46          46   7.500000      0.030183  201.106819   6.933333   10   \n",
      "47          47  11.400000      0.043975  201.140072   5.866667   11   \n",
      "48          48   3.400000      0.061160  200.717622   2.766667   12   \n",
      "49          49  12.500000     -0.216840  200.374577  17.033333   13   \n",
      "50          50   3.700000     -0.489280  200.362015  10.866667   13   \n",
      "\n",
      "    longitude   latitude  difTempsSec  moyenT  DebFin  \n",
      "0    2.078366  48.992353          5.0       1       0  \n",
      "1    2.078768  48.992389          5.0       1       0  \n",
      "2    2.079054  48.992354          5.0       1       0  \n",
      "3    2.079334  48.992409          5.0       1       0  \n",
      "4    2.079055  48.992399         15.0       1       0  \n",
      "5    2.078807  48.992552          5.0       1       0  \n",
      "6    2.078540  48.992833          5.0       1       0  \n",
      "7    2.078259  48.993127          5.0       1       0  \n",
      "8    2.077997  48.993405          5.0       1       0  \n",
      "9    2.077754  48.993623          5.0       1       0  \n",
      "10   2.077993  48.992349          5.0       1       0  \n",
      "11   2.078411  48.992367          5.0       1       0  \n",
      "12   2.078772  48.992383          5.0       1       0  \n",
      "13   2.079144  48.992400          5.0       1       0  \n",
      "14   2.079375  48.992428          5.0       1       0  \n",
      "15   2.079537  48.992451          5.0       1       0  \n",
      "16   2.079725  48.992481          5.0       1       0  \n",
      "17   2.079919  48.992496          5.0       1       0  \n",
      "18   2.080112  48.992523          5.0       1       0  \n",
      "19   2.080204  48.992464          5.0       1       0  \n",
      "20   2.080298  48.992378          5.0       1       0  \n",
      "21   2.080485  48.992534          5.0       1       0  \n",
      "22   2.080351  48.992511         10.0       1       0  \n",
      "23   2.080097  48.992489          5.0       1       0  \n",
      "24   2.079760  48.992470          5.0       1       0  \n",
      "25   2.079339  48.992410          5.0       1       0  \n",
      "26   2.079037  48.992382          5.0       1       0  \n",
      "27   2.078823  48.992512          5.0       1       0  \n",
      "28   2.078589  48.992734          5.0       1       0  \n",
      "29   2.455994  48.849217          5.0       3       1  \n",
      "30   2.455652  48.849204         25.0       3       0  \n",
      "31   2.455451  48.849069          5.0       3       0  \n",
      "32   2.455129  48.848790          5.0       3       0  \n",
      "33   2.454552  48.848707          5.0       3       0  \n",
      "34   2.436937  48.844752         15.0       3       1  \n",
      "35   2.425532  48.846564          5.0       3       0  \n",
      "36   2.425125  48.846638          5.0       3       0  \n",
      "37   2.424890  48.846646          5.0       3       0  \n",
      "38   2.424583  48.846665          5.0       3       0  \n",
      "39   2.424194  48.846853          5.0       3       0  \n",
      "40   2.423559  48.846681          5.0       3       0  \n",
      "41   2.423013  48.846753          5.0       3       0  \n",
      "42   2.436334  48.844729         40.0       3       0  \n",
      "43   2.436730  48.844837          5.0       3       1  \n",
      "44   2.436574  48.844848         40.0       3       0  \n",
      "45   2.451561  48.846642          5.0       3       0  \n",
      "46   2.451654  48.846774         35.0       3       0  \n",
      "47   2.455454  48.849125         55.0       3       0  \n",
      "48   2.436793  48.844894          5.0       3       1  \n",
      "49   2.425218  48.845830          5.0       3       0  \n",
      "50   2.424922  48.845859          5.0       3       0  \n"
     ]
    }
   ],
   "source": [
    "del df_1\n",
    "df_1=pd.read_csv('C:/Users/MyPC/Desktop/Projet Gps/ProjetGithub/XarrModifVitesse.csv', sep=',')\n",
    "print(df_1.loc[0:50])\n"
   ]
  },
  {
   "cell_type": "code",
   "execution_count": 10,
   "metadata": {},
   "outputs": [
    {
     "name": "stdout",
     "output_type": "stream",
     "text": [
      "918\n",
      "48.8057703742\n"
     ]
    },
    {
     "name": "stderr",
     "output_type": "stream",
     "text": [
      "D:\\Programmes\\Anaconda2\\lib\\site-packages\\pandas\\core\\indexing.py:179: SettingWithCopyWarning: \n",
      "A value is trying to be set on a copy of a slice from a DataFrame\n",
      "\n",
      "See the caveats in the documentation: http://pandas.pydata.org/pandas-docs/stable/indexing.html#indexing-view-versus-copy\n",
      "  self._setitem_with_indexer(indexer, value)\n"
     ]
    }
   ],
   "source": [
    "RerGare=pd.read_csv('C:/Users/MyPC/Desktop/Projet Gps/ProjetBitbucket/RerGare.csv', sep=';')\n",
    "print(len(RerGare))\n",
    "df_list=[]\n",
    "#on garde juste les gares RER\n",
    "RerGare1=RerGare[RerGare['RER']==1 ]\n",
    "RerGare2=RerGare[RerGare['TRAIN']==1 ]\n",
    "df_list.append(RerGare1)\n",
    "df_list.append(RerGare2)  \n",
    "RerGare = pd.concat(df_list, ignore_index=True)\n",
    "\n",
    "RerGare['latitude']=0\n",
    "RerGare['longitude']=0\n",
    "RerGare['latitude1']=0\n",
    "RerGare['latitude2']=0\n",
    "RerGare['longitude1']=0\n",
    "RerGare['longitude2']=0\n",
    "print((RerGare['Geo Point'].iloc[0]).split(', ')[0])\n",
    "for i in range(0, len(RerGare)):\n",
    "    RerGare['latitude'].iloc[i] = RerGare['Geo Point'].iloc[i].split(', ')[0]\n",
    "    RerGare['longitude'].iloc[i] = RerGare['Geo Point'].iloc[i].split(', ')[1]\n"
   ]
  },
  {
   "cell_type": "code",
   "execution_count": 11,
   "metadata": {},
   "outputs": [
    {
     "name": "stdout",
     "output_type": "stream",
     "text": [
      "522\n"
     ]
    }
   ],
   "source": [
    "print(len(RerGare))"
   ]
  },
  {
   "cell_type": "code",
   "execution_count": 12,
   "metadata": {},
   "outputs": [
    {
     "name": "stdout",
     "output_type": "stream",
     "text": [
      "                      Geo Point  \\\n",
      "0  48.8057703742, 2.61939578581   \n",
      "1  48.7956548205, 2.65038766981   \n",
      "2   48.626022428, 2.42873898192   \n",
      "3  48.6055558264, 2.46245649414   \n",
      "4  48.5645970274, 2.17097626776   \n",
      "\n",
      "                                           Geo Shape  OBJECTID  ID_REF_ZDL  \\\n",
      "0  {\"type\": \"Point\", \"coordinates\": [2.6193957858...     232.0     43074.0   \n",
      "1  {\"type\": \"Point\", \"coordinates\": [2.6503876698...     233.0     46568.0   \n",
      "2  {\"type\": \"Point\", \"coordinates\": [2.4287389819...     348.0     47906.0   \n",
      "3  {\"type\": \"Point\", \"coordinates\": [2.4624564941...     351.0     45759.0   \n",
      "4  {\"type\": \"Point\", \"coordinates\": [2.1709762677...     344.0     43099.0   \n",
      "\n",
      "                         NOM_LONG                           LABEL IDREFLIGA  \\\n",
      "0  EMERAINVILLE-PONTAULT-COMBAULT  ÉMERAINVILLE PONTAULT-COMBAULT    A01843   \n",
      "1                  ROISSY-EN-BRIE                  ROISSY-EN-BRIE    A01843   \n",
      "2              EVRY-COURCOURONNES              ÉVRY COURCOURONNES    A01842   \n",
      "3               ESSONNES-ROBINSON               ESSONNES ROBINSON    A01842   \n",
      "4               BREUILLET-VILLAGE               BREUILLET-VILLAGE    A01840   \n",
      "\n",
      "  IDREFLIGC RES_COM MODE_    ...      PRINCIPAL  IDF           X            Y  \\\n",
      "0    C01729   RER E   RER    ...            0.0    1  672046.510  6856255.785   \n",
      "1    C01729   RER E   RER    ...            0.0    1  674317.715  6855120.528   \n",
      "2    C01728   RER D   RER    ...            0.0    1  657899.339  6836356.093   \n",
      "3    C01728   RER D   RER    ...            0.0    1  660368.715  6834063.388   \n",
      "4    C01727   RER C   RER    ...            0.0    1  638831.700  6829696.242   \n",
      "\n",
      "        latitude      longitude  latitude1 latitude2 longitude1 longitude2  \n",
      "0  48.8057703742  2.61939578581          0         0          0          0  \n",
      "1  48.7956548205  2.65038766981          0         0          0          0  \n",
      "2   48.626022428  2.42873898192          0         0          0          0  \n",
      "3  48.6055558264  2.46245649414          0         0          0          0  \n",
      "4  48.5645970274  2.17097626776          0         0          0          0  \n",
      "\n",
      "[5 rows x 35 columns]\n"
     ]
    },
    {
     "name": "stderr",
     "output_type": "stream",
     "text": [
      "D:\\Programmes\\Anaconda2\\lib\\site-packages\\pandas\\core\\indexing.py:179: SettingWithCopyWarning: \n",
      "A value is trying to be set on a copy of a slice from a DataFrame\n",
      "\n",
      "See the caveats in the documentation: http://pandas.pydata.org/pandas-docs/stable/indexing.html#indexing-view-versus-copy\n",
      "  self._setitem_with_indexer(indexer, value)\n"
     ]
    }
   ],
   "source": [
    "print(RerGare.head())\n",
    "for i in range (0 , len(RerGare)):\n",
    "    RerGare['latitude1'].iloc[i]=float(RerGare['latitude'].iloc[i])-0.0000899*2  #0.0000899 correspond à 10 metre en latitude  \n",
    "    RerGare['latitude2'].iloc[i]=float(RerGare['latitude'].iloc[i])+0.0000899*2\n",
    "    RerGare['longitude1'].iloc[i]=float(RerGare['longitude'].iloc[i])-0.000139*2 #0.000139 correspond à 10 mètres en longitude \n",
    "    RerGare['longitude2'].iloc[i]=float(RerGare['longitude'].iloc[i])+0.000139*2\n",
    "    "
   ]
  },
  {
   "cell_type": "code",
   "execution_count": 13,
   "metadata": {
    "collapsed": true
   },
   "outputs": [],
   "source": [
    "df_1['RerGare']=0\n",
    "for i in range(0, len(df_1)):\n",
    "    \n",
    "    for j in range(0 ,len(RerGare)):\n",
    "        if df_1.longitude[i]<= RerGare['longitude2'].iloc[j] and df_1.longitude[i]>= RerGare['longitude1'].iloc[j]  and df_1.latitude[i]>= RerGare['latitude1'].iloc[j] and df_1.latitude[i]<= RerGare['latitude2'].iloc[j]:\n",
    "            df_1.loc[i,'RerGare'] =1\n",
    "            break\n",
    "        "
   ]
  },
  {
   "cell_type": "code",
   "execution_count": 14,
   "metadata": {},
   "outputs": [
    {
     "name": "stdout",
     "output_type": "stream",
     "text": [
      "    sampno  speed  acceleration       angle     smooth  Id1  longitude  \\\n",
      "0  8507392   12.2      -0.07784  186.275472  13.600000    0   2.078366   \n",
      "1  8507392   13.3       0.06116  186.287040  13.033333    0   2.078768   \n",
      "2  8507392   10.5      -0.15568  186.299391  12.000000    0   2.079054   \n",
      "3  8507392    6.0       0.18348  186.322198   3.600000    1   2.079334   \n",
      "4  8507392    6.0       0.00000  186.315307   4.900000    1   2.079055   \n",
      "\n",
      "    latitude  difTempsSec  moyenT    altitude  DebFin  RerGare  \n",
      "0  48.992353          5.0       1  241.399994       0        0  \n",
      "1  48.992389          5.0       1  240.699997       0        0  \n",
      "2  48.992354          5.0       1  245.199997       0        0  \n",
      "3  48.992409          5.0       1  277.399994       0        0  \n",
      "4  48.992399         15.0       1  281.100006       0        0  \n"
     ]
    }
   ],
   "source": [
    "df_1.to_csv('XarrModifVitesseRer.csv', sep=',')\n",
    "print(df_1.head())"
   ]
  },
  {
   "cell_type": "code",
   "execution_count": 10,
   "metadata": {
    "collapsed": true
   },
   "outputs": [],
   "source": [
    "#Voir distance parcourues sur les trajectoires, savoir si l'utilsateur fais du surplace , peut déterminer des temps d'attentes\n",
    "# / des comportements spécifiques aux utilisateusrs \n",
    "df_1['Distance2points']=0\n",
    "df_1['DifLat']=0\n",
    "df_1['DifLon']=0\n",
    "\n",
    "for i in range(1, len(df_1)):\n",
    "    if df_1.loc[i, 'Id1']== df_1.loc[i-1, 'Id1']:\n",
    "        \n",
    "        df_1.loc[i, 'DifLat']=df_1.loc[i, 'latitude']- df_1.loc[i-1, 'latitude']\n",
    "        df_1.loc[i, 'DifLon']=df_1.loc[i, 'longitude']- df_1.loc[i-1, 'longitude']\n",
    "    else:\n",
    "        \n",
    "        df_1.loc[i, 'DifLat']=0\n",
    "        df_1.loc[i, 'DifLon']=0\n",
    "        \n",
    "\n",
    "\n",
    "# on garde la valeur absolue des différences \n",
    "import numpy as np\n",
    "df_1.DifLat=np.abs(df_1.DifLat)\n",
    "df_1.DifLon=np.abs(df_1.DifLon)\n",
    "\n",
    "#on covertit en distance km \n",
    "\n",
    "df_1['DifLatKm']=df_1['DifLat']/0.00899\n",
    "df_1['DifLonKm']=df_1['DifLon']/0.0139\n",
    "\n",
    "df_1['Distance2points']=np.sqrt(np.power(df_1['DifLatKm'],2)+np.power(df_1['DifLonKm'],2))\n",
    "\n",
    "           \n",
    "    \n",
    "    \n",
    "    "
   ]
  },
  {
   "cell_type": "code",
   "execution_count": 10,
   "metadata": {},
   "outputs": [
    {
     "name": "stdout",
     "output_type": "stream",
     "text": [
      "          speed  acceleration       angle     smooth   Id1  longitude  \\\n",
      "0     12.200000     -0.077840  186.275472  13.600000     0   2.078366   \n",
      "1     13.300000      0.061160  186.287040  13.033333     0   2.078768   \n",
      "2     10.500000     -0.155680  186.299391  12.000000     0   2.079054   \n",
      "3      6.000000      0.183480  186.322198   3.600000     1   2.079334   \n",
      "4      6.000000      0.000000  186.315307   4.900000     1   2.079055   \n",
      "5     12.900000      0.383640  186.304193   8.300000     1   2.078807   \n",
      "6     17.500000      0.255760  186.290083  12.133333     1   2.078540   \n",
      "7     15.900000     -0.088960  186.273960  15.433333     1   2.078259   \n",
      "8     15.500000     -0.022240  186.257595  16.300000     1   2.077997   \n",
      "9      9.800000     -0.316920  186.243076  13.733333     1   2.077754   \n",
      "10    15.900000     -0.139000  186.261477  17.466667     2   2.077993   \n",
      "11    13.000000     -0.161240  186.276322  15.766666     2   2.078411   \n",
      "12    13.100000      0.005560  186.288368  14.000000     2   2.078772   \n",
      "13    10.200000     -0.161240  186.298708  12.100000     2   2.079144   \n",
      "14     6.100000     -0.227960  186.309163   9.800000     2   2.079375   \n",
      "15     4.800000     -0.072280  186.315387   7.033333     2   2.079537   \n",
      "16     5.400000      0.033360  186.319462   5.433333     2   2.079725   \n",
      "17     7.200000      0.100080  186.324529   5.800000     2   2.079919   \n",
      "18     5.800000     -0.077840  186.329693   6.133333     2   2.080112   \n",
      "19     4.200000     -0.088960  186.336315   5.733333     2   2.080204   \n",
      "20     3.600000     -0.033360  186.341223   4.533333     2   2.080298   \n",
      "21     5.800000      0.177920  186.350461   3.533333     3   2.080485   \n",
      "22     5.500000     -0.008340  186.346503   4.633333     3   2.080351   \n",
      "23     7.800000      0.127880  186.343117   6.366667     3   2.080097   \n",
      "24    11.300000      0.194600  186.336074   8.200000     3   2.079760   \n",
      "25     9.800000     -0.083400  186.327282   9.633334     3   2.079339   \n",
      "26     7.200000     -0.144560  186.315764   9.433333     3   2.079037   \n",
      "27    12.500000      0.294680  186.304560   9.833333     3   2.078823   \n",
      "28    14.800000      0.127880  186.292788  11.500000     3   2.078589   \n",
      "29     4.400000      0.083400  201.155731   3.166667     4   2.455994   \n",
      "...         ...           ...         ...        ...   ...        ...   \n",
      "8867   9.800000     -0.066720  186.907144  10.900000  2228   2.071428   \n",
      "8868   4.600000     -0.289120  186.904587   8.466667  2228   2.071292   \n",
      "8869   3.500000     -0.030580  186.902080   5.966667  2228   2.071093   \n",
      "8870  10.300000      0.378080  186.894267   6.133333  2228   2.070906   \n",
      "8871   5.600000     -0.261320  186.885456   6.466667  2228   2.070730   \n",
      "8872  11.200000      0.311360  186.876770   9.033333  2228   2.070505   \n",
      "8873   9.800000     -0.077840  186.865544   8.866667  2228   2.070261   \n",
      "8874   4.500000      0.105640  186.816281   4.233333  2229   2.076054   \n",
      "8875   3.400000      0.038920  196.600408   3.166667  2230   2.321883   \n",
      "8876   8.600000      0.158460  196.602634   4.966667  2231   2.322147   \n",
      "8877   6.900000     -0.094520  196.608663   6.133334  2231   2.322340   \n",
      "8878  24.700001      0.261320  196.542139  18.866667  2232   2.325200   \n",
      "8879  16.600000     -0.450360  196.540135  20.433334  2232   2.325540   \n",
      "8880   6.600000     -0.556000  196.538828  15.966667  2232   2.325665   \n",
      "8881   9.300000      0.050040  196.534701  10.833333  2232   2.325782   \n",
      "8882  12.100000      0.155680  196.544800   9.333333  2232   2.325952   \n",
      "8883   7.900000     -0.233520  196.543565   9.766667  2232   2.326105   \n",
      "8884   9.700000      0.100080  196.542639   9.900000  2232   2.326283   \n",
      "8885   7.200000     -0.139000  196.543847   8.266667  2232   2.326458   \n",
      "8886   3.300000      0.001651  196.301005   2.866667  2233   2.320166   \n",
      "8887   3.700000      0.022240  196.193521   3.233333  2233   2.320816   \n",
      "8888   3.800000     -0.031507  196.505620   4.233333  2234   2.326710   \n",
      "8889  10.100000      0.000017  196.123986   4.800000  2235   2.323233   \n",
      "8890  10.400000      0.016680  196.540684   7.533333  2235   2.323205   \n",
      "8891   9.100000     -0.072280  196.543851   9.866667  2235   2.323078   \n",
      "8892   9.800000      0.043862  196.544684   5.166667  2236   2.322987   \n",
      "8893   7.500000     -0.127880  196.548485   6.666667  2236   2.322831   \n",
      "8894   3.100000      0.055600  196.538229   2.566667  2237   2.326860   \n",
      "8895   4.400000      0.111200  196.541852   3.033333  2238   2.326936   \n",
      "8896   3.900000      0.003217  196.290562   2.900000  2239   2.321192   \n",
      "\n",
      "       latitude  difTempsSec  moyenT  Distance2points    DifLat    DifLon  \\\n",
      "0     48.992353          5.0       1         0.000000  0.000000  0.000000   \n",
      "1     48.992389          5.0       1         0.029197  0.000036  0.000402   \n",
      "2     48.992354          5.0       1         0.020941  0.000035  0.000286   \n",
      "3     48.992409          5.0       1         0.000000  0.000000  0.000000   \n",
      "4     48.992399         15.0       1         0.020103  0.000010  0.000279   \n",
      "5     48.992552          5.0       1         0.024657  0.000153  0.000248   \n",
      "6     48.992833          5.0       1         0.036687  0.000281  0.000267   \n",
      "7     48.993127          5.0       1         0.038447  0.000294  0.000281   \n",
      "8     48.993405          5.0       1         0.036215  0.000278  0.000262   \n",
      "9     48.993623          5.0       1         0.029894  0.000218  0.000243   \n",
      "10    48.992349          5.0       1         0.000000  0.000000  0.000000   \n",
      "11    48.992367          5.0       1         0.030139  0.000018  0.000418   \n",
      "12    48.992383          5.0       1         0.026032  0.000016  0.000361   \n",
      "13    48.992400          5.0       1         0.026829  0.000017  0.000372   \n",
      "14    48.992428          5.0       1         0.016908  0.000028  0.000231   \n",
      "15    48.992451          5.0       1         0.011932  0.000023  0.000162   \n",
      "16    48.992481          5.0       1         0.013931  0.000030  0.000188   \n",
      "17    48.992496          5.0       1         0.014056  0.000015  0.000194   \n",
      "18    48.992523          5.0       1         0.014206  0.000027  0.000193   \n",
      "19    48.992464          5.0       1         0.009321  0.000059  0.000092   \n",
      "20    48.992378          5.0       1         0.011715  0.000086  0.000094   \n",
      "21    48.992534          5.0       1         0.000000  0.000000  0.000000   \n",
      "22    48.992511         10.0       1         0.009974  0.000023  0.000134   \n",
      "23    48.992489          5.0       1         0.018437  0.000022  0.000254   \n",
      "24    48.992470          5.0       1         0.024337  0.000019  0.000337   \n",
      "25    48.992410          5.0       1         0.031014  0.000060  0.000421   \n",
      "26    48.992382          5.0       1         0.021949  0.000028  0.000302   \n",
      "27    48.992512          5.0       1         0.021122  0.000130  0.000214   \n",
      "28    48.992734          5.0       1         0.029886  0.000222  0.000234   \n",
      "29    48.849217          5.0       3         0.000000  0.000000  0.000000   \n",
      "...         ...          ...     ...              ...       ...       ...   \n",
      "8867  48.962915          5.0       1         0.024854  0.000169  0.000226   \n",
      "8868  48.962780          5.0       1         0.017923  0.000135  0.000136   \n",
      "8869  48.962783         10.0       1         0.014320  0.000003  0.000199   \n",
      "8870  48.962899          5.0       1         0.018641  0.000116  0.000187   \n",
      "8871  48.963017          5.0       1         0.018238  0.000118  0.000176   \n",
      "8872  48.963146          5.0       1         0.021632  0.000129  0.000225   \n",
      "8873  48.963334          5.0       1         0.027303  0.000188  0.000244   \n",
      "8874  48.970913          5.0       2         0.000000  0.000000  0.000000   \n",
      "8875  48.875274          5.0       3         0.000000  0.000000  0.000000   \n",
      "8876  48.875271         10.0       3         0.000000  0.000000  0.000000   \n",
      "8877  48.875371          5.0       3         0.017791  0.000100  0.000193   \n",
      "8878  48.881422          5.0       3         0.000000  0.000000  0.000000   \n",
      "8879  48.881740          5.0       3         0.043006  0.000318  0.000340   \n",
      "8880  48.881892          5.0       3         0.019150  0.000152  0.000125   \n",
      "8881  48.881825         15.0       3         0.011242  0.000067  0.000117   \n",
      "8882  48.882044          5.0       3         0.027258  0.000219  0.000170   \n",
      "8883  48.882237          5.0       3         0.024126  0.000193  0.000153   \n",
      "8884  48.882411          5.0       3         0.023208  0.000174  0.000178   \n",
      "8885  48.882619          5.0       3         0.026340  0.000208  0.000175   \n",
      "8886  48.888430        101.0       2         0.000000  0.000000  0.000000   \n",
      "8887  48.887650          5.0       2         0.098563  0.000780  0.000650   \n",
      "8888  48.883691         15.0       3         0.000000  0.000000  0.000000   \n",
      "8889  48.878894     131275.0       3         0.000000  0.000000  0.000000   \n",
      "8890  48.878738          5.0       3         0.017469  0.000156  0.000028   \n",
      "8891  48.878577          5.0       3         0.020105  0.000161  0.000127   \n",
      "8892  48.878315         45.0       3         0.000000  0.000000  0.000000   \n",
      "8893  48.878150          5.0       3         0.021513  0.000165  0.000156   \n",
      "8894  48.883085          5.0       3         0.000000  0.000000  0.000000   \n",
      "8895  48.883334          5.0       3         0.000000  0.000000  0.000000   \n",
      "8896  48.887534        121.0       2         0.000000  0.000000  0.000000   \n",
      "\n",
      "      DifLatKm  DifLonKm  difTempsHeure  vitesseMoyenne  \n",
      "0     0.000000  0.000000       0.001389        0.000000  \n",
      "1     0.004004  0.028921       0.001389       20.823022  \n",
      "2     0.003893  0.020576       0.001389       14.814388  \n",
      "3     0.000000  0.000000       0.001389        0.000000  \n",
      "4     0.001112  0.020072       0.004167        4.817266  \n",
      "5     0.017019  0.017842       0.001389       12.846043  \n",
      "6     0.031257  0.019209       0.001389       13.830216  \n",
      "7     0.032703  0.020216       0.001389       14.555396  \n",
      "8     0.030923  0.018849       0.001389       13.571223  \n",
      "9     0.024249  0.017482       0.001389       12.587050  \n",
      "10    0.000000  0.000000       0.001389        0.000000  \n",
      "11    0.002002  0.030072       0.001389       21.651799  \n",
      "12    0.001780  0.025971       0.001389       18.699281  \n",
      "13    0.001891  0.026763       0.001389       19.269065  \n",
      "14    0.003115  0.016619       0.001389       11.965468  \n",
      "15    0.002558  0.011655       0.001389        8.391367  \n",
      "16    0.003337  0.013525       0.001389        9.738129  \n",
      "17    0.001669  0.013957       0.001389       10.048921  \n",
      "18    0.003003  0.013885       0.001389        9.997122  \n",
      "19    0.006563  0.006619       0.001389        4.765468  \n",
      "20    0.009566  0.006763       0.001389        4.869065  \n",
      "21    0.000000  0.000000       0.001389        0.000000  \n",
      "22    0.002558  0.009640       0.002778        3.470504  \n",
      "23    0.002447  0.018273       0.001389       13.156835  \n",
      "24    0.002113  0.024245       0.001389       17.456115  \n",
      "25    0.006674  0.030288       0.001389       21.807194  \n",
      "26    0.003115  0.021727       0.001389       15.643165  \n",
      "27    0.014461  0.015396       0.001389       11.084892  \n",
      "28    0.024694  0.016835       0.001389       12.120863  \n",
      "29    0.000000  0.000000       0.001389        0.000000  \n",
      "...        ...       ...            ...             ...  \n",
      "8867  0.018799  0.016259       0.001389       11.706475  \n",
      "8868  0.015017  0.009784       0.001389        7.044604  \n",
      "8869  0.000334  0.014317       0.002778        5.153957  \n",
      "8870  0.012903  0.013453       0.001389        9.686331  \n",
      "8871  0.013126  0.012662       0.001389        9.116547  \n",
      "8872  0.014349  0.016187       0.001389       11.654676  \n",
      "8873  0.020912  0.017554       0.001389       12.638849  \n",
      "8874  0.000000  0.000000       0.001389        0.000000  \n",
      "8875  0.000000  0.000000       0.001389        0.000000  \n",
      "8876  0.000000  0.000000       0.002778        0.000000  \n",
      "8877  0.011123  0.013885       0.001389        9.997122  \n",
      "8878  0.000000  0.000000       0.001389        0.000000  \n",
      "8879  0.035373  0.024460       0.001389       17.611511  \n",
      "8880  0.016908  0.008993       0.001389        6.474820  \n",
      "8881  0.007453  0.008417       0.004167        2.020144  \n",
      "8882  0.024360  0.012230       0.001389        8.805755  \n",
      "8883  0.021468  0.011007       0.001389        7.925180  \n",
      "8884  0.019355  0.012806       0.001389        9.220144  \n",
      "8885  0.023137  0.012590       0.001389        9.064748  \n",
      "8886  0.000000  0.000000       0.028056        0.000000  \n",
      "8887  0.086763  0.046763       0.001389       33.669065  \n",
      "8888  0.000000  0.000000       0.004167        0.000000  \n",
      "8889  0.000000  0.000000      36.465278        0.000000  \n",
      "8890  0.017353  0.002014       0.001389        1.450360  \n",
      "8891  0.017909  0.009137       0.001389        6.578417  \n",
      "8892  0.000000  0.000000       0.012500        0.000000  \n",
      "8893  0.018354  0.011223       0.001389        8.080576  \n",
      "8894  0.000000  0.000000       0.001389        0.000000  \n",
      "8895  0.000000  0.000000       0.001389        0.000000  \n",
      "8896  0.000000  0.000000       0.033611        0.000000  \n",
      "\n"
     ]
    },
    {
     "name": "stdout",
     "output_type": "stream",
     "text": [
      "[8897 rows x 16 columns]\n"
     ]
    }
   ],
   "source": [
    "#df_3.loc[:,'difTempsSec'] =df_1.loc[:, 'difTempsSec']\n",
    "print(df_1)"
   ]
  },
  {
   "cell_type": "code",
   "execution_count": 11,
   "metadata": {},
   "outputs": [
    {
     "name": "stdout",
     "output_type": "stream",
     "text": [
      "   Unnamed: 0  speed  acceleration       angle     smooth  Id1  longitude  \\\n",
      "0           0   12.2      -0.07784  186.275472  13.600000    0   2.078366   \n",
      "1           1   13.3       0.06116  186.287040  13.033333    0   2.078768   \n",
      "2           2   10.5      -0.15568  186.299391  12.000000    0   2.079054   \n",
      "3           3    6.0       0.18348  186.322198   3.600000    1   2.079334   \n",
      "4           4    6.0       0.00000  186.315307   4.900000    1   2.079055   \n",
      "\n",
      "    latitude  difTempsSec  moyenT  DebFin  Distance2points    DifLat  \\\n",
      "0  48.992353          5.0       1       0         0.000000  0.000000   \n",
      "1  48.992389          5.0       1       0         0.029197  0.000036   \n",
      "2  48.992354          5.0       1       0         0.020941  0.000035   \n",
      "3  48.992409          5.0       1       0         0.000000  0.000000   \n",
      "4  48.992399         15.0       1       0         0.020103  0.000010   \n",
      "\n",
      "     DifLon  DifLatKm  DifLonKm  difTempsHeure  vitesseMoyenne  \n",
      "0  0.000000  0.000000  0.000000       0.001389        0.000000  \n",
      "1  0.000402  0.004004  0.028921       0.001389       20.823022  \n",
      "2  0.000286  0.003893  0.020576       0.001389       14.814388  \n",
      "3  0.000000  0.000000  0.000000       0.001389        0.000000  \n",
      "4  0.000279  0.001112  0.020072       0.004167        4.817266  \n"
     ]
    }
   ],
   "source": [
    "df_1['difTempsHeure']=0\n",
    "df_1['difTempsHeure']= df_1['difTempsSec']/3600\n",
    "df_1['vitesseMoyenne']=0\n",
    "df_1['vitesseMoyenne']=df_1['DifLonKm']/df_1['difTempsHeure']\n",
    "print(df_1.head())"
   ]
  },
  {
   "cell_type": "code",
   "execution_count": 12,
   "metadata": {},
   "outputs": [
    {
     "name": "stdout",
     "output_type": "stream",
     "text": [
      "2240\n"
     ]
    }
   ],
   "source": [
    "df_1['VitesseTraj']=0\n",
    "NombreId=2240\n",
    "print(NombreId)\n",
    "taille =0\n",
    "listeVit=[]\n",
    "for i in range(0, NombreId-1):\n",
    "   \n",
    "    baseT= df_1[df_1.Id1==i  ]\n",
    "    \n",
    "    longueurT= len(baseT)\n",
    "    debLon=baseT.loc[i+ taille, 'longitude']\n",
    "    debLat=baseT.loc[i+taille, 'latitude']\n",
    "    \n",
    "    taille= taille +len(baseT)-1\n",
    "    \n",
    "    totalTemps= baseT.difTempsSec.sum()\n",
    "    \n",
    "    finLon=baseT.loc[i+ taille, 'longitude']\n",
    "    finLat=baseT.loc[i+taille, 'latitude']\n",
    "    difLon= np.abs(finLon- debLon)/0.00899  # distance en KM\n",
    "    difLat= np.abs(finLat-debLat)/0.0139\n",
    "    #print((np.sqrt(np.power(difLon,2)+np.power(difLat,2))/totalTemps)*3600)\n",
    "    listeVit.append((np.sqrt(np.power(difLon,2)+np.power(difLat,2))/totalTemps)*3600)\n",
    "        \n",
    "   \n",
    "\n",
    "         "
   ]
  },
  {
   "cell_type": "code",
   "execution_count": 13,
   "metadata": {},
   "outputs": [
    {
     "name": "stdout",
     "output_type": "stream",
     "text": [
      "   Unnamed: 0  speed  acceleration       angle     smooth  Id1  longitude  \\\n",
      "0           0   12.2      -0.07784  186.275472  13.600000    0   2.078366   \n",
      "1           1   13.3       0.06116  186.287040  13.033333    0   2.078768   \n",
      "2           2   10.5      -0.15568  186.299391  12.000000    0   2.079054   \n",
      "3           3    6.0       0.18348  186.322198   3.600000    1   2.079334   \n",
      "4           4    6.0       0.00000  186.315307   4.900000    1   2.079055   \n",
      "\n",
      "    latitude  difTempsSec  moyenT  DebFin  Distance2points    DifLat  \\\n",
      "0  48.992353          5.0       1       0         0.000000  0.000000   \n",
      "1  48.992389          5.0       1       0         0.029197  0.000036   \n",
      "2  48.992354          5.0       1       0         0.020941  0.000035   \n",
      "3  48.992409          5.0       1       0         0.000000  0.000000   \n",
      "4  48.992399         15.0       1       0         0.020103  0.000010   \n",
      "\n",
      "     DifLon  DifLatKm  DifLonKm  difTempsHeure  vitesseMoyenne  VitesseTraj  \n",
      "0  0.000000  0.000000  0.000000       0.001389        0.000000    18.367083  \n",
      "1  0.000402  0.004004  0.028921       0.001389       20.823022    18.367083  \n",
      "2  0.000286  0.003893  0.020576       0.001389       14.814388    18.367083  \n",
      "3  0.000000  0.000000  0.000000       0.001389        0.000000    15.700457  \n",
      "4  0.000279  0.001112  0.020072       0.004167        4.817266    15.700457  \n"
     ]
    }
   ],
   "source": [
    "df_1.loc[0, 'VitesseTraj']= listeVit[0]\n",
    "j=0\n",
    "for i in range(1, len(df_1)-1):\n",
    "    if df_1.loc[i,'Id1']== df_1.loc[i-1,'Id1' ]:\n",
    "        df_1.loc[i,'VitesseTraj']=listeVit[j]\n",
    "    else:\n",
    "        j=j+1\n",
    "        df_1.loc[i,'VitesseTraj']=listeVit[j]\n",
    "        \n",
    "        \n",
    "print(df_1.head())"
   ]
  },
  {
   "cell_type": "code",
   "execution_count": null,
   "metadata": {
    "collapsed": true
   },
   "outputs": [],
   "source": []
  },
  {
   "cell_type": "code",
   "execution_count": 26,
   "metadata": {
    "collapsed": true
   },
   "outputs": [],
   "source": [
    "# en ommettant les vitesses sur les labels et les bus et les métros ou vitesse >5km , cela permet de récupperer les points d\n",
    "# d'attentes ,et de pouvoir rendre effective  la variable début fin\n",
    "# cependant il y a une perte de précisions qui liée à cette ommission de vittesse , car le temps d'attente d'un bus n'est pas une \n",
    "#véritablement une trajectoir de bus mais plutôt une attente à pied ,\n",
    "# pour remédier à ca on va creer une variable temps d'attente =1 si la personne reste dans un meme périmetre definit\n",
    "#pour les trajectoires étant labelliser bus ou métro , en supprimant ces points nous gagnerons en précisions \n",
    "#mais nous aurons tous de même la variable DF qui nous indiquera si le trajet a commencé et terminera par un arrêt.\n",
    "\n",
    "taille=0\n",
    "df_3['DF']=0\n",
    "listeDF=[]\n",
    "for i in range(0, 2290):  # nombre d'id \n",
    "    \n",
    "    baseT= df_3[df_3.Id1==i  ]\n",
    "    deb=baseT.DebFin[0+taille]\n",
    "    taille=taille+len(baseT)\n",
    "    fin =baseT.DebFin[0+taille-1]\n",
    "    if deb==fin and fin ==1:\n",
    "        listeDF.append(1)\n",
    "    else :\n",
    "        listeDF.append(0)\n",
    "\n",
    "df_3.loc[0, 'DF']= listeDF[0]\n",
    "\n",
    "j=0\n",
    "for i in range(1, len(df_3)-1):\n",
    "    if df_3.loc[i,'Id1']== df_3.loc[i-1,'Id1' ]:\n",
    "        df_3.loc[i,'DF']=listeDF[j]\n",
    "    else:\n",
    "        j=j+1\n",
    "        df_3.loc[i,'DF']=listeDF[j]\n",
    "                \n",
    "\n",
    "        \n",
    "        "
   ]
  },
  {
   "cell_type": "code",
   "execution_count": 6,
   "metadata": {
    "collapsed": true
   },
   "outputs": [],
   "source": [
    "#ajout des POI\n",
    "\n",
    "Cluster =pd.read_csv('C:/Users/MyPC/Desktop/Projet Gps/ProjetGitHub/POI (Extraction cluster DBSCAN de tous les utilisateurs/ClusterUtilisateurs.csv')"
   ]
  },
  {
   "cell_type": "code",
   "execution_count": null,
   "metadata": {
    "collapsed": true
   },
   "outputs": [],
   "source": [
    "# perte de précision du à l'enlevement des critère de vitesse \n",
    "#on va introduire la variable attente qui visera à savoir si l'individu reste en position stationnaire par rapport à sa première position"
   ]
  },
  {
   "cell_type": "code",
   "execution_count": 10,
   "metadata": {},
   "outputs": [
    {
     "name": "stderr",
     "output_type": "stream",
     "text": [
      "D:\\Programmes\\Anaconda2\\lib\\site-packages\\pandas\\core\\indexing.py:179: SettingWithCopyWarning: \n",
      "A value is trying to be set on a copy of a slice from a DataFrame\n",
      "\n",
      "See the caveats in the documentation: http://pandas.pydata.org/pandas-docs/stable/indexing.html#indexing-view-versus-copy\n",
      "  self._setitem_with_indexer(indexer, value)\n"
     ]
    }
   ],
   "source": [
    "#Cadrant de 50 mètres, lieu de passage \n",
    "\n",
    "Cluster['latitude1']=0  \n",
    "Cluster['latitude2']=0\n",
    "Cluster['longitude1']=0\n",
    "Cluster['longitude2']=0\n",
    "\n",
    "\n",
    "for i in range (0 , len(Cluster)):\n",
    "    Cluster['latitude1'].iloc[i]=float(Cluster['latitude'].iloc[i])-0.0000899*5  #0.0000899 correspond à 10 metre en latitude  \n",
    "    Cluster['latitude2'].iloc[i]=float(Cluster['latitude'].iloc[i])+0.0000899*5\n",
    "    Cluster['longitude1'].iloc[i]=float(Cluster['longitude'].iloc[i])-0.000139*5 #0.000139 correspond à 10 mètres en longitude \n",
    "    Cluster['longitude2'].iloc[i]=float(Cluster['longitude'].iloc[i])+0.000139*5"
   ]
  },
  {
   "cell_type": "code",
   "execution_count": 12,
   "metadata": {
    "collapsed": true
   },
   "outputs": [],
   "source": [
    "#ajout variable POI si proche cluster et en journée pour éviter lieu de résidence , 1 si proche 0 sinon on dira 20 mètres\n",
    "# possibilité d'avoir plusieurs cluster proche +1 \n",
    "df_1['Cluster']=0\n",
    "for i in range(0, len(df_1)):\n",
    "    \n",
    "    for j in range(0 ,len(Cluster)):\n",
    "        if df_1.longitude[i]<= Cluster['longitude2'].iloc[j] and df_1.longitude[i]>= Cluster['longitude1'].iloc[j]  and df_1.latitude[i]>= Cluster['latitude1'].iloc[j] and df_1.latitude[i]<= Cluster['latitude2'].iloc[j]:\n",
    "            df_1.loc[i,'Cluster'] =df_1.loc[i,'Cluster'] +1\n",
    "            \n",
    "        "
   ]
  },
  {
   "cell_type": "code",
   "execution_count": 23,
   "metadata": {
    "collapsed": true
   },
   "outputs": [],
   "source": [
    "df_1.to_csv('XarrCluster.csv', sep=',')\n"
   ]
  },
  {
   "cell_type": "code",
   "execution_count": 44,
   "metadata": {
    "collapsed": true
   },
   "outputs": [],
   "source": []
  },
  {
   "cell_type": "code",
   "execution_count": null,
   "metadata": {
    "collapsed": true
   },
   "outputs": [],
   "source": []
  },
  {
   "cell_type": "code",
   "execution_count": 17,
   "metadata": {},
   "outputs": [
    {
     "name": "stdout",
     "output_type": "stream",
     "text": [
      "0.59375\n",
      "Confusion matrix, without normalization\n",
      "[[ 70  27  35   1   0]\n",
      " [ 14 142   9   1   0]\n",
      " [ 49  26  53   1   0]\n",
      " [  7   3   7   1   0]\n",
      " [  2   0   0   0   0]]\n",
      "Normalized confusion matrix\n",
      "[[ 0.53  0.2   0.26  0.01  0.  ]\n",
      " [ 0.08  0.86  0.05  0.01  0.  ]\n",
      " [ 0.38  0.2   0.41  0.01  0.  ]\n",
      " [ 0.39  0.17  0.39  0.06  0.  ]\n",
      " [ 1.    0.    0.    0.    0.  ]]\n"
     ]
    },
    {
     "data": {
      "image/png": "[encoded data removed]",
      "text/plain": [
       "<matplotlib.figure.Figure at 0x21e471cee10>"
      ]
     },
     "metadata": {},
     "output_type": "display_data"
    },
    {
     "data": {
      "image/png": "[encoded data removed]",
      "text/plain": [
       "<matplotlib.figure.Figure at 0x21e479a5780>"
      ]
     },
     "metadata": {},
     "output_type": "display_data"
    }
   ],
   "source": [
    "knn = KNeighborsClassifier(n_neighbors =9)\n",
    "knn.fit(X_train, y_train)\n",
    "Y_pred = knn.predict(X_test)\n",
    "\n",
    "print((Y_pred==y_test).mean())\n",
    "import itertools\n",
    "#%matplotlib\n",
    "import numpy as np\n",
    "import matplotlib.pyplot as plt\n",
    "\n",
    "from sklearn import svm, datasets\n",
    "from sklearn.model_selection import train_test_split\n",
    "from sklearn.metrics import confusion_matrix\n",
    "\n",
    "X_train,X_test,y_train,y_test = train_test_split(X,y,test_size=0.1)\n",
    "\n",
    "y_test = y_test\n",
    "y_pred = Y_pred\n",
    "\n",
    "\n",
    "def plot_confusion_matrix(cm, classes,\n",
    "                          normalize=False,\n",
    "                          title='Confusion matrix',\n",
    "                          cmap=plt.cm.Blues):\n",
    "    \"\"\"\n",
    "    This function prints and plots the confusion matrix.\n",
    "    Normalization can be applied by setting `normalize=True`.\n",
    "    \"\"\"\n",
    "    if normalize:\n",
    "        cm = cm.astype('float') / cm.sum(axis=1)[:, np.newaxis]\n",
    "        print(\"Normalized confusion matrix\")\n",
    "    else:\n",
    "        print('Confusion matrix, without normalization')\n",
    "\n",
    "    print(cm)\n",
    "\n",
    "    plt.imshow(cm, interpolation='nearest', cmap=cmap)\n",
    "    plt.title(title)\n",
    "    plt.colorbar()\n",
    "    tick_marks = np.arange(len(classes))\n",
    "    plt.xticks(tick_marks, classes, rotation=45)\n",
    "    plt.yticks(tick_marks, classes)\n",
    "\n",
    "    fmt = '.2f' if normalize else 'd'\n",
    "    thresh = cm.max() / 2.\n",
    "    for i, j in itertools.product(range(cm.shape[0]), range(cm.shape[1])):\n",
    "        plt.text(j, i, format(cm[i, j], fmt),\n",
    "                 horizontalalignment=\"center\",\n",
    "                 color=\"white\" if cm[i, j] > thresh else \"black\")\n",
    "\n",
    "    plt.tight_layout()\n",
    "    plt.ylabel('True label')\n",
    "    plt.xlabel('Predicted label')\n",
    "\n",
    "# Compute confusion matrix\n",
    "cnf_matrix = confusion_matrix(y_test, y_pred)\n",
    "np.set_printoptions(precision=2)\n",
    "\n",
    "# Plot non-normalized confusion matrix\n",
    "plt.figure()\n",
    "plot_confusion_matrix(cnf_matrix, classes=['voiture', 'marche', 'bus', 'rer'],\n",
    "                      title='Confusion matrix, without normalization')\n",
    "\n",
    "# Plot normalized confusion matrix\n",
    "plt.figure()\n",
    "plot_confusion_matrix(cnf_matrix, classes=['voiture', 'marche', 'bus', 'rer'], normalize=True,\n",
    "                      title='Normalized confusion matrix')\n",
    "\n",
    "plt.show()\n"
   ]
  },
  {
   "cell_type": "code",
   "execution_count": 15,
   "metadata": {
    "collapsed": true
   },
   "outputs": [],
   "source": [
    "### on extracte les features en fonction de la colonne id \n",
    "\n",
    "#l'ajout seul de la variable cluster est nocive dans la classification\n",
    "#df_essai= df_1[['speed',  'acceleration','angle','smooth','Id1','DebFin', 'vitesseMoyenne','DF','RerGare', 'Cluster']]\n",
    "#df_essai= df_1[['speed',  'acceleration','angle','DebFin','Id1','smooth']] 70.8% de précision\n",
    "#vitesseMoyenne  et vitesseTraj mauvaise variables fait perdre en précision\n",
    "\n",
    "df_essai= df_1[['speed',  'acceleration','angle','Id1','smooth', 'RerGare','DebFin' ]]\n",
    "#df_essai= df_3[['speed',  'acceleration','angle','smooth','Id1']]\n",
    "df_essai = df_essai[np.isfinite(df_essai['acceleration'])]\n",
    "#df_essai = df_essai[np.isfinite(df_essai['VitesseTraj'])]\n",
    "#df_essai = df_essai[np.isfinite(df_essai['vitesseMoyenne'])]\n",
    "df_essai = df_essai[np.isfinite(df_essai['speed'])]"
   ]
  },
  {
   "cell_type": "code",
   "execution_count": 16,
   "metadata": {
    "scrolled": false
   },
   "outputs": [
    {
     "name": "stderr",
     "output_type": "stream",
     "text": [
      "Feature Extraction: 100%|██████████████████████████████████████████████████████████████| 10/10 [00:02<00:00,  3.39it/s]\n",
      "D:\\Programmes\\Anaconda2\\lib\\site-packages\\sklearn\\model_selection\\_split.py:605: Warning: The least populated class in y has only 7 members, which is too few. The minimum number of members in any class cannot be less than n_splits=10.\n",
      "  % (min_groups, self.n_splits)), Warning)\n"
     ]
    },
    {
     "data": {
      "image/png": "[encoded data removed]",
      "text/plain": [
       "<matplotlib.figure.Figure at 0x28db3d1b3c8>"
      ]
     },
     "metadata": {},
     "output_type": "display_data"
    },
    {
     "data": {
      "image/png": "[encoded data removed]",
      "text/plain": [
       "<matplotlib.figure.Figure at 0x28dac14aa58>"
      ]
     },
     "metadata": {},
     "output_type": "display_data"
    }
   ],
   "source": [
    "from sklearn.model_selection import ShuffleSplit\n",
    "from sklearn.model_selection import cross_val_score\n",
    "y= list(df_2.iloc[:,1])\n",
    "X = extract_features(df_essai, column_id=\"Id1\", default_fc_parameters=MinimalFCParameters())\n",
    "index= []\n",
    "resultat=[]\n",
    "for i in range(2,3):\n",
    "    index.append(i)\n",
    "    knn = KNeighborsClassifier(n_neighbors =i)\n",
    "    scores = cross_val_score(knn, X, y, cv=10)\n",
    "    #print(scores)\n",
    "    #print(\"Accuracy: %0.2f (+/- %0.2f)\" % (scores.mean(), scores.std() * 2))\n",
    "    resultat.append(scores.mean())\n",
    "\n",
    "plot(index,resultat)\n",
    "plt.show()\n",
    "del index\n",
    "del resultat\n",
    "index= []\n",
    "resultat=[]\n",
    "\n",
    "\n",
    "from sklearn.ensemble import RandomForestClassifier\n",
    "from sklearn.datasets import make_classification\n",
    "\n",
    "\n",
    "\n",
    "\n",
    "for i in range(2,50):\n",
    "    index.append(i)\n",
    "    clf = RandomForestClassifier(max_depth=i,n_estimators=40, random_state=0)\n",
    "    cv = ShuffleSplit(n_splits=10, test_size=0.2, random_state=0)\n",
    "\n",
    "    scores = cross_val_score(clf, X, y, cv=cv)\n",
    "    #print(scores)\n",
    "    #print(\"Accuracy: %0.2f (+/- %0.2f)\" % (scores.mean(), scores.std() * 2))\n",
    "    resultat.append(scores.mean())\n",
    "\n",
    "plot(index,resultat)\n",
    "plt.show()\n"
   ]
  },
  {
   "cell_type": "code",
   "execution_count": 17,
   "metadata": {},
   "outputs": [
    {
     "name": "stderr",
     "output_type": "stream",
     "text": [
      "Feature Extraction: 100%|██████████████████████████████████████████████████████████████| 10/10 [00:02<00:00,  3.67it/s]\n"
     ]
    },
    {
     "name": "stdout",
     "output_type": "stream",
     "text": [
      "RandomForestClassifier(bootstrap=False, class_weight=None, criterion='gini',\n",
      "            max_depth=11, max_features=5, max_leaf_nodes=None,\n",
      "            min_impurity_decrease=0.0, min_impurity_split=None,\n",
      "            min_samples_leaf=2, min_samples_split=5,\n",
      "            min_weight_fraction_leaf=0.0, n_estimators=40, n_jobs=1,\n",
      "            oob_score=False, random_state=None, verbose=0,\n",
      "            warm_start=False)\n",
      "[ 0.69105691  0.72764228  0.71747967  0.68902439  0.69105691  0.71747967\n",
      "  0.68495935  0.70325203  0.68699187  0.72357724]\n",
      "0.70325203252\n",
      "{'mean_fit_time': array([ 0.05781118,  0.080211  ,  0.09391443,  0.14806167,  0.11564843,\n",
      "        0.25535226,  0.11330207,  0.21625606,  0.12733046,  0.16678135,\n",
      "        0.25602174,  0.21457863,  0.13267605,  0.08691239,  0.13972195,\n",
      "        0.22526217,  0.07686345,  0.52841353,  0.04511221,  0.44417914]), 'std_fit_time': array([ 0.00206147,  0.00327675,  0.00526381,  0.00420087,  0.00188506,\n",
      "        0.01655199,  0.00245074,  0.01116537,  0.00432406,  0.00386009,\n",
      "        0.01035619,  0.00143788,  0.00307508,  0.00264   ,  0.00989358,\n",
      "        0.00403589,  0.00370133,  0.02576024,  0.00142951,  0.0092099 ]), 'mean_score_time': array([ 0.00568159,  0.00668589,  0.00601602,  0.00568144,  0.00701094,\n",
      "        0.00801102,  0.00567937,  0.00767279,  0.00667651,  0.00601697,\n",
      "        0.00800681,  0.00701086,  0.00835554,  0.00667842,  0.00868901,\n",
      "        0.00734703,  0.00634225,  0.00768558,  0.00501593,  0.00769599]), 'std_score_time': array([  4.89903184e-04,   1.24838191e-03,   0.00000000e+00,\n",
      "         4.73505834e-04,   1.11267680e-05,   1.04475833e-05,\n",
      "         9.43415378e-04,   9.38430126e-04,   4.67155084e-04,\n",
      "         9.73339773e-07,   8.16707868e-04,   8.08381889e-04,\n",
      "         1.90815466e-03,   4.91688339e-04,   4.88543244e-04,\n",
      "         4.59966325e-04,   4.61030368e-04,   4.71490622e-04,\n",
      "         1.60767133e-05,   4.61311809e-04]), 'param_bootstrap': masked_array(data = [True True False True True True True False False True False False False\n",
      " True False False True False False False],\n",
      "             mask = [False False False False False False False False False False False False\n",
      " False False False False False False False False],\n",
      "       fill_value = ?)\n",
      ", 'param_criterion': masked_array(data = ['gini' 'entropy' 'gini' 'entropy' 'entropy' 'gini' 'gini' 'gini' 'entropy'\n",
      " 'entropy' 'gini' 'entropy' 'gini' 'gini' 'gini' 'gini' 'entropy' 'entropy'\n",
      " 'gini' 'entropy'],\n",
      "             mask = [False False False False False False False False False False False False\n",
      " False False False False False False False False],\n",
      "       fill_value = ?)\n",
      ", 'param_max_depth': masked_array(data = [1 6 9 3 10 17 3 11 6 6 16 10 10 5 19 19 7 17 1 8],\n",
      "             mask = [False False False False False False False False False False False False\n",
      " False False False False False False False False],\n",
      "       fill_value = ?)\n",
      ", 'param_max_features': masked_array(data = [4 1 2 8 2 10 9 5 2 5 7 3 3 3 2 7 1 8 1 8],\n",
      "             mask = [False False False False False False False False False False False False\n",
      " False False False False False False False False],\n",
      "       fill_value = ?)\n",
      ", 'param_min_samples_leaf': masked_array(data = [5 1 9 3 3 1 9 2 2 2 6 6 2 8 1 9 10 1 1 2],\n",
      "             mask = [False False False False False False False False False False False False\n",
      " False False False False False False False False],\n",
      "       fill_value = ?)\n",
      ", 'param_min_samples_split': masked_array(data = [10 9 10 10 4 5 6 5 3 4 6 10 2 9 3 6 10 7 3 8],\n",
      "             mask = [False False False False False False False False False False False False\n",
      " False False False False False False False False],\n",
      "       fill_value = ?)\n",
      ", 'params': [{'bootstrap': True, 'criterion': 'gini', 'max_depth': 1, 'max_features': 4, 'min_samples_leaf': 5, 'min_samples_split': 10}, {'bootstrap': True, 'criterion': 'entropy', 'max_depth': 6, 'max_features': 1, 'min_samples_leaf': 1, 'min_samples_split': 9}, {'bootstrap': False, 'criterion': 'gini', 'max_depth': 9, 'max_features': 2, 'min_samples_leaf': 9, 'min_samples_split': 10}, {'bootstrap': True, 'criterion': 'entropy', 'max_depth': 3, 'max_features': 8, 'min_samples_leaf': 3, 'min_samples_split': 10}, {'bootstrap': True, 'criterion': 'entropy', 'max_depth': 10, 'max_features': 2, 'min_samples_leaf': 3, 'min_samples_split': 4}, {'bootstrap': True, 'criterion': 'gini', 'max_depth': 17, 'max_features': 10, 'min_samples_leaf': 1, 'min_samples_split': 5}, {'bootstrap': True, 'criterion': 'gini', 'max_depth': 3, 'max_features': 9, 'min_samples_leaf': 9, 'min_samples_split': 6}, {'bootstrap': False, 'criterion': 'gini', 'max_depth': 11, 'max_features': 5, 'min_samples_leaf': 2, 'min_samples_split': 5}, {'bootstrap': False, 'criterion': 'entropy', 'max_depth': 6, 'max_features': 2, 'min_samples_leaf': 2, 'min_samples_split': 3}, {'bootstrap': True, 'criterion': 'entropy', 'max_depth': 6, 'max_features': 5, 'min_samples_leaf': 2, 'min_samples_split': 4}, {'bootstrap': False, 'criterion': 'gini', 'max_depth': 16, 'max_features': 7, 'min_samples_leaf': 6, 'min_samples_split': 6}, {'bootstrap': False, 'criterion': 'entropy', 'max_depth': 10, 'max_features': 3, 'min_samples_leaf': 6, 'min_samples_split': 10}, {'bootstrap': False, 'criterion': 'gini', 'max_depth': 10, 'max_features': 3, 'min_samples_leaf': 2, 'min_samples_split': 2}, {'bootstrap': True, 'criterion': 'gini', 'max_depth': 5, 'max_features': 3, 'min_samples_leaf': 8, 'min_samples_split': 9}, {'bootstrap': False, 'criterion': 'gini', 'max_depth': 19, 'max_features': 2, 'min_samples_leaf': 1, 'min_samples_split': 3}, {'bootstrap': False, 'criterion': 'gini', 'max_depth': 19, 'max_features': 7, 'min_samples_leaf': 9, 'min_samples_split': 6}, {'bootstrap': True, 'criterion': 'entropy', 'max_depth': 7, 'max_features': 1, 'min_samples_leaf': 10, 'min_samples_split': 10}, {'bootstrap': False, 'criterion': 'entropy', 'max_depth': 17, 'max_features': 8, 'min_samples_leaf': 1, 'min_samples_split': 7}, {'bootstrap': False, 'criterion': 'gini', 'max_depth': 1, 'max_features': 1, 'min_samples_leaf': 1, 'min_samples_split': 3}, {'bootstrap': False, 'criterion': 'entropy', 'max_depth': 8, 'max_features': 8, 'min_samples_leaf': 2, 'min_samples_split': 8}], 'split0_test_score': array([ 0.48296837,  0.6459854 ,  0.66545012,  0.63990268,  0.67396594,\n",
      "        0.66058394,  0.64476886,  0.68856448,  0.65328467,  0.65571776,\n",
      "        0.68248175,  0.67518248,  0.68126521,  0.64963504,  0.67518248,\n",
      "        0.68734793,  0.64963504,  0.66545012,  0.51581509,  0.6703163 ]), 'split1_test_score': array([ 0.5042735 ,  0.64346764,  0.68498168,  0.66910867,  0.67887668,\n",
      "        0.67155067,  0.65323565,  0.68376068,  0.66788767,  0.66666667,\n",
      "        0.68131868,  0.68253968,  0.69474969,  0.66300366,  0.66056166,\n",
      "        0.68009768,  0.65201465,  0.64835165,  0.53968254,  0.67155067]), 'split2_test_score': array([ 0.50366748,  0.61246944,  0.6405868 ,  0.63325183,  0.64303178,\n",
      "        0.64425428,  0.61735941,  0.64547677,  0.64180929,  0.63814181,\n",
      "        0.63447433,  0.63569682,  0.6393643 ,  0.62591687,  0.64425428,\n",
      "        0.6405868 ,  0.61491443,  0.64180929,  0.5195599 ,  0.64303178]), 'mean_test_score': array([ 0.49694998,  0.63399756,  0.66368442,  0.64741765,  0.6653111 ,\n",
      "        0.65880439,  0.63847092,  0.67263115,  0.65433103,  0.65351769,\n",
      "        0.66612444,  0.66449776,  0.67181781,  0.64619764,  0.6600244 ,\n",
      "        0.6693778 ,  0.63887759,  0.65189101,  0.52501017,  0.66165108]), 'std_test_score': array([ 0.00991069,  0.01523422,  0.0181544 ,  0.01556723,  0.01585721,\n",
      "        0.01120694,  0.01530127,  0.01927192,  0.01066468,  0.0117409 ,\n",
      "        0.02235094,  0.02055514,  0.02356579,  0.01532466,  0.01263462,\n",
      "        0.02054186,  0.01694658,  0.00997203,  0.01048075,  0.01315542]), 'rank_test_score': array([20, 18,  7, 14,  5, 10, 17,  1, 11, 12,  4,  6,  2, 15,  9,  3, 16,\n",
      "       13, 19,  8]), 'split0_train_score': array([ 0.49602932,  0.69761759,  0.78375076,  0.67806964,  0.83445327,\n",
      "        0.98900428,  0.67929139,  0.94196701,  0.74648748,  0.74098962,\n",
      "        0.92058644,  0.85155773,  0.90592547,  0.69089798,  0.99938913,\n",
      "        0.87416005,  0.69700672,  0.99755651,  0.53879047,  0.83872938]), 'split1_train_score': array([ 0.50304878,  0.7097561 ,  0.80243902,  0.66646341,  0.8597561 ,\n",
      "        0.98414634,  0.66768293,  0.95060976,  0.76036585,  0.77804878,\n",
      "        0.93414634,  0.88658537,  0.92317073,  0.70365854,  1.        ,\n",
      "        0.88536585,  0.7       ,  0.99939024,  0.53658537,  0.86646341]), 'split2_train_score': array([ 0.49664839,  0.73430835,  0.80499695,  0.6928702 ,  0.86410725,\n",
      "        0.98476539,  0.69165143,  0.95795247,  0.75624619,  0.76904327,\n",
      "        0.93174893,  0.88117002,  0.91773309,  0.71968312,  1.        ,\n",
      "        0.88665448,  0.71907374,  0.99878123,  0.5234613 ,  0.86959171]), 'mean_train_score': array([ 0.4985755 ,  0.71389401,  0.79706225,  0.67913442,  0.85277221,\n",
      "        0.985972  ,  0.67954192,  0.95017641,  0.75436651,  0.76269389,\n",
      "        0.92882724,  0.87310437,  0.91560976,  0.70474655,  0.99979638,\n",
      "        0.88206013,  0.70536015,  0.99857599,  0.53294571,  0.8582615 ]), 'std_train_score': array([ 0.00317317,  0.01526204,  0.00947039,  0.01080679,  0.01307468,\n",
      "        0.00215898,  0.0097867 ,  0.00653322,  0.00581964,  0.01578145,\n",
      "        0.00590875,  0.01539534,  0.00719866,  0.01177664,  0.00028797,\n"
     ]
    },
    {
     "name": "stdout",
     "output_type": "stream",
     "text": [
      "        0.00561092,  0.00977366,  0.00076256,  0.00676664,  0.01387022])}\n"
     ]
    }
   ],
   "source": [
    "#randomized grid search \n",
    "\n",
    "\n",
    "from sklearn.model_selection import ShuffleSplit\n",
    "from sklearn.model_selection import cross_val_score\n",
    "y= list(df_2.iloc[:,1])\n",
    "X = extract_features(df_essai, column_id=\"Id1\", default_fc_parameters=MinimalFCParameters())\n",
    "\n",
    "\n",
    "\n",
    "from scipy.stats import randint as sp_randint\n",
    "from sklearn.ensemble import RandomForestClassifier\n",
    "from sklearn.datasets import make_classification\n",
    "from sklearn.model_selection import RandomizedSearchCV\n",
    "from sklearn.model_selection import GridSearchCV\n",
    "clf = RandomForestClassifier(n_estimators=40)\n",
    "\n",
    "param_dist = {\"max_depth\": sp_randint(1, 20),\n",
    "              \"max_features\": sp_randint(1, 11),\n",
    "              \"min_samples_split\": sp_randint(2, 11),\n",
    "              \"min_samples_leaf\": sp_randint(1, 11),\n",
    "              \"bootstrap\": [True, False],\n",
    "              \"criterion\": [\"gini\", \"entropy\"]}\n",
    "n_iter_search = 20\n",
    "grid_search = RandomizedSearchCV(clf, param_distributions=param_dist, n_iter=n_iter_search, refit=True)\n",
    "grid_search.fit(X, y)\n",
    "print(grid_search.best_estimator_)\n",
    "cv = ShuffleSplit(n_splits=10, test_size=0.2, random_state=0)\n",
    "\n",
    "scores = cross_val_score(grid_search.best_estimator_, X, y, cv=cv)\n",
    "print(scores)\n",
    "print(scores.mean())\n",
    "print(grid_search.cv_results_)\n"
   ]
  },
  {
   "cell_type": "code",
   "execution_count": 32,
   "metadata": {},
   "outputs": [
    {
     "name": "stderr",
     "output_type": "stream",
     "text": [
      "Feature Extraction: 100%|██████████████████████████████████████████████████████████████| 10/10 [00:02<00:00,  4.12it/s]\n"
     ]
    },
    {
     "ename": "KeyboardInterrupt",
     "evalue": "",
     "output_type": "error",
     "traceback": [
      "\u001b[1;31m---------------------------------------------------------------------------\u001b[0m",
      "\u001b[1;31mKeyboardInterrupt\u001b[0m                         Traceback (most recent call last)",
      "\u001b[1;32m<ipython-input-32-0e20937c5c16>\u001b[0m in \u001b[0;36m<module>\u001b[1;34m()\u001b[0m\n\u001b[0;32m     26\u001b[0m \u001b[0mn_iter_search\u001b[0m \u001b[1;33m=\u001b[0m \u001b[1;36m20\u001b[0m\u001b[1;33m\u001b[0m\u001b[0m\n\u001b[0;32m     27\u001b[0m \u001b[0mgrid_search\u001b[0m \u001b[1;33m=\u001b[0m \u001b[0mGridSearchCV\u001b[0m\u001b[1;33m(\u001b[0m\u001b[0mclf\u001b[0m\u001b[1;33m,\u001b[0m \u001b[0mparam_grid\u001b[0m\u001b[1;33m=\u001b[0m\u001b[0mparam_grid\u001b[0m\u001b[1;33m)\u001b[0m\u001b[1;33m\u001b[0m\u001b[0m\n\u001b[1;32m---> 28\u001b[1;33m \u001b[0mgrid_search\u001b[0m\u001b[1;33m.\u001b[0m\u001b[0mfit\u001b[0m\u001b[1;33m(\u001b[0m\u001b[0mX\u001b[0m\u001b[1;33m,\u001b[0m \u001b[0my\u001b[0m\u001b[1;33m)\u001b[0m\u001b[1;33m\u001b[0m\u001b[0m\n\u001b[0m\u001b[0;32m     29\u001b[0m \u001b[0mprint\u001b[0m\u001b[1;33m(\u001b[0m\u001b[0mgrid_search\u001b[0m\u001b[1;33m.\u001b[0m\u001b[0mbest_estimator_\u001b[0m\u001b[1;33m)\u001b[0m\u001b[1;33m\u001b[0m\u001b[0m\n\u001b[0;32m     30\u001b[0m \u001b[0mcv\u001b[0m \u001b[1;33m=\u001b[0m \u001b[0mShuffleSplit\u001b[0m\u001b[1;33m(\u001b[0m\u001b[0mn_splits\u001b[0m\u001b[1;33m=\u001b[0m\u001b[1;36m10\u001b[0m\u001b[1;33m,\u001b[0m \u001b[0mtest_size\u001b[0m\u001b[1;33m=\u001b[0m\u001b[1;36m0.1\u001b[0m\u001b[1;33m,\u001b[0m \u001b[0mrandom_state\u001b[0m\u001b[1;33m=\u001b[0m\u001b[1;36m0\u001b[0m\u001b[1;33m)\u001b[0m\u001b[1;33m\u001b[0m\u001b[0m\n",
      "\u001b[1;32mD:\\Programmes\\Anaconda2\\lib\\site-packages\\sklearn\\model_selection\\_search.py\u001b[0m in \u001b[0;36mfit\u001b[1;34m(self, X, y, groups, **fit_params)\u001b[0m\n\u001b[0;32m    637\u001b[0m                                   error_score=self.error_score)\n\u001b[0;32m    638\u001b[0m           for parameters, (train, test) in product(candidate_params,\n\u001b[1;32m--> 639\u001b[1;33m                                                    cv.split(X, y, groups)))\n\u001b[0m\u001b[0;32m    640\u001b[0m \u001b[1;33m\u001b[0m\u001b[0m\n\u001b[0;32m    641\u001b[0m         \u001b[1;31m# if one choose to see train score, \"out\" will contain train score info\u001b[0m\u001b[1;33m\u001b[0m\u001b[1;33m\u001b[0m\u001b[0m\n",
      "\u001b[1;32mD:\\Programmes\\Anaconda2\\lib\\site-packages\\sklearn\\externals\\joblib\\parallel.py\u001b[0m in \u001b[0;36m__call__\u001b[1;34m(self, iterable)\u001b[0m\n\u001b[0;32m    777\u001b[0m             \u001b[1;31m# was dispatched. In particular this covers the edge\u001b[0m\u001b[1;33m\u001b[0m\u001b[1;33m\u001b[0m\u001b[0m\n\u001b[0;32m    778\u001b[0m             \u001b[1;31m# case of Parallel used with an exhausted iterator.\u001b[0m\u001b[1;33m\u001b[0m\u001b[1;33m\u001b[0m\u001b[0m\n\u001b[1;32m--> 779\u001b[1;33m             \u001b[1;32mwhile\u001b[0m \u001b[0mself\u001b[0m\u001b[1;33m.\u001b[0m\u001b[0mdispatch_one_batch\u001b[0m\u001b[1;33m(\u001b[0m\u001b[0miterator\u001b[0m\u001b[1;33m)\u001b[0m\u001b[1;33m:\u001b[0m\u001b[1;33m\u001b[0m\u001b[0m\n\u001b[0m\u001b[0;32m    780\u001b[0m                 \u001b[0mself\u001b[0m\u001b[1;33m.\u001b[0m\u001b[0m_iterating\u001b[0m \u001b[1;33m=\u001b[0m \u001b[1;32mTrue\u001b[0m\u001b[1;33m\u001b[0m\u001b[0m\n\u001b[0;32m    781\u001b[0m             \u001b[1;32melse\u001b[0m\u001b[1;33m:\u001b[0m\u001b[1;33m\u001b[0m\u001b[0m\n",
      "\u001b[1;32mD:\\Programmes\\Anaconda2\\lib\\site-packages\\sklearn\\externals\\joblib\\parallel.py\u001b[0m in \u001b[0;36mdispatch_one_batch\u001b[1;34m(self, iterator)\u001b[0m\n\u001b[0;32m    623\u001b[0m                 \u001b[1;32mreturn\u001b[0m \u001b[1;32mFalse\u001b[0m\u001b[1;33m\u001b[0m\u001b[0m\n\u001b[0;32m    624\u001b[0m             \u001b[1;32melse\u001b[0m\u001b[1;33m:\u001b[0m\u001b[1;33m\u001b[0m\u001b[0m\n\u001b[1;32m--> 625\u001b[1;33m                 \u001b[0mself\u001b[0m\u001b[1;33m.\u001b[0m\u001b[0m_dispatch\u001b[0m\u001b[1;33m(\u001b[0m\u001b[0mtasks\u001b[0m\u001b[1;33m)\u001b[0m\u001b[1;33m\u001b[0m\u001b[0m\n\u001b[0m\u001b[0;32m    626\u001b[0m                 \u001b[1;32mreturn\u001b[0m \u001b[1;32mTrue\u001b[0m\u001b[1;33m\u001b[0m\u001b[0m\n\u001b[0;32m    627\u001b[0m \u001b[1;33m\u001b[0m\u001b[0m\n",
      "\u001b[1;32mD:\\Programmes\\Anaconda2\\lib\\site-packages\\sklearn\\externals\\joblib\\parallel.py\u001b[0m in \u001b[0;36m_dispatch\u001b[1;34m(self, batch)\u001b[0m\n\u001b[0;32m    586\u001b[0m         \u001b[0mdispatch_timestamp\u001b[0m \u001b[1;33m=\u001b[0m \u001b[0mtime\u001b[0m\u001b[1;33m.\u001b[0m\u001b[0mtime\u001b[0m\u001b[1;33m(\u001b[0m\u001b[1;33m)\u001b[0m\u001b[1;33m\u001b[0m\u001b[0m\n\u001b[0;32m    587\u001b[0m         \u001b[0mcb\u001b[0m \u001b[1;33m=\u001b[0m \u001b[0mBatchCompletionCallBack\u001b[0m\u001b[1;33m(\u001b[0m\u001b[0mdispatch_timestamp\u001b[0m\u001b[1;33m,\u001b[0m \u001b[0mlen\u001b[0m\u001b[1;33m(\u001b[0m\u001b[0mbatch\u001b[0m\u001b[1;33m)\u001b[0m\u001b[1;33m,\u001b[0m \u001b[0mself\u001b[0m\u001b[1;33m)\u001b[0m\u001b[1;33m\u001b[0m\u001b[0m\n\u001b[1;32m--> 588\u001b[1;33m         \u001b[0mjob\u001b[0m \u001b[1;33m=\u001b[0m \u001b[0mself\u001b[0m\u001b[1;33m.\u001b[0m\u001b[0m_backend\u001b[0m\u001b[1;33m.\u001b[0m\u001b[0mapply_async\u001b[0m\u001b[1;33m(\u001b[0m\u001b[0mbatch\u001b[0m\u001b[1;33m,\u001b[0m \u001b[0mcallback\u001b[0m\u001b[1;33m=\u001b[0m\u001b[0mcb\u001b[0m\u001b[1;33m)\u001b[0m\u001b[1;33m\u001b[0m\u001b[0m\n\u001b[0m\u001b[0;32m    589\u001b[0m         \u001b[0mself\u001b[0m\u001b[1;33m.\u001b[0m\u001b[0m_jobs\u001b[0m\u001b[1;33m.\u001b[0m\u001b[0mappend\u001b[0m\u001b[1;33m(\u001b[0m\u001b[0mjob\u001b[0m\u001b[1;33m)\u001b[0m\u001b[1;33m\u001b[0m\u001b[0m\n\u001b[0;32m    590\u001b[0m \u001b[1;33m\u001b[0m\u001b[0m\n",
      "\u001b[1;32mD:\\Programmes\\Anaconda2\\lib\\site-packages\\sklearn\\externals\\joblib\\_parallel_backends.py\u001b[0m in \u001b[0;36mapply_async\u001b[1;34m(self, func, callback)\u001b[0m\n\u001b[0;32m    109\u001b[0m     \u001b[1;32mdef\u001b[0m \u001b[0mapply_async\u001b[0m\u001b[1;33m(\u001b[0m\u001b[0mself\u001b[0m\u001b[1;33m,\u001b[0m \u001b[0mfunc\u001b[0m\u001b[1;33m,\u001b[0m \u001b[0mcallback\u001b[0m\u001b[1;33m=\u001b[0m\u001b[1;32mNone\u001b[0m\u001b[1;33m)\u001b[0m\u001b[1;33m:\u001b[0m\u001b[1;33m\u001b[0m\u001b[0m\n\u001b[0;32m    110\u001b[0m         \u001b[1;34m\"\"\"Schedule a func to be run\"\"\"\u001b[0m\u001b[1;33m\u001b[0m\u001b[0m\n\u001b[1;32m--> 111\u001b[1;33m         \u001b[0mresult\u001b[0m \u001b[1;33m=\u001b[0m \u001b[0mImmediateResult\u001b[0m\u001b[1;33m(\u001b[0m\u001b[0mfunc\u001b[0m\u001b[1;33m)\u001b[0m\u001b[1;33m\u001b[0m\u001b[0m\n\u001b[0m\u001b[0;32m    112\u001b[0m         \u001b[1;32mif\u001b[0m \u001b[0mcallback\u001b[0m\u001b[1;33m:\u001b[0m\u001b[1;33m\u001b[0m\u001b[0m\n\u001b[0;32m    113\u001b[0m             \u001b[0mcallback\u001b[0m\u001b[1;33m(\u001b[0m\u001b[0mresult\u001b[0m\u001b[1;33m)\u001b[0m\u001b[1;33m\u001b[0m\u001b[0m\n",
      "\u001b[1;32mD:\\Programmes\\Anaconda2\\lib\\site-packages\\sklearn\\externals\\joblib\\_parallel_backends.py\u001b[0m in \u001b[0;36m__init__\u001b[1;34m(self, batch)\u001b[0m\n\u001b[0;32m    330\u001b[0m         \u001b[1;31m# Don't delay the application, to avoid keeping the input\u001b[0m\u001b[1;33m\u001b[0m\u001b[1;33m\u001b[0m\u001b[0m\n\u001b[0;32m    331\u001b[0m         \u001b[1;31m# arguments in memory\u001b[0m\u001b[1;33m\u001b[0m\u001b[1;33m\u001b[0m\u001b[0m\n\u001b[1;32m--> 332\u001b[1;33m         \u001b[0mself\u001b[0m\u001b[1;33m.\u001b[0m\u001b[0mresults\u001b[0m \u001b[1;33m=\u001b[0m \u001b[0mbatch\u001b[0m\u001b[1;33m(\u001b[0m\u001b[1;33m)\u001b[0m\u001b[1;33m\u001b[0m\u001b[0m\n\u001b[0m\u001b[0;32m    333\u001b[0m \u001b[1;33m\u001b[0m\u001b[0m\n\u001b[0;32m    334\u001b[0m     \u001b[1;32mdef\u001b[0m \u001b[0mget\u001b[0m\u001b[1;33m(\u001b[0m\u001b[0mself\u001b[0m\u001b[1;33m)\u001b[0m\u001b[1;33m:\u001b[0m\u001b[1;33m\u001b[0m\u001b[0m\n",
      "\u001b[1;32mD:\\Programmes\\Anaconda2\\lib\\site-packages\\sklearn\\externals\\joblib\\parallel.py\u001b[0m in \u001b[0;36m__call__\u001b[1;34m(self)\u001b[0m\n\u001b[0;32m    129\u001b[0m \u001b[1;33m\u001b[0m\u001b[0m\n\u001b[0;32m    130\u001b[0m     \u001b[1;32mdef\u001b[0m \u001b[0m__call__\u001b[0m\u001b[1;33m(\u001b[0m\u001b[0mself\u001b[0m\u001b[1;33m)\u001b[0m\u001b[1;33m:\u001b[0m\u001b[1;33m\u001b[0m\u001b[0m\n\u001b[1;32m--> 131\u001b[1;33m         \u001b[1;32mreturn\u001b[0m \u001b[1;33m[\u001b[0m\u001b[0mfunc\u001b[0m\u001b[1;33m(\u001b[0m\u001b[1;33m*\u001b[0m\u001b[0margs\u001b[0m\u001b[1;33m,\u001b[0m \u001b[1;33m**\u001b[0m\u001b[0mkwargs\u001b[0m\u001b[1;33m)\u001b[0m \u001b[1;32mfor\u001b[0m \u001b[0mfunc\u001b[0m\u001b[1;33m,\u001b[0m \u001b[0margs\u001b[0m\u001b[1;33m,\u001b[0m \u001b[0mkwargs\u001b[0m \u001b[1;32min\u001b[0m \u001b[0mself\u001b[0m\u001b[1;33m.\u001b[0m\u001b[0mitems\u001b[0m\u001b[1;33m]\u001b[0m\u001b[1;33m\u001b[0m\u001b[0m\n\u001b[0m\u001b[0;32m    132\u001b[0m \u001b[1;33m\u001b[0m\u001b[0m\n\u001b[0;32m    133\u001b[0m     \u001b[1;32mdef\u001b[0m \u001b[0m__len__\u001b[0m\u001b[1;33m(\u001b[0m\u001b[0mself\u001b[0m\u001b[1;33m)\u001b[0m\u001b[1;33m:\u001b[0m\u001b[1;33m\u001b[0m\u001b[0m\n",
      "\u001b[1;32mD:\\Programmes\\Anaconda2\\lib\\site-packages\\sklearn\\externals\\joblib\\parallel.py\u001b[0m in \u001b[0;36m<listcomp>\u001b[1;34m(.0)\u001b[0m\n\u001b[0;32m    129\u001b[0m \u001b[1;33m\u001b[0m\u001b[0m\n\u001b[0;32m    130\u001b[0m     \u001b[1;32mdef\u001b[0m \u001b[0m__call__\u001b[0m\u001b[1;33m(\u001b[0m\u001b[0mself\u001b[0m\u001b[1;33m)\u001b[0m\u001b[1;33m:\u001b[0m\u001b[1;33m\u001b[0m\u001b[0m\n\u001b[1;32m--> 131\u001b[1;33m         \u001b[1;32mreturn\u001b[0m \u001b[1;33m[\u001b[0m\u001b[0mfunc\u001b[0m\u001b[1;33m(\u001b[0m\u001b[1;33m*\u001b[0m\u001b[0margs\u001b[0m\u001b[1;33m,\u001b[0m \u001b[1;33m**\u001b[0m\u001b[0mkwargs\u001b[0m\u001b[1;33m)\u001b[0m \u001b[1;32mfor\u001b[0m \u001b[0mfunc\u001b[0m\u001b[1;33m,\u001b[0m \u001b[0margs\u001b[0m\u001b[1;33m,\u001b[0m \u001b[0mkwargs\u001b[0m \u001b[1;32min\u001b[0m \u001b[0mself\u001b[0m\u001b[1;33m.\u001b[0m\u001b[0mitems\u001b[0m\u001b[1;33m]\u001b[0m\u001b[1;33m\u001b[0m\u001b[0m\n\u001b[0m\u001b[0;32m    132\u001b[0m \u001b[1;33m\u001b[0m\u001b[0m\n\u001b[0;32m    133\u001b[0m     \u001b[1;32mdef\u001b[0m \u001b[0m__len__\u001b[0m\u001b[1;33m(\u001b[0m\u001b[0mself\u001b[0m\u001b[1;33m)\u001b[0m\u001b[1;33m:\u001b[0m\u001b[1;33m\u001b[0m\u001b[0m\n",
      "\u001b[1;32mD:\\Programmes\\Anaconda2\\lib\\site-packages\\sklearn\\model_selection\\_validation.py\u001b[0m in \u001b[0;36m_fit_and_score\u001b[1;34m(estimator, X, y, scorer, train, test, verbose, parameters, fit_params, return_train_score, return_parameters, return_n_test_samples, return_times, error_score)\u001b[0m\n\u001b[0;32m    456\u001b[0m             \u001b[0mestimator\u001b[0m\u001b[1;33m.\u001b[0m\u001b[0mfit\u001b[0m\u001b[1;33m(\u001b[0m\u001b[0mX_train\u001b[0m\u001b[1;33m,\u001b[0m \u001b[1;33m**\u001b[0m\u001b[0mfit_params\u001b[0m\u001b[1;33m)\u001b[0m\u001b[1;33m\u001b[0m\u001b[0m\n\u001b[0;32m    457\u001b[0m         \u001b[1;32melse\u001b[0m\u001b[1;33m:\u001b[0m\u001b[1;33m\u001b[0m\u001b[0m\n\u001b[1;32m--> 458\u001b[1;33m             \u001b[0mestimator\u001b[0m\u001b[1;33m.\u001b[0m\u001b[0mfit\u001b[0m\u001b[1;33m(\u001b[0m\u001b[0mX_train\u001b[0m\u001b[1;33m,\u001b[0m \u001b[0my_train\u001b[0m\u001b[1;33m,\u001b[0m \u001b[1;33m**\u001b[0m\u001b[0mfit_params\u001b[0m\u001b[1;33m)\u001b[0m\u001b[1;33m\u001b[0m\u001b[0m\n\u001b[0m\u001b[0;32m    459\u001b[0m \u001b[1;33m\u001b[0m\u001b[0m\n\u001b[0;32m    460\u001b[0m     \u001b[1;32mexcept\u001b[0m \u001b[0mException\u001b[0m \u001b[1;32mas\u001b[0m \u001b[0me\u001b[0m\u001b[1;33m:\u001b[0m\u001b[1;33m\u001b[0m\u001b[0m\n",
      "\u001b[1;32mD:\\Programmes\\Anaconda2\\lib\\site-packages\\sklearn\\ensemble\\forest.py\u001b[0m in \u001b[0;36mfit\u001b[1;34m(self, X, y, sample_weight)\u001b[0m\n\u001b[0;32m    314\u001b[0m             \u001b[1;32mfor\u001b[0m \u001b[0mi\u001b[0m \u001b[1;32min\u001b[0m \u001b[0mrange\u001b[0m\u001b[1;33m(\u001b[0m\u001b[0mn_more_estimators\u001b[0m\u001b[1;33m)\u001b[0m\u001b[1;33m:\u001b[0m\u001b[1;33m\u001b[0m\u001b[0m\n\u001b[0;32m    315\u001b[0m                 tree = self._make_estimator(append=False,\n\u001b[1;32m--> 316\u001b[1;33m                                             random_state=random_state)\n\u001b[0m\u001b[0;32m    317\u001b[0m                 \u001b[0mtrees\u001b[0m\u001b[1;33m.\u001b[0m\u001b[0mappend\u001b[0m\u001b[1;33m(\u001b[0m\u001b[0mtree\u001b[0m\u001b[1;33m)\u001b[0m\u001b[1;33m\u001b[0m\u001b[0m\n\u001b[0;32m    318\u001b[0m \u001b[1;33m\u001b[0m\u001b[0m\n",
      "\u001b[1;32mD:\\Programmes\\Anaconda2\\lib\\site-packages\\sklearn\\ensemble\\base.py\u001b[0m in \u001b[0;36m_make_estimator\u001b[1;34m(self, append, random_state)\u001b[0m\n\u001b[0;32m    123\u001b[0m         \u001b[0msub\u001b[0m\u001b[1;33m-\u001b[0m\u001b[0mestimators\u001b[0m\u001b[1;33m.\u001b[0m\u001b[1;33m\u001b[0m\u001b[0m\n\u001b[0;32m    124\u001b[0m         \"\"\"\n\u001b[1;32m--> 125\u001b[1;33m         \u001b[0mestimator\u001b[0m \u001b[1;33m=\u001b[0m \u001b[0mclone\u001b[0m\u001b[1;33m(\u001b[0m\u001b[0mself\u001b[0m\u001b[1;33m.\u001b[0m\u001b[0mbase_estimator_\u001b[0m\u001b[1;33m)\u001b[0m\u001b[1;33m\u001b[0m\u001b[0m\n\u001b[0m\u001b[0;32m    126\u001b[0m         estimator.set_params(**dict((p, getattr(self, p))\n\u001b[0;32m    127\u001b[0m                                     for p in self.estimator_params))\n",
      "\u001b[1;32mD:\\Programmes\\Anaconda2\\lib\\site-packages\\sklearn\\base.py\u001b[0m in \u001b[0;36mclone\u001b[1;34m(estimator, safe)\u001b[0m\n\u001b[0;32m     62\u001b[0m         \u001b[0mnew_object_params\u001b[0m\u001b[1;33m[\u001b[0m\u001b[0mname\u001b[0m\u001b[1;33m]\u001b[0m \u001b[1;33m=\u001b[0m \u001b[0mclone\u001b[0m\u001b[1;33m(\u001b[0m\u001b[0mparam\u001b[0m\u001b[1;33m,\u001b[0m \u001b[0msafe\u001b[0m\u001b[1;33m=\u001b[0m\u001b[1;32mFalse\u001b[0m\u001b[1;33m)\u001b[0m\u001b[1;33m\u001b[0m\u001b[0m\n\u001b[0;32m     63\u001b[0m     \u001b[0mnew_object\u001b[0m \u001b[1;33m=\u001b[0m \u001b[0mklass\u001b[0m\u001b[1;33m(\u001b[0m\u001b[1;33m**\u001b[0m\u001b[0mnew_object_params\u001b[0m\u001b[1;33m)\u001b[0m\u001b[1;33m\u001b[0m\u001b[0m\n\u001b[1;32m---> 64\u001b[1;33m     \u001b[0mparams_set\u001b[0m \u001b[1;33m=\u001b[0m \u001b[0mnew_object\u001b[0m\u001b[1;33m.\u001b[0m\u001b[0mget_params\u001b[0m\u001b[1;33m(\u001b[0m\u001b[0mdeep\u001b[0m\u001b[1;33m=\u001b[0m\u001b[1;32mFalse\u001b[0m\u001b[1;33m)\u001b[0m\u001b[1;33m\u001b[0m\u001b[0m\n\u001b[0m\u001b[0;32m     65\u001b[0m \u001b[1;33m\u001b[0m\u001b[0m\n\u001b[0;32m     66\u001b[0m     \u001b[1;31m# quick sanity check of the parameters of the clone\u001b[0m\u001b[1;33m\u001b[0m\u001b[1;33m\u001b[0m\u001b[0m\n",
      "\u001b[1;32mD:\\Programmes\\Anaconda2\\lib\\site-packages\\sklearn\\base.py\u001b[0m in \u001b[0;36mget_params\u001b[1;34m(self, deep)\u001b[0m\n\u001b[0;32m    226\u001b[0m         \"\"\"\n\u001b[0;32m    227\u001b[0m         \u001b[0mout\u001b[0m \u001b[1;33m=\u001b[0m \u001b[0mdict\u001b[0m\u001b[1;33m(\u001b[0m\u001b[1;33m)\u001b[0m\u001b[1;33m\u001b[0m\u001b[0m\n\u001b[1;32m--> 228\u001b[1;33m         \u001b[1;32mfor\u001b[0m \u001b[0mkey\u001b[0m \u001b[1;32min\u001b[0m \u001b[0mself\u001b[0m\u001b[1;33m.\u001b[0m\u001b[0m_get_param_names\u001b[0m\u001b[1;33m(\u001b[0m\u001b[1;33m)\u001b[0m\u001b[1;33m:\u001b[0m\u001b[1;33m\u001b[0m\u001b[0m\n\u001b[0m\u001b[0;32m    229\u001b[0m             \u001b[1;31m# We need deprecation warnings to always be on in order to\u001b[0m\u001b[1;33m\u001b[0m\u001b[1;33m\u001b[0m\u001b[0m\n\u001b[0;32m    230\u001b[0m             \u001b[1;31m# catch deprecated param values.\u001b[0m\u001b[1;33m\u001b[0m\u001b[1;33m\u001b[0m\u001b[0m\n",
      "\u001b[1;32mD:\\Programmes\\Anaconda2\\lib\\site-packages\\sklearn\\base.py\u001b[0m in \u001b[0;36m_get_param_names\u001b[1;34m(cls)\u001b[0m\n\u001b[0;32m    196\u001b[0m         \u001b[1;31m# introspect the constructor arguments to find the model parameters\u001b[0m\u001b[1;33m\u001b[0m\u001b[1;33m\u001b[0m\u001b[0m\n\u001b[0;32m    197\u001b[0m         \u001b[1;31m# to represent\u001b[0m\u001b[1;33m\u001b[0m\u001b[1;33m\u001b[0m\u001b[0m\n\u001b[1;32m--> 198\u001b[1;33m         \u001b[0minit_signature\u001b[0m \u001b[1;33m=\u001b[0m \u001b[0msignature\u001b[0m\u001b[1;33m(\u001b[0m\u001b[0minit\u001b[0m\u001b[1;33m)\u001b[0m\u001b[1;33m\u001b[0m\u001b[0m\n\u001b[0m\u001b[0;32m    199\u001b[0m         \u001b[1;31m# Consider the constructor parameters excluding 'self'\u001b[0m\u001b[1;33m\u001b[0m\u001b[1;33m\u001b[0m\u001b[0m\n\u001b[0;32m    200\u001b[0m         parameters = [p for p in init_signature.parameters.values()\n",
      "\u001b[1;32mD:\\Programmes\\Anaconda2\\lib\\inspect.py\u001b[0m in \u001b[0;36msignature\u001b[1;34m(obj, follow_wrapped)\u001b[0m\n\u001b[0;32m   3031\u001b[0m \u001b[1;32mdef\u001b[0m \u001b[0msignature\u001b[0m\u001b[1;33m(\u001b[0m\u001b[0mobj\u001b[0m\u001b[1;33m,\u001b[0m \u001b[1;33m*\u001b[0m\u001b[1;33m,\u001b[0m \u001b[0mfollow_wrapped\u001b[0m\u001b[1;33m=\u001b[0m\u001b[1;32mTrue\u001b[0m\u001b[1;33m)\u001b[0m\u001b[1;33m:\u001b[0m\u001b[1;33m\u001b[0m\u001b[0m\n\u001b[0;32m   3032\u001b[0m     \u001b[1;34m\"\"\"Get a signature object for the passed callable.\"\"\"\u001b[0m\u001b[1;33m\u001b[0m\u001b[0m\n\u001b[1;32m-> 3033\u001b[1;33m     \u001b[1;32mreturn\u001b[0m \u001b[0mSignature\u001b[0m\u001b[1;33m.\u001b[0m\u001b[0mfrom_callable\u001b[0m\u001b[1;33m(\u001b[0m\u001b[0mobj\u001b[0m\u001b[1;33m,\u001b[0m \u001b[0mfollow_wrapped\u001b[0m\u001b[1;33m=\u001b[0m\u001b[0mfollow_wrapped\u001b[0m\u001b[1;33m)\u001b[0m\u001b[1;33m\u001b[0m\u001b[0m\n\u001b[0m\u001b[0;32m   3034\u001b[0m \u001b[1;33m\u001b[0m\u001b[0m\n\u001b[0;32m   3035\u001b[0m \u001b[1;33m\u001b[0m\u001b[0m\n",
      "\u001b[1;32mD:\\Programmes\\Anaconda2\\lib\\inspect.py\u001b[0m in \u001b[0;36mfrom_callable\u001b[1;34m(cls, obj, follow_wrapped)\u001b[0m\n\u001b[0;32m   2781\u001b[0m         \u001b[1;34m\"\"\"Constructs Signature for the given callable object.\"\"\"\u001b[0m\u001b[1;33m\u001b[0m\u001b[0m\n\u001b[0;32m   2782\u001b[0m         return _signature_from_callable(obj, sigcls=cls,\n\u001b[1;32m-> 2783\u001b[1;33m                                         follow_wrapper_chains=follow_wrapped)\n\u001b[0m\u001b[0;32m   2784\u001b[0m \u001b[1;33m\u001b[0m\u001b[0m\n\u001b[0;32m   2785\u001b[0m     \u001b[1;33m@\u001b[0m\u001b[0mproperty\u001b[0m\u001b[1;33m\u001b[0m\u001b[0m\n",
      "\u001b[1;32mD:\\Programmes\\Anaconda2\\lib\\inspect.py\u001b[0m in \u001b[0;36m_signature_from_callable\u001b[1;34m(obj, follow_wrapper_chains, skip_bound_arg, sigcls)\u001b[0m\n\u001b[0;32m   2256\u001b[0m         \u001b[1;31m# If it's a pure Python function, or an object that is duck type\u001b[0m\u001b[1;33m\u001b[0m\u001b[1;33m\u001b[0m\u001b[0m\n\u001b[0;32m   2257\u001b[0m         \u001b[1;31m# of a Python function (Cython functions, for instance), then:\u001b[0m\u001b[1;33m\u001b[0m\u001b[1;33m\u001b[0m\u001b[0m\n\u001b[1;32m-> 2258\u001b[1;33m         \u001b[1;32mreturn\u001b[0m \u001b[0m_signature_from_function\u001b[0m\u001b[1;33m(\u001b[0m\u001b[0msigcls\u001b[0m\u001b[1;33m,\u001b[0m \u001b[0mobj\u001b[0m\u001b[1;33m)\u001b[0m\u001b[1;33m\u001b[0m\u001b[0m\n\u001b[0m\u001b[0;32m   2259\u001b[0m \u001b[1;33m\u001b[0m\u001b[0m\n\u001b[0;32m   2260\u001b[0m     \u001b[1;32mif\u001b[0m \u001b[0m_signature_is_builtin\u001b[0m\u001b[1;33m(\u001b[0m\u001b[0mobj\u001b[0m\u001b[1;33m)\u001b[0m\u001b[1;33m:\u001b[0m\u001b[1;33m\u001b[0m\u001b[0m\n",
      "\u001b[1;32mD:\\Programmes\\Anaconda2\\lib\\inspect.py\u001b[0m in \u001b[0;36m_signature_from_function\u001b[1;34m(cls, func)\u001b[0m\n\u001b[0;32m   2168\u001b[0m     return cls(parameters,\n\u001b[0;32m   2169\u001b[0m                \u001b[0mreturn_annotation\u001b[0m\u001b[1;33m=\u001b[0m\u001b[0mannotations\u001b[0m\u001b[1;33m.\u001b[0m\u001b[0mget\u001b[0m\u001b[1;33m(\u001b[0m\u001b[1;34m'return'\u001b[0m\u001b[1;33m,\u001b[0m \u001b[0m_empty\u001b[0m\u001b[1;33m)\u001b[0m\u001b[1;33m,\u001b[0m\u001b[1;33m\u001b[0m\u001b[0m\n\u001b[1;32m-> 2170\u001b[1;33m                __validate_parameters__=is_duck_function)\n\u001b[0m\u001b[0;32m   2171\u001b[0m \u001b[1;33m\u001b[0m\u001b[0m\n\u001b[0;32m   2172\u001b[0m \u001b[1;33m\u001b[0m\u001b[0m\n",
      "\u001b[1;32mD:\\Programmes\\Anaconda2\\lib\\inspect.py\u001b[0m in \u001b[0;36m__init__\u001b[1;34m(self, parameters, return_annotation, __validate_parameters__)\u001b[0m\n\u001b[0;32m   2754\u001b[0m             \u001b[1;32melse\u001b[0m\u001b[1;33m:\u001b[0m\u001b[1;33m\u001b[0m\u001b[0m\n\u001b[0;32m   2755\u001b[0m                 params = OrderedDict(((param.name, param)\n\u001b[1;32m-> 2756\u001b[1;33m                                                 for param in parameters))\n\u001b[0m\u001b[0;32m   2757\u001b[0m \u001b[1;33m\u001b[0m\u001b[0m\n\u001b[0;32m   2758\u001b[0m         \u001b[0mself\u001b[0m\u001b[1;33m.\u001b[0m\u001b[0m_parameters\u001b[0m \u001b[1;33m=\u001b[0m \u001b[0mtypes\u001b[0m\u001b[1;33m.\u001b[0m\u001b[0mMappingProxyType\u001b[0m\u001b[1;33m(\u001b[0m\u001b[0mparams\u001b[0m\u001b[1;33m)\u001b[0m\u001b[1;33m\u001b[0m\u001b[0m\n",
      "\u001b[1;31mKeyboardInterrupt\u001b[0m: "
     ]
    }
   ],
   "source": [
    "#randomized grid search \n",
    "\n",
    "\n",
    "from sklearn.model_selection import ShuffleSplit\n",
    "from sklearn.model_selection import cross_val_score\n",
    "y= list(df_2.iloc[:,1])\n",
    "X = extract_features(df_essai, column_id=\"Id1\", default_fc_parameters=MinimalFCParameters())\n",
    "\n",
    "\n",
    "\n",
    "from scipy.stats import randint as sp_randint\n",
    "from sklearn.ensemble import RandomForestClassifier\n",
    "from sklearn.datasets import make_classification\n",
    "from sklearn.model_selection import RandomizedSearchCV\n",
    "from sklearn.model_selection import GridSearchCV\n",
    "clf = RandomForestClassifier(n_estimators=40)\n",
    "\n",
    "# use a full grid over all parameters\n",
    "param_grid = {\"max_depth\":[8] ,\n",
    "              \"max_features\": range(1,20),\n",
    "              \"min_samples_split\": range(2,12),\n",
    "              \"min_samples_leaf\": range(1,20),\n",
    "              \"bootstrap\": [True, False],\n",
    "              \"criterion\": [\"gini\", \"entropy\"]}\n",
    "\n",
    "n_iter_search = 20\n",
    "grid_search = GridSearchCV(clf, param_grid=param_grid)\n",
    "grid_search.fit(X, y)\n",
    "print(grid_search.best_estimator_)\n",
    "cv = ShuffleSplit(n_splits=10, test_size=0.1, random_state=0)\n",
    "\n",
    "scores = cross_val_score(grid_search.best_estimator_, X, y, cv=cv)\n",
    "print(scores)\n",
    "print(scores.mean())\n",
    "print(grid_search.cv_results_)\n"
   ]
  },
  {
   "cell_type": "code",
   "execution_count": 27,
   "metadata": {},
   "outputs": [
    {
     "name": "stderr",
     "output_type": "stream",
     "text": [
      "Feature Extraction: 100%|██████████████████████████████████████████████████████████████| 10/10 [00:02<00:00,  3.75it/s]\n",
      "D:\\Programmes\\Anaconda2\\lib\\site-packages\\sklearn\\model_selection\\_split.py:605: Warning: The least populated class in y has only 7 members, which is too few. The minimum number of members in any class cannot be less than n_splits=10.\n",
      "  % (min_groups, self.n_splits)), Warning)\n"
     ]
    },
    {
     "name": "stdout",
     "output_type": "stream",
     "text": [
      "[ 0.68  0.74  0.7   0.66  0.65  0.67  0.74  0.69  0.64  0.65]\n",
      "Accuracy: 0.68 (+/- 0.07)\n",
      "0.719512195122\n",
      "Sorted Feature Importance:\n",
      "[(0.089653639812070376, 'speed__minimum'), (0.07703535838254047, 'speed__mean'), (0.067822827829576979, 'speed__maximum'), (0.065157548523651812, 'speed__median'), (0.049222110180190057, 'acceleration__maximum'), (0.038641107811005757, 'acceleration__mean'), (0.036063362492375135, 'smooth__mean'), (0.031554315847439132, 'acceleration__sum_values'), (0.031554042379633197, 'smooth__sum_values'), (0.031136921564837015, 'speed__variance'), (0.030656438236880829, 'smooth__minimum'), (0.030544201640136666, 'acceleration__median'), (0.029980028381538664, 'smooth__maximum'), (0.029862632161108314, 'smooth__median'), (0.027083518992973038, 'speed__sum_values'), (0.026330819338195161, 'angle__mean'), (0.023623265032870183, 'speed__standard_deviation'), (0.023445461584243051, 'angle__minimum'), (0.023038728934862411, 'angle__median'), (0.022446846529251701, 'acceleration__standard_deviation'), (0.022270400530817146, 'angle__maximum'), (0.021509799130668195, 'acceleration__minimum'), (0.021099046696811889, 'acceleration__variance'), (0.017018470142005259, 'angle__sum_values'), (0.015160759734130377, 'DebFin__mean'), (0.01515828041628238, 'smooth__variance'), (0.014055891804265811, 'smooth__standard_deviation'), (0.011788187738896653, 'DebFin__maximum'), (0.011484777151113675, 'angle__standard_deviation'), (0.0096287590604489832, 'DebFin__sum_values'), (0.0079406951718977749, 'angle__variance'), (0.0069746353498869639, 'DebFin__standard_deviation'), (0.006569455618756102, 'DebFin__length'), (0.0052144959873034937, 'DebFin__median'), (0.004761598816885741, 'angle__length'), (0.0046128313562317485, 'DebFin__variance'), (0.0041917633656500088, 'speed__length'), (0.0036531151413804292, 'acceleration__length'), (0.0034882639525693434, 'RerGare__length'), (0.0032334896589491686, 'smooth__length'), (0.0024440992553550469, 'DebFin__minimum'), (0.0008630382845730498, 'RerGare__sum_values'), (0.00068068786933296144, 'RerGare__maximum'), (0.00062108574834945896, 'RerGare__mean'), (0.00033603944440841637, 'RerGare__standard_deviation'), (0.00033180117934100565, 'RerGare__variance'), (5.535573830890246e-05, 'RerGare__median'), (0.0, 'RerGare__minimum')]\n",
      "Confusion matrix, without normalization\n",
      "[[45  7 16  4]\n",
      " [ 2 75  1  4]\n",
      " [22  3 42  2]\n",
      " [ 5  2  1 15]]\n",
      "Normalized confusion matrix\n",
      "[[ 0.62  0.1   0.22  0.06]\n",
      " [ 0.02  0.91  0.01  0.05]\n",
      " [ 0.32  0.04  0.61  0.03]\n",
      " [ 0.22  0.09  0.04  0.65]]\n"
     ]
    },
    {
     "data": {
      "image/png": "[encoded data removed]",
      "text/plain": [
       "<matplotlib.figure.Figure at 0x28db64810b8>"
      ]
     },
     "metadata": {},
     "output_type": "display_data"
    },
    {
     "data": {
      "image/png": "[encoded data removed]",
      "text/plain": [
       "<matplotlib.figure.Figure at 0x28db8bb7358>"
      ]
     },
     "metadata": {},
     "output_type": "display_data"
    }
   ],
   "source": [
    "#Rer toujours assez bas on va incorporrer stations rer pour essayer d'ameliorer un peu le resultat \n",
    "import itertools\n",
    "#%matplotlib\n",
    "import numpy as np\n",
    "import matplotlib.pyplot as plt\n",
    "\n",
    "from sklearn import svm, datasets\n",
    "from sklearn.model_selection import train_test_split\n",
    "from sklearn.metrics import confusion_matrix\n",
    "\n",
    "X = extract_features(df_essai, column_id=\"Id1\", default_fc_parameters=MinimalFCParameters())\n",
    "\n",
    "#clf = RandomForestClassifier(max_depth=8, random_state=0, oob_score=True)\n",
    "clf = RandomForestClassifier(bootstrap=False, class_weight=None, criterion='gini',\n",
    "            max_depth=11, max_features=5, max_leaf_nodes=None,\n",
    "            min_impurity_decrease=0.0, min_impurity_split=None,\n",
    "            min_samples_leaf=2, min_samples_split=5,\n",
    "            min_weight_fraction_leaf=0.0, n_estimators=40, n_jobs=1,\n",
    "            oob_score=False, random_state=None, verbose=0,\n",
    "            warm_start=False)\n",
    "\n",
    "scores = cross_val_score(clf, X, y, cv=10)\n",
    "print(scores)\n",
    "print(\"Accuracy: %0.2f (+/- %0.2f)\" % (scores.mean(), scores.std() * 2))\n",
    "\n",
    "X_train,X_test,y_train,y_test = train_test_split(X,y,test_size=0.1)\n",
    "clf.fit(X_train,y_train)\n",
    "Y_pred= clf.predict(X_test)\n",
    "print((Y_pred==y_test).mean())\n",
    "y_test = y_test\n",
    "y_pred = Y_pred\n",
    "\n",
    "\n",
    "importances = clf.feature_importances_\n",
    " \n",
    "print (\"Sorted Feature Importance:\")\n",
    "sorted_feature_importance = sorted(zip(importances, list(X_train)), reverse=True)\n",
    "print (sorted_feature_importance)\n",
    "#print('oob error', clf.oob_score_)\n",
    "\n",
    "\n",
    "def plot_confusion_matrix(cm, classes,\n",
    "                          normalize=False,\n",
    "                          title='Confusion matrix',\n",
    "                          cmap=plt.cm.Blues):\n",
    "    \"\"\"\n",
    "    This function prints and plots the confusion matrix.\n",
    "    Normalization can be applied by setting `normalize=True`.\n",
    "    \"\"\"\n",
    "    if normalize:\n",
    "        cm = cm.astype('float') / cm.sum(axis=1)[:, np.newaxis]\n",
    "        print(\"Normalized confusion matrix\")\n",
    "    else:\n",
    "        print('Confusion matrix, without normalization')\n",
    "\n",
    "    print(cm)\n",
    "\n",
    "    plt.imshow(cm, interpolation='nearest', cmap=cmap)\n",
    "    plt.title(title)\n",
    "    plt.colorbar()\n",
    "    tick_marks = np.arange(len(classes))\n",
    "    plt.xticks(tick_marks, classes, rotation=45)\n",
    "    plt.yticks(tick_marks, classes)\n",
    "\n",
    "    fmt = '.2f' if normalize else 'd'\n",
    "    thresh = cm.max() / 2.\n",
    "    for i, j in itertools.product(range(cm.shape[0]), range(cm.shape[1])):\n",
    "        plt.text(j, i, format(cm[i, j], fmt),\n",
    "                 horizontalalignment=\"center\",\n",
    "                 color=\"white\" if cm[i, j] > thresh else \"black\")\n",
    "\n",
    "    plt.tight_layout()\n",
    "    plt.ylabel('True label')\n",
    "    plt.xlabel('Predicted label')\n",
    "\n",
    "# Compute confusion matrix\n",
    "cnf_matrix = confusion_matrix(y_test, y_pred)\n",
    "np.set_printoptions(precision=2)\n",
    "\n",
    "# Plot non-normalized confusion matrix\n",
    "plt.figure()\n",
    "plot_confusion_matrix(cnf_matrix, classes=['voiture', 'marche', 'bus', 'rer'],\n",
    "                      title='Confusion matrix, without normalization')\n",
    "\n",
    "# Plot normalized confusion matrix\n",
    "plt.figure()\n",
    "plot_confusion_matrix(cnf_matrix, classes=['voiture', 'marche', 'bus', 'rer'], normalize=True,\n",
    "                      title='Normalized confusion matrix')\n",
    "\n",
    "plt.show()\n",
    "\n"
   ]
  },
  {
   "cell_type": "code",
   "execution_count": null,
   "metadata": {
    "collapsed": true
   },
   "outputs": [],
   "source": []
  },
  {
   "cell_type": "code",
   "execution_count": null,
   "metadata": {
    "collapsed": true
   },
   "outputs": [],
   "source": []
  },
  {
   "cell_type": "code",
   "execution_count": 18,
   "metadata": {},
   "outputs": [
    {
     "data": {
      "image/png": "[encoded data removed]",
      "text/plain": [
       "<matplotlib.figure.Figure at 0x21e3fcf3048>"
      ]
     },
     "metadata": {},
     "output_type": "display_data"
    }
   ],
   "source": [
    "#\n",
    "corrmat = df_essai.corr()\n",
    "f, ax = plt.subplots(figsize=(12, 9))\n",
    "sns.heatmap(corrmat, vmax=.8, square=True);\n",
    "plt.show()"
   ]
  },
  {
   "cell_type": "code",
   "execution_count": null,
   "metadata": {
    "collapsed": true
   },
   "outputs": [],
   "source": [
    "\n"
   ]
  },
  {
   "cell_type": "code",
   "execution_count": null,
   "metadata": {
    "collapsed": true
   },
   "outputs": [],
   "source": [
    "\n",
    "\n"
   ]
  },
  {
   "cell_type": "code",
   "execution_count": null,
   "metadata": {
    "collapsed": true
   },
   "outputs": [],
   "source": []
  },
  {
   "cell_type": "code",
   "execution_count": null,
   "metadata": {
    "collapsed": true
   },
   "outputs": [],
   "source": []
  },
  {
   "cell_type": "code",
   "execution_count": null,
   "metadata": {
    "collapsed": true
   },
   "outputs": [],
   "source": []
  },
  {
   "cell_type": "code",
   "execution_count": null,
   "metadata": {
    "collapsed": true
   },
   "outputs": [],
   "source": [
    "\n"
   ]
  },
  {
   "cell_type": "code",
   "execution_count": null,
   "metadata": {
    "collapsed": true
   },
   "outputs": [],
   "source": []
  },
  {
   "cell_type": "code",
   "execution_count": null,
   "metadata": {
    "collapsed": true
   },
   "outputs": [],
   "source": []
  },
  {
   "cell_type": "code",
   "execution_count": null,
   "metadata": {
    "collapsed": true
   },
   "outputs": [],
   "source": []
  },
  {
   "cell_type": "code",
   "execution_count": null,
   "metadata": {
    "collapsed": true
   },
   "outputs": [],
   "source": []
  },
  {
   "cell_type": "code",
   "execution_count": 42,
   "metadata": {
    "collapsed": true
   },
   "outputs": [],
   "source": []
  },
  {
   "cell_type": "code",
   "execution_count": null,
   "metadata": {
    "collapsed": true
   },
   "outputs": [],
   "source": []
  },
  {
   "cell_type": "code",
   "execution_count": null,
   "metadata": {
    "collapsed": true
   },
   "outputs": [],
   "source": []
  },
  {
   "cell_type": "code",
   "execution_count": 68,
   "metadata": {},
   "outputs": [
    {
     "data": {
      "text/plain": [
       "(2046,)"
      ]
     },
     "execution_count": 68,
     "metadata": {},
     "output_type": "execute_result"
    }
   ],
   "source": [
    "### A FAIRE \n",
    "### definir impact des features , faire experience  sans et avec ,\n",
    "### schema avec score apprentissage et test \n",
    "### faire jointure localistation \n",
    "### d'autres données plus fiable, et non pas une supposition de ce que veut dire l'utlisateur dans sa description,\n",
    "##entrainer le modele avec \n",
    "### faire jointure avec localisation et presence arret de bus , creer varibale binaires , ou plutot calquer trajectoire\n",
    "### avec trajctoire itineraire  bus connu , surement plus fiable la deuxieme solution car en zone urbaine il y a des arrets de bus un \n",
    "#peu partout \n"
   ]
  },
  {
   "cell_type": "code",
   "execution_count": null,
   "metadata": {
    "collapsed": true
   },
   "outputs": [],
   "source": []
  },
  {
   "cell_type": "code",
   "execution_count": null,
   "metadata": {
    "collapsed": true
   },
   "outputs": [],
   "source": []
  },
  {
   "cell_type": "code",
   "execution_count": null,
   "metadata": {
    "collapsed": true
   },
   "outputs": [],
   "source": []
  },
  {
   "cell_type": "code",
   "execution_count": 90,
   "metadata": {},
   "outputs": [
    {
     "data": {
      "text/plain": [
       "array([1, 1, 1, ..., 2, 2, 2], dtype=int64)"
      ]
     },
     "execution_count": 90,
     "metadata": {},
     "output_type": "execute_result"
    }
   ],
   "source": []
  },
  {
   "cell_type": "code",
   "execution_count": 87,
   "metadata": {},
   "outputs": [
    {
     "name": "stdout",
     "output_type": "stream",
     "text": [
      "2045\n"
     ]
    }
   ],
   "source": []
  },
  {
   "cell_type": "code",
   "execution_count": 88,
   "metadata": {},
   "outputs": [
    {
     "data": {
      "text/plain": [
       "2046"
      ]
     },
     "execution_count": 88,
     "metadata": {},
     "output_type": "execute_result"
    }
   ],
   "source": []
  },
  {
   "cell_type": "code",
   "execution_count": 89,
   "metadata": {
    "collapsed": true
   },
   "outputs": [],
   "source": []
  },
  {
   "cell_type": "code",
   "execution_count": null,
   "metadata": {
    "collapsed": true
   },
   "outputs": [],
   "source": []
  }
 ],
 "metadata": {
  "kernelspec": {
   "display_name": "Python 3",
   "language": "python",
   "name": "python3"
  },
  "language_info": {
   "codemirror_mode": {
    "name": "ipython",
    "version": 3
   },
   "file_extension": ".py",
   "mimetype": "text/x-python",
   "name": "python",
   "nbconvert_exporter": "python",
   "pygments_lexer": "ipython3",
   "version": "3.6.3"
  }
 },
 "nbformat": 4,
 "nbformat_minor": 2
}
