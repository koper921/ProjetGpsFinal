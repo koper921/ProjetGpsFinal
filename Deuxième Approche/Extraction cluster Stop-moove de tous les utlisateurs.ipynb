{
 "cells": [
  {
   "cell_type": "code",
   "execution_count": null,
   "metadata": {
    "collapsed": true
   },
   "outputs": [],
   "source": [
    "#Ici on récupere tous les cluster via DSCAN des différents utilisateur , on va essayer de déduire des POI, pour éviter ,\n",
    "# de n'avoir que des maison ou résidence, nous allons nous limiter à la periode de la journée "
   ]
  },
  {
   "cell_type": "code",
   "execution_count": 64,
   "metadata": {
    "collapsed": true
   },
   "outputs": [],
   "source": [
    "\n",
    "import numpy as np\n",
    "import matplotlib.pyplot as plt\n",
    "import pandas as pd\n",
    "import os\n",
    "\n",
    "from shapely.geometry import MultiPoint\n",
    "from geopy.distance import great_circle\n",
    "\n",
    "\n",
    "def get_centermost_point(cluster):\n",
    "    centroid = (MultiPoint(cluster).centroid.x, MultiPoint(cluster).centroid.y)\n",
    "    centermost_point = min(cluster, key=lambda point: great_circle(point, centroid).m)\n",
    "    return tuple(centermost_point)\n",
    "\n",
    "from sklearn.cluster import DBSCAN\n",
    "from sklearn import metrics\n",
    "\n",
    "#df_min = pd.read_csv('C:/Users/MyPC/Desktop/Projet Gps/baseLab.csv', encoding='latin-1')\n",
    "df_min= pd.read_csv('C:/Users/MyPC/Desktop/Projet Gps/AutreP/Livraison 1_CSV/corrected_gps_information_new.csv')\n",
    "\n",
    "listid=[]\n",
    "for i in range(len(df_min)):\n",
    "    listid.append(df_min['sampno'].loc[i])\n",
    "\n",
    "# liste de chaque utilisateurs differents  , servira pour la boucle ci dessous \n",
    "traj=list(set(listid))\n",
    "\n",
    "\n",
    "\n",
    "\n",
    "\n"
   ]
  },
  {
   "cell_type": "code",
   "execution_count": 91,
   "metadata": {},
   "outputs": [
    {
     "name": "stdout",
     "output_type": "stream",
     "text": [
      "Clustered 815 points to 9 clusters\n",
      "Clustered 4108 points to 23 clusters\n",
      "Clustered 3501 points to 31 clusters\n",
      "Clustered 7001 points to 48 clusters\n",
      "Clustered 2076 points to 15 clusters\n",
      "Clustered 2208 points to 5 clusters\n",
      "Clustered 947 points to 7 clusters\n",
      "Clustered 2711 points to 9 clusters\n",
      "Clustered 841 points to 4 clusters\n",
      "Clustered 2955 points to 43 clusters\n",
      "Clustered 2280 points to 29 clusters\n",
      "Clustered 1080 points to 11 clusters\n",
      "Clustered 3860 points to 23 clusters\n",
      "Clustered 2338 points to 4 clusters\n",
      "Clustered 3405 points to 12 clusters\n",
      "Clustered 7166 points to 23 clusters\n",
      "Clustered 5985 points to 64 clusters\n",
      "Clustered 2052 points to 29 clusters\n",
      "Clustered 1569 points to 27 clusters\n",
      "Clustered 5197 points to 56 clusters\n",
      "Clustered 9333 points to 44 clusters\n",
      "Clustered 1686 points to 6 clusters\n",
      "Clustered 5213 points to 24 clusters\n",
      "Clustered 1659 points to 8 clusters\n",
      "Clustered 896 points to 16 clusters\n",
      "Clustered 1616 points to 20 clusters\n",
      "Clustered 2650 points to 32 clusters\n",
      "Clustered 1233 points to 10 clusters\n",
      "Clustered 2650 points to 20 clusters\n",
      "Clustered 3325 points to 27 clusters\n",
      "Clustered 1101 points to 21 clusters\n",
      "Clustered 4465 points to 61 clusters\n",
      "Clustered 5207 points to 45 clusters\n",
      "Clustered 2857 points to 9 clusters\n",
      "Clustered 1010 points to 3 clusters\n",
      "Clustered 7321 points to 12 clusters\n",
      "Clustered 2725 points to 16 clusters\n",
      "Clustered 212 points to 1 clusters\n",
      "Clustered 1392 points to 21 clusters\n",
      "Clustered 2674 points to 21 clusters\n",
      "Clustered 1728 points to 16 clusters\n",
      "Clustered 1226 points to 12 clusters\n",
      "Clustered 2843 points to 44 clusters\n",
      "Clustered 826 points to 4 clusters\n",
      "Clustered 4424 points to 14 clusters\n",
      "Clustered 802 points to 5 clusters\n",
      "Clustered 416 points to 4 clusters\n",
      "Clustered 9487 points to 23 clusters\n",
      "Clustered 2220 points to 31 clusters\n",
      "Clustered 4559 points to 64 clusters\n",
      "Clustered 1936 points to 10 clusters\n",
      "Clustered 7884 points to 59 clusters\n",
      "Clustered 443 points to 1 clusters\n",
      "Clustered 5382 points to 17 clusters\n",
      "Clustered 4142 points to 31 clusters\n",
      "Clustered 4504 points to 10 clusters\n",
      "Clustered 834 points to 5 clusters\n",
      "Clustered 8149 points to 62 clusters\n",
      "Clustered 7950 points to 43 clusters\n",
      "Clustered 2417 points to 12 clusters\n",
      "Clustered 2806 points to 12 clusters\n",
      "Clustered 654 points to 2 clusters\n",
      "Clustered 4313 points to 38 clusters\n",
      "Clustered 2244 points to 10 clusters\n",
      "Clustered 6459 points to 26 clusters\n",
      "Clustered 5131 points to 42 clusters\n",
      "Clustered 1919 points to 11 clusters\n",
      "Clustered 2403 points to 8 clusters\n",
      "Clustered 5405 points to 8 clusters\n",
      "Clustered 1320 points to 6 clusters\n",
      "Clustered 5508 points to 9 clusters\n",
      "Clustered 614 points to 9 clusters\n",
      "Clustered 3707 points to 4 clusters\n",
      "Clustered 2148 points to 23 clusters\n",
      "Clustered 591 points to 11 clusters\n",
      "Clustered 338 points to 10 clusters\n",
      "Clustered 933 points to 10 clusters\n",
      "Clustered 8782 points to 103 clusters\n",
      "Clustered 1671 points to 16 clusters\n",
      "Clustered 2929 points to 23 clusters\n",
      "Clustered 3223 points to 18 clusters\n",
      "Clustered 808 points to 14 clusters\n",
      "Clustered 3226 points to 5 clusters\n",
      "Clustered 3029 points to 29 clusters\n",
      "Clustered 3283 points to 17 clusters\n",
      "Clustered 4633 points to 41 clusters\n",
      "Clustered 7566 points to 33 clusters\n",
      "Clustered 3211 points to 27 clusters\n",
      "Clustered 995 points to 17 clusters\n",
      "Clustered 2588 points to 45 clusters\n",
      "Clustered 929 points to 6 clusters\n",
      "Clustered 4214 points to 22 clusters\n",
      "Clustered 3596 points to 15 clusters\n",
      "Clustered 2444 points to 23 clusters\n",
      "Clustered 2558 points to 24 clusters\n",
      "Clustered 1109 points to 3 clusters\n",
      "Clustered 2153 points to 15 clusters\n",
      "Clustered 2017 points to 16 clusters\n",
      "Clustered 12504 points to 57 clusters\n",
      "Clustered 2850 points to 28 clusters\n",
      "Clustered 1829 points to 22 clusters\n",
      "Clustered 5722 points to 19 clusters\n",
      "Clustered 4218 points to 54 clusters\n",
      "Clustered 399 points to 5 clusters\n",
      "Clustered 3341 points to 28 clusters\n",
      "Clustered 5877 points to 20 clusters\n",
      "Clustered 5009 points to 62 clusters\n",
      "Clustered 3814 points to 13 clusters\n",
      "Clustered 3449 points to 25 clusters\n",
      "Clustered 7519 points to 26 clusters\n",
      "Clustered 2926 points to 20 clusters\n",
      "Clustered 10309 points to 142 clusters\n",
      "Clustered 4855 points to 31 clusters\n",
      "Clustered 4022 points to 65 clusters\n",
      "Clustered 404 points to 5 clusters\n",
      "Clustered 4764 points to 36 clusters\n",
      "Clustered 4168 points to 9 clusters\n",
      "Clustered 3390 points to 62 clusters\n",
      "Clustered 897 points to 4 clusters\n",
      "Clustered 1504 points to 19 clusters\n",
      "Clustered 3867 points to 42 clusters\n",
      "Clustered 3595 points to 16 clusters\n",
      "Clustered 2562 points to 24 clusters\n",
      "Clustered 4310 points to 16 clusters\n",
      "Clustered 5451 points to 33 clusters\n",
      "Clustered 9720 points to 13 clusters\n",
      "Clustered 3748 points to 22 clusters\n",
      "Clustered 3652 points to 29 clusters\n",
      "Clustered 5147 points to 39 clusters\n",
      "Clustered 2988 points to 52 clusters\n",
      "Clustered 956 points to 15 clusters\n",
      "Clustered 3418 points to 20 clusters\n",
      "Clustered 5810 points to 37 clusters\n",
      "Clustered 2822 points to 10 clusters\n",
      "Clustered 6352 points to 59 clusters\n",
      "Clustered 1924 points to 15 clusters\n",
      "Clustered 3794 points to 11 clusters\n",
      "Clustered 5571 points to 42 clusters\n",
      "Clustered 8537 points to 68 clusters\n",
      "Clustered 1308 points to 12 clusters\n",
      "Clustered 3840 points to 29 clusters\n",
      "Clustered 2360 points to 14 clusters\n",
      "Clustered 3240 points to 17 clusters\n",
      "Clustered 1779 points to 7 clusters\n",
      "Clustered 1879 points to 22 clusters\n",
      "Clustered 1267 points to 15 clusters\n",
      "Clustered 680 points to 12 clusters\n",
      "Clustered 2814 points to 4 clusters\n",
      "Clustered 1713 points to 5 clusters\n",
      "Clustered 3440 points to 39 clusters\n",
      "Clustered 2241 points to 5 clusters\n",
      "Clustered 6100 points to 22 clusters\n",
      "Clustered 4724 points to 43 clusters\n",
      "Clustered 4179 points to 35 clusters\n",
      "Clustered 3021 points to 17 clusters\n",
      "Clustered 3262 points to 18 clusters\n",
      "Clustered 2371 points to 8 clusters\n",
      "Clustered 5195 points to 25 clusters\n",
      "Clustered 5448 points to 15 clusters\n",
      "Clustered 4596 points to 23 clusters\n",
      "Clustered 2835 points to 19 clusters\n",
      "Clustered 1697 points to 11 clusters\n",
      "Clustered 2073 points to 14 clusters\n",
      "Clustered 4677 points to 28 clusters\n",
      "Clustered 3084 points to 17 clusters\n",
      "Clustered 2284 points to 15 clusters\n",
      "Clustered 4041 points to 8 clusters\n",
      "Clustered 1055 points to 1 clusters\n",
      "Clustered 3844 points to 39 clusters\n",
      "Clustered 4402 points to 50 clusters\n",
      "Clustered 1374 points to 9 clusters\n",
      "Clustered 8721 points to 85 clusters\n",
      "Clustered 519 points to 1 clusters\n",
      "Clustered 5554 points to 12 clusters\n",
      "Clustered 5513 points to 97 clusters\n",
      "Clustered 173 points to 2 clusters\n",
      "Clustered 1491 points to 14 clusters\n",
      "Clustered 1168 points to 16 clusters\n",
      "Clustered 952 points to 8 clusters\n",
      "Clustered 5280 points to 80 clusters\n",
      "Clustered 2799 points to 21 clusters\n",
      "Clustered 232 points to 2 clusters\n",
      "Clustered 1145 points to 14 clusters\n",
      "Clustered 1525 points to 11 clusters\n",
      "Clustered 4996 points to 10 clusters\n",
      "Clustered 1903 points to 11 clusters\n",
      "Clustered 179 points to 0 clusters\n",
      "Clustered 7613 points to 31 clusters\n",
      "Clustered 4923 points to 28 clusters\n",
      "Clustered 2354 points to 21 clusters\n",
      "Clustered 2432 points to 43 clusters\n",
      "Clustered 7760 points to 29 clusters\n",
      "Clustered 1414 points to 5 clusters\n",
      "Clustered 6307 points to 28 clusters\n",
      "Clustered 4022 points to 19 clusters\n",
      "Clustered 2101 points to 8 clusters\n",
      "Clustered 5842 points to 40 clusters\n",
      "Clustered 2723 points to 20 clusters\n",
      "Clustered 4760 points to 65 clusters\n",
      "Clustered 7186 points to 35 clusters\n",
      "Clustered 4362 points to 12 clusters\n",
      "Clustered 6200 points to 42 clusters\n",
      "Clustered 5615 points to 18 clusters\n",
      "Clustered 2412 points to 11 clusters\n",
      "Clustered 1026 points to 7 clusters\n",
      "Clustered 3925 points to 31 clusters\n",
      "Clustered 2921 points to 18 clusters\n",
      "Clustered 2746 points to 15 clusters\n",
      "Clustered 2983 points to 23 clusters\n",
      "Clustered 3623 points to 11 clusters\n",
      "Clustered 10286 points to 50 clusters\n",
      "Clustered 286 points to 1 clusters\n",
      "Clustered 5235 points to 15 clusters\n",
      "Clustered 3471 points to 13 clusters\n",
      "Clustered 3574 points to 25 clusters\n",
      "Clustered 5494 points to 52 clusters\n",
      "Clustered 3502 points to 16 clusters\n",
      "Clustered 1939 points to 18 clusters\n",
      "Clustered 8023 points to 18 clusters\n",
      "Clustered 4037 points to 35 clusters\n",
      "Clustered 3305 points to 12 clusters\n",
      "Clustered 1888 points to 22 clusters\n",
      "Clustered 2020 points to 22 clusters\n",
      "Clustered 2811 points to 28 clusters\n"
     ]
    },
    {
     "name": "stdout",
     "output_type": "stream",
     "text": [
      "Clustered 4709 points to 22 clusters\n",
      "Clustered 1660 points to 5 clusters\n",
      "Clustered 5729 points to 18 clusters\n",
      "Clustered 1593 points to 11 clusters\n",
      "Clustered 5987 points to 40 clusters\n",
      "Clustered 2603 points to 28 clusters\n",
      "Clustered 4703 points to 39 clusters\n",
      "Clustered 3111 points to 12 clusters\n",
      "Clustered 5153 points to 34 clusters\n",
      "Clustered 3570 points to 9 clusters\n",
      "Clustered 5012 points to 26 clusters\n",
      "Clustered 207 points to 0 clusters\n",
      "Clustered 8586 points to 20 clusters\n",
      "Clustered 13497 points to 204 clusters\n",
      "Clustered 5015 points to 30 clusters\n",
      "Clustered 5686 points to 10 clusters\n",
      "Clustered 210 points to 0 clusters\n",
      "Clustered 3562 points to 11 clusters\n",
      "Clustered 430 points to 7 clusters\n",
      "Clustered 3117 points to 22 clusters\n",
      "Clustered 1345 points to 22 clusters\n",
      "Clustered 2952 points to 22 clusters\n",
      "Clustered 3144 points to 11 clusters\n",
      "Clustered 2328 points to 18 clusters\n",
      "Clustered 4144 points to 16 clusters\n",
      "Clustered 4586 points to 34 clusters\n",
      "Clustered 1712 points to 3 clusters\n",
      "Clustered 774 points to 11 clusters\n",
      "Clustered 5236 points to 27 clusters\n",
      "Clustered 2569 points to 14 clusters\n",
      "Clustered 454 points to 5 clusters\n",
      "Clustered 2603 points to 21 clusters\n",
      "Clustered 4814 points to 46 clusters\n",
      "Clustered 1907 points to 22 clusters\n",
      "Clustered 6097 points to 51 clusters\n",
      "Clustered 3001 points to 17 clusters\n",
      "Clustered 4376 points to 35 clusters\n",
      "Clustered 18365 points to 43 clusters\n",
      "Clustered 5353 points to 26 clusters\n",
      "Clustered 2431 points to 13 clusters\n",
      "Clustered 4960 points to 32 clusters\n",
      "Clustered 1796 points to 28 clusters\n",
      "Clustered 4866 points to 18 clusters\n",
      "Clustered 3742 points to 23 clusters\n",
      "Clustered 3868 points to 20 clusters\n",
      "Clustered 7285 points to 48 clusters\n",
      "Clustered 814 points to 9 clusters\n",
      "Clustered 2838 points to 6 clusters\n",
      "Clustered 3231 points to 3 clusters\n",
      "Clustered 6974 points to 7 clusters\n",
      "Clustered 1591 points to 9 clusters\n",
      "Clustered 8114 points to 32 clusters\n",
      "Clustered 4775 points to 21 clusters\n",
      "Clustered 47 points to 0 clusters\n",
      "Clustered 3388 points to 37 clusters\n",
      "Clustered 313 points to 1 clusters\n",
      "Clustered 4388 points to 28 clusters\n",
      "Clustered 8043 points to 50 clusters\n",
      "Clustered 1502 points to 5 clusters\n",
      "Clustered 5202 points to 10 clusters\n",
      "Clustered 1884 points to 9 clusters\n",
      "Clustered 1450 points to 28 clusters\n"
     ]
    }
   ],
   "source": [
    "# tagguer par moove ou par stop toutes les trajectoires à l'aide du DBSCAN\n",
    "\n",
    "CC=[]\n",
    "#df_min['MooveStop']=0\n",
    "for u in traj:\n",
    "    df_minU=df_min.loc[df_min['sampno']==u,:]\n",
    "    \n",
    "    \n",
    "    # represent GPS points as (lat, lon)\n",
    "    coords = df_minU.as_matrix(columns=['latitude', 'longitude'])\n",
    "   \n",
    "    #coords1= df_min.as_matrix(columns=['lat', 'lng', 'alt', 'date','time'])\n",
    "\n",
    "    # earth's radius in km\n",
    "    kms_per_radian = 6371.0088\n",
    "    # define epsilon as 0.5 kilometers, converted to radians for use by haversine\n",
    "    epsilon = 0.015 / kms_per_radian\n",
    "\n",
    "    # eps is the max distance that points can be from each other to be considered in a cluster\n",
    "    # min_samples is the minimum cluster size (everything else is classified as noise)\n",
    "    db = DBSCAN(eps=epsilon, min_samples=8, algorithm='ball_tree', metric='haversine').fit(np.radians(coords))\n",
    "    cluster_labels = db.labels_\n",
    "    \n",
    "    # get the number of clusters (ignore noisy samples which are given the label -1)\n",
    "    num_clusters = len(set(cluster_labels) - set([-1]))\n",
    "\n",
    "    print ('Clustered ' + str(len(df_minU)) + ' points to ' + str(num_clusters) + ' clusters')\n",
    "\n",
    "    # turn the clusters in to a pandas series\n",
    "    clusters = pd.Series([coords[cluster_labels == n] for n in range(num_clusters)])\n",
    "    centermost_points = clusters.map(get_centermost_point)\n",
    "    \n",
    "    noise= coords[cluster_labels==-1 ]\n",
    "    IndexMoove=[]\n",
    "    for i in range(0,len(noise)):\n",
    "        index= np.where(coords==noise[i])[0]\n",
    "        #ind.append(index)\n",
    "        #print(index)\n",
    "        IndexMoove.append(index)\n",
    "    # 0 si stop 1 si moove    \n",
    "    IndexMoove = [item for sublist in IndexMoove for item in sublist]\n",
    "    IndexMoove= set(list(IndexMoove))\n",
    "    IM= np.array(IndexMoove)\n",
    "    IM=[]\n",
    "    \n",
    "    for i in IndexMoove:\n",
    "        j= int(i+df_minU.index[0] )\n",
    "        IM.append(j)\n",
    "    \n",
    "    \n",
    "    \n",
    "    CC.append(IM)\n",
    "    #for i in IndexMoove:\n",
    "        #df_minU.loc[i+df_minU.index[0], 'MooveStop'] =1\n",
    "        \n",
    "    \n",
    "    \n",
    "    \n",
    "    \n",
    "    \n",
    "    \n",
    "    \n",
    "   \n",
    "\n",
    "      \n"
   ]
  },
  {
   "cell_type": "code",
   "execution_count": 103,
   "metadata": {},
   "outputs": [
    {
     "name": "stdout",
     "output_type": "stream",
     "text": [
      "        Unnamed: 0   sampno  placeno             time_utc  \\\n",
      "20000        20001  6729533       57  2015-04-20 07:45:23   \n",
      "20001        20002  6729533       57  2015-04-20 07:45:28   \n",
      "20002        20003  6729533       57  2015-04-20 07:45:33   \n",
      "20003        20004  6729533       57  2015-04-20 07:45:38   \n",
      "20004        20005  6729533       57  2015-04-20 07:45:43   \n",
      "20005        20006  6729533       57  2015-04-20 07:45:48   \n",
      "20006        20007  6729533       57  2015-04-20 07:45:53   \n",
      "20007        20008  6729533       57  2015-04-20 07:45:58   \n",
      "20008        20009  6729533       57  2015-04-20 07:46:03   \n",
      "20009        20010  6729533       57  2015-04-20 07:46:08   \n",
      "20010        20011  6729533       57  2015-04-20 07:46:13   \n",
      "20011        20012  6729533       57  2015-04-20 07:46:18   \n",
      "20012        20013  6729533       57  2015-04-20 07:46:23   \n",
      "20013        20014  6729533       57  2015-04-20 07:46:28   \n",
      "20014        20015  6729533       57  2015-04-20 07:46:33   \n",
      "20015        20016  6729533       57  2015-04-20 07:46:38   \n",
      "20016        20017  6729533       57  2015-04-20 07:46:43   \n",
      "20017        20018  6729533       57  2015-04-20 07:46:48   \n",
      "20018        20019  6729533       57  2015-04-20 07:46:53   \n",
      "20019        20020  6729533       57  2015-04-20 07:46:58   \n",
      "20020        20021  6729533       57  2015-04-20 07:47:03   \n",
      "20021        20022  6729533       57  2015-04-20 07:47:08   \n",
      "20022        20023  6729533       57  2015-04-20 07:47:13   \n",
      "20023        20024  6729533       57  2015-04-20 07:47:18   \n",
      "20024        20025  6729533       57  2015-04-20 07:47:23   \n",
      "20025        20026  6729533       57  2015-04-20 07:47:28   \n",
      "20026        20027  6729533       57  2015-04-20 07:47:33   \n",
      "20027        20028  6729533       58  2015-04-20 07:55:18   \n",
      "20028        20029  6729533       58  2015-04-20 07:55:23   \n",
      "20029        20030  6729533       58  2015-04-20 07:55:28   \n",
      "...            ...      ...      ...                  ...   \n",
      "200071      200072  1697463       61  2013-11-01 18:05:17   \n",
      "200072      200073  1697463       61  2013-11-01 18:05:22   \n",
      "200073      200074  1697463       61  2013-11-01 18:05:57   \n",
      "200074      200075  1697463       61  2013-11-01 18:06:02   \n",
      "200075      200076  1697463       61  2013-11-01 18:06:07   \n",
      "200076      200077  1697463       61  2013-11-01 18:06:12   \n",
      "200077      200078  1697463       61  2013-11-01 18:06:17   \n",
      "200078      200079  1697463       61  2013-11-01 18:06:22   \n",
      "200079      200080  1697463       61  2013-11-01 18:06:27   \n",
      "200080      200081  1697463       61  2013-11-01 18:06:32   \n",
      "200081      200082  1697463       61  2013-11-01 18:07:02   \n",
      "200082      200083  1697463       61  2013-11-01 18:07:07   \n",
      "200083      200084  1697463       61  2013-11-01 18:07:12   \n",
      "200084      200085  1697463       61  2013-11-01 18:07:17   \n",
      "200085      200086  1697463       61  2013-11-01 18:07:22   \n",
      "200086      200087  1697463       61  2013-11-01 18:07:27   \n",
      "200087      200088  1697463       61  2013-11-01 18:07:32   \n",
      "200088      200089  1697463       61  2013-11-01 18:07:37   \n",
      "200089      200090  1697463       61  2013-11-01 18:08:22   \n",
      "200090      200091  1697463       62  2013-11-01 18:13:07   \n",
      "200091      200092  1697463       62  2013-11-01 18:13:12   \n",
      "200092      200093  1697463       62  2013-11-01 18:13:17   \n",
      "200093      200094  1697463       62  2013-11-01 18:14:32   \n",
      "200094      200095  1697463       62  2013-11-01 18:15:07   \n",
      "200095      200096  1697463       62  2013-11-01 18:15:12   \n",
      "200096      200097  1697463       64  2013-11-01 18:31:18   \n",
      "200097      200098  1697463       64  2013-11-01 18:32:08   \n",
      "200098      200099  1697463       64  2013-11-01 18:32:13   \n",
      "200099      200100  1697463       64  2013-11-01 18:32:23   \n",
      "200100      200101  1697463       64  2013-11-01 18:32:28   \n",
      "\n",
      "                 time_local  longitude   latitude    altitude      speed  \\\n",
      "20000   2015-04-20 09:45:23   2.094519  49.017522  312.700012   8.200000   \n",
      "20001   2015-04-20 09:45:28   2.094751  49.017673  315.299988  15.300000   \n",
      "20002   2015-04-20 09:45:33   2.095162  49.017900  316.000000  19.600000   \n",
      "20003   2015-04-20 09:45:38   2.095763  49.018238  318.600006  31.200001   \n",
      "20004   2015-04-20 09:45:43   2.096518  49.018672  309.399994  32.200001   \n",
      "20005   2015-04-20 09:45:48   2.097285  49.019126  304.299988  34.099998   \n",
      "20006   2015-04-20 09:45:53   2.098108  49.019604  302.700012  36.400002   \n",
      "20007   2015-04-20 09:45:58   2.098995  49.020132  302.799988  40.200001   \n",
      "20008   2015-04-20 09:46:03   2.099919  49.020696  304.399994  40.599998   \n",
      "20009   2015-04-20 09:46:08   2.100845  49.021235  301.600006  40.299999   \n",
      "20010   2015-04-20 09:46:13   2.101722  49.021766  296.200012  37.299999   \n",
      "20011   2015-04-20 09:46:18   2.102437  49.022295  290.799988  33.000000   \n",
      "20012   2015-04-20 09:46:23   2.102954  49.022793  288.100006  22.000000   \n",
      "20013   2015-04-20 09:46:28   2.103166  49.023054  291.100006  13.000000   \n",
      "20014   2015-04-20 09:46:33   2.103396  49.023358  292.899994  16.799999   \n",
      "20015   2015-04-20 09:46:38   2.103585  49.023744  295.600006  23.799999   \n",
      "20016   2015-04-20 09:46:43   2.103770  49.024275  288.600006  28.700001   \n",
      "20017   2015-04-20 09:46:48   2.103849  49.024872  290.299988  30.400000   \n",
      "20018   2015-04-20 09:46:53   2.103775  49.025495  285.899994  32.400002   \n",
      "20019   2015-04-20 09:46:58   2.103622  49.026210  288.600006  39.099998   \n",
      "20020   2015-04-20 09:47:03   2.103422  49.027041  293.600006  39.299999   \n",
      "20021   2015-04-20 09:47:08   2.103342  49.027679  295.100006  18.100000   \n",
      "20022   2015-04-20 09:47:13   2.103702  49.027840  285.000000  13.500000   \n",
      "20023   2015-04-20 09:47:18   2.104073  49.027909  277.399994  11.500000   \n",
      "20024   2015-04-20 09:47:23   2.104378  49.027985  271.299988   8.800000   \n",
      "20025   2015-04-20 09:47:28   2.104580  49.027903  268.799988   8.100000   \n",
      "20026   2015-04-20 09:47:33   2.104640  49.027789  267.100006   2.600000   \n",
      "20027   2015-04-20 09:55:18   2.106400  49.028007  299.299988  10.300000   \n",
      "20028   2015-04-20 09:55:23   2.105861  49.028045  301.700012  23.000000   \n",
      "20029   2015-04-20 09:55:28   2.105204  49.028025  302.100006  20.600000   \n",
      "...                     ...        ...        ...         ...        ...   \n",
      "200071  2013-11-01 19:05:17   2.396184  48.793828  410.200012  12.600000   \n",
      "200072  2013-11-01 19:05:22   2.396095  48.793636  417.899994   5.600000   \n",
      "200073  2013-11-01 19:05:57   2.395936  48.793338  437.799988  10.700000   \n",
      "200074  2013-11-01 19:06:02   2.395609  48.793140  429.399994  18.000000   \n",
      "200075  2013-11-01 19:06:07   2.395347  48.792770  420.399994  23.600000   \n",
      "200076  2013-11-01 19:06:12   2.395024  48.792274  414.500000  28.200001   \n",
      "200077  2013-11-01 19:06:17   2.394658  48.791742  411.200012  28.900000   \n",
      "200078  2013-11-01 19:06:22   2.393931  48.791294  408.899994  30.500000   \n",
      "200079  2013-11-01 19:06:27   2.393096  48.791018  405.200012  23.299999   \n",
      "200080  2013-11-01 19:06:32   2.392572  48.790803  397.200012  14.300000   \n",
      "200081  2013-11-01 19:07:02   2.392364  48.790417  386.399994   3.900000   \n",
      "200082  2013-11-01 19:07:07   2.392072  48.790258  384.299988  11.900000   \n",
      "200083  2013-11-01 19:07:12   2.391640  48.790087  378.799988  20.600000   \n",
      "200084  2013-11-01 19:07:17   2.391017  48.789861  375.799988  20.700001   \n",
      "200085  2013-11-01 19:07:22   2.390521  48.789703  373.299988  16.500000   \n",
      "200086  2013-11-01 19:07:27   2.390151  48.789672  369.000000  13.600000   \n",
      "200087  2013-11-01 19:07:32   2.389812  48.789568  365.399994  10.100000   \n",
      "200088  2013-11-01 19:07:37   2.389621  48.789478  347.600006   4.300000   \n",
      "200089  2013-11-01 19:08:22   2.389557  48.789437  327.200012   2.800000   \n",
      "200090  2013-11-01 19:13:07   2.389106  48.789522  316.100006  11.900000   \n",
      "200091  2013-11-01 19:13:12   2.388901  48.789792  310.299988  15.600000   \n",
      "200092  2013-11-01 19:13:17   2.388679  48.790030  303.100006   8.400000   \n",
      "200093  2013-11-01 19:14:32   2.388797  48.790168  268.299988   2.100000   \n",
      "200094  2013-11-01 19:15:07   2.388806  48.790306  262.500000   6.800000   \n",
      "200095  2013-11-01 19:15:12   2.388595  48.790515  259.600006  11.900000   \n",
      "200096  2013-11-01 19:31:18   2.389054  48.791461  359.799988   2.600000   \n",
      "200097  2013-11-01 19:32:08   2.388863  48.791334  411.000000   3.200000   \n",
      "200098  2013-11-01 19:32:13   2.388686  48.791281  417.100006   8.200000   \n",
      "200099  2013-11-01 19:32:23   2.388314  48.791291  428.500000  12.300000   \n",
      "200100  2013-11-01 19:32:28   2.388189  48.791589  431.700012  17.400000   \n",
      "\n",
      "       valid  hdop  nbsat  StopMoove  \n",
      "20000      A   0.9     11          1  \n",
      "20001      A   0.8     12          1  \n",
      "20002      A   0.8     12          1  \n",
      "20003      A   0.8     12          1  \n",
      "20004      A   1.0     10          1  \n",
      "20005      A   0.9     11          1  \n",
      "20006      A   0.9     12          1  \n",
      "20007      A   0.9     11          1  \n",
      "20008      A   0.9     11          1  \n",
      "20009      A   1.0     10          1  \n",
      "20010      A   0.9     11          1  \n",
      "20011      A   0.9     11          1  \n",
      "20012      A   0.9     11          1  \n",
      "20013      A   0.8     12          1  \n",
      "20014      A   0.8     12          1  \n",
      "20015      A   0.9     10          1  \n",
      "20016      A   1.3      9          1  \n",
      "20017      A   0.8     12          1  \n",
      "20018      A   0.8     12          1  \n",
      "20019      A   0.8     11          1  \n",
      "20020      A   0.8     11          1  \n",
      "20021      A   0.8     12          1  \n",
      "20022      A   0.8     12          1  \n",
      "20023      A   0.8     12          1  \n",
      "20024      A   0.8     12          1  \n",
      "20025      A   0.8     12          1  \n",
      "20026      A   0.8     12          1  \n",
      "20027      A   0.8     12          1  \n",
      "20028      A   0.8     12          1  \n",
      "20029      A   0.8     12          1  \n",
      "...      ...   ...    ...        ...  \n",
      "200071     D   1.1      8          0  \n",
      "200072     D   1.1      9          1  \n",
      "200073     D   1.0      8          1  \n",
      "200074     D   1.3      7          0  \n",
      "200075     D   1.2      8          0  \n",
      "200076     D   1.3      7          0  \n",
      "200077     D   1.3      7          0  \n",
      "200078     D   1.3      7          1  \n",
      "200079     D   1.3      7          1  \n",
      "200080     D   1.3      7          1  \n",
      "200081     D   1.2      8          1  \n",
      "200082     D   1.2      8          1  \n",
      "200083     D   1.3      7          0  \n",
      "200084     D   1.3      7          1  \n",
      "200085     D   1.2      8          1  \n",
      "200086     D   1.3      8          0  \n",
      "200087     D   1.2      8          0  \n",
      "200088     D   1.0      9          0  \n",
      "200089     D   1.0      9          0  \n",
      "200090     D   1.2      8          0  \n",
      "200091     D   1.1      8          0  \n",
      "200092     D   1.1      8          0  \n",
      "200093     D   1.2      8          0  \n",
      "200094     D   1.2      8          0  \n",
      "200095     D   1.1      8          0  \n",
      "200096     D   1.3      6          1  \n",
      "200097     D   1.1      8          1  \n",
      "200098     D   1.1      8          1  \n",
      "200099     D   1.1      8          1  \n",
      "200100     D   1.2      8          1  \n",
      "\n",
      "[180101 rows x 13 columns]\n"
     ]
    }
   ],
   "source": [
    "print(df_min.loc[20000:200100])"
   ]
  },
  {
   "cell_type": "code",
   "execution_count": 98,
   "metadata": {},
   "outputs": [
    {
     "name": "stdout",
     "output_type": "stream",
     "text": [
      "\n"
     ]
    }
   ],
   "source": [
    "df_min['StopMoove']=0\n",
    "print()\n",
    "\n",
    "for i in range(0,len(CC)):\n",
    "    for j in range(0,len(CC[i])):\n",
    "    \n",
    "\n",
    "        df_min.set_value(CC[i][j] ,'StopMoove',1)\n",
    "\n"
   ]
  },
  {
   "cell_type": "code",
   "execution_count": 99,
   "metadata": {
    "collapsed": true
   },
   "outputs": [],
   "source": [
    "\n",
    "df_min.to_csv('df_StopMoove.csv', sep=',')\n"
   ]
  },
  {
   "cell_type": "code",
   "execution_count": 84,
   "metadata": {},
   "outputs": [
    {
     "name": "stdout",
     "output_type": "stream",
     "text": [
      "947465\n",
      "1016439\n"
     ]
    }
   ],
   "source": [
    "print(AllIndexMoove[100])\n",
    "len(AllIndexMoove)\n",
    "print(len(df_min))"
   ]
  },
  {
   "cell_type": "code",
   "execution_count": 2,
   "metadata": {},
   "outputs": [
    {
     "name": "stdout",
     "output_type": "stream",
     "text": [
      "Clustered 815 points to 9 clusters\n",
      "Clustered 4108 points to 23 clusters\n",
      "Clustered 3501 points to 31 clusters\n",
      "Clustered 7001 points to 48 clusters\n",
      "Clustered 2076 points to 15 clusters\n",
      "Clustered 2208 points to 5 clusters\n",
      "Clustered 947 points to 7 clusters\n",
      "Clustered 2711 points to 9 clusters\n",
      "Clustered 841 points to 4 clusters\n",
      "Clustered 2955 points to 43 clusters\n",
      "Clustered 2280 points to 29 clusters\n",
      "Clustered 1080 points to 11 clusters\n",
      "Clustered 3860 points to 23 clusters\n",
      "Clustered 2338 points to 4 clusters\n",
      "Clustered 3405 points to 12 clusters\n",
      "Clustered 7166 points to 23 clusters\n",
      "Clustered 5985 points to 64 clusters\n",
      "Clustered 2052 points to 29 clusters\n",
      "Clustered 1569 points to 27 clusters\n",
      "Clustered 5197 points to 56 clusters\n",
      "Clustered 9333 points to 44 clusters\n",
      "Clustered 1686 points to 6 clusters\n",
      "Clustered 5213 points to 24 clusters\n",
      "Clustered 1659 points to 8 clusters\n",
      "Clustered 896 points to 16 clusters\n",
      "Clustered 1616 points to 20 clusters\n",
      "Clustered 2650 points to 32 clusters\n",
      "Clustered 1233 points to 10 clusters\n",
      "Clustered 2650 points to 20 clusters\n",
      "Clustered 3325 points to 27 clusters\n",
      "Clustered 1101 points to 21 clusters\n",
      "Clustered 4465 points to 61 clusters\n",
      "Clustered 5207 points to 45 clusters\n",
      "Clustered 2857 points to 9 clusters\n",
      "Clustered 1010 points to 3 clusters\n",
      "Clustered 7321 points to 12 clusters\n",
      "Clustered 2725 points to 16 clusters\n",
      "Clustered 212 points to 1 clusters\n",
      "Clustered 1392 points to 21 clusters\n",
      "Clustered 2674 points to 21 clusters\n",
      "Clustered 1728 points to 16 clusters\n",
      "Clustered 1226 points to 12 clusters\n",
      "Clustered 2843 points to 44 clusters\n",
      "Clustered 826 points to 4 clusters\n",
      "Clustered 4424 points to 14 clusters\n",
      "Clustered 802 points to 5 clusters\n",
      "Clustered 416 points to 4 clusters\n",
      "Clustered 9487 points to 23 clusters\n",
      "Clustered 2220 points to 31 clusters\n",
      "Clustered 4559 points to 64 clusters\n",
      "Clustered 1936 points to 10 clusters\n",
      "Clustered 7884 points to 59 clusters\n",
      "Clustered 443 points to 1 clusters\n",
      "Clustered 5382 points to 17 clusters\n",
      "Clustered 4142 points to 31 clusters\n",
      "Clustered 4504 points to 10 clusters\n",
      "Clustered 834 points to 5 clusters\n",
      "Clustered 8149 points to 62 clusters\n",
      "Clustered 7950 points to 43 clusters\n",
      "Clustered 2417 points to 12 clusters\n",
      "Clustered 2806 points to 12 clusters\n",
      "Clustered 654 points to 2 clusters\n",
      "Clustered 4313 points to 38 clusters\n",
      "Clustered 2244 points to 10 clusters\n",
      "Clustered 6459 points to 26 clusters\n",
      "Clustered 5131 points to 42 clusters\n",
      "Clustered 1919 points to 11 clusters\n",
      "Clustered 2403 points to 8 clusters\n",
      "Clustered 5405 points to 8 clusters\n",
      "Clustered 1320 points to 6 clusters\n",
      "Clustered 5508 points to 9 clusters\n",
      "Clustered 614 points to 9 clusters\n",
      "Clustered 3707 points to 4 clusters\n",
      "Clustered 2148 points to 23 clusters\n",
      "Clustered 591 points to 11 clusters\n",
      "Clustered 338 points to 10 clusters\n",
      "Clustered 933 points to 10 clusters\n",
      "Clustered 8782 points to 103 clusters\n",
      "Clustered 1671 points to 16 clusters\n",
      "Clustered 2929 points to 23 clusters\n",
      "Clustered 3223 points to 18 clusters\n",
      "Clustered 808 points to 14 clusters\n",
      "Clustered 3226 points to 5 clusters\n",
      "Clustered 3029 points to 29 clusters\n",
      "Clustered 3283 points to 17 clusters\n",
      "Clustered 4633 points to 41 clusters\n",
      "Clustered 7566 points to 33 clusters\n",
      "Clustered 3211 points to 27 clusters\n",
      "Clustered 995 points to 17 clusters\n",
      "Clustered 2588 points to 45 clusters\n",
      "Clustered 929 points to 6 clusters\n",
      "Clustered 4214 points to 22 clusters\n",
      "Clustered 3596 points to 15 clusters\n",
      "Clustered 2444 points to 23 clusters\n",
      "Clustered 2558 points to 24 clusters\n",
      "Clustered 1109 points to 3 clusters\n",
      "Clustered 2153 points to 15 clusters\n",
      "Clustered 2017 points to 16 clusters\n",
      "Clustered 12504 points to 57 clusters\n",
      "Clustered 2850 points to 28 clusters\n",
      "Clustered 1829 points to 22 clusters\n",
      "Clustered 5722 points to 19 clusters\n",
      "Clustered 4218 points to 54 clusters\n",
      "Clustered 399 points to 5 clusters\n",
      "Clustered 3341 points to 28 clusters\n",
      "Clustered 5877 points to 20 clusters\n",
      "Clustered 5009 points to 62 clusters\n",
      "Clustered 3814 points to 13 clusters\n",
      "Clustered 3449 points to 25 clusters\n",
      "Clustered 7519 points to 26 clusters\n",
      "Clustered 2926 points to 20 clusters\n",
      "Clustered 10309 points to 142 clusters\n",
      "Clustered 4855 points to 31 clusters\n",
      "Clustered 4022 points to 65 clusters\n",
      "Clustered 404 points to 5 clusters\n",
      "Clustered 4764 points to 36 clusters\n",
      "Clustered 4168 points to 9 clusters\n",
      "Clustered 3390 points to 62 clusters\n",
      "Clustered 897 points to 4 clusters\n",
      "Clustered 1504 points to 19 clusters\n",
      "Clustered 3867 points to 42 clusters\n",
      "Clustered 3595 points to 16 clusters\n",
      "Clustered 2562 points to 24 clusters\n",
      "Clustered 4310 points to 16 clusters\n",
      "Clustered 5451 points to 33 clusters\n",
      "Clustered 9720 points to 13 clusters\n",
      "Clustered 3748 points to 22 clusters\n",
      "Clustered 3652 points to 29 clusters\n",
      "Clustered 5147 points to 39 clusters\n",
      "Clustered 2988 points to 52 clusters\n",
      "Clustered 956 points to 15 clusters\n",
      "Clustered 3418 points to 20 clusters\n",
      "Clustered 5810 points to 37 clusters\n",
      "Clustered 2822 points to 10 clusters\n",
      "Clustered 6352 points to 59 clusters\n",
      "Clustered 1924 points to 15 clusters\n",
      "Clustered 3794 points to 11 clusters\n",
      "Clustered 5571 points to 42 clusters\n",
      "Clustered 8537 points to 68 clusters\n",
      "Clustered 1308 points to 12 clusters\n",
      "Clustered 3840 points to 29 clusters\n",
      "Clustered 2360 points to 14 clusters\n",
      "Clustered 3240 points to 17 clusters\n",
      "Clustered 1779 points to 7 clusters\n",
      "Clustered 1879 points to 22 clusters\n",
      "Clustered 1267 points to 15 clusters\n",
      "Clustered 680 points to 12 clusters\n",
      "Clustered 2814 points to 4 clusters\n",
      "Clustered 1713 points to 5 clusters\n",
      "Clustered 3440 points to 39 clusters\n",
      "Clustered 2241 points to 5 clusters\n",
      "Clustered 6100 points to 22 clusters\n",
      "Clustered 4724 points to 43 clusters\n",
      "Clustered 4179 points to 35 clusters\n",
      "Clustered 3021 points to 17 clusters\n",
      "Clustered 3262 points to 18 clusters\n",
      "Clustered 2371 points to 8 clusters\n",
      "Clustered 5195 points to 25 clusters\n",
      "Clustered 5448 points to 15 clusters\n",
      "Clustered 4596 points to 23 clusters\n",
      "Clustered 2835 points to 19 clusters\n",
      "Clustered 1697 points to 11 clusters\n",
      "Clustered 2073 points to 14 clusters\n",
      "Clustered 4677 points to 28 clusters\n",
      "Clustered 3084 points to 17 clusters\n",
      "Clustered 2284 points to 15 clusters\n",
      "Clustered 4041 points to 8 clusters\n",
      "Clustered 1055 points to 1 clusters\n",
      "Clustered 3844 points to 39 clusters\n",
      "Clustered 4402 points to 50 clusters\n",
      "Clustered 1374 points to 9 clusters\n",
      "Clustered 8721 points to 85 clusters\n",
      "Clustered 519 points to 1 clusters\n",
      "Clustered 5554 points to 12 clusters\n",
      "Clustered 5513 points to 97 clusters\n",
      "Clustered 173 points to 2 clusters\n",
      "Clustered 1491 points to 14 clusters\n",
      "Clustered 1168 points to 16 clusters\n",
      "Clustered 952 points to 8 clusters\n",
      "Clustered 5280 points to 80 clusters\n",
      "Clustered 2799 points to 21 clusters\n",
      "Clustered 232 points to 2 clusters\n",
      "Clustered 1145 points to 14 clusters\n",
      "Clustered 1525 points to 11 clusters\n",
      "Clustered 4996 points to 10 clusters\n",
      "Clustered 1903 points to 11 clusters\n",
      "Clustered 179 points to 0 clusters\n",
      "Cluster vide.\n",
      "Clustered 7613 points to 31 clusters\n",
      "Clustered 4923 points to 28 clusters\n",
      "Clustered 2354 points to 21 clusters\n",
      "Clustered 2432 points to 43 clusters\n",
      "Clustered 7760 points to 29 clusters\n",
      "Clustered 1414 points to 5 clusters\n",
      "Clustered 6307 points to 28 clusters\n",
      "Clustered 4022 points to 19 clusters\n",
      "Clustered 2101 points to 8 clusters\n",
      "Clustered 5842 points to 40 clusters\n",
      "Clustered 2723 points to 20 clusters\n",
      "Clustered 4760 points to 65 clusters\n",
      "Clustered 7186 points to 35 clusters\n",
      "Clustered 4362 points to 12 clusters\n",
      "Clustered 6200 points to 42 clusters\n",
      "Clustered 5615 points to 18 clusters\n",
      "Clustered 2412 points to 11 clusters\n",
      "Clustered 1026 points to 7 clusters\n",
      "Clustered 3925 points to 31 clusters\n",
      "Clustered 2921 points to 18 clusters\n",
      "Clustered 2746 points to 15 clusters\n",
      "Clustered 2983 points to 23 clusters\n",
      "Clustered 3623 points to 11 clusters\n",
      "Clustered 10286 points to 50 clusters\n",
      "Clustered 286 points to 1 clusters\n",
      "Clustered 5235 points to 15 clusters\n",
      "Clustered 3471 points to 13 clusters\n",
      "Clustered 3574 points to 25 clusters\n",
      "Clustered 5494 points to 52 clusters\n",
      "Clustered 3502 points to 16 clusters\n",
      "Clustered 1939 points to 18 clusters\n",
      "Clustered 8023 points to 18 clusters\n",
      "Clustered 4037 points to 35 clusters\n",
      "Clustered 3305 points to 12 clusters\n",
      "Clustered 1888 points to 22 clusters\n",
      "Clustered 2020 points to 22 clusters\n"
     ]
    },
    {
     "name": "stdout",
     "output_type": "stream",
     "text": [
      "Clustered 2811 points to 28 clusters\n",
      "Clustered 4709 points to 22 clusters\n",
      "Clustered 1660 points to 5 clusters\n",
      "Clustered 5729 points to 18 clusters\n",
      "Clustered 1593 points to 11 clusters\n",
      "Clustered 5987 points to 40 clusters\n",
      "Clustered 2603 points to 28 clusters\n",
      "Clustered 4703 points to 39 clusters\n",
      "Clustered 3111 points to 12 clusters\n",
      "Clustered 5153 points to 34 clusters\n",
      "Clustered 3570 points to 9 clusters\n",
      "Clustered 5012 points to 26 clusters\n",
      "Clustered 207 points to 0 clusters\n",
      "Cluster vide.\n",
      "Clustered 8586 points to 20 clusters\n",
      "Clustered 13497 points to 204 clusters\n",
      "Clustered 5015 points to 30 clusters\n",
      "Clustered 5686 points to 10 clusters\n",
      "Clustered 210 points to 0 clusters\n",
      "Cluster vide.\n",
      "Clustered 3562 points to 11 clusters\n",
      "Clustered 430 points to 7 clusters\n",
      "Clustered 3117 points to 22 clusters\n",
      "Clustered 1345 points to 22 clusters\n",
      "Clustered 2952 points to 22 clusters\n",
      "Clustered 3144 points to 11 clusters\n",
      "Clustered 2328 points to 18 clusters\n",
      "Clustered 4144 points to 16 clusters\n",
      "Clustered 4586 points to 34 clusters\n",
      "Clustered 1712 points to 3 clusters\n",
      "Clustered 774 points to 11 clusters\n",
      "Clustered 5236 points to 27 clusters\n",
      "Clustered 2569 points to 14 clusters\n",
      "Clustered 454 points to 5 clusters\n",
      "Clustered 2603 points to 21 clusters\n",
      "Clustered 4814 points to 46 clusters\n",
      "Clustered 1907 points to 22 clusters\n",
      "Clustered 6097 points to 51 clusters\n",
      "Clustered 3001 points to 17 clusters\n",
      "Clustered 4376 points to 35 clusters\n",
      "Clustered 18365 points to 43 clusters\n",
      "Clustered 5353 points to 26 clusters\n",
      "Clustered 2431 points to 13 clusters\n",
      "Clustered 4960 points to 32 clusters\n",
      "Clustered 1796 points to 28 clusters\n",
      "Clustered 4866 points to 18 clusters\n",
      "Clustered 3742 points to 23 clusters\n",
      "Clustered 3868 points to 20 clusters\n",
      "Clustered 7285 points to 48 clusters\n",
      "Clustered 814 points to 9 clusters\n",
      "Clustered 2838 points to 6 clusters\n",
      "Clustered 3231 points to 3 clusters\n",
      "Clustered 6974 points to 7 clusters\n",
      "Clustered 1591 points to 9 clusters\n",
      "Clustered 8114 points to 32 clusters\n",
      "Clustered 4775 points to 21 clusters\n",
      "Clustered 47 points to 0 clusters\n",
      "Cluster vide.\n",
      "Clustered 3388 points to 37 clusters\n",
      "Clustered 313 points to 1 clusters\n",
      "Clustered 4388 points to 28 clusters\n",
      "Clustered 8043 points to 50 clusters\n",
      "Clustered 1502 points to 5 clusters\n",
      "Clustered 5202 points to 10 clusters\n",
      "Clustered 1884 points to 9 clusters\n",
      "Clustered 1450 points to 28 clusters\n"
     ]
    }
   ],
   "source": [
    "CC=[]\n",
    "for u in traj:\n",
    "    df_minU=df_min.loc[df_min['sampno']==u,:]\n",
    "    # represent GPS points as (lat, lon)\n",
    "    coords = df_minU.as_matrix(columns=['latitude', 'longitude'])\n",
    "    #coords1= df_min.as_matrix(columns=['lat', 'lng', 'alt', 'date','time'])\n",
    "\n",
    "    # earth's radius in km\n",
    "    kms_per_radian = 6371.0088\n",
    "    # define epsilon as 0.5 kilometers, converted to radians for use by haversine\n",
    "    epsilon = 0.015 / kms_per_radian\n",
    "\n",
    "    # eps is the max distance that points can be from each other to be considered in a cluster\n",
    "    # min_samples is the minimum cluster size (everything else is classified as noise)\n",
    "    db = DBSCAN(eps=epsilon, min_samples=8, algorithm='ball_tree', metric='haversine').fit(np.radians(coords))\n",
    "    cluster_labels = db.labels_\n",
    "    \n",
    "    # get the number of clusters (ignore noisy samples which are given the label -1)\n",
    "    num_clusters = len(set(cluster_labels) - set([-1]))\n",
    "\n",
    "    print ('Clustered ' + str(len(df_minU)) + ' points to ' + str(num_clusters) + ' clusters')\n",
    "\n",
    "    # turn the clusters in to a pandas series\n",
    "    clusters = pd.Series([coords[cluster_labels == n] for n in range(num_clusters)])\n",
    "    centermost_points = clusters.map(get_centermost_point)\n",
    "    try:\n",
    "        lats, lons = zip(*centermost_points)\n",
    "        rep_points = pd.DataFrame({'longitude':lons, 'latitude':lats})\n",
    "   \n",
    "   \n",
    "    except ValueError:\n",
    "        \n",
    "        print (\"Cluster vide.\")\n",
    "        continue\n",
    "\n",
    "    CC.append(rep_points)    "
   ]
  },
  {
   "cell_type": "code",
   "execution_count": 90,
   "metadata": {},
   "outputs": [
    {
     "name": "stdout",
     "output_type": "stream",
     "text": [
      "[2, 3, 7, 8, 9, 10, 11, 12, 16, 21, 22, 23, 24, 25, 26, 27, 28, 29, 30, 32, 33, 34, 35, 38, 39, 40, 42, 43, 44, 45, 46, 47, 48, 49, 50, 52, 55, 56, 58, 59, 60, 61, 62, 63, 64, 65, 66, 69, 70, 71, 72, 73, 75, 76, 80, 82, 83, 84, 85, 86, 87, 88, 89, 90, 94, 95, 97, 100, 102, 105, 107, 108, 109, 113, 114, 115, 116, 117, 118, 119, 120, 121, 122, 123, 124, 125, 126, 127, 128, 129, 130, 131, 132, 133, 134, 135, 136, 137, 138, 139, 140, 141, 145, 146, 149, 150, 151, 152, 153, 156, 157, 162, 163, 164, 165, 166, 168, 169, 171, 172, 173, 174, 175, 176, 177, 178, 179, 180, 184, 185, 186, 188, 189, 190, 191, 192, 193, 194, 195, 196, 197, 198, 199, 200, 201, 202, 203, 204, 205, 206, 207, 208, 209, 210, 211, 212, 213, 214, 219, 220, 221, 222, 223, 224, 232, 233, 234, 237, 238, 239, 240, 241, 244, 245, 246, 247, 248, 249, 253, 254, 255, 258, 259, 260, 261, 262, 263, 264, 265, 266, 267, 268, 269, 270, 271, 272, 273, 274, 275, 276, 277, 278, 279, 280, 281, 282, 283, 285, 290, 292, 293, 294, 295, 296, 297, 304, 305, 308, 311, 312, 313, 314, 315, 316, 317, 318, 319, 320, 321, 322, 323, 324, 325, 326, 327, 328, 335, 336, 337, 338, 339, 340, 341, 344, 345, 346, 347, 348, 349, 350, 351, 352, 353, 354, 359, 360, 361, 362, 363, 364, 366, 370, 371, 372, 373, 374, 375, 377, 378, 379, 380, 381, 382, 383, 384, 385, 386, 387, 388, 389, 390, 391, 392, 393, 394, 395, 396, 397, 401, 402, 403, 404, 405, 406, 407, 408, 411, 414, 415, 416, 417, 418, 419, 420, 421, 422, 427, 429, 430, 431, 432, 433, 434, 435, 436, 437, 438, 439, 440, 441, 442, 443, 444, 445, 446, 447, 450, 451, 452, 453, 454, 455, 456, 457, 458, 459, 460, 461, 467, 468, 469, 470, 471, 472, 473, 474, 475, 479, 483, 484, 485, 486, 487, 488, 489, 490, 491, 492, 493, 494, 495, 498, 502, 503, 505, 509, 510, 511, 512, 513, 514, 515, 516, 517, 518, 519, 520, 521, 524, 525, 526, 527, 528, 529, 530, 531, 532, 533, 534, 535, 536, 537, 538, 539, 540, 542, 543, 545, 546, 547, 548, 549, 550, 551, 552, 556, 557, 559, 562, 563, 564, 565, 570, 571, 572, 573, 574, 575, 576, 577, 578, 579, 580, 581, 582, 583, 584, 585, 586, 587, 588, 589, 590, 591, 592, 593, 594, 595, 596, 597, 598, 599, 600, 601, 602, 603, 604, 605, 606, 607, 608, 609, 610, 611, 612, 613, 614, 615, 616, 617, 618, 619, 626, 634, 637, 639, 644, 646, 647, 648, 649, 650, 651, 652, 653, 654, 655, 656, 657, 658, 659, 660, 661, 662, 663, 664, 665, 666, 667, 668, 669, 670, 671, 672, 673, 674, 675, 676, 677, 678, 679, 680, 681, 682, 683, 684, 685, 686, 687, 688, 689, 690, 691, 692, 693, 694, 695, 696, 697, 698, 699, 700, 701, 702, 703, 704, 705, 706, 707, 708, 709, 710, 711, 712, 713, 714, 715, 716, 717, 718, 719, 720, 721, 722, 723, 724, 725, 726, 727, 728, 729, 730, 731, 732, 733, 734, 735, 740, 741, 742, 743, 745, 746, 747, 748, 749, 750, 751, 752, 753, 754, 755, 756, 757, 758, 759, 760, 761, 762, 763, 764, 765, 766, 767, 768, 769, 770, 771, 772, 773, 774, 775, 776, 777, 778, 779, 780, 781, 782, 783, 784, 785, 786, 787, 788, 789, 790, 791, 792, 793, 794, 795, 796, 797, 798, 799, 800, 801, 802, 803, 804, 805, 806, 807, 808, 809, 815, 816, 823, 825, 826, 827, 828, 829, 830, 837, 846, 847, 850, 855, 857, 858, 860, 861, 862, 863, 864, 865, 866, 867, 868, 869, 870, 871, 872, 873, 874, 875, 876, 877, 878, 879, 880, 881, 882, 883, 884, 885, 886, 887, 889, 890, 892, 893, 894, 895, 899, 903, 906, 907, 911, 912, 914, 915, 922, 923, 927, 928, 936, 937, 938, 939, 940, 941, 942, 944, 950, 951, 952, 953, 954, 955, 956, 957, 958, 959, 960, 961, 962, 963, 964, 965, 969, 970, 971, 972, 973, 976, 978, 979, 980, 982, 983, 984, 985, 986, 987, 988, 989, 997, 1000, 1001, 1002, 1003, 1004, 1005, 1006, 1007, 1012, 1014, 1015, 1016, 1017, 1019, 1020, 1021, 1022, 1023, 1024, 1025, 1026, 1027, 1028, 1029, 1030, 1031, 1032, 1033, 1034, 1035, 1036, 1037, 1038, 1039, 1040, 1041, 1042, 1043, 1044, 1045, 1046, 1047, 1050, 1051, 1052, 1053, 1054, 1055, 1056, 1057, 1058, 1059, 1060, 1061, 1062, 1063, 1064, 1065, 1066, 1067, 1068, 1069, 1070, 1071, 1072, 1076, 1077, 1080, 1081, 1086, 1087, 1088, 1089, 1090, 1091, 1092, 1093, 1094, 1095, 1096, 1099, 1100, 1101, 1103, 1104, 1107, 1108, 1109, 1110, 1111, 1112, 1113, 1114, 1115, 1116, 1117, 1118, 1119, 1120, 1121, 1122, 1123, 1124, 1125, 1126, 1127, 1128, 1129, 1130, 1131, 1132, 1133, 1134, 1135, 1136, 1137, 1138, 1139, 1140, 1141, 1142, 1143, 1144, 1145, 1146, 1147, 1148, 1149, 1150, 1151, 1152, 1153, 1154, 1155, 1156, 1157, 1158, 1159, 1160, 1161, 1162, 1163, 1166, 1167, 1168, 1169, 1173, 1176, 1181, 1184, 1186, 1187, 1188, 1189, 1190, 1191, 1192, 1193, 1194, 1195, 1196, 1197, 1199, 1203, 1208, 1213, 1220, 1236, 1240, 1241, 1242, 1243, 1244, 1245, 1246, 1247, 1248, 1249, 1250, 1251, 1252, 1253, 1254, 1255, 1256, 1257, 1258, 1262, 1263, 1264, 1265, 1266, 1267, 1268, 1269, 1270, 1271, 1272, 1273, 1274, 1275, 1276, 1277, 1278, 1279, 1280, 1281, 1282, 1283, 1284, 1285, 1286, 1287, 1288, 1289, 1290, 1291, 1292, 1293, 1294, 1295, 1296, 1297, 1298, 1299, 1300, 1301, 1302, 1303, 1304, 1305, 1306, 1307, 1308, 1309, 1310, 1312, 1313, 1314, 1315, 1316, 1317, 1319, 1320, 1323, 1324, 1327, 1328, 1329, 1330, 1332, 1333, 1334, 1335, 1336, 1337, 1338, 1339, 1340, 1341, 1342, 1343, 1344, 1345, 1346, 1347, 1348, 1349, 1350, 1351, 1352, 1353, 1354, 1355, 1356, 1357, 1358, 1359, 1360, 1361, 1362, 1363, 1364, 1365, 1366, 1367, 1368, 1369, 1370, 1371, 1372, 1373, 1374, 1375, 1376, 1377, 1378, 1379, 1380, 1381, 1382, 1383, 1384, 1385, 1386, 1387, 1388, 1389, 1390, 1391, 1392, 1393, 1394, 1395, 1396, 1397, 1398, 1399, 1400, 1401, 1402, 1403, 1404, 1405, 1406, 1407, 1408, 1409, 1410, 1411, 1412, 1413, 1414, 1415, 1416, 1417, 1418, 1419, 1420, 1421, 1422, 1423, 1424, 1425, 1426, 1427, 1428, 1429, 1430, 1431, 1432, 1433, 1434, 1435, 1436, 1437, 1438, 1439, 1440, 1441, 1442, 1443, 1444, 1445, 1446, 1447, 1448, 1449, 1450, 1451, 1452, 1453, 1454, 1455, 1456, 1457, 1458, 1459, 1460, 1461, 1462, 1463, 1464, 1465, 1466, 1467, 1468, 1469, 1470, 1471, 1472, 1473, 1474, 1475, 1476, 1477, 1478, 1479, 1480, 1481, 1482, 1483, 1484, 1485, 1486, 1487, 1488, 1489, 1490, 1491, 1492, 1493, 1494, 1495, 1496, 1497, 1498, 1499, 1500, 1501, 1502, 1503, 1504, 1505, 1506, 1507, 1508, 1509, 1510, 1511, 1512, 1513, 1514, 1515, 1516, 1517, 1518, 1519, 1520, 1521, 1522, 1523, 1524, 1525, 1526, 1527, 1528, 1529, 1530, 1531, 1532, 1533, 1534, 1535, 1536, 1537, 1538, 1539, 1540, 1541, 1542, 1543, 1544, 1545, 1546, 1547, 1548, 1549, 1550, 1551, 1552, 1553, 1554, 1555, 1556, 1557, 1558, 1559, 1560, 1561, 1562, 1563, 1564, 1565, 1566, 1567, 1568, 1569, 1570, 1571, 1572, 1573, 1574, 1575, 1576, 1577, 1578, 1579, 1580, 1581, 1582, 1583, 1584, 1585, 1586, 1587, 1592, 1593, 1594, 1595, 1596, 1597, 1600, 1601, 1602, 1603, 1604, 1605, 1606, 1607, 1608, 1609, 1610, 1611, 1612, 1613, 1614, 1615, 1616, 1617, 1618, 1619, 1620, 1621, 1622, 1623, 1624, 1625, 1626, 1627, 1628, 1629, 1630, 1631, 1632, 1633, 1634, 1635, 1636, 1637, 1638, 1639, 1640, 1641, 1642, 1643, 1644, 1645, 1646, 1647, 1648, 1649, 1650, 1651, 1652, 1653, 1654, 1655, 1656, 1657, 1658, 1659, 1660, 1661, 1662, 1663, 1664, 1665, 1666, 1667, 1668, 1669, 1670, 1671, 1672, 1673, 1674, 1675, 1676, 1677, 1678, 1679, 1680, 1681, 1682, 1683, 1684, 1685, 1686, 1687, 1688, 1689, 1690, 1691, 1692, 1693, 1694, 1695, 1696, 1697, 1698, 1699, 1700, 1701, 1702, 1703, 1704, 1705, 1706, 1707, 1708, 1709, 1710, 1711, 1712, 1713, 1714, 1715, 1716, 1717, 1718, 1719, 1720, 1721, 1722, 1723, 1724, 1725, 1726, 1727, 1728, 1729, 1730, 1731, 1732, 1733, 1734, 1735, 1736, 1737, 1738, 1739, 1740, 1741, 1742, 1743, 1744, 1745, 1746, 1747, 1748, 1749, 1750, 1751, 1752, 1753, 1754, 1755, 1756, 1757, 1758, 1759, 1760, 1761, 1762, 1763, 1764, 1765, 1766, 1767, 1768, 1769, 1770, 1771, 1772, 1773, 1774, 1775, 1776, 1777, 1778, 1779, 1780, 1781, 1782, 1783, 1784, 1785, 1786, 1787, 1788, 1789, 1790, 1791, 1792, 1793, 1794, 1795, 1796, 1797, 1798, 1799, 1800, 1801, 1802, 1803, 1804, 1805, 1806, 1807, 1808, 1809, 1810, 1811, 1812, 1813, 1814, 1815, 1816, 1817, 1818, 1819, 1820, 1821, 1822, 1823, 1824, 1825, 1826, 1827, 1828, 1829, 1830, 1831, 1832, 1833, 1834, 1835, 1836, 1837, 1838, 1839, 1840, 1841, 1842, 1843, 1844, 1845, 1846, 1847, 1848, 1849, 1850, 1851, 1852, 1853, 1854, 1855, 1856, 1857, 1858, 1859, 1860, 1861, 1862, 1863, 1864, 1865, 1866, 1867, 1868, 1869, 1870, 1871, 1872, 1873, 1874, 1875, 1876, 1877, 1878, 1879, 1880, 1881, 1882, 1883, 1884, 1885, 1886, 1887, 1888, 1889, 1890, 1891, 1892, 1893, 1894, 1895, 1896, 1897, 1898, 1899, 1900, 1901, 1902, 1903, 1904, 1905, 1906, 1907, 1908, 1909, 1910, 1911, 1912, 1913, 1914, 1915, 1916, 1917, 1918, 1919, 1920, 1921, 1922, 1923, 1924, 1925, 1926, 1927, 1928, 1929, 1930, 1931, 1932, 1933, 1934, 1935, 1936, 1937, 1938, 1939, 1940, 1941, 1942, 1943, 1944, 1945, 1946, 1947, 1948, 1949, 1950, 1951, 1952, 1953, 1954, 1955, 1956, 1957, 1958, 1959, 1960, 1961, 1962, 1963, 1964, 1965, 1966, 1967, 1968, 1969, 1970, 1971, 1972, 1973, 1974, 1975, 1976, 1977, 1978, 1979, 1980, 1981, 1982, 1983, 1984, 1985, 1986, 1987, 1988, 1989, 1990, 1991, 1992, 1993, 1994, 1995, 1996, 1997, 1998, 1999, 2000, 2001, 2002, 2005, 2006, 2007, 2011, 2012, 2013, 2014, 2015, 2016, 2017, 2019, 2021, 2023, 2032, 2037, 2038, 2039, 2041, 2043, 2048, 2050, 2051, 2057, 2058, 2059, 2062, 2065, 2066, 2067, 2068, 2069, 2070, 2071, 2072, 2073, 2074, 2075, 2076, 2077, 2078, 2079, 2080, 2081, 2082, 2083, 2084, 2085, 2086, 2087, 2088, 2089, 2090, 2093, 2094, 2095, 2096, 2097, 2098, 2099, 2100, 2101, 2102, 2103, 2104, 2105, 2106, 2107, 2108, 2109, 2110, 2111, 2112, 2113, 2114, 2115, 2117, 2118, 2119, 2120, 2121, 2122, 2123, 2124, 2125, 2126, 2127, 2128, 2129, 2130, 2131, 2132, 2133, 2134, 2135, 2136, 2137, 2138, 2139, 2140, 2141, 2142, 2143, 2144, 2145, 2146, 2147, 2148, 2149, 2150, 2151, 2152, 2153, 2154, 2155, 2156, 2157, 2158, 2159, 2160, 2161, 2162, 2163, 2164, 2165, 2166, 2167, 2168, 2169, 2170, 2171, 2172, 2173, 2174, 2175, 2176, 2177, 2178, 2179, 2180, 2181, 2182, 2183, 2184, 2188, 2190, 2191, 2192, 2193, 2194, 2195, 2196, 2197, 2198, 2199, 2200, 2201, 2202, 2203, 2204, 2205, 2206, 2207, 2208, 2209, 2211, 2213, 2214, 2215, 2216, 2217, 2218, 2219, 2220, 2221, 2222, 2223, 2224, 2226, 2231, 2235, 2236, 2237, 2238, 2239, 2240, 2241, 2242, 2243, 2244, 2245, 2246, 2247, 2248, 2249, 2250, 2251, 2252, 2253, 2254, 2255, 2256, 2258, 2262, 2263, 2265, 2266, 2267, 2268, 2269, 2270, 2271, 2272, 2273, 2274, 2275, 2276, 2277, 2278, 2279, 2280, 2281, 2282, 2283, 2284, 2285, 2286, 2287, 2288, 2289, 2290, 2291, 2292, 2293, 2294, 2295, 2298, 2299, 2300, 2301, 2302, 2303, 2304, 2305, 2306, 2307, 2308, 2309, 2310, 2311, 2312, 2313, 2314, 2315, 2316, 2317, 2318, 2319, 2320, 2322, 2323, 2324, 2325, 2326, 2330, 2332, 2333, 2334, 2336, 2337, 2338, 2339, 2340, 2341, 2342, 2343, 2344, 2345, 2346, 2347, 2348, 2349, 2350, 2351, 2352, 2353, 2354, 2355, 2356, 2357, 2358, 2359, 2360, 2361, 2363, 2364, 2365, 2366, 2367, 2368, 2369, 2370, 2371, 2372, 2373, 2374, 2375, 2376, 2377, 2378, 2379, 2380, 2381, 2382, 2383, 2384, 2385, 2386, 2387, 2388, 2389, 2390, 2391, 2392, 2393, 2398, 2405, 2407, 2411, 2419, 2420, 2424, 2427, 2428, 2429, 2430, 2431, 2438, 2439, 2440, 2441, 2442, 2443, 2444, 2445, 2446, 2447, 2448, 2449, 2450, 2451, 2452, 2453, 2454, 2455, 2456, 2457, 2458, 2459, 2460, 2461, 2462, 2463, 2464, 2465, 2466, 2467, 2468, 2469, 2470, 2471, 2472, 2473, 2474, 2475, 2476, 2477, 2478, 2479, 2480, 2481, 2482, 2483, 2484, 2485, 2486, 2487, 2488, 2489, 2490, 2491, 2492, 2493, 2494, 2495, 2496, 2497, 2498, 2499, 2500, 2501, 2502, 2503, 2504, 2505, 2506, 2507, 2508, 2509, 2510, 2511, 2512, 2513, 2514, 2515, 2519, 2524, 2526, 2536, 2541, 2546, 2551, 2554, 2559, 2560, 2561, 2564, 2573, 2576, 2581, 2586, 2587, 2592, 2593, 2594, 2595, 2596, 2597, 2598, 2599, 2600, 2601, 2603, 2607, 2608, 2609, 2610, 2611, 2612, 2613, 2614, 2615, 2616, 2617, 2618, 2619, 2620, 2621, 2622, 2623, 2624, 2625, 2626, 2627, 2628, 2629, 2630, 2631, 2632, 2633, 2634, 2635, 2636, 2637, 2638, 2639, 2640, 2641, 2642, 2643, 2644, 2645, 2646, 2647, 2648, 2649, 2650, 2651, 2652, 2653, 2654, 2655, 2656, 2657, 2658, 2659, 2660, 2661, 2662, 2663, 2664, 2665, 2666, 2667, 2668, 2669, 2670, 2671, 2672, 2673, 2674, 2675, 2676, 2677, 2678, 2679, 2680, 2681, 2682, 2683, 2684, 2685, 2686, 2687, 2688, 2689, 2690, 2691, 2692, 2693, 2694, 2695, 2696, 2697, 2698, 2699, 2700, 2701, 2702, 2703, 2704, 2705, 2706, 2707, 2708, 2709, 2710, 2711, 2712, 2713, 2714, 2715, 2716, 2717, 2718, 2719, 2720, 2721, 2722, 2723, 2724, 2725, 2726, 2727, 2728, 2729, 2730, 2731, 2732, 2733, 2734, 2735, 2736, 2737, 2738, 2739, 2740, 2741, 2742, 2743, 2744, 2745, 2746, 2747, 2748, 2749, 2750, 2751, 2752, 2753, 2754, 2755, 2756, 2757, 2758, 2759, 2760, 2761, 2762, 2763, 2764, 2765, 2766, 2767, 2768, 2769, 2770, 2771, 2772, 2773, 2774, 2775, 2776, 2777, 2778, 2779, 2780, 2781, 2782, 2783, 2784, 2785, 2786, 2787, 2788, 2789, 2790, 2791, 2792, 2793, 2794, 2795, 2796, 2797, 2798, 2799, 2800, 2801, 2802, 2803, 2804, 2805, 2806, 2807, 2808, 2809, 2810, 2814, 2817, 2818, 2822, 2834, 2838, 2841, 2842, 2844, 2849, 2850, 2852, 2853, 2854, 2855, 2856, 2857, 2858, 2859, 2860, 2862, 2863, 2864, 2865, 2866, 2867, 2868, 2869, 2870, 2871, 2872, 2873, 2874, 2875, 2876, 2877, 2878, 2879, 2880, 2881, 2882, 2883, 2884, 2885, 2886, 2887, 2888, 2889, 2890, 2891, 2892, 2893, 2894, 2895, 2896, 2897, 2898, 2899, 2900, 2901, 2902, 2903, 2904, 2905, 2906, 2907, 2908, 2909, 2910, 2911, 2912, 2913, 2914, 2915, 2916, 2917, 2918, 2919, 2920, 2921, 2922, 2923, 2924, 2925, 2926, 2927, 2928, 2929, 2930, 2931, 2932, 2933, 2934, 2935, 2936, 2937, 2938, 2939, 2940, 2941, 2942, 2943, 2944, 2945, 2946, 2947, 2948, 2949, 2950, 2951, 2952, 2953, 2954, 2955, 2956, 2957, 2958, 2959, 2960, 2961, 2962, 2963, 2964, 2965, 2966, 2967, 2968, 2969, 2970, 2971, 2972, 2973, 2974, 2975, 2976, 2977, 2978, 2979, 2980, 2981, 2982, 2983, 2984, 2985, 2986, 2987, 2988, 2989, 2990, 2991, 2992, 2993, 2994, 2995, 2996, 2997, 2998, 2999, 3000, 3001, 3002, 3003, 3004, 3005, 3006, 3007, 3008, 3009, 3010, 3011, 3012, 3013, 3014, 3015, 3016, 3017, 3018, 3019, 3020, 3021, 3022, 3023, 3024, 3025, 3026, 3027, 3028, 3029, 3030, 3031, 3032, 3033, 3034, 3035, 3036, 3037, 3038, 3039, 3043, 3053, 3057, 3059, 3066, 3068, 3069, 3070, 3071, 3072, 3073, 3074, 3075, 3076, 3077, 3078, 3079, 3080, 3081, 3082, 3083, 3084, 3085, 3086, 3087, 3088, 3089, 3090, 3091, 3092, 3093, 3094, 3095, 3096, 3097, 3098, 3099, 3100, 3101, 3102, 3103, 3104, 3105, 3106, 3107, 3108, 3109, 3110, 3111, 3112, 3113, 3114, 3115, 3116, 3117, 3118, 3119, 3120, 3121, 3122, 3123, 3124, 3125, 3126, 3127, 3128, 3129, 3130, 3131, 3132, 3133, 3134, 3135, 3136, 3137, 3138, 3139, 3140, 3141, 3142, 3143, 3144, 3145, 3146, 3147, 3148, 3149, 3150, 3151, 3152, 3153, 3154, 3155, 3156, 3157, 3158, 3159, 3160, 3161, 3162, 3163, 3164, 3165, 3166, 3167, 3168, 3169, 3170, 3171, 3172, 3173, 3174, 3175, 3176, 3177, 3181, 3182, 3184, 3185, 3186, 3187, 3188, 3199, 3202, 3203, 3204, 3205, 3206, 3207, 3208, 3209, 3210, 3211, 3212, 3213, 3214, 3215, 3216, 3217, 3218, 3219, 3220, 3221, 3222, 3223, 3224, 3225, 3226, 3227, 3228, 3229, 3230, 3231, 3232, 3233, 3234, 3235, 3236, 3237, 3238, 3239, 3240, 3241, 3242, 3243, 3244, 3245, 3246, 3247, 3248, 3249, 3250, 3251, 3252, 3253, 3254, 3255, 3256, 3257, 3258, 3259, 3260, 3261, 3262, 3263, 3264, 3265, 3266, 3267, 3268, 3269, 3270, 3271, 3272, 3273, 3274, 3275, 3276, 3277, 3278, 3279, 3280, 3281, 3282, 3283, 3284, 3285, 3286, 3287, 3289, 3290, 3291, 3304, 3305, 3306, 3307, 3308, 3309, 3310, 3311, 3315, 3316, 3317, 3318, 3319, 3325, 3326, 3327, 3328, 3329, 3330, 3331, 3336, 3337, 3338, 3339, 3341, 3349, 3352, 3353, 3354, 3355, 3356, 3357, 3358, 3359, 3360, 3361, 3362, 3363, 3364, 3365, 3366, 3367, 3374, 3375, 3376, 3383, 3384, 3385, 3386, 3387, 3388, 3389, 3390, 3391, 3392, 3401, 3402, 3403, 3404, 3406, 3408, 3409, 3410, 3411, 3412, 3413, 3414, 3415, 3416, 3417, 3418, 3419, 3420, 3421, 3422, 3423, 3424, 3425, 3426, 3427, 3428, 3429, 3430, 3431, 3432, 3433, 3434, 3435, 3436, 3437, 3438, 3439, 3440, 3441, 3442, 3443, 3444, 3445, 3446, 3447, 3448, 3449, 3450, 3451, 3452, 3453, 3454, 3455, 3456, 3457, 3458, 3459, 3460, 3461, 3462, 3463, 3464, 3465, 3466, 3467, 3468, 3469, 3470, 3471, 3472, 3473, 3474, 3475, 3476, 3477, 3478, 3479, 3480, 3481, 3482, 3483, 3484, 3485, 3486, 3487, 3488, 3489, 3490, 3491, 3492, 3493, 3494, 3495, 3496, 3497, 3498, 3499, 3500, 3501, 3502, 3503, 3506, 3507, 3511, 3512, 3515, 3516, 3517, 3518, 3520, 3522, 3523, 3524, 3525, 3528, 3530, 3532, 3533, 3534, 3535, 3536, 3537, 3538, 3539, 3542, 3548, 3549, 3550, 3551, 3552, 3554, 3564, 3568, 3569, 3576, 3577, 3578, 3579, 3580, 3581, 3582, 3583, 3584, 3585, 3586, 3587, 3588, 3589, 3590, 3591, 3593, 3594, 3596, 3597, 3598, 3599, 3600, 3601, 3602, 3603, 3604, 3605, 3606, 3607, 3608, 3609, 3610, 3611, 3612, 3613, 3614, 3615, 3616, 3617, 3618, 3619, 3620, 3621, 3622, 3623, 3624, 3625, 3626, 3627, 3628, 3629, 3630, 3631, 3632, 3633, 3634, 3635, 3636, 3637, 3638, 3639, 3640, 3641, 3642, 3643, 3644, 3645, 3646, 3647, 3648, 3649, 3650, 3651, 3652, 3653, 3654, 3655, 3656, 3657, 3658, 3659, 3660, 3661, 3662, 3663, 3664, 3665, 3666, 3668, 3674, 3675, 3676, 3677, 3678, 3679, 3680, 3681, 3682, 3683, 3684, 3685, 3686, 3687, 3688, 3689, 3690, 3691, 3692, 3693, 3694, 3695, 3696, 3697, 3698, 3699, 3700, 3701, 3702, 3703, 3704, 3705, 3706, 3707, 3708, 3709, 3710, 3711, 3712, 3713, 3714, 3715, 3716, 3717, 3718, 3719, 3720, 3721, 3722, 3723, 3724, 3725, 3726, 3727, 3728, 3729, 3730, 3731, 3733, 3734, 3735, 3736, 3737, 3738, 3739, 3740, 3741, 3742, 3745, 3746, 3750, 3751, 3752, 3753, 3758, 3761, 3762, 3763, 3765, 3767, 3768, 3770, 3771, 3781, 3782, 3787, 3790, 3791, 3792, 3799, 3805, 3810, 3811, 3813, 3819, 3821, 3822, 3823, 3824, 3825, 3826, 3827, 3828, 3829, 3831, 3836, 3837, 3838, 3839, 3840, 3841, 3842, 3843, 3844, 3845, 3846, 3847, 3848, 3849, 3850, 3851, 3852, 3853, 3854, 3855, 3856, 3857, 3858, 3859, 3860, 3861, 3862, 3863, 3864, 3865, 3866, 3867, 3868, 3869, 3870, 3871, 3872, 3873, 3874, 3875, 3876, 3877, 3878, 3879, 3880, 3881, 3882, 3883, 3884, 3885, 3886, 3887, 3888, 3889, 3890, 3891, 3892, 3893, 3894, 3895, 3896, 3897, 3898, 3899, 3900, 3901, 3902, 3903, 3904, 3905, 3906, 3907, 3908, 3909, 3910, 3911, 3912, 3913, 3914, 3915, 3916, 3917, 3918, 3919, 3920, 3921, 3922, 3923, 3924, 3925, 3926, 3927, 3928, 3929, 3930, 3931, 3932, 3933, 3934, 3935, 3936, 3937, 3938, 3939, 3940, 3941, 3942, 3943, 3944, 3945, 3946, 3947, 3948, 3949, 3950, 3951, 3952, 3953, 3954, 3955, 3956, 3957, 3958, 3959, 3960, 3961, 3962, 3963, 3964, 3965, 3966, 3967, 3968, 3969, 3970, 3971, 3972, 3973, 3974, 3975, 3976, 3977, 3978, 3979, 3980, 3981, 3982, 3983, 3984, 3985, 3986, 3987, 3988, 3989, 3990, 3991, 3992, 3993, 3994, 3995, 3996, 3997, 3998, 3999, 4000, 4001, 4002, 4003, 4004, 4005, 4006, 4007, 4008, 4009, 4010, 4011, 4012, 4013, 4014, 4015, 4016, 4017, 4018, 4019, 4020, 4021, 4022, 4023, 4024, 4025, 4026, 4027, 4028, 4029, 4030, 4031, 4032, 4033, 4034, 4035, 4036, 4037, 4038, 4039, 4040, 4041, 4042, 4043, 4044, 4045, 4046, 4047, 4048, 4049, 4050, 4051, 4052, 4053, 4054, 4055, 4056, 4057, 4058, 4059, 4060, 4061, 4062, 4063, 4064, 4065, 4066, 4067, 4068, 4069, 4083, 4084, 4085, 4086, 4087, 4088, 4089, 4090, 4091, 4092, 4093, 4094, 4095, 4096, 4097, 4098, 4099, 4100, 4101, 4102, 4103, 4104, 4105, 4106, 4107, 4108, 4109, 4110, 4111, 4112, 4113, 4114, 4115, 4116, 4117, 4118, 4119, 4120, 4121, 4122, 4123, 4124, 4125, 4126, 4127, 4128, 4129, 4130, 4131, 4132, 4133, 4134, 4135, 4136, 4137, 4138, 4139, 4140, 4141, 4142, 4143, 4144, 4145, 4146, 4147, 4148, 4149, 4150, 4151, 4152, 4153, 4154, 4155, 4156, 4157, 4158, 4159, 4160, 4161, 4162, 4163, 4164, 4165, 4166, 4167, 4168, 4169, 4170, 4171, 4172, 4173, 4174, 4175, 4176, 4177, 4178, 4179, 4180, 4181, 4182, 4183, 4184, 4185, 4186, 4187, 4188, 4189, 4190, 4191, 4192, 4193, 4194, 4195, 4196, 4197, 4198, 4199, 4203, 4204, 4207, 4208, 4209, 4210, 4216, 4232, 4234, 4237, 4238, 4242, 4247, 4251, 4255, 4257, 4259, 4260, 4261, 4262, 4263, 4264, 4265, 4266, 4267, 4268, 4269, 4270, 4271, 4272, 4273, 4274, 4276, 4278, 4280, 4281, 4282, 4283, 4284, 4285, 4286, 4287, 4288, 4289, 4290, 4291, 4292, 4293, 4294, 4295, 4296, 4297, 4298, 4299, 4300, 4301, 4302, 4303, 4304, 4305, 4306, 4307, 4308, 4309, 4310, 4311, 4312, 4313, 4314, 4315, 4316, 4317, 4318, 4319, 4320, 4321, 4322, 4323, 4324, 4325, 4326, 4327, 4328, 4329, 4330, 4331, 4332, 4333, 4334, 4335, 4336, 4337, 4338, 4339, 4340, 4341, 4342, 4343, 4344, 4345, 4346, 4347, 4348, 4349, 4351, 4352, 4353, 4354, 4355, 4356, 4357, 4358, 4359, 4360, 4361, 4362, 4363, 4365, 4366, 4367, 4368, 4369, 4370, 4371, 4372, 4373, 4374, 4375, 4376, 4377, 4378, 4379, 4380, 4381, 4382, 4383, 4384, 4385, 4386, 4387, 4388, 4389, 4390, 4391, 4394, 4397, 4398, 4399, 4400, 4401, 4402, 4403, 4404, 4405, 4406, 4407, 4408, 4409, 4410, 4412, 4413, 4414, 4420, 4426, 4431, 4435, 4436, 4437, 4438, 4439, 4440, 4441, 4442, 4443, 4444, 4445, 4456, 4460, 4461, 4464, 4466, 4467, 4471, 4472, 4474, 4487, 4491, 4495, 4497, 4509, 4510, 4511, 4515, 4520, 4525, 4526, 4529, 4539, 4540, 4541, 4542, 4543, 4544, 4545, 4546, 4547, 4548, 4549, 4550, 4551, 4552, 4553, 4554, 4555, 4556, 4557, 4558, 4559, 4560, 4561, 4562, 4563, 4564, 4565, 4566, 4567, 4568, 4569, 4570, 4571, 4572, 4573, 4574, 4575, 4576, 4577, 4578, 4579, 4580, 4581, 4582, 4583, 4584, 4585, 4586, 4587, 4588, 4589, 4590, 4591, 4592, 4593, 4594, 4595, 4596, 4600, 4601, 4602, 4603, 4604, 4605, 4606, 4607, 4608, 4609, 4610, 4611, 4612, 4613, 4614, 4615, 4616, 4617, 4618, 4619, 4620, 4621, 4622, 4623, 4624, 4625, 4626, 4627, 4628, 4629, 4630, 4631, 4632, 4633, 4635, 4636, 4637, 4638, 4639, 4640, 4641, 4643, 4644, 4645, 4646, 4647, 4648, 4649, 4650, 4651, 4652, 4653, 4654, 4655, 4656, 4657, 4658, 4659, 4660, 4661, 4662, 4663, 4664, 4665, 4666, 4667, 4668, 4669, 4670, 4671, 4672, 4673, 4674, 4675, 4676, 4677, 4678, 4679, 4680, 4681, 4682, 4683, 4684, 4685, 4686, 4687, 4688, 4689, 4690, 4691, 4692, 4693, 4694, 4695, 4696, 4697, 4698, 4699, 4700, 4701, 4702, 4703, 4704, 4705, 4706, 4707, 4708, 4709, 4710, 4711, 4712, 4713, 4714, 4715, 4716, 4717, 4718, 4719, 4720, 4721, 4722, 4723, 4724, 4725, 4726, 4727, 4728, 4729, 4730, 4731, 4732, 4733, 4734, 4735, 4736, 4737, 4738, 4739, 4740, 4741, 4742, 4743, 4744, 4745, 4746, 4747, 4748, 4749, 4750, 4751, 4752, 4753, 4754, 4755, 4756, 4757, 4758, 4759, 4760, 4761, 4762, 4763, 4764, 4765, 4766, 4767, 4768, 4769, 4770, 4771, 4772, 4773, 4774, 4775, 4776, 4777, 4778, 4779, 4780, 4781, 4782, 4783, 4784, 4785, 4786, 4787, 4788, 4789, 4790, 4791, 4792, 4793, 4794, 4795, 4796, 4797, 4798, 4799, 4800, 4801, 4802, 4803, 4804, 4805, 4806, 4807, 4808, 4809, 4810, 4811, 4812, 4813, 4814, 4815, 4816, 4817, 4818, 4819, 4835, 4836, 4837, 4838, 4839, 4840, 4841, 4842, 4843, 4844, 4845, 4846, 4847, 4848, 4849, 4850, 4854, 4855, 4856, 4857, 4858, 4859, 4860, 4861, 4862, 4863, 4864, 4865, 4866, 4867, 4868, 4869, 4870, 4871, 4872, 4873, 4874, 4875, 4876, 4877, 4878, 4879, 4880, 4881, 4882, 4883, 4884, 4885, 4886, 4887, 4888, 4889, 4890, 4891, 4892, 4893, 4894, 4895, 4896, 4897, 4898, 4899, 4900, 4901, 4902, 4903, 4904, 4905, 4906, 4907, 4908, 4909, 4910, 4911, 4912, 4913, 4914, 4915, 4916, 4917, 4918, 4919, 4920, 4921, 4922, 4923, 4924, 4925, 4926, 4927, 4928, 4929, 4930, 4931, 4932, 4933, 4934, 4935, 4936, 4937, 4938, 4944, 4945, 4946, 4947, 4948, 4949, 4950, 4951, 4952, 4953, 4954, 4955, 4956, 4957, 4958, 4959, 4960, 4961, 4962, 4963, 4973, 4974, 4975, 4976, 4977, 4983, 4984, 4985, 4986, 4987, 4988, 4989, 4990, 4991, 4992, 4993, 4994, 4995, 4996, 4997, 4998, 4999, 5000, 5001, 5002, 5003, 5004, 5005, 5006, 5007, 5008, 5009, 5010, 5011, 5012, 5013, 5014, 5015, 5016, 5017, 5018, 5019, 5020, 5021, 5022, 5023, 5024, 5025, 5026, 5027, 5028, 5029, 5030, 5031, 5032, 5033, 5034, 5035, 5036, 5037, 5038, 5039, 5040, 5041, 5042, 5043, 5044, 5045, 5046, 5047, 5048, 5049, 5050, 5051, 5052, 5053, 5054, 5055, 5056, 5057, 5058, 5059, 5060, 5061, 5062, 5063, 5064, 5065, 5066, 5067, 5068, 5069, 5070, 5071, 5072, 5073, 5074, 5075, 5076, 5077, 5078, 5079, 5080, 5081, 5082, 5083, 5084, 5085, 5086, 5087, 5088, 5089, 5090, 5091, 5092, 5093, 5094, 5095, 5096, 5097, 5098, 5099, 5100, 5101, 5102, 5103, 5104, 5105, 5106, 5107, 5108, 5109, 5110, 5111, 5112, 5113, 5114, 5115, 5116, 5117, 5118, 5119, 5120, 5121, 5122, 5123, 5124, 5125, 5126, 5127, 5128, 5129, 5130, 5131, 5132, 5133, 5134, 5135, 5136, 5137, 5138, 5139, 5140, 5141, 5142, 5143, 5144, 5145, 5146, 5147, 5148, 5149, 5150, 5151, 5152, 5153, 5154, 5155, 5156, 5157, 5158, 5159, 5160, 5161, 5162, 5163, 5164, 5165, 5166, 5167, 5168, 5169, 5170, 5171, 5172, 5173, 5174, 5175, 5176, 5177, 5178, 5179, 5180, 5181, 5182, 5183, 5184, 5185, 5186, 5187, 5188, 5189, 5190, 5191, 5192, 5193, 5194, 5195, 5196, 5197, 5198, 5200, 5201, 5202, 5203, 5204, 5205, 5206, 5207, 5208, 5209, 5210, 5211, 5212, 5213, 5214, 5215, 5216, 5217, 5218, 5219, 5220, 5221, 5222, 5223, 5224, 5225, 5226, 5227, 5228, 5229, 5230, 5231, 5232, 5233, 5234, 5235, 5236, 5237, 5238, 5239, 5240, 5241, 5242, 5243, 5244, 5245, 5246, 5247, 5248, 5249, 5250, 5251, 5254, 5256, 5258, 5259, 5262, 5274, 5275, 5278, 5281, 5285, 5286, 5287, 5288, 5289, 5290, 5291, 5292, 5293, 5294, 5295, 5296, 5297, 5298, 5299, 5300, 5301, 5302, 5303, 5304, 5305, 5306, 5307, 5312, 5322, 5323, 5324, 5325, 5326, 5327, 5328, 5329, 5330, 5331, 5332, 5333, 5338, 5339, 5340, 5341, 5342, 5343, 5344, 5345, 5346, 5347, 5348, 5349, 5350, 5351, 5352, 5353, 5354, 5355, 5356, 5357, 5358, 5359, 5360, 5361, 5362, 5363, 5364, 5365, 5366, 5367, 5368, 5369, 5370, 5371, 5372, 5373, 5374, 5375, 5376, 5377, 5378, 5379, 5380, 5381, 5382, 5383, 5384, 5385, 5386, 5387, 5388, 5389, 5390, 5391, 5392, 5393, 5394, 5395, 5396, 5397, 5398, 5399, 5400, 5401, 5402, 5403, 5404, 5405, 5406, 5407, 5408, 5409, 5410, 5411, 5412, 5413, 5414, 5415, 5416, 5417, 5418, 5419, 5420, 5421, 5422, 5423, 5424, 5425, 5426, 5427, 5428, 5429, 5430, 5431, 5432, 5433, 5434, 5435, 5436, 5437, 5438, 5439, 5440, 5441, 5442, 5443, 5444, 5445, 5446, 5447, 5448, 5449, 5450, 5451, 5452, 5453, 5454, 5455, 5456, 5457, 5458, 5459, 5460, 5461, 5462, 5463, 5464, 5465, 5466, 5467, 5468, 5469, 5470, 5471, 5472, 5473, 5474, 5475, 5476, 5477, 5478, 5479, 5480, 5481, 5482, 5483, 5484, 5485, 5486, 5487, 5488, 5489, 5490, 5491, 5492, 5493, 5494, 5495, 5496, 5497, 5498, 5499, 5500, 5501, 5502, 5503, 5504, 5505, 5506, 5507, 5508, 5509, 5510, 5511, 5512, 5513, 5514, 5515, 5516, 5517, 5518, 5519, 5520, 5521, 5522, 5523, 5524, 5525, 5526, 5527, 5528, 5529, 5530, 5531, 5532, 5533, 5534, 5535, 5536, 5537, 5538, 5539, 5540, 5541, 5542, 5543, 5544, 5545, 5546, 5547, 5548, 5549, 5550, 5551, 5552, 5553, 5554, 5555, 5556, 5557, 5558, 5559, 5560, 5561, 5562, 5563, 5564, 5565, 5566, 5567, 5568, 5569, 5570, 5571, 5572, 5573, 5574, 5575, 5576, 5577, 5578, 5579, 5580, 5581, 5582, 5583, 5584, 5585, 5586, 5587, 5588, 5589, 5590, 5591, 5592, 5593, 5594, 5595, 5596, 5597, 5598, 5599, 5600, 5601, 5602, 5603, 5604, 5605, 5606, 5607, 5608, 5609, 5610, 5611, 5612, 5613, 5614, 5615, 5616, 5617, 5618, 5619, 5620, 5621, 5622, 5623, 5624, 5625, 5626, 5627, 5628, 5629, 5630, 5631, 5632, 5633, 5634, 5635, 5636, 5637, 5638, 5639, 5640, 5641, 5642, 5643, 5644, 5645, 5646, 5647, 5648, 5649, 5650, 5651, 5652, 5653, 5654, 5655, 5656, 5657, 5658, 5659, 5660, 5661, 5662, 5663, 5664, 5665, 5666, 5667, 5668, 5669, 5670, 5671, 5672, 5673, 5674, 5675, 5676, 5677, 5678, 5679, 5680, 5681, 5682, 5683, 5684, 5685, 5686, 5687, 5688, 5689, 5690, 5691, 5692, 5693, 5694, 5695, 5696, 5697, 5698, 5699, 5700, 5701, 5702, 5703, 5704, 5705, 5706, 5707, 5708, 5709, 5710, 5711, 5712, 5713, 5714, 5715, 5716, 5717, 5718, 5719, 5720, 5721, 5722, 5723, 5724, 5725, 5726, 5727, 5728, 5729, 5730, 5731, 5732, 5733, 5734, 5735, 5736, 5737, 5738, 5739, 5740, 5741, 5742, 5743, 5744, 5745, 5746, 5747, 5748, 5749, 5750, 5751, 5752, 5753, 5754, 5755, 5756, 5757, 5758, 5759, 5760, 5761, 5762, 5763, 5764, 5765, 5766, 5767, 5768, 5769, 5770, 5771, 5772, 5773, 5774, 5775, 5776, 5777, 5778, 5779, 5780, 5781, 5782, 5783, 5784, 5785, 5786, 5787, 5788, 5789, 5790, 5791, 5792, 5793, 5794, 5795, 5796, 5797, 5798, 5799, 5800, 5801, 5802, 5803, 5804, 5805, 5806, 5807, 5808, 5809, 5810, 5811, 5812, 5813, 5814, 5815, 5816, 5817, 5818, 5819, 5820, 5821, 5822, 5823, 5824, 5825, 5826, 5827, 5828, 5829, 5830, 5831, 5832, 5833, 5834, 5835, 5836, 5837, 5838, 5839, 5840, 5841, 5842, 5843, 5844, 5845, 5846, 5847, 5848, 5849, 5850, 5851, 5852, 5853, 5854, 5855, 5856, 5857, 5858, 5859, 5860, 5861, 5862, 5863, 5864, 5865, 5866, 5867, 5868, 5869, 5870, 5871, 5872, 5873, 5874, 5875, 5876, 5877, 5878, 5879, 5880, 5881, 5882, 5883, 5884, 5885, 5886, 5887, 5888, 5889, 5890, 5891, 5892, 5893, 5894, 5895, 5896, 5897, 5898, 5899, 5900, 5901, 5902, 5903, 5904, 5905, 5906, 5907, 5908, 5909, 5910, 5911, 5912, 5913, 5914, 5915, 5916, 5917, 5918, 5919, 5920, 5921, 5922, 5923, 5924, 5925, 5926, 5927, 5928, 5929, 5930, 5931, 5932, 5933, 5934, 5935, 5936, 5937, 5938, 5939, 5940, 5941, 5942, 5943, 5944, 5945, 5946, 5947, 5948, 5949, 5950, 5951, 5952, 5953, 5954, 5955, 5956, 5957, 5958, 5959, 5960, 5961, 5962, 5963, 5964, 5965, 5966, 5967, 5968, 5969, 5970, 5971, 5972, 5973, 5974, 5975, 5976, 5977, 5978, 5979, 5980, 5981, 5982, 5983, 5984, 5985, 5986, 5987, 5988, 5989, 5990, 5991, 5992, 5993, 5994, 5995, 5996, 5997, 5998, 5999, 6000, 6001, 6002, 6003, 6004, 6005, 6006, 6007, 6008, 6009, 6010, 6011, 6012, 6013, 6014, 6015, 6016, 6017, 6018, 6019, 6020, 6021, 6022, 6023, 6024, 6025, 6026, 6027, 6028, 6029, 6030, 6031, 6032, 6033, 6034, 6035, 6036, 6037, 6038, 6039, 6040, 6041, 6042, 6043, 6044, 6045, 6046, 6047, 6048, 6049, 6050, 6051, 6052, 6053, 6054, 6055, 6056, 6057, 6058, 6059, 6060, 6061, 6062, 6063, 6064, 6065, 6066, 6067, 6068, 6069, 6070, 6071, 6072, 6073, 6074, 6075, 6076, 6077, 6078, 6079, 6080, 6081, 6082, 6083, 6084, 6085, 6086, 6087, 6088, 6089, 6090, 6091, 6092, 6093, 6094, 6095, 6096, 6097, 6098, 6099, 6100, 6101, 6102, 6103, 6104, 6105, 6106, 6107, 6108, 6109, 6110, 6111, 6112, 6113, 6114, 6115, 6116, 6117, 6118, 6119, 6120, 6121, 6122, 6123, 6124, 6125, 6126, 6127, 6128, 6129, 6130, 6131, 6132, 6133, 6134, 6135, 6136, 6137, 6138, 6139, 6140, 6141, 6142, 6143, 6144, 6145, 6146, 6147, 6148, 6149, 6150, 6151, 6152, 6153, 6154, 6155, 6156, 6157, 6158, 6159, 6160, 6161, 6162, 6163, 6164, 6165, 6166, 6167, 6168, 6169, 6170, 6171, 6172, 6173, 6174, 6175, 6176, 6177, 6178, 6179, 6180, 6181, 6182, 6183, 6184, 6185, 6186, 6187, 6188, 6189, 6190, 6191, 6192, 6193, 6194, 6195, 6196, 6197, 6198, 6199, 6200, 6201, 6202, 6203, 6204, 6205, 6206, 6207, 6208, 6209, 6210, 6211, 6212, 6213, 6214, 6215, 6216, 6217, 6218, 6219, 6220, 6221, 6222, 6223, 6224, 6225, 6226, 6227, 6228, 6229, 6230, 6231, 6232, 6233, 6234, 6235, 6236, 6237, 6238, 6239, 6240, 6241, 6242, 6243, 6244, 6245, 6246, 6247, 6248, 6249, 6250, 6251, 6252, 6253, 6254, 6255, 6256, 6257, 6258, 6259, 6260, 6261, 6262, 6263, 6264, 6265, 6266, 6267, 6268, 6269, 6270, 6271, 6272, 6273, 6274, 6275, 6276, 6277, 6278, 6279, 6280, 6281, 6282, 6283, 6284, 6285, 6286, 6287, 6288, 6289, 6290, 6291, 6292, 6293, 6294, 6295, 6296, 6297, 6298, 6299, 6300, 6301, 6302, 6303, 6304, 6305, 6306, 6307, 6308, 6309, 6310, 6311, 6312, 6313, 6314, 6315, 6316, 6317, 6318, 6319, 6320, 6321, 6322, 6323, 6324, 6325, 6326, 6327, 6328, 6329, 6330, 6331, 6332, 6333, 6334, 6335, 6336, 6337, 6338, 6339, 6340, 6341, 6342, 6343, 6344, 6345, 6346, 6347, 6348, 6349, 6350, 6351, 6352, 6353, 6354, 6355, 6356, 6357, 6358, 6359, 6360, 6361, 6362, 6363, 6364, 6365, 6366, 6367, 6368, 6369, 6370, 6371, 6372, 6373, 6374, 6375, 6376, 6377, 6378, 6379, 6380, 6381, 6382, 6383, 6384, 6385, 6386, 6387, 6388, 6389, 6390, 6391, 6392, 6393, 6394, 6395, 6396, 6397, 6398, 6399, 6400, 6401, 6402, 6403, 6404, 6405, 6406, 6407, 6408, 6409, 6410, 6411, 6412, 6413, 6414, 6415, 6416, 6417, 6418, 6419, 6420, 6421, 6422, 6423, 6424, 6425, 6426, 6427, 6428, 6429, 6430, 6431, 6432, 6433, 6434, 6435, 6436, 6437, 6438, 6439, 6440, 6441, 6442, 6443, 6444, 6445, 6446, 6447, 6448, 6449, 6450, 6451, 6452, 6453, 6454, 6455, 6456, 6457, 6458, 6459, 6460, 6461, 6462, 6463, 6464, 6465, 6466, 6467, 6468, 6469, 6470, 6471, 6472, 6473, 6474, 6475, 6476, 6477, 6478, 6479, 6480, 6481, 6482, 6483, 6484, 6485, 6486, 6487, 6488, 6489, 6490, 6491, 6492, 6493, 6494, 6495, 6496, 6497, 6498, 6499, 6500, 6501, 6502, 6503, 6504, 6505, 6506, 6507, 6508, 6509, 6510, 6511, 6512, 6513, 6514, 6515, 6516, 6517, 6518, 6519, 6520, 6521, 6522, 6523, 6524, 6525, 6526, 6527, 6528, 6529, 6530, 6531, 6532, 6533, 6534, 6535, 6536, 6537, 6538, 6539, 6540, 6541, 6542, 6543, 6544, 6545, 6546, 6547, 6548, 6549, 6550, 6551, 6552, 6553, 6554, 6555, 6556, 6557, 6558, 6559, 6560, 6561, 6562, 6563, 6564, 6565, 6566, 6567, 6568, 6569, 6570, 6571, 6572, 6573, 6574, 6575, 6576, 6577, 6578, 6579, 6580, 6581, 6582, 6583, 6584, 6585, 6586, 6587, 6588, 6589, 6590, 6591, 6592, 6593, 6594, 6595, 6596, 6597, 6598, 6599, 6600, 6601, 6602, 6603, 6604, 6605, 6606, 6607, 6608, 6609, 6610, 6611, 6612, 6613, 6614, 6615, 6616, 6617, 6618, 6619, 6620, 6621, 6622, 6623, 6624, 6625, 6626, 6627, 6628, 6629, 6630, 6631, 6632, 6633, 6634, 6635, 6636, 6637, 6638, 6639, 6640, 6641, 6642, 6643, 6644, 6645, 6646, 6647, 6648, 6649, 6650, 6651, 6652, 6653, 6654, 6655, 6656, 6657, 6658, 6659, 6660, 6661, 6662, 6663, 6664, 6665, 6666, 6667, 6668, 6669, 6670, 6671, 6672, 6673, 6674, 6675, 6676, 6677, 6678, 6679, 6680, 6681, 6682, 6683, 6684, 6685, 6686, 6687, 6688, 6689, 6690, 6691, 6692, 6693, 6694, 6695, 6696, 6697, 6698, 6699, 6700, 6701, 6702, 6703, 6704, 6705, 6706, 6707, 6708, 6709, 6710, 6711, 6712, 6713, 6714, 6715, 6716, 6717, 6718, 6719, 6720, 6721, 6722, 6723, 6724, 6725, 6726, 6727, 6728, 6729, 6730, 6731, 6732, 6733, 6734, 6735, 6736, 6737, 6738, 6739, 6740, 6741, 6742, 6743, 6744, 6745, 6746, 6747, 6748, 6749, 6750, 6751, 6752, 6753, 6754, 6755, 6756, 6757, 6758, 6759, 6760, 6761, 6762, 6763, 6764, 6765, 6766, 6767, 6768, 6769, 6770, 6771, 6772, 6773, 6774, 6775, 6776, 6777, 6778, 6779, 6780, 6781, 6782, 6783, 6784, 6785, 6786, 6787, 6788, 6789, 6790, 6791, 6792, 6793, 6794, 6795, 6796, 6797, 6798, 6799, 6800, 6801, 6802, 6803, 6804, 6805, 6806, 6807, 6808, 6809, 6810, 6811, 6812, 6813, 6814, 6815, 6816, 6817, 6818, 6819, 6820, 6821, 6822, 6823, 6824, 6825, 6826, 6827, 6828, 6829, 6830, 6831, 6832, 6833, 6834, 6835, 6836, 6837, 6838, 6839, 6840, 6841, 6842, 6843, 6844, 6845, 6846, 6847, 6848, 6849, 6850, 6851, 6852, 6853, 6854, 6855, 6856, 6857, 6858, 6859, 6860, 6861, 6862, 6863, 6864, 6865, 6866, 6867, 6868, 6869, 6870, 6871, 6872, 6873, 6874, 6875, 6876, 6877, 6878, 6879, 6880, 6881, 6882, 6883, 6884, 6885, 6887, 6888, 6889, 6890, 6891, 6892, 6893, 6894, 6895, 6896, 6897, 6898, 6899, 6900, 6901, 6902, 6903, 6904, 6905, 6906, 6907, 6908, 6909, 6910, 6913, 6915, 6917, 6918, 6919, 6920, 6921, 6922, 6923, 6924, 6925, 6926, 6927, 6928, 6929, 6930, 6931, 6932, 6938, 6941, 6942, 6946, 6952, 6953, 6954, 6955, 6956, 6957, 6958, 6967, 6968, 6972, 6975, 6976, 6983, 6985, 6992, 6993, 6994, 6995, 6996, 6997, 6998]\n"
     ]
    }
   ],
   "source": []
  },
  {
   "cell_type": "code",
   "execution_count": 3,
   "metadata": {
    "collapsed": true
   },
   "outputs": [],
   "source": [
    "ClusterUser=pd.concat(CC, ignore_index=True)\n"
   ]
  },
  {
   "cell_type": "code",
   "execution_count": 4,
   "metadata": {
    "collapsed": true
   },
   "outputs": [],
   "source": [
    "ClusterUser.to_csv(\"ClusterUtilisateurs.csv\", sep=',')"
   ]
  },
  {
   "cell_type": "code",
   "execution_count": 5,
   "metadata": {
    "collapsed": true
   },
   "outputs": [],
   "source": [
    "import gmplot\n",
    "# declare the center of the map, and how much we want the map zoomed in\n",
    "gmap = gmplot.GoogleMapPlotter(ClusterUser.latitude[0], ClusterUser.longitude[0], 11)\n",
    "gmap.scatter(ClusterUser.latitude, ClusterUser.longitude, '#3B0B39', size=40, marker=False)\n",
    "gmap.draw(\"ClusterUtilisateurs.html\")"
   ]
  },
  {
   "cell_type": "code",
   "execution_count": null,
   "metadata": {
    "collapsed": true
   },
   "outputs": [],
   "source": []
  },
  {
   "cell_type": "code",
   "execution_count": null,
   "metadata": {
    "collapsed": true
   },
   "outputs": [],
   "source": []
  },
  {
   "cell_type": "code",
   "execution_count": null,
   "metadata": {
    "collapsed": true
   },
   "outputs": [],
   "source": []
  },
  {
   "cell_type": "code",
   "execution_count": null,
   "metadata": {
    "collapsed": true
   },
   "outputs": [],
   "source": []
  },
  {
   "cell_type": "code",
   "execution_count": null,
   "metadata": {
    "collapsed": true
   },
   "outputs": [],
   "source": []
  },
  {
   "cell_type": "code",
   "execution_count": null,
   "metadata": {
    "collapsed": true
   },
   "outputs": [],
   "source": []
  },
  {
   "cell_type": "code",
   "execution_count": null,
   "metadata": {
    "collapsed": true
   },
   "outputs": [],
   "source": []
  },
  {
   "cell_type": "code",
   "execution_count": null,
   "metadata": {
    "collapsed": true
   },
   "outputs": [],
   "source": [
    "\n"
   ]
  },
  {
   "cell_type": "code",
   "execution_count": null,
   "metadata": {
    "collapsed": true
   },
   "outputs": [],
   "source": []
  },
  {
   "cell_type": "code",
   "execution_count": null,
   "metadata": {
    "collapsed": true
   },
   "outputs": [],
   "source": []
  },
  {
   "cell_type": "code",
   "execution_count": null,
   "metadata": {
    "collapsed": true
   },
   "outputs": [],
   "source": []
  },
  {
   "cell_type": "code",
   "execution_count": null,
   "metadata": {
    "collapsed": true
   },
   "outputs": [],
   "source": []
  },
  {
   "cell_type": "code",
   "execution_count": null,
   "metadata": {
    "collapsed": true
   },
   "outputs": [],
   "source": []
  },
  {
   "cell_type": "code",
   "execution_count": null,
   "metadata": {
    "collapsed": true
   },
   "outputs": [],
   "source": []
  },
  {
   "cell_type": "code",
   "execution_count": null,
   "metadata": {
    "collapsed": true
   },
   "outputs": [],
   "source": []
  },
  {
   "cell_type": "code",
   "execution_count": null,
   "metadata": {
    "collapsed": true
   },
   "outputs": [],
   "source": []
  },
  {
   "cell_type": "code",
   "execution_count": null,
   "metadata": {
    "collapsed": true
   },
   "outputs": [],
   "source": []
  },
  {
   "cell_type": "code",
   "execution_count": null,
   "metadata": {
    "collapsed": true
   },
   "outputs": [],
   "source": []
  },
  {
   "cell_type": "code",
   "execution_count": null,
   "metadata": {
    "collapsed": true
   },
   "outputs": [],
   "source": []
  },
  {
   "cell_type": "code",
   "execution_count": null,
   "metadata": {
    "collapsed": true
   },
   "outputs": [],
   "source": []
  },
  {
   "cell_type": "code",
   "execution_count": null,
   "metadata": {
    "collapsed": true
   },
   "outputs": [],
   "source": []
  },
  {
   "cell_type": "raw",
   "metadata": {},
   "source": []
  },
  {
   "cell_type": "code",
   "execution_count": null,
   "metadata": {
    "collapsed": true
   },
   "outputs": [],
   "source": []
  },
  {
   "cell_type": "code",
   "execution_count": null,
   "metadata": {
    "collapsed": true
   },
   "outputs": [],
   "source": []
  },
  {
   "cell_type": "code",
   "execution_count": null,
   "metadata": {
    "collapsed": true
   },
   "outputs": [],
   "source": []
  },
  {
   "cell_type": "code",
   "execution_count": null,
   "metadata": {
    "collapsed": true
   },
   "outputs": [],
   "source": []
  },
  {
   "cell_type": "code",
   "execution_count": null,
   "metadata": {
    "collapsed": true
   },
   "outputs": [],
   "source": []
  },
  {
   "cell_type": "code",
   "execution_count": null,
   "metadata": {
    "collapsed": true
   },
   "outputs": [],
   "source": []
  },
  {
   "cell_type": "code",
   "execution_count": null,
   "metadata": {
    "collapsed": true
   },
   "outputs": [],
   "source": []
  },
  {
   "cell_type": "code",
   "execution_count": null,
   "metadata": {
    "collapsed": true
   },
   "outputs": [],
   "source": []
  },
  {
   "cell_type": "code",
   "execution_count": null,
   "metadata": {
    "collapsed": true
   },
   "outputs": [],
   "source": []
  },
  {
   "cell_type": "code",
   "execution_count": null,
   "metadata": {
    "collapsed": true
   },
   "outputs": [],
   "source": []
  },
  {
   "cell_type": "code",
   "execution_count": null,
   "metadata": {
    "collapsed": true
   },
   "outputs": [],
   "source": []
  },
  {
   "cell_type": "code",
   "execution_count": null,
   "metadata": {
    "collapsed": true
   },
   "outputs": [],
   "source": [
    "\n"
   ]
  },
  {
   "cell_type": "code",
   "execution_count": null,
   "metadata": {
    "collapsed": true
   },
   "outputs": [],
   "source": []
  },
  {
   "cell_type": "code",
   "execution_count": null,
   "metadata": {
    "collapsed": true
   },
   "outputs": [],
   "source": []
  },
  {
   "cell_type": "code",
   "execution_count": null,
   "metadata": {
    "collapsed": true
   },
   "outputs": [],
   "source": []
  },
  {
   "cell_type": "code",
   "execution_count": null,
   "metadata": {
    "collapsed": true
   },
   "outputs": [],
   "source": []
  },
  {
   "cell_type": "code",
   "execution_count": null,
   "metadata": {
    "collapsed": true
   },
   "outputs": [],
   "source": []
  },
  {
   "cell_type": "code",
   "execution_count": null,
   "metadata": {
    "collapsed": true
   },
   "outputs": [],
   "source": []
  },
  {
   "cell_type": "code",
   "execution_count": null,
   "metadata": {
    "collapsed": true
   },
   "outputs": [],
   "source": []
  },
  {
   "cell_type": "code",
   "execution_count": null,
   "metadata": {
    "collapsed": true
   },
   "outputs": [],
   "source": []
  },
  {
   "cell_type": "code",
   "execution_count": null,
   "metadata": {
    "collapsed": true
   },
   "outputs": [],
   "source": []
  },
  {
   "cell_type": "code",
   "execution_count": null,
   "metadata": {
    "collapsed": true
   },
   "outputs": [],
   "source": []
  },
  {
   "cell_type": "code",
   "execution_count": null,
   "metadata": {
    "collapsed": true
   },
   "outputs": [],
   "source": []
  },
  {
   "cell_type": "code",
   "execution_count": null,
   "metadata": {
    "collapsed": true
   },
   "outputs": [],
   "source": []
  },
  {
   "cell_type": "code",
   "execution_count": null,
   "metadata": {
    "collapsed": true
   },
   "outputs": [],
   "source": []
  },
  {
   "cell_type": "code",
   "execution_count": null,
   "metadata": {
    "collapsed": true
   },
   "outputs": [],
   "source": []
  },
  {
   "cell_type": "code",
   "execution_count": null,
   "metadata": {
    "collapsed": true
   },
   "outputs": [],
   "source": []
  },
  {
   "cell_type": "code",
   "execution_count": null,
   "metadata": {
    "collapsed": true
   },
   "outputs": [],
   "source": []
  },
  {
   "cell_type": "code",
   "execution_count": null,
   "metadata": {
    "collapsed": true
   },
   "outputs": [],
   "source": []
  },
  {
   "cell_type": "code",
   "execution_count": null,
   "metadata": {
    "collapsed": true
   },
   "outputs": [],
   "source": []
  },
  {
   "cell_type": "code",
   "execution_count": null,
   "metadata": {
    "collapsed": true
   },
   "outputs": [],
   "source": []
  },
  {
   "cell_type": "code",
   "execution_count": null,
   "metadata": {
    "collapsed": true
   },
   "outputs": [],
   "source": []
  },
  {
   "cell_type": "code",
   "execution_count": null,
   "metadata": {
    "collapsed": true
   },
   "outputs": [],
   "source": []
  },
  {
   "cell_type": "code",
   "execution_count": null,
   "metadata": {
    "collapsed": true
   },
   "outputs": [],
   "source": []
  },
  {
   "cell_type": "code",
   "execution_count": null,
   "metadata": {
    "collapsed": true
   },
   "outputs": [],
   "source": []
  },
  {
   "cell_type": "code",
   "execution_count": null,
   "metadata": {
    "collapsed": true
   },
   "outputs": [],
   "source": []
  },
  {
   "cell_type": "code",
   "execution_count": null,
   "metadata": {
    "collapsed": true
   },
   "outputs": [],
   "source": []
  },
  {
   "cell_type": "code",
   "execution_count": null,
   "metadata": {
    "collapsed": true
   },
   "outputs": [],
   "source": []
  },
  {
   "cell_type": "code",
   "execution_count": null,
   "metadata": {
    "collapsed": true
   },
   "outputs": [],
   "source": []
  }
 ],
 "metadata": {
  "kernelspec": {
   "display_name": "Python 3",
   "language": "python",
   "name": "python3"
  },
  "language_info": {
   "codemirror_mode": {
    "name": "ipython",
    "version": 3
   },
   "file_extension": ".py",
   "mimetype": "text/x-python",
   "name": "python",
   "nbconvert_exporter": "python",
   "pygments_lexer": "ipython3",
   "version": "3.6.3"
  }
 },
 "nbformat": 4,
 "nbformat_minor": 2
}
